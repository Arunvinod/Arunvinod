{
  "nbformat": 4,
  "nbformat_minor": 0,
  "metadata": {
    "colab": {
      "name": "DataSchool.ipynb",
      "provenance": [],
      "collapsed_sections": [],
      "authorship_tag": "ABX9TyMzdlsr73Ef3VJPgy+RZ3oP",
      "include_colab_link": true
    },
    "kernelspec": {
      "name": "python3",
      "display_name": "Python 3"
    },
    "accelerator": "GPU"
  },
  "cells": [
    {
      "cell_type": "markdown",
      "metadata": {
        "id": "view-in-github",
        "colab_type": "text"
      },
      "source": [
        "<a href=\"https://colab.research.google.com/github/Arunvinod/Arunvinod/blob/master/DataSchool.ipynb\" target=\"_parent\"><img src=\"https://colab.research.google.com/assets/colab-badge.svg\" alt=\"Open In Colab\"/></a>"
      ]
    },
    {
      "cell_type": "code",
      "metadata": {
        "id": "gF3-MVkSEVRk",
        "colab_type": "code",
        "colab": {}
      },
      "source": [
        "# Pandas"
      ],
      "execution_count": 0,
      "outputs": []
    },
    {
      "cell_type": "markdown",
      "metadata": {
        "id": "hAxTMFrQHqjM",
        "colab_type": "text"
      },
      "source": [
        "Read Tabular Data\n"
      ]
    },
    {
      "cell_type": "code",
      "metadata": {
        "id": "xVeKieYJEr_m",
        "colab_type": "code",
        "colab": {}
      },
      "source": [
        "import pandas as pd\n",
        "import numpy as np"
      ],
      "execution_count": 0,
      "outputs": []
    },
    {
      "cell_type": "code",
      "metadata": {
        "id": "ettg1-KgEiZk",
        "colab_type": "code",
        "colab": {}
      },
      "source": [
        "orders = pd.read_table('http://bit.ly/chiporders')"
      ],
      "execution_count": 0,
      "outputs": []
    },
    {
      "cell_type": "code",
      "metadata": {
        "id": "6hb0GnVPEp1l",
        "colab_type": "code",
        "outputId": "793bcb49-df10-44da-8d63-d3a9eee37ed2",
        "colab": {
          "base_uri": "https://localhost:8080/",
          "height": 204
        }
      },
      "source": [
        "orders.head()"
      ],
      "execution_count": 0,
      "outputs": [
        {
          "output_type": "execute_result",
          "data": {
            "text/html": [
              "<div>\n",
              "<style scoped>\n",
              "    .dataframe tbody tr th:only-of-type {\n",
              "        vertical-align: middle;\n",
              "    }\n",
              "\n",
              "    .dataframe tbody tr th {\n",
              "        vertical-align: top;\n",
              "    }\n",
              "\n",
              "    .dataframe thead th {\n",
              "        text-align: right;\n",
              "    }\n",
              "</style>\n",
              "<table border=\"1\" class=\"dataframe\">\n",
              "  <thead>\n",
              "    <tr style=\"text-align: right;\">\n",
              "      <th></th>\n",
              "      <th>order_id</th>\n",
              "      <th>quantity</th>\n",
              "      <th>item_name</th>\n",
              "      <th>choice_description</th>\n",
              "      <th>item_price</th>\n",
              "    </tr>\n",
              "  </thead>\n",
              "  <tbody>\n",
              "    <tr>\n",
              "      <th>0</th>\n",
              "      <td>1</td>\n",
              "      <td>1</td>\n",
              "      <td>Chips and Fresh Tomato Salsa</td>\n",
              "      <td>NaN</td>\n",
              "      <td>$2.39</td>\n",
              "    </tr>\n",
              "    <tr>\n",
              "      <th>1</th>\n",
              "      <td>1</td>\n",
              "      <td>1</td>\n",
              "      <td>Izze</td>\n",
              "      <td>[Clementine]</td>\n",
              "      <td>$3.39</td>\n",
              "    </tr>\n",
              "    <tr>\n",
              "      <th>2</th>\n",
              "      <td>1</td>\n",
              "      <td>1</td>\n",
              "      <td>Nantucket Nectar</td>\n",
              "      <td>[Apple]</td>\n",
              "      <td>$3.39</td>\n",
              "    </tr>\n",
              "    <tr>\n",
              "      <th>3</th>\n",
              "      <td>1</td>\n",
              "      <td>1</td>\n",
              "      <td>Chips and Tomatillo-Green Chili Salsa</td>\n",
              "      <td>NaN</td>\n",
              "      <td>$2.39</td>\n",
              "    </tr>\n",
              "    <tr>\n",
              "      <th>4</th>\n",
              "      <td>2</td>\n",
              "      <td>2</td>\n",
              "      <td>Chicken Bowl</td>\n",
              "      <td>[Tomatillo-Red Chili Salsa (Hot), [Black Beans...</td>\n",
              "      <td>$16.98</td>\n",
              "    </tr>\n",
              "  </tbody>\n",
              "</table>\n",
              "</div>"
            ],
            "text/plain": [
              "   order_id  ...  item_price\n",
              "0         1  ...      $2.39 \n",
              "1         1  ...      $3.39 \n",
              "2         1  ...      $3.39 \n",
              "3         1  ...      $2.39 \n",
              "4         2  ...     $16.98 \n",
              "\n",
              "[5 rows x 5 columns]"
            ]
          },
          "metadata": {
            "tags": []
          },
          "execution_count": 5
        }
      ]
    },
    {
      "cell_type": "code",
      "metadata": {
        "id": "Ei7Jl53YE3Sr",
        "colab_type": "code",
        "outputId": "a178a166-351f-4f02-c58d-5d790a775d93",
        "colab": {
          "base_uri": "https://localhost:8080/",
          "height": 187
        }
      },
      "source": [
        "orders.info()"
      ],
      "execution_count": 0,
      "outputs": [
        {
          "output_type": "stream",
          "text": [
            "<class 'pandas.core.frame.DataFrame'>\n",
            "RangeIndex: 4622 entries, 0 to 4621\n",
            "Data columns (total 5 columns):\n",
            "order_id              4622 non-null int64\n",
            "quantity              4622 non-null int64\n",
            "item_name             4622 non-null object\n",
            "choice_description    3376 non-null object\n",
            "item_price            4622 non-null object\n",
            "dtypes: int64(2), object(3)\n",
            "memory usage: 180.7+ KB\n"
          ],
          "name": "stdout"
        }
      ]
    },
    {
      "cell_type": "code",
      "metadata": {
        "id": "enihLSUFE6a9",
        "colab_type": "code",
        "outputId": "91adb09a-5710-4b2a-c04c-80d2f713b58c",
        "colab": {
          "base_uri": "https://localhost:8080/",
          "height": 68
        }
      },
      "source": [
        "orders.columns"
      ],
      "execution_count": 0,
      "outputs": [
        {
          "output_type": "execute_result",
          "data": {
            "text/plain": [
              "Index(['order_id', 'quantity', 'item_name', 'choice_description',\n",
              "       'item_price'],\n",
              "      dtype='object')"
            ]
          },
          "metadata": {
            "tags": []
          },
          "execution_count": 9
        }
      ]
    },
    {
      "cell_type": "code",
      "metadata": {
        "id": "Zc2xCRVEE-hl",
        "colab_type": "code",
        "colab": {}
      },
      "source": [
        "user_col =['User_ID','Age','Gender','Occupation','Zipcode']\n",
        "users = pd.read_table('http://bit.ly/movieusers',sep='|',header=None,names=user_col)"
      ],
      "execution_count": 0,
      "outputs": []
    },
    {
      "cell_type": "code",
      "metadata": {
        "id": "IFjfk0N9GklG",
        "colab_type": "code",
        "outputId": "997e1dd0-7c8f-4f72-9f96-e4fec62f89ca",
        "colab": {
          "base_uri": "https://localhost:8080/",
          "height": 204
        }
      },
      "source": [
        "users.head()"
      ],
      "execution_count": 0,
      "outputs": [
        {
          "output_type": "execute_result",
          "data": {
            "text/html": [
              "<div>\n",
              "<style scoped>\n",
              "    .dataframe tbody tr th:only-of-type {\n",
              "        vertical-align: middle;\n",
              "    }\n",
              "\n",
              "    .dataframe tbody tr th {\n",
              "        vertical-align: top;\n",
              "    }\n",
              "\n",
              "    .dataframe thead th {\n",
              "        text-align: right;\n",
              "    }\n",
              "</style>\n",
              "<table border=\"1\" class=\"dataframe\">\n",
              "  <thead>\n",
              "    <tr style=\"text-align: right;\">\n",
              "      <th></th>\n",
              "      <th>User_ID</th>\n",
              "      <th>Age</th>\n",
              "      <th>Gender</th>\n",
              "      <th>Occupation</th>\n",
              "      <th>Zipcode</th>\n",
              "    </tr>\n",
              "  </thead>\n",
              "  <tbody>\n",
              "    <tr>\n",
              "      <th>0</th>\n",
              "      <td>1</td>\n",
              "      <td>24</td>\n",
              "      <td>M</td>\n",
              "      <td>technician</td>\n",
              "      <td>85711</td>\n",
              "    </tr>\n",
              "    <tr>\n",
              "      <th>1</th>\n",
              "      <td>2</td>\n",
              "      <td>53</td>\n",
              "      <td>F</td>\n",
              "      <td>other</td>\n",
              "      <td>94043</td>\n",
              "    </tr>\n",
              "    <tr>\n",
              "      <th>2</th>\n",
              "      <td>3</td>\n",
              "      <td>23</td>\n",
              "      <td>M</td>\n",
              "      <td>writer</td>\n",
              "      <td>32067</td>\n",
              "    </tr>\n",
              "    <tr>\n",
              "      <th>3</th>\n",
              "      <td>4</td>\n",
              "      <td>24</td>\n",
              "      <td>M</td>\n",
              "      <td>technician</td>\n",
              "      <td>43537</td>\n",
              "    </tr>\n",
              "    <tr>\n",
              "      <th>4</th>\n",
              "      <td>5</td>\n",
              "      <td>33</td>\n",
              "      <td>F</td>\n",
              "      <td>other</td>\n",
              "      <td>15213</td>\n",
              "    </tr>\n",
              "  </tbody>\n",
              "</table>\n",
              "</div>"
            ],
            "text/plain": [
              "   User_ID  Age Gender  Occupation Zipcode\n",
              "0        1   24      M  technician   85711\n",
              "1        2   53      F       other   94043\n",
              "2        3   23      M      writer   32067\n",
              "3        4   24      M  technician   43537\n",
              "4        5   33      F       other   15213"
            ]
          },
          "metadata": {
            "tags": []
          },
          "execution_count": 13
        }
      ]
    },
    {
      "cell_type": "code",
      "metadata": {
        "id": "k845cthqGmbJ",
        "colab_type": "code",
        "colab": {}
      },
      "source": [
        "UFO = pd.read_csv('http://bit.ly/uforeports')"
      ],
      "execution_count": 0,
      "outputs": []
    },
    {
      "cell_type": "code",
      "metadata": {
        "id": "9XnUg5_9IXi3",
        "colab_type": "code",
        "outputId": "d9c432bb-97b3-434f-c5f3-db87206f1360",
        "colab": {
          "base_uri": "https://localhost:8080/",
          "height": 204
        }
      },
      "source": [
        "UFO.head()"
      ],
      "execution_count": 0,
      "outputs": [
        {
          "output_type": "execute_result",
          "data": {
            "text/html": [
              "<div>\n",
              "<style scoped>\n",
              "    .dataframe tbody tr th:only-of-type {\n",
              "        vertical-align: middle;\n",
              "    }\n",
              "\n",
              "    .dataframe tbody tr th {\n",
              "        vertical-align: top;\n",
              "    }\n",
              "\n",
              "    .dataframe thead th {\n",
              "        text-align: right;\n",
              "    }\n",
              "</style>\n",
              "<table border=\"1\" class=\"dataframe\">\n",
              "  <thead>\n",
              "    <tr style=\"text-align: right;\">\n",
              "      <th></th>\n",
              "      <th>City</th>\n",
              "      <th>Colors Reported</th>\n",
              "      <th>Shape Reported</th>\n",
              "      <th>State</th>\n",
              "      <th>Time</th>\n",
              "    </tr>\n",
              "  </thead>\n",
              "  <tbody>\n",
              "    <tr>\n",
              "      <th>0</th>\n",
              "      <td>Ithaca</td>\n",
              "      <td>NaN</td>\n",
              "      <td>TRIANGLE</td>\n",
              "      <td>NY</td>\n",
              "      <td>6/1/1930 22:00</td>\n",
              "    </tr>\n",
              "    <tr>\n",
              "      <th>1</th>\n",
              "      <td>Willingboro</td>\n",
              "      <td>NaN</td>\n",
              "      <td>OTHER</td>\n",
              "      <td>NJ</td>\n",
              "      <td>6/30/1930 20:00</td>\n",
              "    </tr>\n",
              "    <tr>\n",
              "      <th>2</th>\n",
              "      <td>Holyoke</td>\n",
              "      <td>NaN</td>\n",
              "      <td>OVAL</td>\n",
              "      <td>CO</td>\n",
              "      <td>2/15/1931 14:00</td>\n",
              "    </tr>\n",
              "    <tr>\n",
              "      <th>3</th>\n",
              "      <td>Abilene</td>\n",
              "      <td>NaN</td>\n",
              "      <td>DISK</td>\n",
              "      <td>KS</td>\n",
              "      <td>6/1/1931 13:00</td>\n",
              "    </tr>\n",
              "    <tr>\n",
              "      <th>4</th>\n",
              "      <td>New York Worlds Fair</td>\n",
              "      <td>NaN</td>\n",
              "      <td>LIGHT</td>\n",
              "      <td>NY</td>\n",
              "      <td>4/18/1933 19:00</td>\n",
              "    </tr>\n",
              "  </tbody>\n",
              "</table>\n",
              "</div>"
            ],
            "text/plain": [
              "                   City Colors Reported Shape Reported State             Time\n",
              "0                Ithaca             NaN       TRIANGLE    NY   6/1/1930 22:00\n",
              "1           Willingboro             NaN          OTHER    NJ  6/30/1930 20:00\n",
              "2               Holyoke             NaN           OVAL    CO  2/15/1931 14:00\n",
              "3               Abilene             NaN           DISK    KS   6/1/1931 13:00\n",
              "4  New York Worlds Fair             NaN          LIGHT    NY  4/18/1933 19:00"
            ]
          },
          "metadata": {
            "tags": []
          },
          "execution_count": 15
        }
      ]
    },
    {
      "cell_type": "code",
      "metadata": {
        "id": "eRwgDNeSIZ5n",
        "colab_type": "code",
        "outputId": "73b6cdf9-65ce-4eac-87cf-54a39187f1f7",
        "colab": {
          "base_uri": "https://localhost:8080/",
          "height": 187
        }
      },
      "source": [
        "UFO.info()"
      ],
      "execution_count": 0,
      "outputs": [
        {
          "output_type": "stream",
          "text": [
            "<class 'pandas.core.frame.DataFrame'>\n",
            "RangeIndex: 18241 entries, 0 to 18240\n",
            "Data columns (total 5 columns):\n",
            "City               18216 non-null object\n",
            "Colors Reported    2882 non-null object\n",
            "Shape Reported     15597 non-null object\n",
            "State              18241 non-null object\n",
            "Time               18241 non-null object\n",
            "dtypes: object(5)\n",
            "memory usage: 712.7+ KB\n"
          ],
          "name": "stdout"
        }
      ]
    },
    {
      "cell_type": "code",
      "metadata": {
        "id": "MDzgUWlgIgFF",
        "colab_type": "code",
        "outputId": "891aafaf-14ef-4167-8204-22ccd17d6dc6",
        "colab": {
          "base_uri": "https://localhost:8080/",
          "height": 221
        }
      },
      "source": [
        "UFO.City # = UFO['City']\n"
      ],
      "execution_count": 0,
      "outputs": [
        {
          "output_type": "execute_result",
          "data": {
            "text/plain": [
              "0                      Ithaca\n",
              "1                 Willingboro\n",
              "2                     Holyoke\n",
              "3                     Abilene\n",
              "4        New York Worlds Fair\n",
              "                 ...         \n",
              "18236              Grant Park\n",
              "18237             Spirit Lake\n",
              "18238             Eagle River\n",
              "18239             Eagle River\n",
              "18240                    Ybor\n",
              "Name: City, Length: 18241, dtype: object"
            ]
          },
          "metadata": {
            "tags": []
          },
          "execution_count": 18
        }
      ]
    },
    {
      "cell_type": "code",
      "metadata": {
        "id": "da35L-KOJIad",
        "colab_type": "code",
        "outputId": "f5956181-8504-45f0-8d20-c086510a1c1a",
        "colab": {
          "base_uri": "https://localhost:8080/",
          "height": 221
        }
      },
      "source": [
        "UFO['Colors Reported']# if column name has a sapce use bracket method"
      ],
      "execution_count": 0,
      "outputs": [
        {
          "output_type": "execute_result",
          "data": {
            "text/plain": [
              "0        NaN\n",
              "1        NaN\n",
              "2        NaN\n",
              "3        NaN\n",
              "4        NaN\n",
              "        ... \n",
              "18236    NaN\n",
              "18237    NaN\n",
              "18238    NaN\n",
              "18239    RED\n",
              "18240    NaN\n",
              "Name: Colors Reported, Length: 18241, dtype: object"
            ]
          },
          "metadata": {
            "tags": []
          },
          "execution_count": 23
        }
      ]
    },
    {
      "cell_type": "code",
      "metadata": {
        "id": "u4Yoc2Z4Ju7C",
        "colab_type": "code",
        "outputId": "76b45b25-059e-448c-f03e-ed7ee41b895a",
        "colab": {
          "base_uri": "https://localhost:8080/",
          "height": 297
        }
      },
      "source": [
        "orders.describe( )"
      ],
      "execution_count": 0,
      "outputs": [
        {
          "output_type": "execute_result",
          "data": {
            "text/html": [
              "<div>\n",
              "<style scoped>\n",
              "    .dataframe tbody tr th:only-of-type {\n",
              "        vertical-align: middle;\n",
              "    }\n",
              "\n",
              "    .dataframe tbody tr th {\n",
              "        vertical-align: top;\n",
              "    }\n",
              "\n",
              "    .dataframe thead th {\n",
              "        text-align: right;\n",
              "    }\n",
              "</style>\n",
              "<table border=\"1\" class=\"dataframe\">\n",
              "  <thead>\n",
              "    <tr style=\"text-align: right;\">\n",
              "      <th></th>\n",
              "      <th>order_id</th>\n",
              "      <th>quantity</th>\n",
              "    </tr>\n",
              "  </thead>\n",
              "  <tbody>\n",
              "    <tr>\n",
              "      <th>count</th>\n",
              "      <td>4622.000000</td>\n",
              "      <td>4622.000000</td>\n",
              "    </tr>\n",
              "    <tr>\n",
              "      <th>mean</th>\n",
              "      <td>927.254868</td>\n",
              "      <td>1.075725</td>\n",
              "    </tr>\n",
              "    <tr>\n",
              "      <th>std</th>\n",
              "      <td>528.890796</td>\n",
              "      <td>0.410186</td>\n",
              "    </tr>\n",
              "    <tr>\n",
              "      <th>min</th>\n",
              "      <td>1.000000</td>\n",
              "      <td>1.000000</td>\n",
              "    </tr>\n",
              "    <tr>\n",
              "      <th>25%</th>\n",
              "      <td>477.250000</td>\n",
              "      <td>1.000000</td>\n",
              "    </tr>\n",
              "    <tr>\n",
              "      <th>50%</th>\n",
              "      <td>926.000000</td>\n",
              "      <td>1.000000</td>\n",
              "    </tr>\n",
              "    <tr>\n",
              "      <th>75%</th>\n",
              "      <td>1393.000000</td>\n",
              "      <td>1.000000</td>\n",
              "    </tr>\n",
              "    <tr>\n",
              "      <th>max</th>\n",
              "      <td>1834.000000</td>\n",
              "      <td>15.000000</td>\n",
              "    </tr>\n",
              "  </tbody>\n",
              "</table>\n",
              "</div>"
            ],
            "text/plain": [
              "          order_id     quantity\n",
              "count  4622.000000  4622.000000\n",
              "mean    927.254868     1.075725\n",
              "std     528.890796     0.410186\n",
              "min       1.000000     1.000000\n",
              "25%     477.250000     1.000000\n",
              "50%     926.000000     1.000000\n",
              "75%    1393.000000     1.000000\n",
              "max    1834.000000    15.000000"
            ]
          },
          "metadata": {
            "tags": []
          },
          "execution_count": 24
        }
      ]
    },
    {
      "cell_type": "code",
      "metadata": {
        "id": "smMlpJg9L60X",
        "colab_type": "code",
        "outputId": "0a433386-9221-4167-ea15-3acb5c58ae64",
        "colab": {
          "base_uri": "https://localhost:8080/",
          "height": 34
        }
      },
      "source": [
        "orders.shape"
      ],
      "execution_count": 0,
      "outputs": [
        {
          "output_type": "execute_result",
          "data": {
            "text/plain": [
              "(4622, 5)"
            ]
          },
          "metadata": {
            "tags": []
          },
          "execution_count": 25
        }
      ]
    },
    {
      "cell_type": "code",
      "metadata": {
        "id": "qAKOIlzzMCoz",
        "colab_type": "code",
        "outputId": "c6f40ea3-adac-4c20-dc54-cae6bfe4aee3",
        "colab": {
          "base_uri": "https://localhost:8080/",
          "height": 119
        }
      },
      "source": [
        "orders.dtypes"
      ],
      "execution_count": 0,
      "outputs": [
        {
          "output_type": "execute_result",
          "data": {
            "text/plain": [
              "order_id               int64\n",
              "quantity               int64\n",
              "item_name             object\n",
              "choice_description    object\n",
              "item_price            object\n",
              "dtype: object"
            ]
          },
          "metadata": {
            "tags": []
          },
          "execution_count": 26
        }
      ]
    },
    {
      "cell_type": "code",
      "metadata": {
        "id": "0hpG9m83P7uO",
        "colab_type": "code",
        "outputId": "44773fdb-4868-4543-d45d-ef9c71a2feff",
        "colab": {
          "base_uri": "https://localhost:8080/",
          "height": 34
        }
      },
      "source": [
        "UFO.columns"
      ],
      "execution_count": 0,
      "outputs": [
        {
          "output_type": "execute_result",
          "data": {
            "text/plain": [
              "Index(['City', 'Colors Reported', 'Shape Reported', 'State', 'Time'], dtype='object')"
            ]
          },
          "metadata": {
            "tags": []
          },
          "execution_count": 27
        }
      ]
    },
    {
      "cell_type": "markdown",
      "metadata": {
        "id": "JGCuj8ZgPZMt",
        "colab_type": "text"
      },
      "source": [
        "Rename columns"
      ]
    },
    {
      "cell_type": "code",
      "metadata": {
        "id": "1kziKab9MGYd",
        "colab_type": "code",
        "outputId": "bd2e8f03-b56d-498e-c7eb-afb13ee07c20",
        "colab": {
          "base_uri": "https://localhost:8080/",
          "height": 204
        }
      },
      "source": [
        "UFO.head()"
      ],
      "execution_count": 0,
      "outputs": [
        {
          "output_type": "execute_result",
          "data": {
            "text/html": [
              "<div>\n",
              "<style scoped>\n",
              "    .dataframe tbody tr th:only-of-type {\n",
              "        vertical-align: middle;\n",
              "    }\n",
              "\n",
              "    .dataframe tbody tr th {\n",
              "        vertical-align: top;\n",
              "    }\n",
              "\n",
              "    .dataframe thead th {\n",
              "        text-align: right;\n",
              "    }\n",
              "</style>\n",
              "<table border=\"1\" class=\"dataframe\">\n",
              "  <thead>\n",
              "    <tr style=\"text-align: right;\">\n",
              "      <th></th>\n",
              "      <th>City</th>\n",
              "      <th>Colors Reported</th>\n",
              "      <th>Shape Reported</th>\n",
              "      <th>State</th>\n",
              "      <th>Time</th>\n",
              "    </tr>\n",
              "  </thead>\n",
              "  <tbody>\n",
              "    <tr>\n",
              "      <th>0</th>\n",
              "      <td>Ithaca</td>\n",
              "      <td>NaN</td>\n",
              "      <td>TRIANGLE</td>\n",
              "      <td>NY</td>\n",
              "      <td>6/1/1930 22:00</td>\n",
              "    </tr>\n",
              "    <tr>\n",
              "      <th>1</th>\n",
              "      <td>Willingboro</td>\n",
              "      <td>NaN</td>\n",
              "      <td>OTHER</td>\n",
              "      <td>NJ</td>\n",
              "      <td>6/30/1930 20:00</td>\n",
              "    </tr>\n",
              "    <tr>\n",
              "      <th>2</th>\n",
              "      <td>Holyoke</td>\n",
              "      <td>NaN</td>\n",
              "      <td>OVAL</td>\n",
              "      <td>CO</td>\n",
              "      <td>2/15/1931 14:00</td>\n",
              "    </tr>\n",
              "    <tr>\n",
              "      <th>3</th>\n",
              "      <td>Abilene</td>\n",
              "      <td>NaN</td>\n",
              "      <td>DISK</td>\n",
              "      <td>KS</td>\n",
              "      <td>6/1/1931 13:00</td>\n",
              "    </tr>\n",
              "    <tr>\n",
              "      <th>4</th>\n",
              "      <td>New York Worlds Fair</td>\n",
              "      <td>NaN</td>\n",
              "      <td>LIGHT</td>\n",
              "      <td>NY</td>\n",
              "      <td>4/18/1933 19:00</td>\n",
              "    </tr>\n",
              "  </tbody>\n",
              "</table>\n",
              "</div>"
            ],
            "text/plain": [
              "                   City Colors Reported Shape Reported State             Time\n",
              "0                Ithaca             NaN       TRIANGLE    NY   6/1/1930 22:00\n",
              "1           Willingboro             NaN          OTHER    NJ  6/30/1930 20:00\n",
              "2               Holyoke             NaN           OVAL    CO  2/15/1931 14:00\n",
              "3               Abilene             NaN           DISK    KS   6/1/1931 13:00\n",
              "4  New York Worlds Fair             NaN          LIGHT    NY  4/18/1933 19:00"
            ]
          },
          "metadata": {
            "tags": []
          },
          "execution_count": 30
        }
      ]
    },
    {
      "cell_type": "code",
      "metadata": {
        "id": "oIpu86brRvqp",
        "colab_type": "code",
        "colab": {}
      },
      "source": [
        "#Method 1\n",
        "UFO.rename(columns={'Colors Reported':'Colors_Reported','Shape Reported':'Shape_Reported'},inplace=True)"
      ],
      "execution_count": 0,
      "outputs": []
    },
    {
      "cell_type": "code",
      "metadata": {
        "id": "pgnt5veeSTii",
        "colab_type": "code",
        "outputId": "b5dc6f5d-bb7d-4436-e439-b3a743329102",
        "colab": {
          "base_uri": "https://localhost:8080/",
          "height": 204
        }
      },
      "source": [
        "UFO.head()"
      ],
      "execution_count": 0,
      "outputs": [
        {
          "output_type": "execute_result",
          "data": {
            "text/html": [
              "<div>\n",
              "<style scoped>\n",
              "    .dataframe tbody tr th:only-of-type {\n",
              "        vertical-align: middle;\n",
              "    }\n",
              "\n",
              "    .dataframe tbody tr th {\n",
              "        vertical-align: top;\n",
              "    }\n",
              "\n",
              "    .dataframe thead th {\n",
              "        text-align: right;\n",
              "    }\n",
              "</style>\n",
              "<table border=\"1\" class=\"dataframe\">\n",
              "  <thead>\n",
              "    <tr style=\"text-align: right;\">\n",
              "      <th></th>\n",
              "      <th>City</th>\n",
              "      <th>Colors_Reported</th>\n",
              "      <th>Shape_Reported</th>\n",
              "      <th>State</th>\n",
              "      <th>Time</th>\n",
              "    </tr>\n",
              "  </thead>\n",
              "  <tbody>\n",
              "    <tr>\n",
              "      <th>0</th>\n",
              "      <td>Ithaca</td>\n",
              "      <td>NaN</td>\n",
              "      <td>TRIANGLE</td>\n",
              "      <td>NY</td>\n",
              "      <td>6/1/1930 22:00</td>\n",
              "    </tr>\n",
              "    <tr>\n",
              "      <th>1</th>\n",
              "      <td>Willingboro</td>\n",
              "      <td>NaN</td>\n",
              "      <td>OTHER</td>\n",
              "      <td>NJ</td>\n",
              "      <td>6/30/1930 20:00</td>\n",
              "    </tr>\n",
              "    <tr>\n",
              "      <th>2</th>\n",
              "      <td>Holyoke</td>\n",
              "      <td>NaN</td>\n",
              "      <td>OVAL</td>\n",
              "      <td>CO</td>\n",
              "      <td>2/15/1931 14:00</td>\n",
              "    </tr>\n",
              "    <tr>\n",
              "      <th>3</th>\n",
              "      <td>Abilene</td>\n",
              "      <td>NaN</td>\n",
              "      <td>DISK</td>\n",
              "      <td>KS</td>\n",
              "      <td>6/1/1931 13:00</td>\n",
              "    </tr>\n",
              "    <tr>\n",
              "      <th>4</th>\n",
              "      <td>New York Worlds Fair</td>\n",
              "      <td>NaN</td>\n",
              "      <td>LIGHT</td>\n",
              "      <td>NY</td>\n",
              "      <td>4/18/1933 19:00</td>\n",
              "    </tr>\n",
              "  </tbody>\n",
              "</table>\n",
              "</div>"
            ],
            "text/plain": [
              "                   City Colors_Reported Shape_Reported State             Time\n",
              "0                Ithaca             NaN       TRIANGLE    NY   6/1/1930 22:00\n",
              "1           Willingboro             NaN          OTHER    NJ  6/30/1930 20:00\n",
              "2               Holyoke             NaN           OVAL    CO  2/15/1931 14:00\n",
              "3               Abilene             NaN           DISK    KS   6/1/1931 13:00\n",
              "4  New York Worlds Fair             NaN          LIGHT    NY  4/18/1933 19:00"
            ]
          },
          "metadata": {
            "tags": []
          },
          "execution_count": 32
        }
      ]
    },
    {
      "cell_type": "code",
      "metadata": {
        "id": "GK5e6IzwSfSm",
        "colab_type": "code",
        "colab": {}
      },
      "source": [
        "#Method 2\n",
        "ufo_cols = ['city','colors_reported','shape_reported','state','time']\n",
        "UFO.columns = ufo_cols"
      ],
      "execution_count": 0,
      "outputs": []
    },
    {
      "cell_type": "code",
      "metadata": {
        "id": "7xBRdwvSS7TO",
        "colab_type": "code",
        "outputId": "da86ce2e-b756-41a6-b898-7224dfd638b3",
        "colab": {
          "base_uri": "https://localhost:8080/",
          "height": 204
        }
      },
      "source": [
        "UFO.head()"
      ],
      "execution_count": 0,
      "outputs": [
        {
          "output_type": "execute_result",
          "data": {
            "text/html": [
              "<div>\n",
              "<style scoped>\n",
              "    .dataframe tbody tr th:only-of-type {\n",
              "        vertical-align: middle;\n",
              "    }\n",
              "\n",
              "    .dataframe tbody tr th {\n",
              "        vertical-align: top;\n",
              "    }\n",
              "\n",
              "    .dataframe thead th {\n",
              "        text-align: right;\n",
              "    }\n",
              "</style>\n",
              "<table border=\"1\" class=\"dataframe\">\n",
              "  <thead>\n",
              "    <tr style=\"text-align: right;\">\n",
              "      <th></th>\n",
              "      <th>city</th>\n",
              "      <th>colors_reported</th>\n",
              "      <th>shape_reported</th>\n",
              "      <th>state</th>\n",
              "      <th>time</th>\n",
              "    </tr>\n",
              "  </thead>\n",
              "  <tbody>\n",
              "    <tr>\n",
              "      <th>0</th>\n",
              "      <td>Ithaca</td>\n",
              "      <td>NaN</td>\n",
              "      <td>TRIANGLE</td>\n",
              "      <td>NY</td>\n",
              "      <td>6/1/1930 22:00</td>\n",
              "    </tr>\n",
              "    <tr>\n",
              "      <th>1</th>\n",
              "      <td>Willingboro</td>\n",
              "      <td>NaN</td>\n",
              "      <td>OTHER</td>\n",
              "      <td>NJ</td>\n",
              "      <td>6/30/1930 20:00</td>\n",
              "    </tr>\n",
              "    <tr>\n",
              "      <th>2</th>\n",
              "      <td>Holyoke</td>\n",
              "      <td>NaN</td>\n",
              "      <td>OVAL</td>\n",
              "      <td>CO</td>\n",
              "      <td>2/15/1931 14:00</td>\n",
              "    </tr>\n",
              "    <tr>\n",
              "      <th>3</th>\n",
              "      <td>Abilene</td>\n",
              "      <td>NaN</td>\n",
              "      <td>DISK</td>\n",
              "      <td>KS</td>\n",
              "      <td>6/1/1931 13:00</td>\n",
              "    </tr>\n",
              "    <tr>\n",
              "      <th>4</th>\n",
              "      <td>New York Worlds Fair</td>\n",
              "      <td>NaN</td>\n",
              "      <td>LIGHT</td>\n",
              "      <td>NY</td>\n",
              "      <td>4/18/1933 19:00</td>\n",
              "    </tr>\n",
              "  </tbody>\n",
              "</table>\n",
              "</div>"
            ],
            "text/plain": [
              "                   city colors_reported shape_reported state             time\n",
              "0                Ithaca             NaN       TRIANGLE    NY   6/1/1930 22:00\n",
              "1           Willingboro             NaN          OTHER    NJ  6/30/1930 20:00\n",
              "2               Holyoke             NaN           OVAL    CO  2/15/1931 14:00\n",
              "3               Abilene             NaN           DISK    KS   6/1/1931 13:00\n",
              "4  New York Worlds Fair             NaN          LIGHT    NY  4/18/1933 19:00"
            ]
          },
          "metadata": {
            "tags": []
          },
          "execution_count": 34
        }
      ]
    },
    {
      "cell_type": "code",
      "metadata": {
        "id": "jDFw55GTS-dE",
        "colab_type": "code",
        "colab": {}
      },
      "source": [
        "#Method 3\n",
        "UFO.columns=UFO.columns.str.replace(' ','_')"
      ],
      "execution_count": 0,
      "outputs": []
    },
    {
      "cell_type": "code",
      "metadata": {
        "id": "iT-Y-SJsTh6z",
        "colab_type": "code",
        "outputId": "011fe7fd-8f58-4ee9-9f53-adef9b03608d",
        "colab": {
          "base_uri": "https://localhost:8080/",
          "height": 204
        }
      },
      "source": [
        "UFO.head()"
      ],
      "execution_count": 0,
      "outputs": [
        {
          "output_type": "execute_result",
          "data": {
            "text/html": [
              "<div>\n",
              "<style scoped>\n",
              "    .dataframe tbody tr th:only-of-type {\n",
              "        vertical-align: middle;\n",
              "    }\n",
              "\n",
              "    .dataframe tbody tr th {\n",
              "        vertical-align: top;\n",
              "    }\n",
              "\n",
              "    .dataframe thead th {\n",
              "        text-align: right;\n",
              "    }\n",
              "</style>\n",
              "<table border=\"1\" class=\"dataframe\">\n",
              "  <thead>\n",
              "    <tr style=\"text-align: right;\">\n",
              "      <th></th>\n",
              "      <th>City</th>\n",
              "      <th>Shape Reported</th>\n",
              "      <th>State</th>\n",
              "      <th>Time</th>\n",
              "    </tr>\n",
              "  </thead>\n",
              "  <tbody>\n",
              "    <tr>\n",
              "      <th>0</th>\n",
              "      <td>Ithaca</td>\n",
              "      <td>TRIANGLE</td>\n",
              "      <td>NY</td>\n",
              "      <td>6/1/1930 22:00</td>\n",
              "    </tr>\n",
              "    <tr>\n",
              "      <th>1</th>\n",
              "      <td>Willingboro</td>\n",
              "      <td>OTHER</td>\n",
              "      <td>NJ</td>\n",
              "      <td>6/30/1930 20:00</td>\n",
              "    </tr>\n",
              "    <tr>\n",
              "      <th>2</th>\n",
              "      <td>Holyoke</td>\n",
              "      <td>OVAL</td>\n",
              "      <td>CO</td>\n",
              "      <td>2/15/1931 14:00</td>\n",
              "    </tr>\n",
              "    <tr>\n",
              "      <th>3</th>\n",
              "      <td>Abilene</td>\n",
              "      <td>DISK</td>\n",
              "      <td>KS</td>\n",
              "      <td>6/1/1931 13:00</td>\n",
              "    </tr>\n",
              "    <tr>\n",
              "      <th>4</th>\n",
              "      <td>New York Worlds Fair</td>\n",
              "      <td>LIGHT</td>\n",
              "      <td>NY</td>\n",
              "      <td>4/18/1933 19:00</td>\n",
              "    </tr>\n",
              "  </tbody>\n",
              "</table>\n",
              "</div>"
            ],
            "text/plain": [
              "                   City Shape Reported State             Time\n",
              "0                Ithaca       TRIANGLE    NY   6/1/1930 22:00\n",
              "1           Willingboro          OTHER    NJ  6/30/1930 20:00\n",
              "2               Holyoke           OVAL    CO  2/15/1931 14:00\n",
              "3               Abilene           DISK    KS   6/1/1931 13:00\n",
              "4  New York Worlds Fair          LIGHT    NY  4/18/1933 19:00"
            ]
          },
          "metadata": {
            "tags": []
          },
          "execution_count": 46
        }
      ]
    },
    {
      "cell_type": "markdown",
      "metadata": {
        "id": "JUpx1yMIUX1k",
        "colab_type": "text"
      },
      "source": [
        "Remove columns"
      ]
    },
    {
      "cell_type": "code",
      "metadata": {
        "id": "v35_2OYvT7H-",
        "colab_type": "code",
        "outputId": "31bb6d24-7570-49d7-edc4-7b6296a6176f",
        "colab": {
          "base_uri": "https://localhost:8080/",
          "height": 34
        }
      },
      "source": [
        "UFO.shape"
      ],
      "execution_count": 0,
      "outputs": [
        {
          "output_type": "execute_result",
          "data": {
            "text/plain": [
              "(18241, 5)"
            ]
          },
          "metadata": {
            "tags": []
          },
          "execution_count": 43
        }
      ]
    },
    {
      "cell_type": "code",
      "metadata": {
        "id": "Gx3N6igyUj0x",
        "colab_type": "code",
        "colab": {}
      },
      "source": [
        "UFO.drop('Colors Reported',axis = 1,inplace=True)"
      ],
      "execution_count": 0,
      "outputs": []
    },
    {
      "cell_type": "code",
      "metadata": {
        "id": "stKjHyd9Ulbp",
        "colab_type": "code",
        "colab": {}
      },
      "source": [
        "UFO.drop(['Colors Reported','Shape Reported'],axis=1,inplace=True)"
      ],
      "execution_count": 0,
      "outputs": []
    },
    {
      "cell_type": "code",
      "metadata": {
        "id": "ZoOKXXahXPIo",
        "colab_type": "code",
        "outputId": "54102b07-7bda-4cdd-d560-50b226cdc0fe",
        "colab": {
          "base_uri": "https://localhost:8080/",
          "height": 34
        }
      },
      "source": [
        "UFO.columns"
      ],
      "execution_count": 0,
      "outputs": [
        {
          "output_type": "execute_result",
          "data": {
            "text/plain": [
              "Index(['City', 'State', 'Time'], dtype='object')"
            ]
          },
          "metadata": {
            "tags": []
          },
          "execution_count": 51
        }
      ]
    },
    {
      "cell_type": "markdown",
      "metadata": {
        "id": "9-XpT3sWXl3A",
        "colab_type": "text"
      },
      "source": [
        "Sort"
      ]
    },
    {
      "cell_type": "code",
      "metadata": {
        "id": "Yj67AOaGXYpi",
        "colab_type": "code",
        "colab": {}
      },
      "source": [
        "movies = pd.read_csv('http://bit.ly/imdbratings')\n"
      ],
      "execution_count": 0,
      "outputs": []
    },
    {
      "cell_type": "code",
      "metadata": {
        "id": "3RTrQcCpXzPR",
        "colab_type": "code",
        "outputId": "811d2a9e-2dac-409b-d9ae-7f627859534a",
        "colab": {
          "base_uri": "https://localhost:8080/",
          "height": 204
        }
      },
      "source": [
        "movies.head()"
      ],
      "execution_count": 0,
      "outputs": [
        {
          "output_type": "execute_result",
          "data": {
            "text/html": [
              "<div>\n",
              "<style scoped>\n",
              "    .dataframe tbody tr th:only-of-type {\n",
              "        vertical-align: middle;\n",
              "    }\n",
              "\n",
              "    .dataframe tbody tr th {\n",
              "        vertical-align: top;\n",
              "    }\n",
              "\n",
              "    .dataframe thead th {\n",
              "        text-align: right;\n",
              "    }\n",
              "</style>\n",
              "<table border=\"1\" class=\"dataframe\">\n",
              "  <thead>\n",
              "    <tr style=\"text-align: right;\">\n",
              "      <th></th>\n",
              "      <th>star_rating</th>\n",
              "      <th>title</th>\n",
              "      <th>content_rating</th>\n",
              "      <th>genre</th>\n",
              "      <th>duration</th>\n",
              "      <th>actors_list</th>\n",
              "    </tr>\n",
              "  </thead>\n",
              "  <tbody>\n",
              "    <tr>\n",
              "      <th>0</th>\n",
              "      <td>9.3</td>\n",
              "      <td>The Shawshank Redemption</td>\n",
              "      <td>R</td>\n",
              "      <td>Crime</td>\n",
              "      <td>142</td>\n",
              "      <td>[u'Tim Robbins', u'Morgan Freeman', u'Bob Gunt...</td>\n",
              "    </tr>\n",
              "    <tr>\n",
              "      <th>1</th>\n",
              "      <td>9.2</td>\n",
              "      <td>The Godfather</td>\n",
              "      <td>R</td>\n",
              "      <td>Crime</td>\n",
              "      <td>175</td>\n",
              "      <td>[u'Marlon Brando', u'Al Pacino', u'James Caan']</td>\n",
              "    </tr>\n",
              "    <tr>\n",
              "      <th>2</th>\n",
              "      <td>9.1</td>\n",
              "      <td>The Godfather: Part II</td>\n",
              "      <td>R</td>\n",
              "      <td>Crime</td>\n",
              "      <td>200</td>\n",
              "      <td>[u'Al Pacino', u'Robert De Niro', u'Robert Duv...</td>\n",
              "    </tr>\n",
              "    <tr>\n",
              "      <th>3</th>\n",
              "      <td>9.0</td>\n",
              "      <td>The Dark Knight</td>\n",
              "      <td>PG-13</td>\n",
              "      <td>Action</td>\n",
              "      <td>152</td>\n",
              "      <td>[u'Christian Bale', u'Heath Ledger', u'Aaron E...</td>\n",
              "    </tr>\n",
              "    <tr>\n",
              "      <th>4</th>\n",
              "      <td>8.9</td>\n",
              "      <td>Pulp Fiction</td>\n",
              "      <td>R</td>\n",
              "      <td>Crime</td>\n",
              "      <td>154</td>\n",
              "      <td>[u'John Travolta', u'Uma Thurman', u'Samuel L....</td>\n",
              "    </tr>\n",
              "  </tbody>\n",
              "</table>\n",
              "</div>"
            ],
            "text/plain": [
              "   star_rating  ...                                        actors_list\n",
              "0          9.3  ...  [u'Tim Robbins', u'Morgan Freeman', u'Bob Gunt...\n",
              "1          9.2  ...    [u'Marlon Brando', u'Al Pacino', u'James Caan']\n",
              "2          9.1  ...  [u'Al Pacino', u'Robert De Niro', u'Robert Duv...\n",
              "3          9.0  ...  [u'Christian Bale', u'Heath Ledger', u'Aaron E...\n",
              "4          8.9  ...  [u'John Travolta', u'Uma Thurman', u'Samuel L....\n",
              "\n",
              "[5 rows x 6 columns]"
            ]
          },
          "metadata": {
            "tags": []
          },
          "execution_count": 53
        }
      ]
    },
    {
      "cell_type": "code",
      "metadata": {
        "id": "i8HWIM8LX1HT",
        "colab_type": "code",
        "outputId": "73a7a20f-4b7e-40aa-9e63-f6489257433e",
        "colab": {
          "base_uri": "https://localhost:8080/",
          "height": 221
        }
      },
      "source": [
        "#Method 1\n",
        "movies.title.sort_values() # = movies['title'].sort_values()"
      ],
      "execution_count": 0,
      "outputs": [
        {
          "output_type": "execute_result",
          "data": {
            "text/plain": [
              "542     (500) Days of Summer\n",
              "5               12 Angry Men\n",
              "201         12 Years a Slave\n",
              "698                127 Hours\n",
              "110    2001: A Space Odyssey\n",
              "               ...          \n",
              "955         Zero Dark Thirty\n",
              "677                   Zodiac\n",
              "615               Zombieland\n",
              "526                     Zulu\n",
              "864                    [Rec]\n",
              "Name: title, Length: 979, dtype: object"
            ]
          },
          "metadata": {
            "tags": []
          },
          "execution_count": 54
        }
      ]
    },
    {
      "cell_type": "code",
      "metadata": {
        "id": "MeJsNCpIYdlZ",
        "colab_type": "code",
        "outputId": "5c6acd92-4036-4afe-992c-039d7458ab19",
        "colab": {
          "base_uri": "https://localhost:8080/",
          "height": 221
        }
      },
      "source": [
        "movies.title.sort_values(ascending=False) "
      ],
      "execution_count": 0,
      "outputs": [
        {
          "output_type": "execute_result",
          "data": {
            "text/plain": [
              "864                    [Rec]\n",
              "526                     Zulu\n",
              "615               Zombieland\n",
              "677                   Zodiac\n",
              "955         Zero Dark Thirty\n",
              "               ...          \n",
              "110    2001: A Space Odyssey\n",
              "698                127 Hours\n",
              "201         12 Years a Slave\n",
              "5               12 Angry Men\n",
              "542     (500) Days of Summer\n",
              "Name: title, Length: 979, dtype: object"
            ]
          },
          "metadata": {
            "tags": []
          },
          "execution_count": 55
        }
      ]
    },
    {
      "cell_type": "code",
      "metadata": {
        "id": "g2__urk9Y51s",
        "colab_type": "code",
        "outputId": "e3991a04-2c6f-48d5-ee10-3e99ded85285",
        "colab": {
          "base_uri": "https://localhost:8080/",
          "height": 419
        }
      },
      "source": [
        "#Method 2\n",
        "movies.sort_values('star_rating',ascending=False)"
      ],
      "execution_count": 0,
      "outputs": [
        {
          "output_type": "execute_result",
          "data": {
            "text/html": [
              "<div>\n",
              "<style scoped>\n",
              "    .dataframe tbody tr th:only-of-type {\n",
              "        vertical-align: middle;\n",
              "    }\n",
              "\n",
              "    .dataframe tbody tr th {\n",
              "        vertical-align: top;\n",
              "    }\n",
              "\n",
              "    .dataframe thead th {\n",
              "        text-align: right;\n",
              "    }\n",
              "</style>\n",
              "<table border=\"1\" class=\"dataframe\">\n",
              "  <thead>\n",
              "    <tr style=\"text-align: right;\">\n",
              "      <th></th>\n",
              "      <th>star_rating</th>\n",
              "      <th>title</th>\n",
              "      <th>content_rating</th>\n",
              "      <th>genre</th>\n",
              "      <th>duration</th>\n",
              "      <th>actors_list</th>\n",
              "    </tr>\n",
              "  </thead>\n",
              "  <tbody>\n",
              "    <tr>\n",
              "      <th>0</th>\n",
              "      <td>9.3</td>\n",
              "      <td>The Shawshank Redemption</td>\n",
              "      <td>R</td>\n",
              "      <td>Crime</td>\n",
              "      <td>142</td>\n",
              "      <td>[u'Tim Robbins', u'Morgan Freeman', u'Bob Gunt...</td>\n",
              "    </tr>\n",
              "    <tr>\n",
              "      <th>1</th>\n",
              "      <td>9.2</td>\n",
              "      <td>The Godfather</td>\n",
              "      <td>R</td>\n",
              "      <td>Crime</td>\n",
              "      <td>175</td>\n",
              "      <td>[u'Marlon Brando', u'Al Pacino', u'James Caan']</td>\n",
              "    </tr>\n",
              "    <tr>\n",
              "      <th>2</th>\n",
              "      <td>9.1</td>\n",
              "      <td>The Godfather: Part II</td>\n",
              "      <td>R</td>\n",
              "      <td>Crime</td>\n",
              "      <td>200</td>\n",
              "      <td>[u'Al Pacino', u'Robert De Niro', u'Robert Duv...</td>\n",
              "    </tr>\n",
              "    <tr>\n",
              "      <th>3</th>\n",
              "      <td>9.0</td>\n",
              "      <td>The Dark Knight</td>\n",
              "      <td>PG-13</td>\n",
              "      <td>Action</td>\n",
              "      <td>152</td>\n",
              "      <td>[u'Christian Bale', u'Heath Ledger', u'Aaron E...</td>\n",
              "    </tr>\n",
              "    <tr>\n",
              "      <th>4</th>\n",
              "      <td>8.9</td>\n",
              "      <td>Pulp Fiction</td>\n",
              "      <td>R</td>\n",
              "      <td>Crime</td>\n",
              "      <td>154</td>\n",
              "      <td>[u'John Travolta', u'Uma Thurman', u'Samuel L....</td>\n",
              "    </tr>\n",
              "    <tr>\n",
              "      <th>...</th>\n",
              "      <td>...</td>\n",
              "      <td>...</td>\n",
              "      <td>...</td>\n",
              "      <td>...</td>\n",
              "      <td>...</td>\n",
              "      <td>...</td>\n",
              "    </tr>\n",
              "    <tr>\n",
              "      <th>948</th>\n",
              "      <td>7.4</td>\n",
              "      <td>Frances Ha</td>\n",
              "      <td>R</td>\n",
              "      <td>Comedy</td>\n",
              "      <td>86</td>\n",
              "      <td>[u'Greta Gerwig', u'Mickey Sumner', u'Adam Dri...</td>\n",
              "    </tr>\n",
              "    <tr>\n",
              "      <th>949</th>\n",
              "      <td>7.4</td>\n",
              "      <td>Home Alone</td>\n",
              "      <td>PG</td>\n",
              "      <td>Comedy</td>\n",
              "      <td>103</td>\n",
              "      <td>[u'Macaulay Culkin', u'Joe Pesci', u'Daniel St...</td>\n",
              "    </tr>\n",
              "    <tr>\n",
              "      <th>950</th>\n",
              "      <td>7.4</td>\n",
              "      <td>Bound</td>\n",
              "      <td>R</td>\n",
              "      <td>Crime</td>\n",
              "      <td>108</td>\n",
              "      <td>[u'Jennifer Tilly', u'Gina Gershon', u'Joe Pan...</td>\n",
              "    </tr>\n",
              "    <tr>\n",
              "      <th>951</th>\n",
              "      <td>7.4</td>\n",
              "      <td>Sleepy Hollow</td>\n",
              "      <td>R</td>\n",
              "      <td>Drama</td>\n",
              "      <td>105</td>\n",
              "      <td>[u'Johnny Depp', u'Christina Ricci', u'Miranda...</td>\n",
              "    </tr>\n",
              "    <tr>\n",
              "      <th>978</th>\n",
              "      <td>7.4</td>\n",
              "      <td>Wall Street</td>\n",
              "      <td>R</td>\n",
              "      <td>Crime</td>\n",
              "      <td>126</td>\n",
              "      <td>[u'Charlie Sheen', u'Michael Douglas', u'Tamar...</td>\n",
              "    </tr>\n",
              "  </tbody>\n",
              "</table>\n",
              "<p>979 rows × 6 columns</p>\n",
              "</div>"
            ],
            "text/plain": [
              "     star_rating  ...                                        actors_list\n",
              "0            9.3  ...  [u'Tim Robbins', u'Morgan Freeman', u'Bob Gunt...\n",
              "1            9.2  ...    [u'Marlon Brando', u'Al Pacino', u'James Caan']\n",
              "2            9.1  ...  [u'Al Pacino', u'Robert De Niro', u'Robert Duv...\n",
              "3            9.0  ...  [u'Christian Bale', u'Heath Ledger', u'Aaron E...\n",
              "4            8.9  ...  [u'John Travolta', u'Uma Thurman', u'Samuel L....\n",
              "..           ...  ...                                                ...\n",
              "948          7.4  ...  [u'Greta Gerwig', u'Mickey Sumner', u'Adam Dri...\n",
              "949          7.4  ...  [u'Macaulay Culkin', u'Joe Pesci', u'Daniel St...\n",
              "950          7.4  ...  [u'Jennifer Tilly', u'Gina Gershon', u'Joe Pan...\n",
              "951          7.4  ...  [u'Johnny Depp', u'Christina Ricci', u'Miranda...\n",
              "978          7.4  ...  [u'Charlie Sheen', u'Michael Douglas', u'Tamar...\n",
              "\n",
              "[979 rows x 6 columns]"
            ]
          },
          "metadata": {
            "tags": []
          },
          "execution_count": 59
        }
      ]
    },
    {
      "cell_type": "code",
      "metadata": {
        "id": "G_PuzcktZVdj",
        "colab_type": "code",
        "outputId": "473cd199-043a-4923-8b12-e975b150fbb5",
        "colab": {
          "base_uri": "https://localhost:8080/",
          "height": 419
        }
      },
      "source": [
        "movies.sort_values(['star_rating','genre'])"
      ],
      "execution_count": 0,
      "outputs": [
        {
          "output_type": "execute_result",
          "data": {
            "text/html": [
              "<div>\n",
              "<style scoped>\n",
              "    .dataframe tbody tr th:only-of-type {\n",
              "        vertical-align: middle;\n",
              "    }\n",
              "\n",
              "    .dataframe tbody tr th {\n",
              "        vertical-align: top;\n",
              "    }\n",
              "\n",
              "    .dataframe thead th {\n",
              "        text-align: right;\n",
              "    }\n",
              "</style>\n",
              "<table border=\"1\" class=\"dataframe\">\n",
              "  <thead>\n",
              "    <tr style=\"text-align: right;\">\n",
              "      <th></th>\n",
              "      <th>star_rating</th>\n",
              "      <th>title</th>\n",
              "      <th>content_rating</th>\n",
              "      <th>genre</th>\n",
              "      <th>duration</th>\n",
              "      <th>actors_list</th>\n",
              "    </tr>\n",
              "  </thead>\n",
              "  <tbody>\n",
              "    <tr>\n",
              "      <th>954</th>\n",
              "      <td>7.4</td>\n",
              "      <td>X-Men</td>\n",
              "      <td>PG-13</td>\n",
              "      <td>Action</td>\n",
              "      <td>104</td>\n",
              "      <td>[u'Patrick Stewart', u'Hugh Jackman', u'Ian Mc...</td>\n",
              "    </tr>\n",
              "    <tr>\n",
              "      <th>963</th>\n",
              "      <td>7.4</td>\n",
              "      <td>La Femme Nikita</td>\n",
              "      <td>R</td>\n",
              "      <td>Action</td>\n",
              "      <td>118</td>\n",
              "      <td>[u'Anne Parillaud', u'Marc Duret', u'Patrick F...</td>\n",
              "    </tr>\n",
              "    <tr>\n",
              "      <th>967</th>\n",
              "      <td>7.4</td>\n",
              "      <td>The Rock</td>\n",
              "      <td>R</td>\n",
              "      <td>Action</td>\n",
              "      <td>136</td>\n",
              "      <td>[u'Sean Connery', u'Nicolas Cage', u'Ed Harris']</td>\n",
              "    </tr>\n",
              "    <tr>\n",
              "      <th>976</th>\n",
              "      <td>7.4</td>\n",
              "      <td>Master and Commander: The Far Side of the World</td>\n",
              "      <td>PG-13</td>\n",
              "      <td>Action</td>\n",
              "      <td>138</td>\n",
              "      <td>[u'Russell Crowe', u'Paul Bettany', u'Billy Bo...</td>\n",
              "    </tr>\n",
              "    <tr>\n",
              "      <th>932</th>\n",
              "      <td>7.4</td>\n",
              "      <td>Harry Potter and the Order of the Phoenix</td>\n",
              "      <td>PG-13</td>\n",
              "      <td>Adventure</td>\n",
              "      <td>138</td>\n",
              "      <td>[u'Daniel Radcliffe', u'Emma Watson', u'Rupert...</td>\n",
              "    </tr>\n",
              "    <tr>\n",
              "      <th>...</th>\n",
              "      <td>...</td>\n",
              "      <td>...</td>\n",
              "      <td>...</td>\n",
              "      <td>...</td>\n",
              "      <td>...</td>\n",
              "      <td>...</td>\n",
              "    </tr>\n",
              "    <tr>\n",
              "      <th>6</th>\n",
              "      <td>8.9</td>\n",
              "      <td>The Good, the Bad and the Ugly</td>\n",
              "      <td>NOT RATED</td>\n",
              "      <td>Western</td>\n",
              "      <td>161</td>\n",
              "      <td>[u'Clint Eastwood', u'Eli Wallach', u'Lee Van ...</td>\n",
              "    </tr>\n",
              "    <tr>\n",
              "      <th>3</th>\n",
              "      <td>9.0</td>\n",
              "      <td>The Dark Knight</td>\n",
              "      <td>PG-13</td>\n",
              "      <td>Action</td>\n",
              "      <td>152</td>\n",
              "      <td>[u'Christian Bale', u'Heath Ledger', u'Aaron E...</td>\n",
              "    </tr>\n",
              "    <tr>\n",
              "      <th>2</th>\n",
              "      <td>9.1</td>\n",
              "      <td>The Godfather: Part II</td>\n",
              "      <td>R</td>\n",
              "      <td>Crime</td>\n",
              "      <td>200</td>\n",
              "      <td>[u'Al Pacino', u'Robert De Niro', u'Robert Duv...</td>\n",
              "    </tr>\n",
              "    <tr>\n",
              "      <th>1</th>\n",
              "      <td>9.2</td>\n",
              "      <td>The Godfather</td>\n",
              "      <td>R</td>\n",
              "      <td>Crime</td>\n",
              "      <td>175</td>\n",
              "      <td>[u'Marlon Brando', u'Al Pacino', u'James Caan']</td>\n",
              "    </tr>\n",
              "    <tr>\n",
              "      <th>0</th>\n",
              "      <td>9.3</td>\n",
              "      <td>The Shawshank Redemption</td>\n",
              "      <td>R</td>\n",
              "      <td>Crime</td>\n",
              "      <td>142</td>\n",
              "      <td>[u'Tim Robbins', u'Morgan Freeman', u'Bob Gunt...</td>\n",
              "    </tr>\n",
              "  </tbody>\n",
              "</table>\n",
              "<p>979 rows × 6 columns</p>\n",
              "</div>"
            ],
            "text/plain": [
              "     star_rating  ...                                        actors_list\n",
              "954          7.4  ...  [u'Patrick Stewart', u'Hugh Jackman', u'Ian Mc...\n",
              "963          7.4  ...  [u'Anne Parillaud', u'Marc Duret', u'Patrick F...\n",
              "967          7.4  ...   [u'Sean Connery', u'Nicolas Cage', u'Ed Harris']\n",
              "976          7.4  ...  [u'Russell Crowe', u'Paul Bettany', u'Billy Bo...\n",
              "932          7.4  ...  [u'Daniel Radcliffe', u'Emma Watson', u'Rupert...\n",
              "..           ...  ...                                                ...\n",
              "6            8.9  ...  [u'Clint Eastwood', u'Eli Wallach', u'Lee Van ...\n",
              "3            9.0  ...  [u'Christian Bale', u'Heath Ledger', u'Aaron E...\n",
              "2            9.1  ...  [u'Al Pacino', u'Robert De Niro', u'Robert Duv...\n",
              "1            9.2  ...    [u'Marlon Brando', u'Al Pacino', u'James Caan']\n",
              "0            9.3  ...  [u'Tim Robbins', u'Morgan Freeman', u'Bob Gunt...\n",
              "\n",
              "[979 rows x 6 columns]"
            ]
          },
          "metadata": {
            "tags": []
          },
          "execution_count": 61
        }
      ]
    },
    {
      "cell_type": "markdown",
      "metadata": {
        "id": "aRtm1ToYbNyq",
        "colab_type": "text"
      },
      "source": [
        "Filter rows by column value"
      ]
    },
    {
      "cell_type": "code",
      "metadata": {
        "id": "WqhReXAzaZuO",
        "colab_type": "code",
        "outputId": "ab5c31f3-26af-4a57-ec21-eb275579793e",
        "colab": {
          "base_uri": "https://localhost:8080/",
          "height": 34
        }
      },
      "source": [
        "movies.shape"
      ],
      "execution_count": 0,
      "outputs": [
        {
          "output_type": "execute_result",
          "data": {
            "text/plain": [
              "(979, 6)"
            ]
          },
          "metadata": {
            "tags": []
          },
          "execution_count": 62
        }
      ]
    },
    {
      "cell_type": "code",
      "metadata": {
        "id": "qNnlwWGAbBDv",
        "colab_type": "code",
        "colab": {}
      },
      "source": [
        "#Method 1\n",
        "ratings = movies.star_rating >= 7.5"
      ],
      "execution_count": 0,
      "outputs": []
    },
    {
      "cell_type": "code",
      "metadata": {
        "id": "6XN34MWgdKJn",
        "colab_type": "code",
        "outputId": "e9da1dda-a24a-4573-e6d6-276614695a26",
        "colab": {
          "base_uri": "https://localhost:8080/",
          "height": 119
        }
      },
      "source": [
        "ratings.head()"
      ],
      "execution_count": 0,
      "outputs": [
        {
          "output_type": "execute_result",
          "data": {
            "text/plain": [
              "0    True\n",
              "1    True\n",
              "2    True\n",
              "3    True\n",
              "4    True\n",
              "Name: star_rating, dtype: bool"
            ]
          },
          "metadata": {
            "tags": []
          },
          "execution_count": 68
        }
      ]
    },
    {
      "cell_type": "code",
      "metadata": {
        "id": "36IccecGeiH3",
        "colab_type": "code",
        "outputId": "9d3f1d6a-3f35-47f1-fe94-9b28467e3bcc",
        "colab": {
          "base_uri": "https://localhost:8080/",
          "height": 34
        }
      },
      "source": [
        "type(ratings)"
      ],
      "execution_count": 0,
      "outputs": [
        {
          "output_type": "execute_result",
          "data": {
            "text/plain": [
              "pandas.core.series.Series"
            ]
          },
          "metadata": {
            "tags": []
          },
          "execution_count": 74
        }
      ]
    },
    {
      "cell_type": "code",
      "metadata": {
        "id": "g-ZjmlkwdZre",
        "colab_type": "code",
        "outputId": "dbc41e42-3ebe-4675-8f36-46c02ef769b1",
        "colab": {
          "base_uri": "https://localhost:8080/",
          "height": 419
        }
      },
      "source": [
        "# Method 2 # returns a dataframe\n",
        "movies[movies.star_rating >= 7.5]"
      ],
      "execution_count": 0,
      "outputs": [
        {
          "output_type": "execute_result",
          "data": {
            "text/html": [
              "<div>\n",
              "<style scoped>\n",
              "    .dataframe tbody tr th:only-of-type {\n",
              "        vertical-align: middle;\n",
              "    }\n",
              "\n",
              "    .dataframe tbody tr th {\n",
              "        vertical-align: top;\n",
              "    }\n",
              "\n",
              "    .dataframe thead th {\n",
              "        text-align: right;\n",
              "    }\n",
              "</style>\n",
              "<table border=\"1\" class=\"dataframe\">\n",
              "  <thead>\n",
              "    <tr style=\"text-align: right;\">\n",
              "      <th></th>\n",
              "      <th>star_rating</th>\n",
              "      <th>title</th>\n",
              "      <th>content_rating</th>\n",
              "      <th>genre</th>\n",
              "      <th>duration</th>\n",
              "      <th>actors_list</th>\n",
              "    </tr>\n",
              "  </thead>\n",
              "  <tbody>\n",
              "    <tr>\n",
              "      <th>0</th>\n",
              "      <td>9.3</td>\n",
              "      <td>The Shawshank Redemption</td>\n",
              "      <td>R</td>\n",
              "      <td>Crime</td>\n",
              "      <td>142</td>\n",
              "      <td>[u'Tim Robbins', u'Morgan Freeman', u'Bob Gunt...</td>\n",
              "    </tr>\n",
              "    <tr>\n",
              "      <th>1</th>\n",
              "      <td>9.2</td>\n",
              "      <td>The Godfather</td>\n",
              "      <td>R</td>\n",
              "      <td>Crime</td>\n",
              "      <td>175</td>\n",
              "      <td>[u'Marlon Brando', u'Al Pacino', u'James Caan']</td>\n",
              "    </tr>\n",
              "    <tr>\n",
              "      <th>2</th>\n",
              "      <td>9.1</td>\n",
              "      <td>The Godfather: Part II</td>\n",
              "      <td>R</td>\n",
              "      <td>Crime</td>\n",
              "      <td>200</td>\n",
              "      <td>[u'Al Pacino', u'Robert De Niro', u'Robert Duv...</td>\n",
              "    </tr>\n",
              "    <tr>\n",
              "      <th>3</th>\n",
              "      <td>9.0</td>\n",
              "      <td>The Dark Knight</td>\n",
              "      <td>PG-13</td>\n",
              "      <td>Action</td>\n",
              "      <td>152</td>\n",
              "      <td>[u'Christian Bale', u'Heath Ledger', u'Aaron E...</td>\n",
              "    </tr>\n",
              "    <tr>\n",
              "      <th>4</th>\n",
              "      <td>8.9</td>\n",
              "      <td>Pulp Fiction</td>\n",
              "      <td>R</td>\n",
              "      <td>Crime</td>\n",
              "      <td>154</td>\n",
              "      <td>[u'John Travolta', u'Uma Thurman', u'Samuel L....</td>\n",
              "    </tr>\n",
              "    <tr>\n",
              "      <th>...</th>\n",
              "      <td>...</td>\n",
              "      <td>...</td>\n",
              "      <td>...</td>\n",
              "      <td>...</td>\n",
              "      <td>...</td>\n",
              "      <td>...</td>\n",
              "    </tr>\n",
              "    <tr>\n",
              "      <th>925</th>\n",
              "      <td>7.5</td>\n",
              "      <td>Notes on a Scandal</td>\n",
              "      <td>R</td>\n",
              "      <td>Drama</td>\n",
              "      <td>92</td>\n",
              "      <td>[u'Cate Blanchett', u'Judi Dench', u'Andrew Si...</td>\n",
              "    </tr>\n",
              "    <tr>\n",
              "      <th>926</th>\n",
              "      <td>7.5</td>\n",
              "      <td>Inside Llewyn Davis</td>\n",
              "      <td>R</td>\n",
              "      <td>Drama</td>\n",
              "      <td>104</td>\n",
              "      <td>[u'Oscar Isaac', u'Carey Mulligan', u'John Goo...</td>\n",
              "    </tr>\n",
              "    <tr>\n",
              "      <th>927</th>\n",
              "      <td>7.5</td>\n",
              "      <td>Brick</td>\n",
              "      <td>R</td>\n",
              "      <td>Crime</td>\n",
              "      <td>110</td>\n",
              "      <td>[u'Joseph Gordon-Levitt', u'Lukas Haas', u'Emi...</td>\n",
              "    </tr>\n",
              "    <tr>\n",
              "      <th>928</th>\n",
              "      <td>7.5</td>\n",
              "      <td>Clerks II</td>\n",
              "      <td>R</td>\n",
              "      <td>Comedy</td>\n",
              "      <td>97</td>\n",
              "      <td>[u\"Brian O'Halloran\", u'Jeff Anderson', u'Rosa...</td>\n",
              "    </tr>\n",
              "    <tr>\n",
              "      <th>929</th>\n",
              "      <td>7.5</td>\n",
              "      <td>Say Anything...</td>\n",
              "      <td>PG-13</td>\n",
              "      <td>Comedy</td>\n",
              "      <td>100</td>\n",
              "      <td>[u'John Cusack', u'Ione Skye', u'John Mahoney']</td>\n",
              "    </tr>\n",
              "  </tbody>\n",
              "</table>\n",
              "<p>930 rows × 6 columns</p>\n",
              "</div>"
            ],
            "text/plain": [
              "     star_rating  ...                                        actors_list\n",
              "0            9.3  ...  [u'Tim Robbins', u'Morgan Freeman', u'Bob Gunt...\n",
              "1            9.2  ...    [u'Marlon Brando', u'Al Pacino', u'James Caan']\n",
              "2            9.1  ...  [u'Al Pacino', u'Robert De Niro', u'Robert Duv...\n",
              "3            9.0  ...  [u'Christian Bale', u'Heath Ledger', u'Aaron E...\n",
              "4            8.9  ...  [u'John Travolta', u'Uma Thurman', u'Samuel L....\n",
              "..           ...  ...                                                ...\n",
              "925          7.5  ...  [u'Cate Blanchett', u'Judi Dench', u'Andrew Si...\n",
              "926          7.5  ...  [u'Oscar Isaac', u'Carey Mulligan', u'John Goo...\n",
              "927          7.5  ...  [u'Joseph Gordon-Levitt', u'Lukas Haas', u'Emi...\n",
              "928          7.5  ...  [u\"Brian O'Halloran\", u'Jeff Anderson', u'Rosa...\n",
              "929          7.5  ...    [u'John Cusack', u'Ione Skye', u'John Mahoney']\n",
              "\n",
              "[930 rows x 6 columns]"
            ]
          },
          "metadata": {
            "tags": []
          },
          "execution_count": 75
        }
      ]
    },
    {
      "cell_type": "code",
      "metadata": {
        "id": "J_sB5OgXdijK",
        "colab_type": "code",
        "outputId": "f4b2631b-5c16-4513-c58a-92180abc225d",
        "colab": {
          "base_uri": "https://localhost:8080/",
          "height": 221
        }
      },
      "source": [
        "movies[movies.star_rating >= 7.5]['genre']# Method 1"
      ],
      "execution_count": 0,
      "outputs": [
        {
          "output_type": "execute_result",
          "data": {
            "text/plain": [
              "0       Crime\n",
              "1       Crime\n",
              "2       Crime\n",
              "3      Action\n",
              "4       Crime\n",
              "        ...  \n",
              "925     Drama\n",
              "926     Drama\n",
              "927     Crime\n",
              "928    Comedy\n",
              "929    Comedy\n",
              "Name: genre, Length: 930, dtype: object"
            ]
          },
          "metadata": {
            "tags": []
          },
          "execution_count": 78
        }
      ]
    },
    {
      "cell_type": "code",
      "metadata": {
        "id": "ymkmf1qxf6JN",
        "colab_type": "code",
        "outputId": "77b32509-6f9f-4de3-a605-236e5a345b43",
        "colab": {
          "base_uri": "https://localhost:8080/",
          "height": 221
        }
      },
      "source": [
        "movies.loc[movies.star_rating >= 7.5,'genre'] # Method 2"
      ],
      "execution_count": 0,
      "outputs": [
        {
          "output_type": "execute_result",
          "data": {
            "text/plain": [
              "0       Crime\n",
              "1       Crime\n",
              "2       Crime\n",
              "3      Action\n",
              "4       Crime\n",
              "        ...  \n",
              "925     Drama\n",
              "926     Drama\n",
              "927     Crime\n",
              "928    Comedy\n",
              "929    Comedy\n",
              "Name: genre, Length: 930, dtype: object"
            ]
          },
          "metadata": {
            "tags": []
          },
          "execution_count": 79
        }
      ]
    },
    {
      "cell_type": "markdown",
      "metadata": {
        "id": "uDG4CcflgwgP",
        "colab_type": "text"
      },
      "source": [
        "Apply multiple filter criteria"
      ]
    },
    {
      "cell_type": "code",
      "metadata": {
        "id": "4hXL-u0OgcSz",
        "colab_type": "code",
        "outputId": "0ae60d50-c082-4f98-eb26-39d2d5cd1b16",
        "colab": {
          "base_uri": "https://localhost:8080/",
          "height": 419
        }
      },
      "source": [
        "movies[(movies.star_rating >= 7.5) & (movies.genre == 'Crime')]"
      ],
      "execution_count": 0,
      "outputs": [
        {
          "output_type": "execute_result",
          "data": {
            "text/html": [
              "<div>\n",
              "<style scoped>\n",
              "    .dataframe tbody tr th:only-of-type {\n",
              "        vertical-align: middle;\n",
              "    }\n",
              "\n",
              "    .dataframe tbody tr th {\n",
              "        vertical-align: top;\n",
              "    }\n",
              "\n",
              "    .dataframe thead th {\n",
              "        text-align: right;\n",
              "    }\n",
              "</style>\n",
              "<table border=\"1\" class=\"dataframe\">\n",
              "  <thead>\n",
              "    <tr style=\"text-align: right;\">\n",
              "      <th></th>\n",
              "      <th>star_rating</th>\n",
              "      <th>title</th>\n",
              "      <th>content_rating</th>\n",
              "      <th>genre</th>\n",
              "      <th>duration</th>\n",
              "      <th>actors_list</th>\n",
              "    </tr>\n",
              "  </thead>\n",
              "  <tbody>\n",
              "    <tr>\n",
              "      <th>0</th>\n",
              "      <td>9.3</td>\n",
              "      <td>The Shawshank Redemption</td>\n",
              "      <td>R</td>\n",
              "      <td>Crime</td>\n",
              "      <td>142</td>\n",
              "      <td>[u'Tim Robbins', u'Morgan Freeman', u'Bob Gunt...</td>\n",
              "    </tr>\n",
              "    <tr>\n",
              "      <th>1</th>\n",
              "      <td>9.2</td>\n",
              "      <td>The Godfather</td>\n",
              "      <td>R</td>\n",
              "      <td>Crime</td>\n",
              "      <td>175</td>\n",
              "      <td>[u'Marlon Brando', u'Al Pacino', u'James Caan']</td>\n",
              "    </tr>\n",
              "    <tr>\n",
              "      <th>2</th>\n",
              "      <td>9.1</td>\n",
              "      <td>The Godfather: Part II</td>\n",
              "      <td>R</td>\n",
              "      <td>Crime</td>\n",
              "      <td>200</td>\n",
              "      <td>[u'Al Pacino', u'Robert De Niro', u'Robert Duv...</td>\n",
              "    </tr>\n",
              "    <tr>\n",
              "      <th>4</th>\n",
              "      <td>8.9</td>\n",
              "      <td>Pulp Fiction</td>\n",
              "      <td>R</td>\n",
              "      <td>Crime</td>\n",
              "      <td>154</td>\n",
              "      <td>[u'John Travolta', u'Uma Thurman', u'Samuel L....</td>\n",
              "    </tr>\n",
              "    <tr>\n",
              "      <th>21</th>\n",
              "      <td>8.7</td>\n",
              "      <td>City of God</td>\n",
              "      <td>R</td>\n",
              "      <td>Crime</td>\n",
              "      <td>130</td>\n",
              "      <td>[u'Alexandre Rodrigues', u'Matheus Nachtergael...</td>\n",
              "    </tr>\n",
              "    <tr>\n",
              "      <th>...</th>\n",
              "      <td>...</td>\n",
              "      <td>...</td>\n",
              "      <td>...</td>\n",
              "      <td>...</td>\n",
              "      <td>...</td>\n",
              "      <td>...</td>\n",
              "    </tr>\n",
              "    <tr>\n",
              "      <th>907</th>\n",
              "      <td>7.5</td>\n",
              "      <td>The Proposition</td>\n",
              "      <td>R</td>\n",
              "      <td>Crime</td>\n",
              "      <td>104</td>\n",
              "      <td>[u'Ray Winstone', u'Guy Pearce', u'Emily Watson']</td>\n",
              "    </tr>\n",
              "    <tr>\n",
              "      <th>915</th>\n",
              "      <td>7.5</td>\n",
              "      <td>Bad Education</td>\n",
              "      <td>NC-17</td>\n",
              "      <td>Crime</td>\n",
              "      <td>106</td>\n",
              "      <td>[u'Gael Garc\\xeda Bernal', u'Fele Mart\\xednez'...</td>\n",
              "    </tr>\n",
              "    <tr>\n",
              "      <th>920</th>\n",
              "      <td>7.5</td>\n",
              "      <td>Witness</td>\n",
              "      <td>R</td>\n",
              "      <td>Crime</td>\n",
              "      <td>112</td>\n",
              "      <td>[u'Harrison Ford', u'Kelly McGillis', u'Lukas ...</td>\n",
              "    </tr>\n",
              "    <tr>\n",
              "      <th>924</th>\n",
              "      <td>7.5</td>\n",
              "      <td>Les Miserables</td>\n",
              "      <td>PG-13</td>\n",
              "      <td>Crime</td>\n",
              "      <td>134</td>\n",
              "      <td>[u'Liam Neeson', u'Geoffrey Rush', u'Uma Thurm...</td>\n",
              "    </tr>\n",
              "    <tr>\n",
              "      <th>927</th>\n",
              "      <td>7.5</td>\n",
              "      <td>Brick</td>\n",
              "      <td>R</td>\n",
              "      <td>Crime</td>\n",
              "      <td>110</td>\n",
              "      <td>[u'Joseph Gordon-Levitt', u'Lukas Haas', u'Emi...</td>\n",
              "    </tr>\n",
              "  </tbody>\n",
              "</table>\n",
              "<p>120 rows × 6 columns</p>\n",
              "</div>"
            ],
            "text/plain": [
              "     star_rating  ...                                        actors_list\n",
              "0            9.3  ...  [u'Tim Robbins', u'Morgan Freeman', u'Bob Gunt...\n",
              "1            9.2  ...    [u'Marlon Brando', u'Al Pacino', u'James Caan']\n",
              "2            9.1  ...  [u'Al Pacino', u'Robert De Niro', u'Robert Duv...\n",
              "4            8.9  ...  [u'John Travolta', u'Uma Thurman', u'Samuel L....\n",
              "21           8.7  ...  [u'Alexandre Rodrigues', u'Matheus Nachtergael...\n",
              "..           ...  ...                                                ...\n",
              "907          7.5  ...  [u'Ray Winstone', u'Guy Pearce', u'Emily Watson']\n",
              "915          7.5  ...  [u'Gael Garc\\xeda Bernal', u'Fele Mart\\xednez'...\n",
              "920          7.5  ...  [u'Harrison Ford', u'Kelly McGillis', u'Lukas ...\n",
              "924          7.5  ...  [u'Liam Neeson', u'Geoffrey Rush', u'Uma Thurm...\n",
              "927          7.5  ...  [u'Joseph Gordon-Levitt', u'Lukas Haas', u'Emi...\n",
              "\n",
              "[120 rows x 6 columns]"
            ]
          },
          "metadata": {
            "tags": []
          },
          "execution_count": 83
        }
      ]
    },
    {
      "cell_type": "code",
      "metadata": {
        "id": "qrLDgryahKzA",
        "colab_type": "code",
        "outputId": "ff02fbdf-edf1-4341-aa33-a3608ca6646f",
        "colab": {
          "base_uri": "https://localhost:8080/",
          "height": 419
        }
      },
      "source": [
        "movies[(movies.star_rating >= 7.5) & (movies.genre.isin(['Crime','Comedy','Action']) )]"
      ],
      "execution_count": 0,
      "outputs": [
        {
          "output_type": "execute_result",
          "data": {
            "text/html": [
              "<div>\n",
              "<style scoped>\n",
              "    .dataframe tbody tr th:only-of-type {\n",
              "        vertical-align: middle;\n",
              "    }\n",
              "\n",
              "    .dataframe tbody tr th {\n",
              "        vertical-align: top;\n",
              "    }\n",
              "\n",
              "    .dataframe thead th {\n",
              "        text-align: right;\n",
              "    }\n",
              "</style>\n",
              "<table border=\"1\" class=\"dataframe\">\n",
              "  <thead>\n",
              "    <tr style=\"text-align: right;\">\n",
              "      <th></th>\n",
              "      <th>star_rating</th>\n",
              "      <th>title</th>\n",
              "      <th>content_rating</th>\n",
              "      <th>genre</th>\n",
              "      <th>duration</th>\n",
              "      <th>actors_list</th>\n",
              "    </tr>\n",
              "  </thead>\n",
              "  <tbody>\n",
              "    <tr>\n",
              "      <th>0</th>\n",
              "      <td>9.3</td>\n",
              "      <td>The Shawshank Redemption</td>\n",
              "      <td>R</td>\n",
              "      <td>Crime</td>\n",
              "      <td>142</td>\n",
              "      <td>[u'Tim Robbins', u'Morgan Freeman', u'Bob Gunt...</td>\n",
              "    </tr>\n",
              "    <tr>\n",
              "      <th>1</th>\n",
              "      <td>9.2</td>\n",
              "      <td>The Godfather</td>\n",
              "      <td>R</td>\n",
              "      <td>Crime</td>\n",
              "      <td>175</td>\n",
              "      <td>[u'Marlon Brando', u'Al Pacino', u'James Caan']</td>\n",
              "    </tr>\n",
              "    <tr>\n",
              "      <th>2</th>\n",
              "      <td>9.1</td>\n",
              "      <td>The Godfather: Part II</td>\n",
              "      <td>R</td>\n",
              "      <td>Crime</td>\n",
              "      <td>200</td>\n",
              "      <td>[u'Al Pacino', u'Robert De Niro', u'Robert Duv...</td>\n",
              "    </tr>\n",
              "    <tr>\n",
              "      <th>3</th>\n",
              "      <td>9.0</td>\n",
              "      <td>The Dark Knight</td>\n",
              "      <td>PG-13</td>\n",
              "      <td>Action</td>\n",
              "      <td>152</td>\n",
              "      <td>[u'Christian Bale', u'Heath Ledger', u'Aaron E...</td>\n",
              "    </tr>\n",
              "    <tr>\n",
              "      <th>4</th>\n",
              "      <td>8.9</td>\n",
              "      <td>Pulp Fiction</td>\n",
              "      <td>R</td>\n",
              "      <td>Crime</td>\n",
              "      <td>154</td>\n",
              "      <td>[u'John Travolta', u'Uma Thurman', u'Samuel L....</td>\n",
              "    </tr>\n",
              "    <tr>\n",
              "      <th>...</th>\n",
              "      <td>...</td>\n",
              "      <td>...</td>\n",
              "      <td>...</td>\n",
              "      <td>...</td>\n",
              "      <td>...</td>\n",
              "      <td>...</td>\n",
              "    </tr>\n",
              "    <tr>\n",
              "      <th>921</th>\n",
              "      <td>7.5</td>\n",
              "      <td>Trading Places</td>\n",
              "      <td>R</td>\n",
              "      <td>Comedy</td>\n",
              "      <td>116</td>\n",
              "      <td>[u'Eddie Murphy', u'Dan Aykroyd', u'Ralph Bell...</td>\n",
              "    </tr>\n",
              "    <tr>\n",
              "      <th>924</th>\n",
              "      <td>7.5</td>\n",
              "      <td>Les Miserables</td>\n",
              "      <td>PG-13</td>\n",
              "      <td>Crime</td>\n",
              "      <td>134</td>\n",
              "      <td>[u'Liam Neeson', u'Geoffrey Rush', u'Uma Thurm...</td>\n",
              "    </tr>\n",
              "    <tr>\n",
              "      <th>927</th>\n",
              "      <td>7.5</td>\n",
              "      <td>Brick</td>\n",
              "      <td>R</td>\n",
              "      <td>Crime</td>\n",
              "      <td>110</td>\n",
              "      <td>[u'Joseph Gordon-Levitt', u'Lukas Haas', u'Emi...</td>\n",
              "    </tr>\n",
              "    <tr>\n",
              "      <th>928</th>\n",
              "      <td>7.5</td>\n",
              "      <td>Clerks II</td>\n",
              "      <td>R</td>\n",
              "      <td>Comedy</td>\n",
              "      <td>97</td>\n",
              "      <td>[u\"Brian O'Halloran\", u'Jeff Anderson', u'Rosa...</td>\n",
              "    </tr>\n",
              "    <tr>\n",
              "      <th>929</th>\n",
              "      <td>7.5</td>\n",
              "      <td>Say Anything...</td>\n",
              "      <td>PG-13</td>\n",
              "      <td>Comedy</td>\n",
              "      <td>100</td>\n",
              "      <td>[u'John Cusack', u'Ione Skye', u'John Mahoney']</td>\n",
              "    </tr>\n",
              "  </tbody>\n",
              "</table>\n",
              "<p>393 rows × 6 columns</p>\n",
              "</div>"
            ],
            "text/plain": [
              "     star_rating  ...                                        actors_list\n",
              "0            9.3  ...  [u'Tim Robbins', u'Morgan Freeman', u'Bob Gunt...\n",
              "1            9.2  ...    [u'Marlon Brando', u'Al Pacino', u'James Caan']\n",
              "2            9.1  ...  [u'Al Pacino', u'Robert De Niro', u'Robert Duv...\n",
              "3            9.0  ...  [u'Christian Bale', u'Heath Ledger', u'Aaron E...\n",
              "4            8.9  ...  [u'John Travolta', u'Uma Thurman', u'Samuel L....\n",
              "..           ...  ...                                                ...\n",
              "921          7.5  ...  [u'Eddie Murphy', u'Dan Aykroyd', u'Ralph Bell...\n",
              "924          7.5  ...  [u'Liam Neeson', u'Geoffrey Rush', u'Uma Thurm...\n",
              "927          7.5  ...  [u'Joseph Gordon-Levitt', u'Lukas Haas', u'Emi...\n",
              "928          7.5  ...  [u\"Brian O'Halloran\", u'Jeff Anderson', u'Rosa...\n",
              "929          7.5  ...    [u'John Cusack', u'Ione Skye', u'John Mahoney']\n",
              "\n",
              "[393 rows x 6 columns]"
            ]
          },
          "metadata": {
            "tags": []
          },
          "execution_count": 84
        }
      ]
    },
    {
      "cell_type": "code",
      "metadata": {
        "id": "fjodA-5hjLtB",
        "colab_type": "code",
        "colab": {}
      },
      "source": [
        "import pandas as pd\n",
        "import numpy as np"
      ],
      "execution_count": 0,
      "outputs": []
    },
    {
      "cell_type": "code",
      "metadata": {
        "id": "yeJAXCYWxwtf",
        "colab_type": "code",
        "outputId": "ff9b866f-415f-43cd-f7be-5293dd555b4b",
        "colab": {
          "base_uri": "https://localhost:8080/",
          "height": 204
        }
      },
      "source": [
        "drinks = pd.read_csv('http://bit.ly/drinksbycountry')\n",
        "drinks.head()"
      ],
      "execution_count": 0,
      "outputs": [
        {
          "output_type": "execute_result",
          "data": {
            "text/html": [
              "<div>\n",
              "<style scoped>\n",
              "    .dataframe tbody tr th:only-of-type {\n",
              "        vertical-align: middle;\n",
              "    }\n",
              "\n",
              "    .dataframe tbody tr th {\n",
              "        vertical-align: top;\n",
              "    }\n",
              "\n",
              "    .dataframe thead th {\n",
              "        text-align: right;\n",
              "    }\n",
              "</style>\n",
              "<table border=\"1\" class=\"dataframe\">\n",
              "  <thead>\n",
              "    <tr style=\"text-align: right;\">\n",
              "      <th></th>\n",
              "      <th>country</th>\n",
              "      <th>beer_servings</th>\n",
              "      <th>spirit_servings</th>\n",
              "      <th>wine_servings</th>\n",
              "      <th>total_litres_of_pure_alcohol</th>\n",
              "      <th>continent</th>\n",
              "    </tr>\n",
              "  </thead>\n",
              "  <tbody>\n",
              "    <tr>\n",
              "      <th>0</th>\n",
              "      <td>Afghanistan</td>\n",
              "      <td>0</td>\n",
              "      <td>0</td>\n",
              "      <td>0</td>\n",
              "      <td>0.0</td>\n",
              "      <td>Asia</td>\n",
              "    </tr>\n",
              "    <tr>\n",
              "      <th>1</th>\n",
              "      <td>Albania</td>\n",
              "      <td>89</td>\n",
              "      <td>132</td>\n",
              "      <td>54</td>\n",
              "      <td>4.9</td>\n",
              "      <td>Europe</td>\n",
              "    </tr>\n",
              "    <tr>\n",
              "      <th>2</th>\n",
              "      <td>Algeria</td>\n",
              "      <td>25</td>\n",
              "      <td>0</td>\n",
              "      <td>14</td>\n",
              "      <td>0.7</td>\n",
              "      <td>Africa</td>\n",
              "    </tr>\n",
              "    <tr>\n",
              "      <th>3</th>\n",
              "      <td>Andorra</td>\n",
              "      <td>245</td>\n",
              "      <td>138</td>\n",
              "      <td>312</td>\n",
              "      <td>12.4</td>\n",
              "      <td>Europe</td>\n",
              "    </tr>\n",
              "    <tr>\n",
              "      <th>4</th>\n",
              "      <td>Angola</td>\n",
              "      <td>217</td>\n",
              "      <td>57</td>\n",
              "      <td>45</td>\n",
              "      <td>5.9</td>\n",
              "      <td>Africa</td>\n",
              "    </tr>\n",
              "  </tbody>\n",
              "</table>\n",
              "</div>"
            ],
            "text/plain": [
              "       country  beer_servings  ...  total_litres_of_pure_alcohol  continent\n",
              "0  Afghanistan              0  ...                           0.0       Asia\n",
              "1      Albania             89  ...                           4.9     Europe\n",
              "2      Algeria             25  ...                           0.7     Africa\n",
              "3      Andorra            245  ...                          12.4     Europe\n",
              "4       Angola            217  ...                           5.9     Africa\n",
              "\n",
              "[5 rows x 6 columns]"
            ]
          },
          "metadata": {
            "tags": []
          },
          "execution_count": 2
        }
      ]
    },
    {
      "cell_type": "code",
      "metadata": {
        "id": "ZkxRjAmpx9QP",
        "colab_type": "code",
        "outputId": "ec926d26-71f8-4136-afcd-9934fee7903e",
        "colab": {
          "base_uri": "https://localhost:8080/",
          "height": 419
        }
      },
      "source": [
        "drinks.drop('continent',axis=1)"
      ],
      "execution_count": 0,
      "outputs": [
        {
          "output_type": "execute_result",
          "data": {
            "text/html": [
              "<div>\n",
              "<style scoped>\n",
              "    .dataframe tbody tr th:only-of-type {\n",
              "        vertical-align: middle;\n",
              "    }\n",
              "\n",
              "    .dataframe tbody tr th {\n",
              "        vertical-align: top;\n",
              "    }\n",
              "\n",
              "    .dataframe thead th {\n",
              "        text-align: right;\n",
              "    }\n",
              "</style>\n",
              "<table border=\"1\" class=\"dataframe\">\n",
              "  <thead>\n",
              "    <tr style=\"text-align: right;\">\n",
              "      <th></th>\n",
              "      <th>country</th>\n",
              "      <th>beer_servings</th>\n",
              "      <th>spirit_servings</th>\n",
              "      <th>wine_servings</th>\n",
              "      <th>total_litres_of_pure_alcohol</th>\n",
              "    </tr>\n",
              "  </thead>\n",
              "  <tbody>\n",
              "    <tr>\n",
              "      <th>0</th>\n",
              "      <td>Afghanistan</td>\n",
              "      <td>0</td>\n",
              "      <td>0</td>\n",
              "      <td>0</td>\n",
              "      <td>0.0</td>\n",
              "    </tr>\n",
              "    <tr>\n",
              "      <th>1</th>\n",
              "      <td>Albania</td>\n",
              "      <td>89</td>\n",
              "      <td>132</td>\n",
              "      <td>54</td>\n",
              "      <td>4.9</td>\n",
              "    </tr>\n",
              "    <tr>\n",
              "      <th>2</th>\n",
              "      <td>Algeria</td>\n",
              "      <td>25</td>\n",
              "      <td>0</td>\n",
              "      <td>14</td>\n",
              "      <td>0.7</td>\n",
              "    </tr>\n",
              "    <tr>\n",
              "      <th>3</th>\n",
              "      <td>Andorra</td>\n",
              "      <td>245</td>\n",
              "      <td>138</td>\n",
              "      <td>312</td>\n",
              "      <td>12.4</td>\n",
              "    </tr>\n",
              "    <tr>\n",
              "      <th>4</th>\n",
              "      <td>Angola</td>\n",
              "      <td>217</td>\n",
              "      <td>57</td>\n",
              "      <td>45</td>\n",
              "      <td>5.9</td>\n",
              "    </tr>\n",
              "    <tr>\n",
              "      <th>...</th>\n",
              "      <td>...</td>\n",
              "      <td>...</td>\n",
              "      <td>...</td>\n",
              "      <td>...</td>\n",
              "      <td>...</td>\n",
              "    </tr>\n",
              "    <tr>\n",
              "      <th>188</th>\n",
              "      <td>Venezuela</td>\n",
              "      <td>333</td>\n",
              "      <td>100</td>\n",
              "      <td>3</td>\n",
              "      <td>7.7</td>\n",
              "    </tr>\n",
              "    <tr>\n",
              "      <th>189</th>\n",
              "      <td>Vietnam</td>\n",
              "      <td>111</td>\n",
              "      <td>2</td>\n",
              "      <td>1</td>\n",
              "      <td>2.0</td>\n",
              "    </tr>\n",
              "    <tr>\n",
              "      <th>190</th>\n",
              "      <td>Yemen</td>\n",
              "      <td>6</td>\n",
              "      <td>0</td>\n",
              "      <td>0</td>\n",
              "      <td>0.1</td>\n",
              "    </tr>\n",
              "    <tr>\n",
              "      <th>191</th>\n",
              "      <td>Zambia</td>\n",
              "      <td>32</td>\n",
              "      <td>19</td>\n",
              "      <td>4</td>\n",
              "      <td>2.5</td>\n",
              "    </tr>\n",
              "    <tr>\n",
              "      <th>192</th>\n",
              "      <td>Zimbabwe</td>\n",
              "      <td>64</td>\n",
              "      <td>18</td>\n",
              "      <td>4</td>\n",
              "      <td>4.7</td>\n",
              "    </tr>\n",
              "  </tbody>\n",
              "</table>\n",
              "<p>193 rows × 5 columns</p>\n",
              "</div>"
            ],
            "text/plain": [
              "         country  beer_servings  ...  wine_servings  total_litres_of_pure_alcohol\n",
              "0    Afghanistan              0  ...              0                           0.0\n",
              "1        Albania             89  ...             54                           4.9\n",
              "2        Algeria             25  ...             14                           0.7\n",
              "3        Andorra            245  ...            312                          12.4\n",
              "4         Angola            217  ...             45                           5.9\n",
              "..           ...            ...  ...            ...                           ...\n",
              "188    Venezuela            333  ...              3                           7.7\n",
              "189      Vietnam            111  ...              1                           2.0\n",
              "190        Yemen              6  ...              0                           0.1\n",
              "191       Zambia             32  ...              4                           2.5\n",
              "192     Zimbabwe             64  ...              4                           4.7\n",
              "\n",
              "[193 rows x 5 columns]"
            ]
          },
          "metadata": {
            "tags": []
          },
          "execution_count": 5
        }
      ]
    },
    {
      "cell_type": "markdown",
      "metadata": {
        "id": "2ppmirojgewB",
        "colab_type": "text"
      },
      "source": [
        "String methods in Python"
      ]
    },
    {
      "cell_type": "code",
      "metadata": {
        "id": "6BDo6Bqayaeb",
        "colab_type": "code",
        "colab": {}
      },
      "source": [
        "import pandas as pd\n",
        "import numpy as np"
      ],
      "execution_count": 0,
      "outputs": []
    },
    {
      "cell_type": "code",
      "metadata": {
        "id": "avrkA9_fgpNt",
        "colab_type": "code",
        "outputId": "83fa6e77-80d7-4dd3-d1dc-bbec7e0babe2",
        "colab": {
          "base_uri": "https://localhost:8080/",
          "height": 204
        }
      },
      "source": [
        "drinks.head()"
      ],
      "execution_count": 0,
      "outputs": [
        {
          "output_type": "execute_result",
          "data": {
            "text/html": [
              "<div>\n",
              "<style scoped>\n",
              "    .dataframe tbody tr th:only-of-type {\n",
              "        vertical-align: middle;\n",
              "    }\n",
              "\n",
              "    .dataframe tbody tr th {\n",
              "        vertical-align: top;\n",
              "    }\n",
              "\n",
              "    .dataframe thead th {\n",
              "        text-align: right;\n",
              "    }\n",
              "</style>\n",
              "<table border=\"1\" class=\"dataframe\">\n",
              "  <thead>\n",
              "    <tr style=\"text-align: right;\">\n",
              "      <th></th>\n",
              "      <th>country</th>\n",
              "      <th>beer_servings</th>\n",
              "      <th>spirit_servings</th>\n",
              "      <th>wine_servings</th>\n",
              "      <th>total_litres_of_pure_alcohol</th>\n",
              "      <th>continent</th>\n",
              "    </tr>\n",
              "  </thead>\n",
              "  <tbody>\n",
              "    <tr>\n",
              "      <th>0</th>\n",
              "      <td>Afghanistan</td>\n",
              "      <td>0</td>\n",
              "      <td>0</td>\n",
              "      <td>0</td>\n",
              "      <td>0.0</td>\n",
              "      <td>Asia</td>\n",
              "    </tr>\n",
              "    <tr>\n",
              "      <th>1</th>\n",
              "      <td>Albania</td>\n",
              "      <td>89</td>\n",
              "      <td>132</td>\n",
              "      <td>54</td>\n",
              "      <td>4.9</td>\n",
              "      <td>Europe</td>\n",
              "    </tr>\n",
              "    <tr>\n",
              "      <th>2</th>\n",
              "      <td>Algeria</td>\n",
              "      <td>25</td>\n",
              "      <td>0</td>\n",
              "      <td>14</td>\n",
              "      <td>0.7</td>\n",
              "      <td>Africa</td>\n",
              "    </tr>\n",
              "    <tr>\n",
              "      <th>3</th>\n",
              "      <td>Andorra</td>\n",
              "      <td>245</td>\n",
              "      <td>138</td>\n",
              "      <td>312</td>\n",
              "      <td>12.4</td>\n",
              "      <td>Europe</td>\n",
              "    </tr>\n",
              "    <tr>\n",
              "      <th>4</th>\n",
              "      <td>Angola</td>\n",
              "      <td>217</td>\n",
              "      <td>57</td>\n",
              "      <td>45</td>\n",
              "      <td>5.9</td>\n",
              "      <td>Africa</td>\n",
              "    </tr>\n",
              "  </tbody>\n",
              "</table>\n",
              "</div>"
            ],
            "text/plain": [
              "       country  beer_servings  ...  total_litres_of_pure_alcohol  continent\n",
              "0  Afghanistan              0  ...                           0.0       Asia\n",
              "1      Albania             89  ...                           4.9     Europe\n",
              "2      Algeria             25  ...                           0.7     Africa\n",
              "3      Andorra            245  ...                          12.4     Europe\n",
              "4       Angola            217  ...                           5.9     Africa\n",
              "\n",
              "[5 rows x 6 columns]"
            ]
          },
          "metadata": {
            "tags": []
          },
          "execution_count": 15
        }
      ]
    },
    {
      "cell_type": "code",
      "metadata": {
        "id": "bhDa0uJ4hRz9",
        "colab_type": "code",
        "outputId": "72cf7b86-1d52-4b97-ab9a-ca7fd11536c2",
        "colab": {
          "base_uri": "https://localhost:8080/",
          "height": 221
        }
      },
      "source": [
        "drinks.continent.str.upper()"
      ],
      "execution_count": 0,
      "outputs": [
        {
          "output_type": "execute_result",
          "data": {
            "text/plain": [
              "0               ASIA\n",
              "1             EUROPE\n",
              "2             AFRICA\n",
              "3             EUROPE\n",
              "4             AFRICA\n",
              "           ...      \n",
              "188    SOUTH AMERICA\n",
              "189             ASIA\n",
              "190             ASIA\n",
              "191           AFRICA\n",
              "192           AFRICA\n",
              "Name: continent, Length: 193, dtype: object"
            ]
          },
          "metadata": {
            "tags": []
          },
          "execution_count": 16
        }
      ]
    },
    {
      "cell_type": "code",
      "metadata": {
        "id": "wu753xLYhV6t",
        "colab_type": "code",
        "outputId": "b6b51595-21f1-4c90-82ea-9b4cdf8de148",
        "colab": {
          "base_uri": "https://localhost:8080/",
          "height": 1000
        }
      },
      "source": [
        "drinks[drinks.continent.str.contains('Europe')] # Single criteria"
      ],
      "execution_count": 0,
      "outputs": [
        {
          "output_type": "execute_result",
          "data": {
            "text/html": [
              "<div>\n",
              "<style scoped>\n",
              "    .dataframe tbody tr th:only-of-type {\n",
              "        vertical-align: middle;\n",
              "    }\n",
              "\n",
              "    .dataframe tbody tr th {\n",
              "        vertical-align: top;\n",
              "    }\n",
              "\n",
              "    .dataframe thead th {\n",
              "        text-align: right;\n",
              "    }\n",
              "</style>\n",
              "<table border=\"1\" class=\"dataframe\">\n",
              "  <thead>\n",
              "    <tr style=\"text-align: right;\">\n",
              "      <th></th>\n",
              "      <th>country</th>\n",
              "      <th>beer_servings</th>\n",
              "      <th>spirit_servings</th>\n",
              "      <th>wine_servings</th>\n",
              "      <th>total_litres_of_pure_alcohol</th>\n",
              "      <th>continent</th>\n",
              "    </tr>\n",
              "  </thead>\n",
              "  <tbody>\n",
              "    <tr>\n",
              "      <th>1</th>\n",
              "      <td>Albania</td>\n",
              "      <td>89</td>\n",
              "      <td>132</td>\n",
              "      <td>54</td>\n",
              "      <td>4.9</td>\n",
              "      <td>Europe</td>\n",
              "    </tr>\n",
              "    <tr>\n",
              "      <th>3</th>\n",
              "      <td>Andorra</td>\n",
              "      <td>245</td>\n",
              "      <td>138</td>\n",
              "      <td>312</td>\n",
              "      <td>12.4</td>\n",
              "      <td>Europe</td>\n",
              "    </tr>\n",
              "    <tr>\n",
              "      <th>7</th>\n",
              "      <td>Armenia</td>\n",
              "      <td>21</td>\n",
              "      <td>179</td>\n",
              "      <td>11</td>\n",
              "      <td>3.8</td>\n",
              "      <td>Europe</td>\n",
              "    </tr>\n",
              "    <tr>\n",
              "      <th>9</th>\n",
              "      <td>Austria</td>\n",
              "      <td>279</td>\n",
              "      <td>75</td>\n",
              "      <td>191</td>\n",
              "      <td>9.7</td>\n",
              "      <td>Europe</td>\n",
              "    </tr>\n",
              "    <tr>\n",
              "      <th>10</th>\n",
              "      <td>Azerbaijan</td>\n",
              "      <td>21</td>\n",
              "      <td>46</td>\n",
              "      <td>5</td>\n",
              "      <td>1.3</td>\n",
              "      <td>Europe</td>\n",
              "    </tr>\n",
              "    <tr>\n",
              "      <th>15</th>\n",
              "      <td>Belarus</td>\n",
              "      <td>142</td>\n",
              "      <td>373</td>\n",
              "      <td>42</td>\n",
              "      <td>14.4</td>\n",
              "      <td>Europe</td>\n",
              "    </tr>\n",
              "    <tr>\n",
              "      <th>16</th>\n",
              "      <td>Belgium</td>\n",
              "      <td>295</td>\n",
              "      <td>84</td>\n",
              "      <td>212</td>\n",
              "      <td>10.5</td>\n",
              "      <td>Europe</td>\n",
              "    </tr>\n",
              "    <tr>\n",
              "      <th>21</th>\n",
              "      <td>Bosnia-Herzegovina</td>\n",
              "      <td>76</td>\n",
              "      <td>173</td>\n",
              "      <td>8</td>\n",
              "      <td>4.6</td>\n",
              "      <td>Europe</td>\n",
              "    </tr>\n",
              "    <tr>\n",
              "      <th>25</th>\n",
              "      <td>Bulgaria</td>\n",
              "      <td>231</td>\n",
              "      <td>252</td>\n",
              "      <td>94</td>\n",
              "      <td>10.3</td>\n",
              "      <td>Europe</td>\n",
              "    </tr>\n",
              "    <tr>\n",
              "      <th>42</th>\n",
              "      <td>Croatia</td>\n",
              "      <td>230</td>\n",
              "      <td>87</td>\n",
              "      <td>254</td>\n",
              "      <td>10.2</td>\n",
              "      <td>Europe</td>\n",
              "    </tr>\n",
              "    <tr>\n",
              "      <th>44</th>\n",
              "      <td>Cyprus</td>\n",
              "      <td>192</td>\n",
              "      <td>154</td>\n",
              "      <td>113</td>\n",
              "      <td>8.2</td>\n",
              "      <td>Europe</td>\n",
              "    </tr>\n",
              "    <tr>\n",
              "      <th>45</th>\n",
              "      <td>Czech Republic</td>\n",
              "      <td>361</td>\n",
              "      <td>170</td>\n",
              "      <td>134</td>\n",
              "      <td>11.8</td>\n",
              "      <td>Europe</td>\n",
              "    </tr>\n",
              "    <tr>\n",
              "      <th>48</th>\n",
              "      <td>Denmark</td>\n",
              "      <td>224</td>\n",
              "      <td>81</td>\n",
              "      <td>278</td>\n",
              "      <td>10.4</td>\n",
              "      <td>Europe</td>\n",
              "    </tr>\n",
              "    <tr>\n",
              "      <th>57</th>\n",
              "      <td>Estonia</td>\n",
              "      <td>224</td>\n",
              "      <td>194</td>\n",
              "      <td>59</td>\n",
              "      <td>9.5</td>\n",
              "      <td>Europe</td>\n",
              "    </tr>\n",
              "    <tr>\n",
              "      <th>60</th>\n",
              "      <td>Finland</td>\n",
              "      <td>263</td>\n",
              "      <td>133</td>\n",
              "      <td>97</td>\n",
              "      <td>10.0</td>\n",
              "      <td>Europe</td>\n",
              "    </tr>\n",
              "    <tr>\n",
              "      <th>61</th>\n",
              "      <td>France</td>\n",
              "      <td>127</td>\n",
              "      <td>151</td>\n",
              "      <td>370</td>\n",
              "      <td>11.8</td>\n",
              "      <td>Europe</td>\n",
              "    </tr>\n",
              "    <tr>\n",
              "      <th>64</th>\n",
              "      <td>Georgia</td>\n",
              "      <td>52</td>\n",
              "      <td>100</td>\n",
              "      <td>149</td>\n",
              "      <td>5.4</td>\n",
              "      <td>Europe</td>\n",
              "    </tr>\n",
              "    <tr>\n",
              "      <th>65</th>\n",
              "      <td>Germany</td>\n",
              "      <td>346</td>\n",
              "      <td>117</td>\n",
              "      <td>175</td>\n",
              "      <td>11.3</td>\n",
              "      <td>Europe</td>\n",
              "    </tr>\n",
              "    <tr>\n",
              "      <th>67</th>\n",
              "      <td>Greece</td>\n",
              "      <td>133</td>\n",
              "      <td>112</td>\n",
              "      <td>218</td>\n",
              "      <td>8.3</td>\n",
              "      <td>Europe</td>\n",
              "    </tr>\n",
              "    <tr>\n",
              "      <th>75</th>\n",
              "      <td>Hungary</td>\n",
              "      <td>234</td>\n",
              "      <td>215</td>\n",
              "      <td>185</td>\n",
              "      <td>11.3</td>\n",
              "      <td>Europe</td>\n",
              "    </tr>\n",
              "    <tr>\n",
              "      <th>76</th>\n",
              "      <td>Iceland</td>\n",
              "      <td>233</td>\n",
              "      <td>61</td>\n",
              "      <td>78</td>\n",
              "      <td>6.6</td>\n",
              "      <td>Europe</td>\n",
              "    </tr>\n",
              "    <tr>\n",
              "      <th>81</th>\n",
              "      <td>Ireland</td>\n",
              "      <td>313</td>\n",
              "      <td>118</td>\n",
              "      <td>165</td>\n",
              "      <td>11.4</td>\n",
              "      <td>Europe</td>\n",
              "    </tr>\n",
              "    <tr>\n",
              "      <th>83</th>\n",
              "      <td>Italy</td>\n",
              "      <td>85</td>\n",
              "      <td>42</td>\n",
              "      <td>237</td>\n",
              "      <td>6.5</td>\n",
              "      <td>Europe</td>\n",
              "    </tr>\n",
              "    <tr>\n",
              "      <th>93</th>\n",
              "      <td>Latvia</td>\n",
              "      <td>281</td>\n",
              "      <td>216</td>\n",
              "      <td>62</td>\n",
              "      <td>10.5</td>\n",
              "      <td>Europe</td>\n",
              "    </tr>\n",
              "    <tr>\n",
              "      <th>98</th>\n",
              "      <td>Lithuania</td>\n",
              "      <td>343</td>\n",
              "      <td>244</td>\n",
              "      <td>56</td>\n",
              "      <td>12.9</td>\n",
              "      <td>Europe</td>\n",
              "    </tr>\n",
              "    <tr>\n",
              "      <th>99</th>\n",
              "      <td>Luxembourg</td>\n",
              "      <td>236</td>\n",
              "      <td>133</td>\n",
              "      <td>271</td>\n",
              "      <td>11.4</td>\n",
              "      <td>Europe</td>\n",
              "    </tr>\n",
              "    <tr>\n",
              "      <th>105</th>\n",
              "      <td>Malta</td>\n",
              "      <td>149</td>\n",
              "      <td>100</td>\n",
              "      <td>120</td>\n",
              "      <td>6.6</td>\n",
              "      <td>Europe</td>\n",
              "    </tr>\n",
              "    <tr>\n",
              "      <th>111</th>\n",
              "      <td>Monaco</td>\n",
              "      <td>0</td>\n",
              "      <td>0</td>\n",
              "      <td>0</td>\n",
              "      <td>0.0</td>\n",
              "      <td>Europe</td>\n",
              "    </tr>\n",
              "    <tr>\n",
              "      <th>113</th>\n",
              "      <td>Montenegro</td>\n",
              "      <td>31</td>\n",
              "      <td>114</td>\n",
              "      <td>128</td>\n",
              "      <td>4.9</td>\n",
              "      <td>Europe</td>\n",
              "    </tr>\n",
              "    <tr>\n",
              "      <th>120</th>\n",
              "      <td>Netherlands</td>\n",
              "      <td>251</td>\n",
              "      <td>88</td>\n",
              "      <td>190</td>\n",
              "      <td>9.4</td>\n",
              "      <td>Europe</td>\n",
              "    </tr>\n",
              "    <tr>\n",
              "      <th>126</th>\n",
              "      <td>Norway</td>\n",
              "      <td>169</td>\n",
              "      <td>71</td>\n",
              "      <td>129</td>\n",
              "      <td>6.7</td>\n",
              "      <td>Europe</td>\n",
              "    </tr>\n",
              "    <tr>\n",
              "      <th>135</th>\n",
              "      <td>Poland</td>\n",
              "      <td>343</td>\n",
              "      <td>215</td>\n",
              "      <td>56</td>\n",
              "      <td>10.9</td>\n",
              "      <td>Europe</td>\n",
              "    </tr>\n",
              "    <tr>\n",
              "      <th>136</th>\n",
              "      <td>Portugal</td>\n",
              "      <td>194</td>\n",
              "      <td>67</td>\n",
              "      <td>339</td>\n",
              "      <td>11.0</td>\n",
              "      <td>Europe</td>\n",
              "    </tr>\n",
              "    <tr>\n",
              "      <th>139</th>\n",
              "      <td>Moldova</td>\n",
              "      <td>109</td>\n",
              "      <td>226</td>\n",
              "      <td>18</td>\n",
              "      <td>6.3</td>\n",
              "      <td>Europe</td>\n",
              "    </tr>\n",
              "    <tr>\n",
              "      <th>140</th>\n",
              "      <td>Romania</td>\n",
              "      <td>297</td>\n",
              "      <td>122</td>\n",
              "      <td>167</td>\n",
              "      <td>10.4</td>\n",
              "      <td>Europe</td>\n",
              "    </tr>\n",
              "    <tr>\n",
              "      <th>147</th>\n",
              "      <td>San Marino</td>\n",
              "      <td>0</td>\n",
              "      <td>0</td>\n",
              "      <td>0</td>\n",
              "      <td>0.0</td>\n",
              "      <td>Europe</td>\n",
              "    </tr>\n",
              "    <tr>\n",
              "      <th>151</th>\n",
              "      <td>Serbia</td>\n",
              "      <td>283</td>\n",
              "      <td>131</td>\n",
              "      <td>127</td>\n",
              "      <td>9.6</td>\n",
              "      <td>Europe</td>\n",
              "    </tr>\n",
              "    <tr>\n",
              "      <th>155</th>\n",
              "      <td>Slovakia</td>\n",
              "      <td>196</td>\n",
              "      <td>293</td>\n",
              "      <td>116</td>\n",
              "      <td>11.4</td>\n",
              "      <td>Europe</td>\n",
              "    </tr>\n",
              "    <tr>\n",
              "      <th>156</th>\n",
              "      <td>Slovenia</td>\n",
              "      <td>270</td>\n",
              "      <td>51</td>\n",
              "      <td>276</td>\n",
              "      <td>10.6</td>\n",
              "      <td>Europe</td>\n",
              "    </tr>\n",
              "    <tr>\n",
              "      <th>160</th>\n",
              "      <td>Spain</td>\n",
              "      <td>284</td>\n",
              "      <td>157</td>\n",
              "      <td>112</td>\n",
              "      <td>10.0</td>\n",
              "      <td>Europe</td>\n",
              "    </tr>\n",
              "    <tr>\n",
              "      <th>165</th>\n",
              "      <td>Sweden</td>\n",
              "      <td>152</td>\n",
              "      <td>60</td>\n",
              "      <td>186</td>\n",
              "      <td>7.2</td>\n",
              "      <td>Europe</td>\n",
              "    </tr>\n",
              "    <tr>\n",
              "      <th>166</th>\n",
              "      <td>Switzerland</td>\n",
              "      <td>185</td>\n",
              "      <td>100</td>\n",
              "      <td>280</td>\n",
              "      <td>10.2</td>\n",
              "      <td>Europe</td>\n",
              "    </tr>\n",
              "    <tr>\n",
              "      <th>170</th>\n",
              "      <td>Macedonia</td>\n",
              "      <td>106</td>\n",
              "      <td>27</td>\n",
              "      <td>86</td>\n",
              "      <td>3.9</td>\n",
              "      <td>Europe</td>\n",
              "    </tr>\n",
              "    <tr>\n",
              "      <th>180</th>\n",
              "      <td>Ukraine</td>\n",
              "      <td>206</td>\n",
              "      <td>237</td>\n",
              "      <td>45</td>\n",
              "      <td>8.9</td>\n",
              "      <td>Europe</td>\n",
              "    </tr>\n",
              "    <tr>\n",
              "      <th>182</th>\n",
              "      <td>United Kingdom</td>\n",
              "      <td>219</td>\n",
              "      <td>126</td>\n",
              "      <td>195</td>\n",
              "      <td>10.4</td>\n",
              "      <td>Europe</td>\n",
              "    </tr>\n",
              "  </tbody>\n",
              "</table>\n",
              "</div>"
            ],
            "text/plain": [
              "                country  beer_servings  ...  total_litres_of_pure_alcohol  continent\n",
              "1               Albania             89  ...                           4.9     Europe\n",
              "3               Andorra            245  ...                          12.4     Europe\n",
              "7               Armenia             21  ...                           3.8     Europe\n",
              "9               Austria            279  ...                           9.7     Europe\n",
              "10           Azerbaijan             21  ...                           1.3     Europe\n",
              "15              Belarus            142  ...                          14.4     Europe\n",
              "16              Belgium            295  ...                          10.5     Europe\n",
              "21   Bosnia-Herzegovina             76  ...                           4.6     Europe\n",
              "25             Bulgaria            231  ...                          10.3     Europe\n",
              "42              Croatia            230  ...                          10.2     Europe\n",
              "44               Cyprus            192  ...                           8.2     Europe\n",
              "45       Czech Republic            361  ...                          11.8     Europe\n",
              "48              Denmark            224  ...                          10.4     Europe\n",
              "57              Estonia            224  ...                           9.5     Europe\n",
              "60              Finland            263  ...                          10.0     Europe\n",
              "61               France            127  ...                          11.8     Europe\n",
              "64              Georgia             52  ...                           5.4     Europe\n",
              "65              Germany            346  ...                          11.3     Europe\n",
              "67               Greece            133  ...                           8.3     Europe\n",
              "75              Hungary            234  ...                          11.3     Europe\n",
              "76              Iceland            233  ...                           6.6     Europe\n",
              "81              Ireland            313  ...                          11.4     Europe\n",
              "83                Italy             85  ...                           6.5     Europe\n",
              "93               Latvia            281  ...                          10.5     Europe\n",
              "98            Lithuania            343  ...                          12.9     Europe\n",
              "99           Luxembourg            236  ...                          11.4     Europe\n",
              "105               Malta            149  ...                           6.6     Europe\n",
              "111              Monaco              0  ...                           0.0     Europe\n",
              "113          Montenegro             31  ...                           4.9     Europe\n",
              "120         Netherlands            251  ...                           9.4     Europe\n",
              "126              Norway            169  ...                           6.7     Europe\n",
              "135              Poland            343  ...                          10.9     Europe\n",
              "136            Portugal            194  ...                          11.0     Europe\n",
              "139             Moldova            109  ...                           6.3     Europe\n",
              "140             Romania            297  ...                          10.4     Europe\n",
              "147          San Marino              0  ...                           0.0     Europe\n",
              "151              Serbia            283  ...                           9.6     Europe\n",
              "155            Slovakia            196  ...                          11.4     Europe\n",
              "156            Slovenia            270  ...                          10.6     Europe\n",
              "160               Spain            284  ...                          10.0     Europe\n",
              "165              Sweden            152  ...                           7.2     Europe\n",
              "166         Switzerland            185  ...                          10.2     Europe\n",
              "170           Macedonia            106  ...                           3.9     Europe\n",
              "180             Ukraine            206  ...                           8.9     Europe\n",
              "182      United Kingdom            219  ...                          10.4     Europe\n",
              "\n",
              "[45 rows x 6 columns]"
            ]
          },
          "metadata": {
            "tags": []
          },
          "execution_count": 14
        }
      ]
    },
    {
      "cell_type": "code",
      "metadata": {
        "id": "he2rQX8XhtyK",
        "colab_type": "code",
        "outputId": "30ad6a83-9655-4014-ce76-3d1be091deeb",
        "colab": {
          "base_uri": "https://localhost:8080/",
          "height": 419
        }
      },
      "source": [
        "searchfor = ['Europe', 'Africa'] \n",
        "drinks[drinks.continent.str.contains('|'.join(searchfor))] # Multiple criteria\n"
      ],
      "execution_count": 0,
      "outputs": [
        {
          "output_type": "execute_result",
          "data": {
            "text/html": [
              "<div>\n",
              "<style scoped>\n",
              "    .dataframe tbody tr th:only-of-type {\n",
              "        vertical-align: middle;\n",
              "    }\n",
              "\n",
              "    .dataframe tbody tr th {\n",
              "        vertical-align: top;\n",
              "    }\n",
              "\n",
              "    .dataframe thead th {\n",
              "        text-align: right;\n",
              "    }\n",
              "</style>\n",
              "<table border=\"1\" class=\"dataframe\">\n",
              "  <thead>\n",
              "    <tr style=\"text-align: right;\">\n",
              "      <th></th>\n",
              "      <th>country</th>\n",
              "      <th>beer_servings</th>\n",
              "      <th>spirit_servings</th>\n",
              "      <th>wine_servings</th>\n",
              "      <th>total_litres_of_pure_alcohol</th>\n",
              "      <th>continent</th>\n",
              "    </tr>\n",
              "  </thead>\n",
              "  <tbody>\n",
              "    <tr>\n",
              "      <th>1</th>\n",
              "      <td>Albania</td>\n",
              "      <td>89</td>\n",
              "      <td>132</td>\n",
              "      <td>54</td>\n",
              "      <td>4.9</td>\n",
              "      <td>Europe</td>\n",
              "    </tr>\n",
              "    <tr>\n",
              "      <th>2</th>\n",
              "      <td>Algeria</td>\n",
              "      <td>25</td>\n",
              "      <td>0</td>\n",
              "      <td>14</td>\n",
              "      <td>0.7</td>\n",
              "      <td>Africa</td>\n",
              "    </tr>\n",
              "    <tr>\n",
              "      <th>3</th>\n",
              "      <td>Andorra</td>\n",
              "      <td>245</td>\n",
              "      <td>138</td>\n",
              "      <td>312</td>\n",
              "      <td>12.4</td>\n",
              "      <td>Europe</td>\n",
              "    </tr>\n",
              "    <tr>\n",
              "      <th>4</th>\n",
              "      <td>Angola</td>\n",
              "      <td>217</td>\n",
              "      <td>57</td>\n",
              "      <td>45</td>\n",
              "      <td>5.9</td>\n",
              "      <td>Africa</td>\n",
              "    </tr>\n",
              "    <tr>\n",
              "      <th>7</th>\n",
              "      <td>Armenia</td>\n",
              "      <td>21</td>\n",
              "      <td>179</td>\n",
              "      <td>11</td>\n",
              "      <td>3.8</td>\n",
              "      <td>Europe</td>\n",
              "    </tr>\n",
              "    <tr>\n",
              "      <th>...</th>\n",
              "      <td>...</td>\n",
              "      <td>...</td>\n",
              "      <td>...</td>\n",
              "      <td>...</td>\n",
              "      <td>...</td>\n",
              "      <td>...</td>\n",
              "    </tr>\n",
              "    <tr>\n",
              "      <th>180</th>\n",
              "      <td>Ukraine</td>\n",
              "      <td>206</td>\n",
              "      <td>237</td>\n",
              "      <td>45</td>\n",
              "      <td>8.9</td>\n",
              "      <td>Europe</td>\n",
              "    </tr>\n",
              "    <tr>\n",
              "      <th>182</th>\n",
              "      <td>United Kingdom</td>\n",
              "      <td>219</td>\n",
              "      <td>126</td>\n",
              "      <td>195</td>\n",
              "      <td>10.4</td>\n",
              "      <td>Europe</td>\n",
              "    </tr>\n",
              "    <tr>\n",
              "      <th>183</th>\n",
              "      <td>Tanzania</td>\n",
              "      <td>36</td>\n",
              "      <td>6</td>\n",
              "      <td>1</td>\n",
              "      <td>5.7</td>\n",
              "      <td>Africa</td>\n",
              "    </tr>\n",
              "    <tr>\n",
              "      <th>191</th>\n",
              "      <td>Zambia</td>\n",
              "      <td>32</td>\n",
              "      <td>19</td>\n",
              "      <td>4</td>\n",
              "      <td>2.5</td>\n",
              "      <td>Africa</td>\n",
              "    </tr>\n",
              "    <tr>\n",
              "      <th>192</th>\n",
              "      <td>Zimbabwe</td>\n",
              "      <td>64</td>\n",
              "      <td>18</td>\n",
              "      <td>4</td>\n",
              "      <td>4.7</td>\n",
              "      <td>Africa</td>\n",
              "    </tr>\n",
              "  </tbody>\n",
              "</table>\n",
              "<p>98 rows × 6 columns</p>\n",
              "</div>"
            ],
            "text/plain": [
              "            country  beer_servings  ...  total_litres_of_pure_alcohol  continent\n",
              "1           Albania             89  ...                           4.9     Europe\n",
              "2           Algeria             25  ...                           0.7     Africa\n",
              "3           Andorra            245  ...                          12.4     Europe\n",
              "4            Angola            217  ...                           5.9     Africa\n",
              "7           Armenia             21  ...                           3.8     Europe\n",
              "..              ...            ...  ...                           ...        ...\n",
              "180         Ukraine            206  ...                           8.9     Europe\n",
              "182  United Kingdom            219  ...                          10.4     Europe\n",
              "183        Tanzania             36  ...                           5.7     Africa\n",
              "191          Zambia             32  ...                           2.5     Africa\n",
              "192        Zimbabwe             64  ...                           4.7     Africa\n",
              "\n",
              "[98 rows x 6 columns]"
            ]
          },
          "metadata": {
            "tags": []
          },
          "execution_count": 23
        }
      ]
    },
    {
      "cell_type": "markdown",
      "metadata": {
        "id": "3hqJ5zVFtTQp",
        "colab_type": "text"
      },
      "source": [
        "Groupby"
      ]
    },
    {
      "cell_type": "code",
      "metadata": {
        "id": "Y1ZOYKAjjF3a",
        "colab_type": "code",
        "outputId": "51e7bd28-7645-4757-9b80-e86ebf1ed951",
        "colab": {
          "base_uri": "https://localhost:8080/",
          "height": 204
        }
      },
      "source": [
        "drinks.head()"
      ],
      "execution_count": 0,
      "outputs": [
        {
          "output_type": "execute_result",
          "data": {
            "text/html": [
              "<div>\n",
              "<style scoped>\n",
              "    .dataframe tbody tr th:only-of-type {\n",
              "        vertical-align: middle;\n",
              "    }\n",
              "\n",
              "    .dataframe tbody tr th {\n",
              "        vertical-align: top;\n",
              "    }\n",
              "\n",
              "    .dataframe thead th {\n",
              "        text-align: right;\n",
              "    }\n",
              "</style>\n",
              "<table border=\"1\" class=\"dataframe\">\n",
              "  <thead>\n",
              "    <tr style=\"text-align: right;\">\n",
              "      <th></th>\n",
              "      <th>country</th>\n",
              "      <th>beer_servings</th>\n",
              "      <th>spirit_servings</th>\n",
              "      <th>wine_servings</th>\n",
              "      <th>total_litres_of_pure_alcohol</th>\n",
              "      <th>continent</th>\n",
              "    </tr>\n",
              "  </thead>\n",
              "  <tbody>\n",
              "    <tr>\n",
              "      <th>0</th>\n",
              "      <td>Afghanistan</td>\n",
              "      <td>0</td>\n",
              "      <td>0</td>\n",
              "      <td>0</td>\n",
              "      <td>0.0</td>\n",
              "      <td>Asia</td>\n",
              "    </tr>\n",
              "    <tr>\n",
              "      <th>1</th>\n",
              "      <td>Albania</td>\n",
              "      <td>89</td>\n",
              "      <td>132</td>\n",
              "      <td>54</td>\n",
              "      <td>4.9</td>\n",
              "      <td>Europe</td>\n",
              "    </tr>\n",
              "    <tr>\n",
              "      <th>2</th>\n",
              "      <td>Algeria</td>\n",
              "      <td>25</td>\n",
              "      <td>0</td>\n",
              "      <td>14</td>\n",
              "      <td>0.7</td>\n",
              "      <td>Africa</td>\n",
              "    </tr>\n",
              "    <tr>\n",
              "      <th>3</th>\n",
              "      <td>Andorra</td>\n",
              "      <td>245</td>\n",
              "      <td>138</td>\n",
              "      <td>312</td>\n",
              "      <td>12.4</td>\n",
              "      <td>Europe</td>\n",
              "    </tr>\n",
              "    <tr>\n",
              "      <th>4</th>\n",
              "      <td>Angola</td>\n",
              "      <td>217</td>\n",
              "      <td>57</td>\n",
              "      <td>45</td>\n",
              "      <td>5.9</td>\n",
              "      <td>Africa</td>\n",
              "    </tr>\n",
              "  </tbody>\n",
              "</table>\n",
              "</div>"
            ],
            "text/plain": [
              "       country  beer_servings  ...  total_litres_of_pure_alcohol  continent\n",
              "0  Afghanistan              0  ...                           0.0       Asia\n",
              "1      Albania             89  ...                           4.9     Europe\n",
              "2      Algeria             25  ...                           0.7     Africa\n",
              "3      Andorra            245  ...                          12.4     Europe\n",
              "4       Angola            217  ...                           5.9     Africa\n",
              "\n",
              "[5 rows x 6 columns]"
            ]
          },
          "metadata": {
            "tags": []
          },
          "execution_count": 24
        }
      ]
    },
    {
      "cell_type": "code",
      "metadata": {
        "id": "LCs2KON9tYKk",
        "colab_type": "code",
        "outputId": "64dd3ee6-b912-49c2-848c-c013ac6f71af",
        "colab": {
          "base_uri": "https://localhost:8080/",
          "height": 153
        }
      },
      "source": [
        "drinks.groupby('continent').beer_servings.mean()"
      ],
      "execution_count": 0,
      "outputs": [
        {
          "output_type": "execute_result",
          "data": {
            "text/plain": [
              "continent\n",
              "Africa            61.471698\n",
              "Asia              37.045455\n",
              "Europe           193.777778\n",
              "North America    145.434783\n",
              "Oceania           89.687500\n",
              "South America    175.083333\n",
              "Name: beer_servings, dtype: float64"
            ]
          },
          "metadata": {
            "tags": []
          },
          "execution_count": 27
        }
      ]
    },
    {
      "cell_type": "code",
      "metadata": {
        "id": "MCO1EG3St05a",
        "colab_type": "code",
        "outputId": "4e674af8-05ef-4199-ab79-3bc2cd804d83",
        "colab": {
          "base_uri": "https://localhost:8080/",
          "height": 153
        }
      },
      "source": [
        "drinks.groupby('continent').beer_servings.max()"
      ],
      "execution_count": 0,
      "outputs": [
        {
          "output_type": "execute_result",
          "data": {
            "text/plain": [
              "continent\n",
              "Africa           376\n",
              "Asia             247\n",
              "Europe           361\n",
              "North America    285\n",
              "Oceania          306\n",
              "South America    333\n",
              "Name: beer_servings, dtype: int64"
            ]
          },
          "metadata": {
            "tags": []
          },
          "execution_count": 30
        }
      ]
    },
    {
      "cell_type": "code",
      "metadata": {
        "id": "HALeqkw5uvn-",
        "colab_type": "code",
        "outputId": "555a6115-fa6f-40e5-ebef-f81a5d6cda0a",
        "colab": {
          "base_uri": "https://localhost:8080/",
          "height": 266
        }
      },
      "source": [
        "drinks.groupby('continent').beer_servings.agg(['count','min','max','mean'])"
      ],
      "execution_count": 0,
      "outputs": [
        {
          "output_type": "execute_result",
          "data": {
            "text/html": [
              "<div>\n",
              "<style scoped>\n",
              "    .dataframe tbody tr th:only-of-type {\n",
              "        vertical-align: middle;\n",
              "    }\n",
              "\n",
              "    .dataframe tbody tr th {\n",
              "        vertical-align: top;\n",
              "    }\n",
              "\n",
              "    .dataframe thead th {\n",
              "        text-align: right;\n",
              "    }\n",
              "</style>\n",
              "<table border=\"1\" class=\"dataframe\">\n",
              "  <thead>\n",
              "    <tr style=\"text-align: right;\">\n",
              "      <th></th>\n",
              "      <th>count</th>\n",
              "      <th>min</th>\n",
              "      <th>max</th>\n",
              "      <th>mean</th>\n",
              "    </tr>\n",
              "    <tr>\n",
              "      <th>continent</th>\n",
              "      <th></th>\n",
              "      <th></th>\n",
              "      <th></th>\n",
              "      <th></th>\n",
              "    </tr>\n",
              "  </thead>\n",
              "  <tbody>\n",
              "    <tr>\n",
              "      <th>Africa</th>\n",
              "      <td>53</td>\n",
              "      <td>0</td>\n",
              "      <td>376</td>\n",
              "      <td>61.471698</td>\n",
              "    </tr>\n",
              "    <tr>\n",
              "      <th>Asia</th>\n",
              "      <td>44</td>\n",
              "      <td>0</td>\n",
              "      <td>247</td>\n",
              "      <td>37.045455</td>\n",
              "    </tr>\n",
              "    <tr>\n",
              "      <th>Europe</th>\n",
              "      <td>45</td>\n",
              "      <td>0</td>\n",
              "      <td>361</td>\n",
              "      <td>193.777778</td>\n",
              "    </tr>\n",
              "    <tr>\n",
              "      <th>North America</th>\n",
              "      <td>23</td>\n",
              "      <td>1</td>\n",
              "      <td>285</td>\n",
              "      <td>145.434783</td>\n",
              "    </tr>\n",
              "    <tr>\n",
              "      <th>Oceania</th>\n",
              "      <td>16</td>\n",
              "      <td>0</td>\n",
              "      <td>306</td>\n",
              "      <td>89.687500</td>\n",
              "    </tr>\n",
              "    <tr>\n",
              "      <th>South America</th>\n",
              "      <td>12</td>\n",
              "      <td>93</td>\n",
              "      <td>333</td>\n",
              "      <td>175.083333</td>\n",
              "    </tr>\n",
              "  </tbody>\n",
              "</table>\n",
              "</div>"
            ],
            "text/plain": [
              "               count  min  max        mean\n",
              "continent                                 \n",
              "Africa            53    0  376   61.471698\n",
              "Asia              44    0  247   37.045455\n",
              "Europe            45    0  361  193.777778\n",
              "North America     23    1  285  145.434783\n",
              "Oceania           16    0  306   89.687500\n",
              "South America     12   93  333  175.083333"
            ]
          },
          "metadata": {
            "tags": []
          },
          "execution_count": 31
        }
      ]
    },
    {
      "cell_type": "code",
      "metadata": {
        "id": "HSDugEq0vKjl",
        "colab_type": "code",
        "outputId": "85cfc89e-e637-4dac-da8d-afab907e672e",
        "colab": {
          "base_uri": "https://localhost:8080/",
          "height": 153
        }
      },
      "source": [
        "drinks.groupby('continent').country.count()"
      ],
      "execution_count": 0,
      "outputs": [
        {
          "output_type": "execute_result",
          "data": {
            "text/plain": [
              "continent\n",
              "Africa           53\n",
              "Asia             44\n",
              "Europe           45\n",
              "North America    23\n",
              "Oceania          16\n",
              "South America    12\n",
              "Name: country, dtype: int64"
            ]
          },
          "metadata": {
            "tags": []
          },
          "execution_count": 34
        }
      ]
    },
    {
      "cell_type": "code",
      "metadata": {
        "id": "BTYqCPlvvqgC",
        "colab_type": "code",
        "outputId": "9fedd814-584c-461f-a4b8-0ba3a3f406a3",
        "colab": {
          "base_uri": "https://localhost:8080/",
          "height": 360
        }
      },
      "source": [
        "drinks.groupby('continent').mean().plot(kind='bar')"
      ],
      "execution_count": 0,
      "outputs": [
        {
          "output_type": "execute_result",
          "data": {
            "text/plain": [
              "<matplotlib.axes._subplots.AxesSubplot at 0x7f81337dd630>"
            ]
          },
          "metadata": {
            "tags": []
          },
          "execution_count": 38
        },
        {
          "output_type": "display_data",
          "data": {
            "image/png": "[encoded data removed]",
            "text/plain": [
              "<Figure size 432x288 with 1 Axes>"
            ]
          },
          "metadata": {
            "tags": []
          }
        }
      ]
    },
    {
      "cell_type": "code",
      "metadata": {
        "id": "_A7Kd5_fwhRK",
        "colab_type": "code",
        "outputId": "e09b6d96-fca6-4d60-f155-17d29feea709",
        "colab": {
          "base_uri": "https://localhost:8080/",
          "height": 68
        }
      },
      "source": [
        "drinks.columns"
      ],
      "execution_count": 0,
      "outputs": [
        {
          "output_type": "execute_result",
          "data": {
            "text/plain": [
              "Index(['country', 'beer_servings', 'spirit_servings', 'wine_servings',\n",
              "       'total_litres_of_pure_alcohol', 'continent'],\n",
              "      dtype='object')"
            ]
          },
          "metadata": {
            "tags": []
          },
          "execution_count": 39
        }
      ]
    },
    {
      "cell_type": "code",
      "metadata": {
        "id": "DEQhx2e2ybR3",
        "colab_type": "code",
        "outputId": "ff8b6d15-854b-4f3b-9a48-cdec8f91a6f3",
        "colab": {
          "base_uri": "https://localhost:8080/",
          "height": 238
        }
      },
      "source": [
        "drinks.groupby(['beer_servings', 'spirit_servings', 'wine_servings']).size()"
      ],
      "execution_count": 0,
      "outputs": [
        {
          "output_type": "execute_result",
          "data": {
            "text/plain": [
              "beer_servings  spirit_servings  wine_servings\n",
              "0              0                0                13\n",
              "               5                0                 1\n",
              "               254              74                1\n",
              "1              1                4                 1\n",
              "               3                1                 1\n",
              "                                                 ..\n",
              "343            244              56                1\n",
              "346            117              175               1\n",
              "347            98               59                1\n",
              "361            170              134               1\n",
              "376            3                1                 1\n",
              "Length: 180, dtype: int64"
            ]
          },
          "metadata": {
            "tags": []
          },
          "execution_count": 42
        }
      ]
    },
    {
      "cell_type": "markdown",
      "metadata": {
        "id": "0PFlESHr1BxW",
        "colab_type": "text"
      },
      "source": [
        "Explore Data Series"
      ]
    },
    {
      "cell_type": "code",
      "metadata": {
        "id": "MJeeagph3fKR",
        "colab_type": "code",
        "colab": {}
      },
      "source": [
        "#character"
      ],
      "execution_count": 0,
      "outputs": []
    },
    {
      "cell_type": "code",
      "metadata": {
        "id": "d-5MMzuI1MU5",
        "colab_type": "code",
        "colab": {}
      },
      "source": [
        "movies = pd.read_csv('http://bit.ly/imdbratings')\n"
      ],
      "execution_count": 0,
      "outputs": []
    },
    {
      "cell_type": "code",
      "metadata": {
        "id": "dKoiMNdvyk5W",
        "colab_type": "code",
        "outputId": "5237b506-1f81-4314-fd37-472c67dc1e88",
        "colab": {
          "base_uri": "https://localhost:8080/",
          "height": 102
        }
      },
      "source": [
        "movies.genre.describe()"
      ],
      "execution_count": 0,
      "outputs": [
        {
          "output_type": "execute_result",
          "data": {
            "text/plain": [
              "count       979\n",
              "unique       16\n",
              "top       Drama\n",
              "freq        278\n",
              "Name: genre, dtype: object"
            ]
          },
          "metadata": {
            "tags": []
          },
          "execution_count": 54
        }
      ]
    },
    {
      "cell_type": "code",
      "metadata": {
        "id": "HV3CISbOzOw5",
        "colab_type": "code",
        "outputId": "a7d2cf93-9f5f-443f-9069-fbacd2ed365d",
        "colab": {
          "base_uri": "https://localhost:8080/",
          "height": 306
        }
      },
      "source": [
        "movies.genre.value_counts()"
      ],
      "execution_count": 0,
      "outputs": [
        {
          "output_type": "execute_result",
          "data": {
            "text/plain": [
              "Drama        278\n",
              "Comedy       156\n",
              "Action       136\n",
              "Crime        124\n",
              "Biography     77\n",
              "Adventure     75\n",
              "Animation     62\n",
              "Horror        29\n",
              "Mystery       16\n",
              "Western        9\n",
              "Thriller       5\n",
              "Sci-Fi         5\n",
              "Film-Noir      3\n",
              "Family         2\n",
              "History        1\n",
              "Fantasy        1\n",
              "Name: genre, dtype: int64"
            ]
          },
          "metadata": {
            "tags": []
          },
          "execution_count": 55
        }
      ]
    },
    {
      "cell_type": "code",
      "metadata": {
        "id": "8Uin4eIa0u-P",
        "colab_type": "code",
        "outputId": "38f1f60e-5d02-4943-b860-0eba9210ed76",
        "colab": {
          "base_uri": "https://localhost:8080/",
          "height": 306
        }
      },
      "source": [
        "movies.genre.value_counts(normalize=True)"
      ],
      "execution_count": 0,
      "outputs": [
        {
          "output_type": "execute_result",
          "data": {
            "text/plain": [
              "Drama        0.283963\n",
              "Comedy       0.159346\n",
              "Action       0.138917\n",
              "Crime        0.126660\n",
              "Biography    0.078652\n",
              "Adventure    0.076609\n",
              "Animation    0.063330\n",
              "Horror       0.029622\n",
              "Mystery      0.016343\n",
              "Western      0.009193\n",
              "Thriller     0.005107\n",
              "Sci-Fi       0.005107\n",
              "Film-Noir    0.003064\n",
              "Family       0.002043\n",
              "History      0.001021\n",
              "Fantasy      0.001021\n",
              "Name: genre, dtype: float64"
            ]
          },
          "metadata": {
            "tags": []
          },
          "execution_count": 60
        }
      ]
    },
    {
      "cell_type": "code",
      "metadata": {
        "id": "Zfa7PJx-1k-D",
        "colab_type": "code",
        "outputId": "10820052-623b-4413-8f06-f9e14d8ba11b",
        "colab": {
          "base_uri": "https://localhost:8080/",
          "height": 68
        }
      },
      "source": [
        "movies.genre.unique()"
      ],
      "execution_count": 0,
      "outputs": [
        {
          "output_type": "execute_result",
          "data": {
            "text/plain": [
              "array(['Crime', 'Action', 'Drama', 'Western', 'Adventure', 'Biography',\n",
              "       'Comedy', 'Animation', 'Mystery', 'Horror', 'Film-Noir', 'Sci-Fi',\n",
              "       'History', 'Thriller', 'Family', 'Fantasy'], dtype=object)"
            ]
          },
          "metadata": {
            "tags": []
          },
          "execution_count": 61
        }
      ]
    },
    {
      "cell_type": "code",
      "metadata": {
        "id": "F9SRMdTa1v1C",
        "colab_type": "code",
        "outputId": "7e271a21-075a-4b5a-a91c-aa485c54fe42",
        "colab": {
          "base_uri": "https://localhost:8080/",
          "height": 34
        }
      },
      "source": [
        "movies.genre.nunique()"
      ],
      "execution_count": 0,
      "outputs": [
        {
          "output_type": "execute_result",
          "data": {
            "text/plain": [
              "16"
            ]
          },
          "metadata": {
            "tags": []
          },
          "execution_count": 62
        }
      ]
    },
    {
      "cell_type": "code",
      "metadata": {
        "id": "FaEWGl5x2wjw",
        "colab_type": "code",
        "outputId": "6983b14d-7f10-4ebe-95aa-e07bf14b2954",
        "colab": {
          "base_uri": "https://localhost:8080/",
          "height": 235
        }
      },
      "source": [
        "pd.crosstab(movies.genre,movies.content_rating).head()"
      ],
      "execution_count": 0,
      "outputs": [
        {
          "output_type": "execute_result",
          "data": {
            "text/html": [
              "<div>\n",
              "<style scoped>\n",
              "    .dataframe tbody tr th:only-of-type {\n",
              "        vertical-align: middle;\n",
              "    }\n",
              "\n",
              "    .dataframe tbody tr th {\n",
              "        vertical-align: top;\n",
              "    }\n",
              "\n",
              "    .dataframe thead th {\n",
              "        text-align: right;\n",
              "    }\n",
              "</style>\n",
              "<table border=\"1\" class=\"dataframe\">\n",
              "  <thead>\n",
              "    <tr style=\"text-align: right;\">\n",
              "      <th>content_rating</th>\n",
              "      <th>APPROVED</th>\n",
              "      <th>G</th>\n",
              "      <th>GP</th>\n",
              "      <th>NC-17</th>\n",
              "      <th>NOT RATED</th>\n",
              "      <th>PASSED</th>\n",
              "      <th>PG</th>\n",
              "      <th>PG-13</th>\n",
              "      <th>R</th>\n",
              "      <th>TV-MA</th>\n",
              "      <th>UNRATED</th>\n",
              "      <th>X</th>\n",
              "    </tr>\n",
              "    <tr>\n",
              "      <th>genre</th>\n",
              "      <th></th>\n",
              "      <th></th>\n",
              "      <th></th>\n",
              "      <th></th>\n",
              "      <th></th>\n",
              "      <th></th>\n",
              "      <th></th>\n",
              "      <th></th>\n",
              "      <th></th>\n",
              "      <th></th>\n",
              "      <th></th>\n",
              "      <th></th>\n",
              "    </tr>\n",
              "  </thead>\n",
              "  <tbody>\n",
              "    <tr>\n",
              "      <th>Action</th>\n",
              "      <td>3</td>\n",
              "      <td>1</td>\n",
              "      <td>1</td>\n",
              "      <td>0</td>\n",
              "      <td>4</td>\n",
              "      <td>1</td>\n",
              "      <td>11</td>\n",
              "      <td>44</td>\n",
              "      <td>67</td>\n",
              "      <td>0</td>\n",
              "      <td>3</td>\n",
              "      <td>0</td>\n",
              "    </tr>\n",
              "    <tr>\n",
              "      <th>Adventure</th>\n",
              "      <td>3</td>\n",
              "      <td>2</td>\n",
              "      <td>0</td>\n",
              "      <td>0</td>\n",
              "      <td>5</td>\n",
              "      <td>1</td>\n",
              "      <td>21</td>\n",
              "      <td>23</td>\n",
              "      <td>17</td>\n",
              "      <td>0</td>\n",
              "      <td>2</td>\n",
              "      <td>0</td>\n",
              "    </tr>\n",
              "    <tr>\n",
              "      <th>Animation</th>\n",
              "      <td>3</td>\n",
              "      <td>20</td>\n",
              "      <td>0</td>\n",
              "      <td>0</td>\n",
              "      <td>3</td>\n",
              "      <td>0</td>\n",
              "      <td>25</td>\n",
              "      <td>5</td>\n",
              "      <td>5</td>\n",
              "      <td>0</td>\n",
              "      <td>1</td>\n",
              "      <td>0</td>\n",
              "    </tr>\n",
              "    <tr>\n",
              "      <th>Biography</th>\n",
              "      <td>1</td>\n",
              "      <td>2</td>\n",
              "      <td>1</td>\n",
              "      <td>0</td>\n",
              "      <td>1</td>\n",
              "      <td>0</td>\n",
              "      <td>6</td>\n",
              "      <td>29</td>\n",
              "      <td>36</td>\n",
              "      <td>0</td>\n",
              "      <td>0</td>\n",
              "      <td>0</td>\n",
              "    </tr>\n",
              "    <tr>\n",
              "      <th>Comedy</th>\n",
              "      <td>9</td>\n",
              "      <td>2</td>\n",
              "      <td>1</td>\n",
              "      <td>1</td>\n",
              "      <td>16</td>\n",
              "      <td>3</td>\n",
              "      <td>23</td>\n",
              "      <td>23</td>\n",
              "      <td>73</td>\n",
              "      <td>0</td>\n",
              "      <td>4</td>\n",
              "      <td>1</td>\n",
              "    </tr>\n",
              "  </tbody>\n",
              "</table>\n",
              "</div>"
            ],
            "text/plain": [
              "content_rating  APPROVED   G  GP  NC-17  ...   R  TV-MA  UNRATED  X\n",
              "genre                                    ...                       \n",
              "Action                 3   1   1      0  ...  67      0        3  0\n",
              "Adventure              3   2   0      0  ...  17      0        2  0\n",
              "Animation              3  20   0      0  ...   5      0        1  0\n",
              "Biography              1   2   1      0  ...  36      0        0  0\n",
              "Comedy                 9   2   1      1  ...  73      0        4  1\n",
              "\n",
              "[5 rows x 12 columns]"
            ]
          },
          "metadata": {
            "tags": []
          },
          "execution_count": 64
        }
      ]
    },
    {
      "cell_type": "code",
      "metadata": {
        "id": "z1ZbFl-J3GUt",
        "colab_type": "code",
        "colab": {}
      },
      "source": [
        "# Numeric"
      ],
      "execution_count": 0,
      "outputs": []
    },
    {
      "cell_type": "code",
      "metadata": {
        "id": "0aa7bMOC3no_",
        "colab_type": "code",
        "outputId": "e492a96c-32dc-49ec-a7ac-c7ffab9ff9d8",
        "colab": {
          "base_uri": "https://localhost:8080/",
          "height": 170
        }
      },
      "source": [
        "movies.duration.describe()"
      ],
      "execution_count": 0,
      "outputs": [
        {
          "output_type": "execute_result",
          "data": {
            "text/plain": [
              "count    979.000000\n",
              "mean     120.979571\n",
              "std       26.218010\n",
              "min       64.000000\n",
              "25%      102.000000\n",
              "50%      117.000000\n",
              "75%      134.000000\n",
              "max      242.000000\n",
              "Name: duration, dtype: float64"
            ]
          },
          "metadata": {
            "tags": []
          },
          "execution_count": 68
        }
      ]
    },
    {
      "cell_type": "code",
      "metadata": {
        "id": "nunKoiDs3r-y",
        "colab_type": "code",
        "outputId": "d280615f-eddd-4c2e-80bd-dc1355d76069",
        "colab": {
          "base_uri": "https://localhost:8080/",
          "height": 34
        }
      },
      "source": [
        "movies.duration.mean()"
      ],
      "execution_count": 0,
      "outputs": [
        {
          "output_type": "execute_result",
          "data": {
            "text/plain": [
              "120.97957099080695"
            ]
          },
          "metadata": {
            "tags": []
          },
          "execution_count": 69
        }
      ]
    },
    {
      "cell_type": "code",
      "metadata": {
        "id": "eDWqWPvo4N-d",
        "colab_type": "code",
        "outputId": "2f0e385d-4efe-4b75-ee0a-1a0c41f23f23",
        "colab": {
          "base_uri": "https://localhost:8080/",
          "height": 221
        }
      },
      "source": [
        "movies.duration.value_counts()"
      ],
      "execution_count": 0,
      "outputs": [
        {
          "output_type": "execute_result",
          "data": {
            "text/plain": [
              "112    23\n",
              "113    22\n",
              "102    20\n",
              "101    20\n",
              "129    19\n",
              "       ..\n",
              "180     1\n",
              "177     1\n",
              "168     1\n",
              "166     1\n",
              "64      1\n",
              "Name: duration, Length: 133, dtype: int64"
            ]
          },
          "metadata": {
            "tags": []
          },
          "execution_count": 70
        }
      ]
    },
    {
      "cell_type": "code",
      "metadata": {
        "id": "seA6Jqxu4aO9",
        "colab_type": "code",
        "outputId": "2c9c2364-2c3d-4a01-b8d5-3f6eefef1ef2",
        "colab": {
          "base_uri": "https://localhost:8080/",
          "height": 282
        }
      },
      "source": [
        "movies.duration.plot(kind='hist')"
      ],
      "execution_count": 0,
      "outputs": [
        {
          "output_type": "execute_result",
          "data": {
            "text/plain": [
              "<matplotlib.axes._subplots.AxesSubplot at 0x7f8131376e80>"
            ]
          },
          "metadata": {
            "tags": []
          },
          "execution_count": 73
        },
        {
          "output_type": "display_data",
          "data": {
            "image/png": "[encoded data removed]",
            "text/plain": [
              "<Figure size 432x288 with 1 Axes>"
            ]
          },
          "metadata": {
            "tags": []
          }
        }
      ]
    },
    {
      "cell_type": "code",
      "metadata": {
        "id": "Fhwtekuq42tf",
        "colab_type": "code",
        "outputId": "a0a4c8b2-58ca-4872-a891-9896fa7c2260",
        "colab": {
          "base_uri": "https://localhost:8080/",
          "height": 324
        }
      },
      "source": [
        "movies.genre.value_counts().plot(kind='bar')"
      ],
      "execution_count": 0,
      "outputs": [
        {
          "output_type": "execute_result",
          "data": {
            "text/plain": [
              "<matplotlib.axes._subplots.AxesSubplot at 0x7f813070add8>"
            ]
          },
          "metadata": {
            "tags": []
          },
          "execution_count": 76
        },
        {
          "output_type": "display_data",
          "data": {
            "image/png": "[encoded data removed]",
            "text/plain": [
              "<Figure size 432x288 with 1 Axes>"
            ]
          },
          "metadata": {
            "tags": []
          }
        }
      ]
    },
    {
      "cell_type": "markdown",
      "metadata": {
        "id": "dDlcjXDt9vn0",
        "colab_type": "text"
      },
      "source": [
        "Handle Missing Values"
      ]
    },
    {
      "cell_type": "code",
      "metadata": {
        "id": "aRVbV6by5MNU",
        "colab_type": "code",
        "colab": {}
      },
      "source": [
        "ufo = pd.read_csv('http://bit.ly/uforeports')\n"
      ],
      "execution_count": 0,
      "outputs": []
    },
    {
      "cell_type": "code",
      "metadata": {
        "id": "MBHkzkaH99Fl",
        "colab_type": "code",
        "outputId": "27f1a160-8583-46e4-df40-d06dfa66f26a",
        "colab": {
          "base_uri": "https://localhost:8080/",
          "height": 119
        }
      },
      "source": [
        "ufo.isnull().sum()"
      ],
      "execution_count": 0,
      "outputs": [
        {
          "output_type": "execute_result",
          "data": {
            "text/plain": [
              "City                  25\n",
              "Colors Reported    15359\n",
              "Shape Reported      2644\n",
              "State                  0\n",
              "Time                   0\n",
              "dtype: int64"
            ]
          },
          "metadata": {
            "tags": []
          },
          "execution_count": 82
        }
      ]
    },
    {
      "cell_type": "code",
      "metadata": {
        "id": "munkvVBm-GrW",
        "colab_type": "code",
        "outputId": "d7893ead-079e-4489-e57e-14d31bc1ffae",
        "colab": {
          "base_uri": "https://localhost:8080/",
          "height": 34
        }
      },
      "source": [
        "ufo.shape"
      ],
      "execution_count": 0,
      "outputs": [
        {
          "output_type": "execute_result",
          "data": {
            "text/plain": [
              "(18241, 5)"
            ]
          },
          "metadata": {
            "tags": []
          },
          "execution_count": 83
        }
      ]
    },
    {
      "cell_type": "code",
      "metadata": {
        "id": "DPjAHMd2AcH1",
        "colab_type": "code",
        "outputId": "f7de64ab-ab9d-429a-ab4f-6b9ffe3f9555",
        "colab": {
          "base_uri": "https://localhost:8080/",
          "height": 34
        }
      },
      "source": [
        "ufo.dropna(how='any').shape # drop if any row contains missing value"
      ],
      "execution_count": 0,
      "outputs": [
        {
          "output_type": "execute_result",
          "data": {
            "text/plain": [
              "(2486, 5)"
            ]
          },
          "metadata": {
            "tags": []
          },
          "execution_count": 85
        }
      ]
    },
    {
      "cell_type": "code",
      "metadata": {
        "id": "5D5_MbH9Aio7",
        "colab_type": "code",
        "outputId": "7259b3f9-b998-4a5f-ca8c-d2f73f1cd08d",
        "colab": {
          "base_uri": "https://localhost:8080/",
          "height": 34
        }
      },
      "source": [
        "ufo.dropna(how='all').shape # drop only if all row contains missing value"
      ],
      "execution_count": 0,
      "outputs": [
        {
          "output_type": "execute_result",
          "data": {
            "text/plain": [
              "(18241, 5)"
            ]
          },
          "metadata": {
            "tags": []
          },
          "execution_count": 86
        }
      ]
    },
    {
      "cell_type": "code",
      "metadata": {
        "id": "fHFJv0mMAo-Z",
        "colab_type": "code",
        "outputId": "dfe8a2da-7bfc-47c7-9400-ff2790f5e3db",
        "colab": {
          "base_uri": "https://localhost:8080/",
          "height": 34
        }
      },
      "source": [
        "ufo.dropna(subset=['City','Shape Reported'],how='any').shape"
      ],
      "execution_count": 0,
      "outputs": [
        {
          "output_type": "execute_result",
          "data": {
            "text/plain": [
              "(15576, 5)"
            ]
          },
          "metadata": {
            "tags": []
          },
          "execution_count": 87
        }
      ]
    },
    {
      "cell_type": "code",
      "metadata": {
        "id": "Bo_ZrP5lA7NX",
        "colab_type": "code",
        "outputId": "70b517d6-507c-4717-f24c-a87d034b7e31",
        "colab": {
          "base_uri": "https://localhost:8080/",
          "height": 34
        }
      },
      "source": [
        "ufo.dropna(subset=['City','Shape Reported'],how='all').shape"
      ],
      "execution_count": 0,
      "outputs": [
        {
          "output_type": "execute_result",
          "data": {
            "text/plain": [
              "(18237, 5)"
            ]
          },
          "metadata": {
            "tags": []
          },
          "execution_count": 88
        }
      ]
    },
    {
      "cell_type": "code",
      "metadata": {
        "id": "Dh7Kuz-kBN3g",
        "colab_type": "code",
        "outputId": "60f70b88-c704-4de0-b1f0-5331770351a9",
        "colab": {
          "base_uri": "https://localhost:8080/",
          "height": 493
        }
      },
      "source": [
        "ufo['Shape Reported'].value_counts()"
      ],
      "execution_count": 0,
      "outputs": [
        {
          "output_type": "execute_result",
          "data": {
            "text/plain": [
              "LIGHT        2803\n",
              "DISK         2122\n",
              "TRIANGLE     1889\n",
              "OTHER        1402\n",
              "CIRCLE       1365\n",
              "SPHERE       1054\n",
              "FIREBALL     1039\n",
              "OVAL          845\n",
              "CIGAR         617\n",
              "FORMATION     434\n",
              "VARIOUS       333\n",
              "RECTANGLE     303\n",
              "CYLINDER      294\n",
              "CHEVRON       248\n",
              "DIAMOND       234\n",
              "EGG           197\n",
              "FLASH         188\n",
              "TEARDROP      119\n",
              "CONE           60\n",
              "CROSS          36\n",
              "DELTA           7\n",
              "CRESCENT        2\n",
              "ROUND           2\n",
              "PYRAMID         1\n",
              "FLARE           1\n",
              "DOME            1\n",
              "HEXAGON         1\n",
              "Name: Shape Reported, dtype: int64"
            ]
          },
          "metadata": {
            "tags": []
          },
          "execution_count": 89
        }
      ]
    },
    {
      "cell_type": "code",
      "metadata": {
        "id": "C2uoRSmtBtvG",
        "colab_type": "code",
        "outputId": "72099e83-0f96-4524-f1cb-55a58fc90ab9",
        "colab": {
          "base_uri": "https://localhost:8080/",
          "height": 510
        }
      },
      "source": [
        "ufo['Shape Reported'].value_counts(dropna=False)"
      ],
      "execution_count": 0,
      "outputs": [
        {
          "output_type": "execute_result",
          "data": {
            "text/plain": [
              "LIGHT        2803\n",
              "NaN          2644\n",
              "DISK         2122\n",
              "TRIANGLE     1889\n",
              "OTHER        1402\n",
              "CIRCLE       1365\n",
              "SPHERE       1054\n",
              "FIREBALL     1039\n",
              "OVAL          845\n",
              "CIGAR         617\n",
              "FORMATION     434\n",
              "VARIOUS       333\n",
              "RECTANGLE     303\n",
              "CYLINDER      294\n",
              "CHEVRON       248\n",
              "DIAMOND       234\n",
              "EGG           197\n",
              "FLASH         188\n",
              "TEARDROP      119\n",
              "CONE           60\n",
              "CROSS          36\n",
              "DELTA           7\n",
              "ROUND           2\n",
              "CRESCENT        2\n",
              "FLARE           1\n",
              "HEXAGON         1\n",
              "PYRAMID         1\n",
              "DOME            1\n",
              "Name: Shape Reported, dtype: int64"
            ]
          },
          "metadata": {
            "tags": []
          },
          "execution_count": 90
        }
      ]
    },
    {
      "cell_type": "code",
      "metadata": {
        "id": "oY4Te5jOB2Lh",
        "colab_type": "code",
        "outputId": "3f5b7cd6-331d-4b70-f946-a601c0b1e0da",
        "colab": {
          "base_uri": "https://localhost:8080/",
          "height": 221
        }
      },
      "source": [
        "ufo['Shape Reported'].fillna(value='OVAL',inplace=True)"
      ],
      "execution_count": 0,
      "outputs": [
        {
          "output_type": "execute_result",
          "data": {
            "text/plain": [
              "0        TRIANGLE\n",
              "1           OTHER\n",
              "2            OVAL\n",
              "3            DISK\n",
              "4           LIGHT\n",
              "           ...   \n",
              "18236    TRIANGLE\n",
              "18237        DISK\n",
              "18238        OVAL\n",
              "18239       LIGHT\n",
              "18240        OVAL\n",
              "Name: Shape Reported, Length: 18241, dtype: object"
            ]
          },
          "metadata": {
            "tags": []
          },
          "execution_count": 93
        }
      ]
    },
    {
      "cell_type": "code",
      "metadata": {
        "id": "1lGWvmwVB--P",
        "colab_type": "code",
        "colab": {}
      },
      "source": [
        "import pandas as pd\n",
        "import numpy as np"
      ],
      "execution_count": 0,
      "outputs": []
    },
    {
      "cell_type": "code",
      "metadata": {
        "id": "fgTI9bPoGFGX",
        "colab_type": "code",
        "outputId": "03e1a082-4ed0-4cc1-ad7f-50449c05374e",
        "colab": {
          "base_uri": "https://localhost:8080/",
          "height": 204
        }
      },
      "source": [
        "drinks = pd.read_csv('http://bit.ly/drinksbycountry')\n",
        "drinks.head()"
      ],
      "execution_count": 0,
      "outputs": [
        {
          "output_type": "execute_result",
          "data": {
            "text/html": [
              "<div>\n",
              "<style scoped>\n",
              "    .dataframe tbody tr th:only-of-type {\n",
              "        vertical-align: middle;\n",
              "    }\n",
              "\n",
              "    .dataframe tbody tr th {\n",
              "        vertical-align: top;\n",
              "    }\n",
              "\n",
              "    .dataframe thead th {\n",
              "        text-align: right;\n",
              "    }\n",
              "</style>\n",
              "<table border=\"1\" class=\"dataframe\">\n",
              "  <thead>\n",
              "    <tr style=\"text-align: right;\">\n",
              "      <th></th>\n",
              "      <th>country</th>\n",
              "      <th>beer_servings</th>\n",
              "      <th>spirit_servings</th>\n",
              "      <th>wine_servings</th>\n",
              "      <th>total_litres_of_pure_alcohol</th>\n",
              "      <th>continent</th>\n",
              "    </tr>\n",
              "  </thead>\n",
              "  <tbody>\n",
              "    <tr>\n",
              "      <th>0</th>\n",
              "      <td>Afghanistan</td>\n",
              "      <td>0</td>\n",
              "      <td>0</td>\n",
              "      <td>0</td>\n",
              "      <td>0.0</td>\n",
              "      <td>Asia</td>\n",
              "    </tr>\n",
              "    <tr>\n",
              "      <th>1</th>\n",
              "      <td>Albania</td>\n",
              "      <td>89</td>\n",
              "      <td>132</td>\n",
              "      <td>54</td>\n",
              "      <td>4.9</td>\n",
              "      <td>Europe</td>\n",
              "    </tr>\n",
              "    <tr>\n",
              "      <th>2</th>\n",
              "      <td>Algeria</td>\n",
              "      <td>25</td>\n",
              "      <td>0</td>\n",
              "      <td>14</td>\n",
              "      <td>0.7</td>\n",
              "      <td>Africa</td>\n",
              "    </tr>\n",
              "    <tr>\n",
              "      <th>3</th>\n",
              "      <td>Andorra</td>\n",
              "      <td>245</td>\n",
              "      <td>138</td>\n",
              "      <td>312</td>\n",
              "      <td>12.4</td>\n",
              "      <td>Europe</td>\n",
              "    </tr>\n",
              "    <tr>\n",
              "      <th>4</th>\n",
              "      <td>Angola</td>\n",
              "      <td>217</td>\n",
              "      <td>57</td>\n",
              "      <td>45</td>\n",
              "      <td>5.9</td>\n",
              "      <td>Africa</td>\n",
              "    </tr>\n",
              "  </tbody>\n",
              "</table>\n",
              "</div>"
            ],
            "text/plain": [
              "       country  beer_servings  ...  total_litres_of_pure_alcohol  continent\n",
              "0  Afghanistan              0  ...                           0.0       Asia\n",
              "1      Albania             89  ...                           4.9     Europe\n",
              "2      Algeria             25  ...                           0.7     Africa\n",
              "3      Andorra            245  ...                          12.4     Europe\n",
              "4       Angola            217  ...                           5.9     Africa\n",
              "\n",
              "[5 rows x 6 columns]"
            ]
          },
          "metadata": {
            "tags": []
          },
          "execution_count": 4
        }
      ]
    },
    {
      "cell_type": "code",
      "metadata": {
        "id": "ApnFEL0nGOC1",
        "colab_type": "code",
        "outputId": "8d420b88-bb0f-48fe-8612-5f9fde0d84ec",
        "colab": {
          "base_uri": "https://localhost:8080/",
          "height": 419
        }
      },
      "source": [
        "drinks[drinks.continent.isin(['Asia','Europe'])]"
      ],
      "execution_count": 0,
      "outputs": [
        {
          "output_type": "execute_result",
          "data": {
            "text/html": [
              "<div>\n",
              "<style scoped>\n",
              "    .dataframe tbody tr th:only-of-type {\n",
              "        vertical-align: middle;\n",
              "    }\n",
              "\n",
              "    .dataframe tbody tr th {\n",
              "        vertical-align: top;\n",
              "    }\n",
              "\n",
              "    .dataframe thead th {\n",
              "        text-align: right;\n",
              "    }\n",
              "</style>\n",
              "<table border=\"1\" class=\"dataframe\">\n",
              "  <thead>\n",
              "    <tr style=\"text-align: right;\">\n",
              "      <th></th>\n",
              "      <th>country</th>\n",
              "      <th>beer_servings</th>\n",
              "      <th>spirit_servings</th>\n",
              "      <th>wine_servings</th>\n",
              "      <th>total_litres_of_pure_alcohol</th>\n",
              "      <th>continent</th>\n",
              "    </tr>\n",
              "  </thead>\n",
              "  <tbody>\n",
              "    <tr>\n",
              "      <th>0</th>\n",
              "      <td>Afghanistan</td>\n",
              "      <td>0</td>\n",
              "      <td>0</td>\n",
              "      <td>0</td>\n",
              "      <td>0.0</td>\n",
              "      <td>Asia</td>\n",
              "    </tr>\n",
              "    <tr>\n",
              "      <th>1</th>\n",
              "      <td>Albania</td>\n",
              "      <td>89</td>\n",
              "      <td>132</td>\n",
              "      <td>54</td>\n",
              "      <td>4.9</td>\n",
              "      <td>Europe</td>\n",
              "    </tr>\n",
              "    <tr>\n",
              "      <th>3</th>\n",
              "      <td>Andorra</td>\n",
              "      <td>245</td>\n",
              "      <td>138</td>\n",
              "      <td>312</td>\n",
              "      <td>12.4</td>\n",
              "      <td>Europe</td>\n",
              "    </tr>\n",
              "    <tr>\n",
              "      <th>7</th>\n",
              "      <td>Armenia</td>\n",
              "      <td>21</td>\n",
              "      <td>179</td>\n",
              "      <td>11</td>\n",
              "      <td>3.8</td>\n",
              "      <td>Europe</td>\n",
              "    </tr>\n",
              "    <tr>\n",
              "      <th>9</th>\n",
              "      <td>Austria</td>\n",
              "      <td>279</td>\n",
              "      <td>75</td>\n",
              "      <td>191</td>\n",
              "      <td>9.7</td>\n",
              "      <td>Europe</td>\n",
              "    </tr>\n",
              "    <tr>\n",
              "      <th>...</th>\n",
              "      <td>...</td>\n",
              "      <td>...</td>\n",
              "      <td>...</td>\n",
              "      <td>...</td>\n",
              "      <td>...</td>\n",
              "      <td>...</td>\n",
              "    </tr>\n",
              "    <tr>\n",
              "      <th>181</th>\n",
              "      <td>United Arab Emirates</td>\n",
              "      <td>16</td>\n",
              "      <td>135</td>\n",
              "      <td>5</td>\n",
              "      <td>2.8</td>\n",
              "      <td>Asia</td>\n",
              "    </tr>\n",
              "    <tr>\n",
              "      <th>182</th>\n",
              "      <td>United Kingdom</td>\n",
              "      <td>219</td>\n",
              "      <td>126</td>\n",
              "      <td>195</td>\n",
              "      <td>10.4</td>\n",
              "      <td>Europe</td>\n",
              "    </tr>\n",
              "    <tr>\n",
              "      <th>186</th>\n",
              "      <td>Uzbekistan</td>\n",
              "      <td>25</td>\n",
              "      <td>101</td>\n",
              "      <td>8</td>\n",
              "      <td>2.4</td>\n",
              "      <td>Asia</td>\n",
              "    </tr>\n",
              "    <tr>\n",
              "      <th>189</th>\n",
              "      <td>Vietnam</td>\n",
              "      <td>111</td>\n",
              "      <td>2</td>\n",
              "      <td>1</td>\n",
              "      <td>2.0</td>\n",
              "      <td>Asia</td>\n",
              "    </tr>\n",
              "    <tr>\n",
              "      <th>190</th>\n",
              "      <td>Yemen</td>\n",
              "      <td>6</td>\n",
              "      <td>0</td>\n",
              "      <td>0</td>\n",
              "      <td>0.1</td>\n",
              "      <td>Asia</td>\n",
              "    </tr>\n",
              "  </tbody>\n",
              "</table>\n",
              "<p>89 rows × 6 columns</p>\n",
              "</div>"
            ],
            "text/plain": [
              "                  country  ...  continent\n",
              "0             Afghanistan  ...       Asia\n",
              "1                 Albania  ...     Europe\n",
              "3                 Andorra  ...     Europe\n",
              "7                 Armenia  ...     Europe\n",
              "9                 Austria  ...     Europe\n",
              "..                    ...  ...        ...\n",
              "181  United Arab Emirates  ...       Asia\n",
              "182        United Kingdom  ...     Europe\n",
              "186            Uzbekistan  ...       Asia\n",
              "189               Vietnam  ...       Asia\n",
              "190                 Yemen  ...       Asia\n",
              "\n",
              "[89 rows x 6 columns]"
            ]
          },
          "metadata": {
            "tags": []
          },
          "execution_count": 13
        }
      ]
    },
    {
      "cell_type": "code",
      "metadata": {
        "id": "p_GifLOqH6FM",
        "colab_type": "code",
        "outputId": "0a52773d-aa54-4657-8e2a-c8e2c0d6ea70",
        "colab": {
          "base_uri": "https://localhost:8080/",
          "height": 136
        }
      },
      "source": [
        "drinks.continent.value_counts()"
      ],
      "execution_count": 0,
      "outputs": [
        {
          "output_type": "execute_result",
          "data": {
            "text/plain": [
              "Africa           53\n",
              "Europe           45\n",
              "Asia             44\n",
              "North America    23\n",
              "Oceania          16\n",
              "South America    12\n",
              "Name: continent, dtype: int64"
            ]
          },
          "metadata": {
            "tags": []
          },
          "execution_count": 14
        }
      ]
    },
    {
      "cell_type": "code",
      "metadata": {
        "id": "eKtZeMLoM2tA",
        "colab_type": "code",
        "outputId": "b186f8ea-9038-455d-b246-8048434d2412",
        "colab": {
          "base_uri": "https://localhost:8080/",
          "height": 136
        }
      },
      "source": [
        "drinks.isnull().sum()"
      ],
      "execution_count": 0,
      "outputs": [
        {
          "output_type": "execute_result",
          "data": {
            "text/plain": [
              "country                         0\n",
              "beer_servings                   0\n",
              "spirit_servings                 0\n",
              "wine_servings                   0\n",
              "total_litres_of_pure_alcohol    0\n",
              "continent                       0\n",
              "dtype: int64"
            ]
          },
          "metadata": {
            "tags": []
          },
          "execution_count": 16
        }
      ]
    },
    {
      "cell_type": "markdown",
      "metadata": {
        "id": "v3nbGq-yQGLm",
        "colab_type": "text"
      },
      "source": [
        "Select Multiple rows & columns"
      ]
    },
    {
      "cell_type": "markdown",
      "metadata": {
        "id": "iRcYPdqDW6-a",
        "colab_type": "text"
      },
      "source": [
        ".loc for label based indexing or\n",
        ".iloc for positional indexing"
      ]
    },
    {
      "cell_type": "code",
      "metadata": {
        "id": "PRAr_hb0NS8r",
        "colab_type": "code",
        "outputId": "482c958a-c833-4512-9280-374e0ae43c16",
        "colab": {
          "base_uri": "https://localhost:8080/",
          "height": 204
        }
      },
      "source": [
        "ufo = pd.read_csv('http://bit.ly/uforeports')\n",
        "ufo.head()"
      ],
      "execution_count": 0,
      "outputs": [
        {
          "output_type": "execute_result",
          "data": {
            "text/html": [
              "<div>\n",
              "<style scoped>\n",
              "    .dataframe tbody tr th:only-of-type {\n",
              "        vertical-align: middle;\n",
              "    }\n",
              "\n",
              "    .dataframe tbody tr th {\n",
              "        vertical-align: top;\n",
              "    }\n",
              "\n",
              "    .dataframe thead th {\n",
              "        text-align: right;\n",
              "    }\n",
              "</style>\n",
              "<table border=\"1\" class=\"dataframe\">\n",
              "  <thead>\n",
              "    <tr style=\"text-align: right;\">\n",
              "      <th></th>\n",
              "      <th>City</th>\n",
              "      <th>Colors Reported</th>\n",
              "      <th>Shape Reported</th>\n",
              "      <th>State</th>\n",
              "      <th>Time</th>\n",
              "    </tr>\n",
              "  </thead>\n",
              "  <tbody>\n",
              "    <tr>\n",
              "      <th>0</th>\n",
              "      <td>Ithaca</td>\n",
              "      <td>NaN</td>\n",
              "      <td>TRIANGLE</td>\n",
              "      <td>NY</td>\n",
              "      <td>6/1/1930 22:00</td>\n",
              "    </tr>\n",
              "    <tr>\n",
              "      <th>1</th>\n",
              "      <td>Willingboro</td>\n",
              "      <td>NaN</td>\n",
              "      <td>OTHER</td>\n",
              "      <td>NJ</td>\n",
              "      <td>6/30/1930 20:00</td>\n",
              "    </tr>\n",
              "    <tr>\n",
              "      <th>2</th>\n",
              "      <td>Holyoke</td>\n",
              "      <td>NaN</td>\n",
              "      <td>OVAL</td>\n",
              "      <td>CO</td>\n",
              "      <td>2/15/1931 14:00</td>\n",
              "    </tr>\n",
              "    <tr>\n",
              "      <th>3</th>\n",
              "      <td>Abilene</td>\n",
              "      <td>NaN</td>\n",
              "      <td>DISK</td>\n",
              "      <td>KS</td>\n",
              "      <td>6/1/1931 13:00</td>\n",
              "    </tr>\n",
              "    <tr>\n",
              "      <th>4</th>\n",
              "      <td>New York Worlds Fair</td>\n",
              "      <td>NaN</td>\n",
              "      <td>LIGHT</td>\n",
              "      <td>NY</td>\n",
              "      <td>4/18/1933 19:00</td>\n",
              "    </tr>\n",
              "  </tbody>\n",
              "</table>\n",
              "</div>"
            ],
            "text/plain": [
              "                   City Colors Reported Shape Reported State             Time\n",
              "0                Ithaca             NaN       TRIANGLE    NY   6/1/1930 22:00\n",
              "1           Willingboro             NaN          OTHER    NJ  6/30/1930 20:00\n",
              "2               Holyoke             NaN           OVAL    CO  2/15/1931 14:00\n",
              "3               Abilene             NaN           DISK    KS   6/1/1931 13:00\n",
              "4  New York Worlds Fair             NaN          LIGHT    NY  4/18/1933 19:00"
            ]
          },
          "metadata": {
            "tags": []
          },
          "execution_count": 17
        }
      ]
    },
    {
      "cell_type": "code",
      "metadata": {
        "id": "CRFxWx1cQNFC",
        "colab_type": "code",
        "outputId": "dbe1b886-0544-45b3-e5bf-c564502fd5f7",
        "colab": {
          "base_uri": "https://localhost:8080/",
          "height": 34
        }
      },
      "source": [
        "ufo.columns.str.replace(' ', '_')"
      ],
      "execution_count": 0,
      "outputs": [
        {
          "output_type": "execute_result",
          "data": {
            "text/plain": [
              "Index(['City', 'Colors_Reported', 'Shape_Reported', 'State', 'Time'], dtype='object')"
            ]
          },
          "metadata": {
            "tags": []
          },
          "execution_count": 18
        }
      ]
    },
    {
      "cell_type": "code",
      "metadata": {
        "id": "epCLnBdhQZ0A",
        "colab_type": "code",
        "outputId": "a698de1d-1368-49f8-a257-f3ce7a705e38",
        "colab": {
          "base_uri": "https://localhost:8080/",
          "height": 142
        }
      },
      "source": [
        "ufo.loc[0:2,:] # indicates 0:2 rows and all columns"
      ],
      "execution_count": 0,
      "outputs": [
        {
          "output_type": "execute_result",
          "data": {
            "text/html": [
              "<div>\n",
              "<style scoped>\n",
              "    .dataframe tbody tr th:only-of-type {\n",
              "        vertical-align: middle;\n",
              "    }\n",
              "\n",
              "    .dataframe tbody tr th {\n",
              "        vertical-align: top;\n",
              "    }\n",
              "\n",
              "    .dataframe thead th {\n",
              "        text-align: right;\n",
              "    }\n",
              "</style>\n",
              "<table border=\"1\" class=\"dataframe\">\n",
              "  <thead>\n",
              "    <tr style=\"text-align: right;\">\n",
              "      <th></th>\n",
              "      <th>City</th>\n",
              "      <th>Colors Reported</th>\n",
              "      <th>Shape Reported</th>\n",
              "      <th>State</th>\n",
              "      <th>Time</th>\n",
              "    </tr>\n",
              "  </thead>\n",
              "  <tbody>\n",
              "    <tr>\n",
              "      <th>0</th>\n",
              "      <td>Ithaca</td>\n",
              "      <td>NaN</td>\n",
              "      <td>TRIANGLE</td>\n",
              "      <td>NY</td>\n",
              "      <td>6/1/1930 22:00</td>\n",
              "    </tr>\n",
              "    <tr>\n",
              "      <th>1</th>\n",
              "      <td>Willingboro</td>\n",
              "      <td>NaN</td>\n",
              "      <td>OTHER</td>\n",
              "      <td>NJ</td>\n",
              "      <td>6/30/1930 20:00</td>\n",
              "    </tr>\n",
              "    <tr>\n",
              "      <th>2</th>\n",
              "      <td>Holyoke</td>\n",
              "      <td>NaN</td>\n",
              "      <td>OVAL</td>\n",
              "      <td>CO</td>\n",
              "      <td>2/15/1931 14:00</td>\n",
              "    </tr>\n",
              "  </tbody>\n",
              "</table>\n",
              "</div>"
            ],
            "text/plain": [
              "          City Colors Reported Shape Reported State             Time\n",
              "0       Ithaca             NaN       TRIANGLE    NY   6/1/1930 22:00\n",
              "1  Willingboro             NaN          OTHER    NJ  6/30/1930 20:00\n",
              "2      Holyoke             NaN           OVAL    CO  2/15/1931 14:00"
            ]
          },
          "metadata": {
            "tags": []
          },
          "execution_count": 19
        }
      ]
    },
    {
      "cell_type": "code",
      "metadata": {
        "id": "BdaZXpu8SBcS",
        "colab_type": "code",
        "outputId": "2460c6b0-852d-494c-ab2f-e5bd01f28472",
        "colab": {
          "base_uri": "https://localhost:8080/",
          "height": 204
        }
      },
      "source": [
        "ufo.loc[:,['City','State']].head()# indicates all rows and city and state columns"
      ],
      "execution_count": 0,
      "outputs": [
        {
          "output_type": "execute_result",
          "data": {
            "text/html": [
              "<div>\n",
              "<style scoped>\n",
              "    .dataframe tbody tr th:only-of-type {\n",
              "        vertical-align: middle;\n",
              "    }\n",
              "\n",
              "    .dataframe tbody tr th {\n",
              "        vertical-align: top;\n",
              "    }\n",
              "\n",
              "    .dataframe thead th {\n",
              "        text-align: right;\n",
              "    }\n",
              "</style>\n",
              "<table border=\"1\" class=\"dataframe\">\n",
              "  <thead>\n",
              "    <tr style=\"text-align: right;\">\n",
              "      <th></th>\n",
              "      <th>City</th>\n",
              "      <th>State</th>\n",
              "    </tr>\n",
              "  </thead>\n",
              "  <tbody>\n",
              "    <tr>\n",
              "      <th>0</th>\n",
              "      <td>Ithaca</td>\n",
              "      <td>NY</td>\n",
              "    </tr>\n",
              "    <tr>\n",
              "      <th>1</th>\n",
              "      <td>Willingboro</td>\n",
              "      <td>NJ</td>\n",
              "    </tr>\n",
              "    <tr>\n",
              "      <th>2</th>\n",
              "      <td>Holyoke</td>\n",
              "      <td>CO</td>\n",
              "    </tr>\n",
              "    <tr>\n",
              "      <th>3</th>\n",
              "      <td>Abilene</td>\n",
              "      <td>KS</td>\n",
              "    </tr>\n",
              "    <tr>\n",
              "      <th>4</th>\n",
              "      <td>New York Worlds Fair</td>\n",
              "      <td>NY</td>\n",
              "    </tr>\n",
              "  </tbody>\n",
              "</table>\n",
              "</div>"
            ],
            "text/plain": [
              "                   City State\n",
              "0                Ithaca    NY\n",
              "1           Willingboro    NJ\n",
              "2               Holyoke    CO\n",
              "3               Abilene    KS\n",
              "4  New York Worlds Fair    NY"
            ]
          },
          "metadata": {
            "tags": []
          },
          "execution_count": 21
        }
      ]
    },
    {
      "cell_type": "code",
      "metadata": {
        "id": "SvoWraTdS9Uz",
        "colab_type": "code",
        "outputId": "5a97df04-06fe-43fb-aae4-5b9270740a89",
        "colab": {
          "base_uri": "https://localhost:8080/",
          "height": 204
        }
      },
      "source": [
        "ufo.loc[:,'City':'State'].head()# indicates all rows and city and other columns unitl state columns"
      ],
      "execution_count": 0,
      "outputs": [
        {
          "output_type": "execute_result",
          "data": {
            "text/html": [
              "<div>\n",
              "<style scoped>\n",
              "    .dataframe tbody tr th:only-of-type {\n",
              "        vertical-align: middle;\n",
              "    }\n",
              "\n",
              "    .dataframe tbody tr th {\n",
              "        vertical-align: top;\n",
              "    }\n",
              "\n",
              "    .dataframe thead th {\n",
              "        text-align: right;\n",
              "    }\n",
              "</style>\n",
              "<table border=\"1\" class=\"dataframe\">\n",
              "  <thead>\n",
              "    <tr style=\"text-align: right;\">\n",
              "      <th></th>\n",
              "      <th>City</th>\n",
              "      <th>Colors Reported</th>\n",
              "      <th>Shape Reported</th>\n",
              "      <th>State</th>\n",
              "    </tr>\n",
              "  </thead>\n",
              "  <tbody>\n",
              "    <tr>\n",
              "      <th>0</th>\n",
              "      <td>Ithaca</td>\n",
              "      <td>NaN</td>\n",
              "      <td>TRIANGLE</td>\n",
              "      <td>NY</td>\n",
              "    </tr>\n",
              "    <tr>\n",
              "      <th>1</th>\n",
              "      <td>Willingboro</td>\n",
              "      <td>NaN</td>\n",
              "      <td>OTHER</td>\n",
              "      <td>NJ</td>\n",
              "    </tr>\n",
              "    <tr>\n",
              "      <th>2</th>\n",
              "      <td>Holyoke</td>\n",
              "      <td>NaN</td>\n",
              "      <td>OVAL</td>\n",
              "      <td>CO</td>\n",
              "    </tr>\n",
              "    <tr>\n",
              "      <th>3</th>\n",
              "      <td>Abilene</td>\n",
              "      <td>NaN</td>\n",
              "      <td>DISK</td>\n",
              "      <td>KS</td>\n",
              "    </tr>\n",
              "    <tr>\n",
              "      <th>4</th>\n",
              "      <td>New York Worlds Fair</td>\n",
              "      <td>NaN</td>\n",
              "      <td>LIGHT</td>\n",
              "      <td>NY</td>\n",
              "    </tr>\n",
              "  </tbody>\n",
              "</table>\n",
              "</div>"
            ],
            "text/plain": [
              "                   City Colors Reported Shape Reported State\n",
              "0                Ithaca             NaN       TRIANGLE    NY\n",
              "1           Willingboro             NaN          OTHER    NJ\n",
              "2               Holyoke             NaN           OVAL    CO\n",
              "3               Abilene             NaN           DISK    KS\n",
              "4  New York Worlds Fair             NaN          LIGHT    NY"
            ]
          },
          "metadata": {
            "tags": []
          },
          "execution_count": 24
        }
      ]
    },
    {
      "cell_type": "code",
      "metadata": {
        "id": "aDMFxJmPSK-V",
        "colab_type": "code",
        "outputId": "f438a10a-afa6-4bb1-909e-ad98d9921fbb",
        "colab": {
          "base_uri": "https://localhost:8080/",
          "height": 119
        }
      },
      "source": [
        "ufo.State.value_counts().head()"
      ],
      "execution_count": 0,
      "outputs": [
        {
          "output_type": "execute_result",
          "data": {
            "text/plain": [
              "CA    2529\n",
              "WA    1322\n",
              "TX    1027\n",
              "NY     914\n",
              "FL     837\n",
              "Name: State, dtype: int64"
            ]
          },
          "metadata": {
            "tags": []
          },
          "execution_count": 23
        }
      ]
    },
    {
      "cell_type": "code",
      "metadata": {
        "id": "xdLPDB49SrHN",
        "colab_type": "code",
        "outputId": "6f4c53e1-eeb8-43ea-a96a-53b82cfe6d0b",
        "colab": {
          "base_uri": "https://localhost:8080/",
          "height": 111
        }
      },
      "source": [
        "ufo.iloc[0:2,:]# rows and columns"
      ],
      "execution_count": 0,
      "outputs": [
        {
          "output_type": "execute_result",
          "data": {
            "text/html": [
              "<div>\n",
              "<style scoped>\n",
              "    .dataframe tbody tr th:only-of-type {\n",
              "        vertical-align: middle;\n",
              "    }\n",
              "\n",
              "    .dataframe tbody tr th {\n",
              "        vertical-align: top;\n",
              "    }\n",
              "\n",
              "    .dataframe thead th {\n",
              "        text-align: right;\n",
              "    }\n",
              "</style>\n",
              "<table border=\"1\" class=\"dataframe\">\n",
              "  <thead>\n",
              "    <tr style=\"text-align: right;\">\n",
              "      <th></th>\n",
              "      <th>City</th>\n",
              "      <th>Colors Reported</th>\n",
              "      <th>Shape Reported</th>\n",
              "      <th>State</th>\n",
              "      <th>Time</th>\n",
              "    </tr>\n",
              "  </thead>\n",
              "  <tbody>\n",
              "    <tr>\n",
              "      <th>0</th>\n",
              "      <td>Ithaca</td>\n",
              "      <td>NaN</td>\n",
              "      <td>TRIANGLE</td>\n",
              "      <td>NY</td>\n",
              "      <td>6/1/1930 22:00</td>\n",
              "    </tr>\n",
              "    <tr>\n",
              "      <th>1</th>\n",
              "      <td>Willingboro</td>\n",
              "      <td>NaN</td>\n",
              "      <td>OTHER</td>\n",
              "      <td>NJ</td>\n",
              "      <td>6/30/1930 20:00</td>\n",
              "    </tr>\n",
              "  </tbody>\n",
              "</table>\n",
              "</div>"
            ],
            "text/plain": [
              "          City Colors Reported Shape Reported State             Time\n",
              "0       Ithaca             NaN       TRIANGLE    NY   6/1/1930 22:00\n",
              "1  Willingboro             NaN          OTHER    NJ  6/30/1930 20:00"
            ]
          },
          "metadata": {
            "tags": []
          },
          "execution_count": 25
        }
      ]
    },
    {
      "cell_type": "code",
      "metadata": {
        "id": "GOFROod1UVy9",
        "colab_type": "code",
        "outputId": "8dd5f1ab-80a2-4c89-ba77-de504fccb257",
        "colab": {
          "base_uri": "https://localhost:8080/",
          "height": 419
        }
      },
      "source": [
        "ufo.iloc[:,0:3]"
      ],
      "execution_count": 0,
      "outputs": [
        {
          "output_type": "execute_result",
          "data": {
            "text/html": [
              "<div>\n",
              "<style scoped>\n",
              "    .dataframe tbody tr th:only-of-type {\n",
              "        vertical-align: middle;\n",
              "    }\n",
              "\n",
              "    .dataframe tbody tr th {\n",
              "        vertical-align: top;\n",
              "    }\n",
              "\n",
              "    .dataframe thead th {\n",
              "        text-align: right;\n",
              "    }\n",
              "</style>\n",
              "<table border=\"1\" class=\"dataframe\">\n",
              "  <thead>\n",
              "    <tr style=\"text-align: right;\">\n",
              "      <th></th>\n",
              "      <th>City</th>\n",
              "      <th>Colors Reported</th>\n",
              "      <th>Shape Reported</th>\n",
              "    </tr>\n",
              "  </thead>\n",
              "  <tbody>\n",
              "    <tr>\n",
              "      <th>0</th>\n",
              "      <td>Ithaca</td>\n",
              "      <td>NaN</td>\n",
              "      <td>TRIANGLE</td>\n",
              "    </tr>\n",
              "    <tr>\n",
              "      <th>1</th>\n",
              "      <td>Willingboro</td>\n",
              "      <td>NaN</td>\n",
              "      <td>OTHER</td>\n",
              "    </tr>\n",
              "    <tr>\n",
              "      <th>2</th>\n",
              "      <td>Holyoke</td>\n",
              "      <td>NaN</td>\n",
              "      <td>OVAL</td>\n",
              "    </tr>\n",
              "    <tr>\n",
              "      <th>3</th>\n",
              "      <td>Abilene</td>\n",
              "      <td>NaN</td>\n",
              "      <td>DISK</td>\n",
              "    </tr>\n",
              "    <tr>\n",
              "      <th>4</th>\n",
              "      <td>New York Worlds Fair</td>\n",
              "      <td>NaN</td>\n",
              "      <td>LIGHT</td>\n",
              "    </tr>\n",
              "    <tr>\n",
              "      <th>...</th>\n",
              "      <td>...</td>\n",
              "      <td>...</td>\n",
              "      <td>...</td>\n",
              "    </tr>\n",
              "    <tr>\n",
              "      <th>18236</th>\n",
              "      <td>Grant Park</td>\n",
              "      <td>NaN</td>\n",
              "      <td>TRIANGLE</td>\n",
              "    </tr>\n",
              "    <tr>\n",
              "      <th>18237</th>\n",
              "      <td>Spirit Lake</td>\n",
              "      <td>NaN</td>\n",
              "      <td>DISK</td>\n",
              "    </tr>\n",
              "    <tr>\n",
              "      <th>18238</th>\n",
              "      <td>Eagle River</td>\n",
              "      <td>NaN</td>\n",
              "      <td>NaN</td>\n",
              "    </tr>\n",
              "    <tr>\n",
              "      <th>18239</th>\n",
              "      <td>Eagle River</td>\n",
              "      <td>RED</td>\n",
              "      <td>LIGHT</td>\n",
              "    </tr>\n",
              "    <tr>\n",
              "      <th>18240</th>\n",
              "      <td>Ybor</td>\n",
              "      <td>NaN</td>\n",
              "      <td>OVAL</td>\n",
              "    </tr>\n",
              "  </tbody>\n",
              "</table>\n",
              "<p>18241 rows × 3 columns</p>\n",
              "</div>"
            ],
            "text/plain": [
              "                       City Colors Reported Shape Reported\n",
              "0                    Ithaca             NaN       TRIANGLE\n",
              "1               Willingboro             NaN          OTHER\n",
              "2                   Holyoke             NaN           OVAL\n",
              "3                   Abilene             NaN           DISK\n",
              "4      New York Worlds Fair             NaN          LIGHT\n",
              "...                     ...             ...            ...\n",
              "18236            Grant Park             NaN       TRIANGLE\n",
              "18237           Spirit Lake             NaN           DISK\n",
              "18238           Eagle River             NaN            NaN\n",
              "18239           Eagle River             RED          LIGHT\n",
              "18240                  Ybor             NaN           OVAL\n",
              "\n",
              "[18241 rows x 3 columns]"
            ]
          },
          "metadata": {
            "tags": []
          },
          "execution_count": 26
        }
      ]
    },
    {
      "cell_type": "code",
      "metadata": {
        "id": "cZXw36asUbB_",
        "colab_type": "code",
        "outputId": "32de6a91-ca5d-4b87-d1cc-7cf8a1e10897",
        "colab": {
          "base_uri": "https://localhost:8080/",
          "height": 221
        }
      },
      "source": [
        "ufo['City'].value_counts()"
      ],
      "execution_count": 0,
      "outputs": [
        {
          "output_type": "execute_result",
          "data": {
            "text/plain": [
              "Seattle             187\n",
              "New York City       161\n",
              "Phoenix             137\n",
              "Houston             108\n",
              "Las Vegas           105\n",
              "                   ... \n",
              "Marshall Creek        1\n",
              "Fort Cambell          1\n",
              "Westlake Village      1\n",
              "Fort Myers Beach      1\n",
              "Meraux                1\n",
              "Name: City, Length: 6476, dtype: int64"
            ]
          },
          "metadata": {
            "tags": []
          },
          "execution_count": 29
        }
      ]
    },
    {
      "cell_type": "code",
      "metadata": {
        "id": "CAQt0tT1VPPc",
        "colab_type": "code",
        "outputId": "2a57ec75-38bb-4a18-fba1-0b670a7243c0",
        "colab": {
          "base_uri": "https://localhost:8080/",
          "height": 204
        }
      },
      "source": [
        "ufo.head()"
      ],
      "execution_count": 0,
      "outputs": [
        {
          "output_type": "execute_result",
          "data": {
            "text/html": [
              "<div>\n",
              "<style scoped>\n",
              "    .dataframe tbody tr th:only-of-type {\n",
              "        vertical-align: middle;\n",
              "    }\n",
              "\n",
              "    .dataframe tbody tr th {\n",
              "        vertical-align: top;\n",
              "    }\n",
              "\n",
              "    .dataframe thead th {\n",
              "        text-align: right;\n",
              "    }\n",
              "</style>\n",
              "<table border=\"1\" class=\"dataframe\">\n",
              "  <thead>\n",
              "    <tr style=\"text-align: right;\">\n",
              "      <th></th>\n",
              "      <th>City</th>\n",
              "      <th>Colors Reported</th>\n",
              "      <th>Shape Reported</th>\n",
              "      <th>State</th>\n",
              "      <th>Time</th>\n",
              "    </tr>\n",
              "  </thead>\n",
              "  <tbody>\n",
              "    <tr>\n",
              "      <th>0</th>\n",
              "      <td>Ithaca</td>\n",
              "      <td>NaN</td>\n",
              "      <td>TRIANGLE</td>\n",
              "      <td>NY</td>\n",
              "      <td>6/1/1930 22:00</td>\n",
              "    </tr>\n",
              "    <tr>\n",
              "      <th>1</th>\n",
              "      <td>Willingboro</td>\n",
              "      <td>NaN</td>\n",
              "      <td>OTHER</td>\n",
              "      <td>NJ</td>\n",
              "      <td>6/30/1930 20:00</td>\n",
              "    </tr>\n",
              "    <tr>\n",
              "      <th>2</th>\n",
              "      <td>Holyoke</td>\n",
              "      <td>NaN</td>\n",
              "      <td>OVAL</td>\n",
              "      <td>CO</td>\n",
              "      <td>2/15/1931 14:00</td>\n",
              "    </tr>\n",
              "    <tr>\n",
              "      <th>3</th>\n",
              "      <td>Abilene</td>\n",
              "      <td>NaN</td>\n",
              "      <td>DISK</td>\n",
              "      <td>KS</td>\n",
              "      <td>6/1/1931 13:00</td>\n",
              "    </tr>\n",
              "    <tr>\n",
              "      <th>4</th>\n",
              "      <td>New York Worlds Fair</td>\n",
              "      <td>NaN</td>\n",
              "      <td>LIGHT</td>\n",
              "      <td>NY</td>\n",
              "      <td>4/18/1933 19:00</td>\n",
              "    </tr>\n",
              "  </tbody>\n",
              "</table>\n",
              "</div>"
            ],
            "text/plain": [
              "                   City Colors Reported Shape Reported State             Time\n",
              "0                Ithaca             NaN       TRIANGLE    NY   6/1/1930 22:00\n",
              "1           Willingboro             NaN          OTHER    NJ  6/30/1930 20:00\n",
              "2               Holyoke             NaN           OVAL    CO  2/15/1931 14:00\n",
              "3               Abilene             NaN           DISK    KS   6/1/1931 13:00\n",
              "4  New York Worlds Fair             NaN          LIGHT    NY  4/18/1933 19:00"
            ]
          },
          "metadata": {
            "tags": []
          },
          "execution_count": 30
        }
      ]
    },
    {
      "cell_type": "code",
      "metadata": {
        "id": "E8BswCshWjwz",
        "colab_type": "code",
        "outputId": "e177d6c9-6115-44ec-8753-65e83de2f518",
        "colab": {
          "base_uri": "https://localhost:8080/",
          "height": 414
        }
      },
      "source": [
        "ufo.ix[0:2,0:3] # mixed of both lable based and index based"
      ],
      "execution_count": 0,
      "outputs": [
        {
          "output_type": "stream",
          "text": [
            "/usr/local/lib/python3.6/dist-packages/ipykernel_launcher.py:1: FutureWarning: \n",
            ".ix is deprecated. Please use\n",
            ".loc for label based indexing or\n",
            ".iloc for positional indexing\n",
            "\n",
            "See the documentation here:\n",
            "http://pandas.pydata.org/pandas-docs/stable/user_guide/indexing.html#ix-indexer-is-deprecated\n",
            "  \"\"\"Entry point for launching an IPython kernel.\n",
            "/usr/local/lib/python3.6/dist-packages/pandas/core/indexing.py:822: FutureWarning: \n",
            ".ix is deprecated. Please use\n",
            ".loc for label based indexing or\n",
            ".iloc for positional indexing\n",
            "\n",
            "See the documentation here:\n",
            "http://pandas.pydata.org/pandas-docs/stable/user_guide/indexing.html#ix-indexer-is-deprecated\n",
            "  retval = getattr(retval, self.name)._getitem_axis(key, axis=i)\n"
          ],
          "name": "stderr"
        },
        {
          "output_type": "execute_result",
          "data": {
            "text/html": [
              "<div>\n",
              "<style scoped>\n",
              "    .dataframe tbody tr th:only-of-type {\n",
              "        vertical-align: middle;\n",
              "    }\n",
              "\n",
              "    .dataframe tbody tr th {\n",
              "        vertical-align: top;\n",
              "    }\n",
              "\n",
              "    .dataframe thead th {\n",
              "        text-align: right;\n",
              "    }\n",
              "</style>\n",
              "<table border=\"1\" class=\"dataframe\">\n",
              "  <thead>\n",
              "    <tr style=\"text-align: right;\">\n",
              "      <th></th>\n",
              "      <th>City</th>\n",
              "      <th>Colors Reported</th>\n",
              "      <th>Shape Reported</th>\n",
              "    </tr>\n",
              "  </thead>\n",
              "  <tbody>\n",
              "    <tr>\n",
              "      <th>0</th>\n",
              "      <td>Ithaca</td>\n",
              "      <td>NaN</td>\n",
              "      <td>TRIANGLE</td>\n",
              "    </tr>\n",
              "    <tr>\n",
              "      <th>1</th>\n",
              "      <td>Willingboro</td>\n",
              "      <td>NaN</td>\n",
              "      <td>OTHER</td>\n",
              "    </tr>\n",
              "    <tr>\n",
              "      <th>2</th>\n",
              "      <td>Holyoke</td>\n",
              "      <td>NaN</td>\n",
              "      <td>OVAL</td>\n",
              "    </tr>\n",
              "  </tbody>\n",
              "</table>\n",
              "</div>"
            ],
            "text/plain": [
              "          City Colors Reported Shape Reported\n",
              "0       Ithaca             NaN       TRIANGLE\n",
              "1  Willingboro             NaN          OTHER\n",
              "2      Holyoke             NaN           OVAL"
            ]
          },
          "metadata": {
            "tags": []
          },
          "execution_count": 31
        }
      ]
    },
    {
      "cell_type": "code",
      "metadata": {
        "id": "0gm5PtZjWuM8",
        "colab_type": "code",
        "outputId": "442571de-4230-4a46-db1a-ea654ce2ccdb",
        "colab": {
          "base_uri": "https://localhost:8080/",
          "height": 111
        }
      },
      "source": [
        "drinks.head(2)"
      ],
      "execution_count": 0,
      "outputs": [
        {
          "output_type": "execute_result",
          "data": {
            "text/html": [
              "<div>\n",
              "<style scoped>\n",
              "    .dataframe tbody tr th:only-of-type {\n",
              "        vertical-align: middle;\n",
              "    }\n",
              "\n",
              "    .dataframe tbody tr th {\n",
              "        vertical-align: top;\n",
              "    }\n",
              "\n",
              "    .dataframe thead th {\n",
              "        text-align: right;\n",
              "    }\n",
              "</style>\n",
              "<table border=\"1\" class=\"dataframe\">\n",
              "  <thead>\n",
              "    <tr style=\"text-align: right;\">\n",
              "      <th></th>\n",
              "      <th>country</th>\n",
              "      <th>beer_servings</th>\n",
              "      <th>spirit_servings</th>\n",
              "      <th>wine_servings</th>\n",
              "      <th>total_litres_of_pure_alcohol</th>\n",
              "      <th>continent</th>\n",
              "    </tr>\n",
              "  </thead>\n",
              "  <tbody>\n",
              "    <tr>\n",
              "      <th>0</th>\n",
              "      <td>Afghanistan</td>\n",
              "      <td>0</td>\n",
              "      <td>0</td>\n",
              "      <td>0</td>\n",
              "      <td>0.0</td>\n",
              "      <td>Asia</td>\n",
              "    </tr>\n",
              "    <tr>\n",
              "      <th>1</th>\n",
              "      <td>Albania</td>\n",
              "      <td>89</td>\n",
              "      <td>132</td>\n",
              "      <td>54</td>\n",
              "      <td>4.9</td>\n",
              "      <td>Europe</td>\n",
              "    </tr>\n",
              "  </tbody>\n",
              "</table>\n",
              "</div>"
            ],
            "text/plain": [
              "       country  beer_servings  ...  total_litres_of_pure_alcohol  continent\n",
              "0  Afghanistan              0  ...                           0.0       Asia\n",
              "1      Albania             89  ...                           4.9     Europe\n",
              "\n",
              "[2 rows x 6 columns]"
            ]
          },
          "metadata": {
            "tags": []
          },
          "execution_count": 32
        }
      ]
    },
    {
      "cell_type": "code",
      "metadata": {
        "id": "wLtFkQvtXTuK",
        "colab_type": "code",
        "colab": {}
      },
      "source": [
        "drinks.set_index('country',inplace=True)"
      ],
      "execution_count": 0,
      "outputs": []
    },
    {
      "cell_type": "code",
      "metadata": {
        "id": "JmjuYk_ZXc-a",
        "colab_type": "code",
        "outputId": "e60edc71-fa62-44ac-b8ae-1f2f61bcb203",
        "colab": {
          "base_uri": "https://localhost:8080/",
          "height": 235
        }
      },
      "source": [
        "drinks.head(5)"
      ],
      "execution_count": 0,
      "outputs": [
        {
          "output_type": "execute_result",
          "data": {
            "text/html": [
              "<div>\n",
              "<style scoped>\n",
              "    .dataframe tbody tr th:only-of-type {\n",
              "        vertical-align: middle;\n",
              "    }\n",
              "\n",
              "    .dataframe tbody tr th {\n",
              "        vertical-align: top;\n",
              "    }\n",
              "\n",
              "    .dataframe thead th {\n",
              "        text-align: right;\n",
              "    }\n",
              "</style>\n",
              "<table border=\"1\" class=\"dataframe\">\n",
              "  <thead>\n",
              "    <tr style=\"text-align: right;\">\n",
              "      <th></th>\n",
              "      <th>beer_servings</th>\n",
              "      <th>spirit_servings</th>\n",
              "      <th>wine_servings</th>\n",
              "      <th>total_litres_of_pure_alcohol</th>\n",
              "      <th>continent</th>\n",
              "    </tr>\n",
              "    <tr>\n",
              "      <th>country</th>\n",
              "      <th></th>\n",
              "      <th></th>\n",
              "      <th></th>\n",
              "      <th></th>\n",
              "      <th></th>\n",
              "    </tr>\n",
              "  </thead>\n",
              "  <tbody>\n",
              "    <tr>\n",
              "      <th>Afghanistan</th>\n",
              "      <td>0</td>\n",
              "      <td>0</td>\n",
              "      <td>0</td>\n",
              "      <td>0.0</td>\n",
              "      <td>Asia</td>\n",
              "    </tr>\n",
              "    <tr>\n",
              "      <th>Albania</th>\n",
              "      <td>89</td>\n",
              "      <td>132</td>\n",
              "      <td>54</td>\n",
              "      <td>4.9</td>\n",
              "      <td>Europe</td>\n",
              "    </tr>\n",
              "    <tr>\n",
              "      <th>Algeria</th>\n",
              "      <td>25</td>\n",
              "      <td>0</td>\n",
              "      <td>14</td>\n",
              "      <td>0.7</td>\n",
              "      <td>Africa</td>\n",
              "    </tr>\n",
              "    <tr>\n",
              "      <th>Andorra</th>\n",
              "      <td>245</td>\n",
              "      <td>138</td>\n",
              "      <td>312</td>\n",
              "      <td>12.4</td>\n",
              "      <td>Europe</td>\n",
              "    </tr>\n",
              "    <tr>\n",
              "      <th>Angola</th>\n",
              "      <td>217</td>\n",
              "      <td>57</td>\n",
              "      <td>45</td>\n",
              "      <td>5.9</td>\n",
              "      <td>Africa</td>\n",
              "    </tr>\n",
              "  </tbody>\n",
              "</table>\n",
              "</div>"
            ],
            "text/plain": [
              "             beer_servings  ...  continent\n",
              "country                     ...           \n",
              "Afghanistan              0  ...       Asia\n",
              "Albania                 89  ...     Europe\n",
              "Algeria                 25  ...     Africa\n",
              "Andorra                245  ...     Europe\n",
              "Angola                 217  ...     Africa\n",
              "\n",
              "[5 rows x 5 columns]"
            ]
          },
          "metadata": {
            "tags": []
          },
          "execution_count": 35
        }
      ]
    },
    {
      "cell_type": "code",
      "metadata": {
        "id": "RtE9_nPOXgPS",
        "colab_type": "code",
        "outputId": "2aeee4ab-645e-4e53-c230-7ad6d1e2bc23",
        "colab": {
          "base_uri": "https://localhost:8080/",
          "height": 445
        }
      },
      "source": [
        "drinks.ix[0:3,'beer_servings':'wine_servings']"
      ],
      "execution_count": 0,
      "outputs": [
        {
          "output_type": "stream",
          "text": [
            "/usr/local/lib/python3.6/dist-packages/ipykernel_launcher.py:1: FutureWarning: \n",
            ".ix is deprecated. Please use\n",
            ".loc for label based indexing or\n",
            ".iloc for positional indexing\n",
            "\n",
            "See the documentation here:\n",
            "http://pandas.pydata.org/pandas-docs/stable/user_guide/indexing.html#ix-indexer-is-deprecated\n",
            "  \"\"\"Entry point for launching an IPython kernel.\n",
            "/usr/local/lib/python3.6/dist-packages/pandas/core/indexing.py:822: FutureWarning: \n",
            ".ix is deprecated. Please use\n",
            ".loc for label based indexing or\n",
            ".iloc for positional indexing\n",
            "\n",
            "See the documentation here:\n",
            "http://pandas.pydata.org/pandas-docs/stable/user_guide/indexing.html#ix-indexer-is-deprecated\n",
            "  retval = getattr(retval, self.name)._getitem_axis(key, axis=i)\n"
          ],
          "name": "stderr"
        },
        {
          "output_type": "execute_result",
          "data": {
            "text/html": [
              "<div>\n",
              "<style scoped>\n",
              "    .dataframe tbody tr th:only-of-type {\n",
              "        vertical-align: middle;\n",
              "    }\n",
              "\n",
              "    .dataframe tbody tr th {\n",
              "        vertical-align: top;\n",
              "    }\n",
              "\n",
              "    .dataframe thead th {\n",
              "        text-align: right;\n",
              "    }\n",
              "</style>\n",
              "<table border=\"1\" class=\"dataframe\">\n",
              "  <thead>\n",
              "    <tr style=\"text-align: right;\">\n",
              "      <th></th>\n",
              "      <th>beer_servings</th>\n",
              "      <th>spirit_servings</th>\n",
              "      <th>wine_servings</th>\n",
              "    </tr>\n",
              "    <tr>\n",
              "      <th>country</th>\n",
              "      <th></th>\n",
              "      <th></th>\n",
              "      <th></th>\n",
              "    </tr>\n",
              "  </thead>\n",
              "  <tbody>\n",
              "    <tr>\n",
              "      <th>Afghanistan</th>\n",
              "      <td>0</td>\n",
              "      <td>0</td>\n",
              "      <td>0</td>\n",
              "    </tr>\n",
              "    <tr>\n",
              "      <th>Albania</th>\n",
              "      <td>89</td>\n",
              "      <td>132</td>\n",
              "      <td>54</td>\n",
              "    </tr>\n",
              "    <tr>\n",
              "      <th>Algeria</th>\n",
              "      <td>25</td>\n",
              "      <td>0</td>\n",
              "      <td>14</td>\n",
              "    </tr>\n",
              "  </tbody>\n",
              "</table>\n",
              "</div>"
            ],
            "text/plain": [
              "             beer_servings  spirit_servings  wine_servings\n",
              "country                                                   \n",
              "Afghanistan              0                0              0\n",
              "Albania                 89              132             54\n",
              "Algeria                 25                0             14"
            ]
          },
          "metadata": {
            "tags": []
          },
          "execution_count": 36
        }
      ]
    },
    {
      "cell_type": "code",
      "metadata": {
        "id": "BsW2gZJZX3DV",
        "colab_type": "code",
        "outputId": "569a9831-431c-47f4-ef42-1d87f7b1cf85",
        "colab": {
          "base_uri": "https://localhost:8080/",
          "height": 445
        }
      },
      "source": [
        "drinks.ix['Afghanistan':'Algeria',0:4]"
      ],
      "execution_count": 0,
      "outputs": [
        {
          "output_type": "stream",
          "text": [
            "/usr/local/lib/python3.6/dist-packages/ipykernel_launcher.py:1: FutureWarning: \n",
            ".ix is deprecated. Please use\n",
            ".loc for label based indexing or\n",
            ".iloc for positional indexing\n",
            "\n",
            "See the documentation here:\n",
            "http://pandas.pydata.org/pandas-docs/stable/user_guide/indexing.html#ix-indexer-is-deprecated\n",
            "  \"\"\"Entry point for launching an IPython kernel.\n",
            "/usr/local/lib/python3.6/dist-packages/pandas/core/indexing.py:822: FutureWarning: \n",
            ".ix is deprecated. Please use\n",
            ".loc for label based indexing or\n",
            ".iloc for positional indexing\n",
            "\n",
            "See the documentation here:\n",
            "http://pandas.pydata.org/pandas-docs/stable/user_guide/indexing.html#ix-indexer-is-deprecated\n",
            "  retval = getattr(retval, self.name)._getitem_axis(key, axis=i)\n"
          ],
          "name": "stderr"
        },
        {
          "output_type": "execute_result",
          "data": {
            "text/html": [
              "<div>\n",
              "<style scoped>\n",
              "    .dataframe tbody tr th:only-of-type {\n",
              "        vertical-align: middle;\n",
              "    }\n",
              "\n",
              "    .dataframe tbody tr th {\n",
              "        vertical-align: top;\n",
              "    }\n",
              "\n",
              "    .dataframe thead th {\n",
              "        text-align: right;\n",
              "    }\n",
              "</style>\n",
              "<table border=\"1\" class=\"dataframe\">\n",
              "  <thead>\n",
              "    <tr style=\"text-align: right;\">\n",
              "      <th></th>\n",
              "      <th>beer_servings</th>\n",
              "      <th>spirit_servings</th>\n",
              "      <th>wine_servings</th>\n",
              "      <th>total_litres_of_pure_alcohol</th>\n",
              "    </tr>\n",
              "    <tr>\n",
              "      <th>country</th>\n",
              "      <th></th>\n",
              "      <th></th>\n",
              "      <th></th>\n",
              "      <th></th>\n",
              "    </tr>\n",
              "  </thead>\n",
              "  <tbody>\n",
              "    <tr>\n",
              "      <th>Afghanistan</th>\n",
              "      <td>0</td>\n",
              "      <td>0</td>\n",
              "      <td>0</td>\n",
              "      <td>0.0</td>\n",
              "    </tr>\n",
              "    <tr>\n",
              "      <th>Albania</th>\n",
              "      <td>89</td>\n",
              "      <td>132</td>\n",
              "      <td>54</td>\n",
              "      <td>4.9</td>\n",
              "    </tr>\n",
              "    <tr>\n",
              "      <th>Algeria</th>\n",
              "      <td>25</td>\n",
              "      <td>0</td>\n",
              "      <td>14</td>\n",
              "      <td>0.7</td>\n",
              "    </tr>\n",
              "  </tbody>\n",
              "</table>\n",
              "</div>"
            ],
            "text/plain": [
              "             beer_servings  ...  total_litres_of_pure_alcohol\n",
              "country                     ...                              \n",
              "Afghanistan              0  ...                           0.0\n",
              "Albania                 89  ...                           4.9\n",
              "Algeria                 25  ...                           0.7\n",
              "\n",
              "[3 rows x 4 columns]"
            ]
          },
          "metadata": {
            "tags": []
          },
          "execution_count": 37
        }
      ]
    },
    {
      "cell_type": "code",
      "metadata": {
        "id": "sf1zM_yRYHkZ",
        "colab_type": "code",
        "outputId": "4d6ccfff-6976-4e47-e02a-973495a360ff",
        "colab": {
          "base_uri": "https://localhost:8080/",
          "height": 414
        }
      },
      "source": [
        "ufo.ix[0:2,0:4]"
      ],
      "execution_count": 0,
      "outputs": [
        {
          "output_type": "stream",
          "text": [
            "/usr/local/lib/python3.6/dist-packages/ipykernel_launcher.py:1: FutureWarning: \n",
            ".ix is deprecated. Please use\n",
            ".loc for label based indexing or\n",
            ".iloc for positional indexing\n",
            "\n",
            "See the documentation here:\n",
            "http://pandas.pydata.org/pandas-docs/stable/user_guide/indexing.html#ix-indexer-is-deprecated\n",
            "  \"\"\"Entry point for launching an IPython kernel.\n",
            "/usr/local/lib/python3.6/dist-packages/pandas/core/indexing.py:822: FutureWarning: \n",
            ".ix is deprecated. Please use\n",
            ".loc for label based indexing or\n",
            ".iloc for positional indexing\n",
            "\n",
            "See the documentation here:\n",
            "http://pandas.pydata.org/pandas-docs/stable/user_guide/indexing.html#ix-indexer-is-deprecated\n",
            "  retval = getattr(retval, self.name)._getitem_axis(key, axis=i)\n"
          ],
          "name": "stderr"
        },
        {
          "output_type": "execute_result",
          "data": {
            "text/html": [
              "<div>\n",
              "<style scoped>\n",
              "    .dataframe tbody tr th:only-of-type {\n",
              "        vertical-align: middle;\n",
              "    }\n",
              "\n",
              "    .dataframe tbody tr th {\n",
              "        vertical-align: top;\n",
              "    }\n",
              "\n",
              "    .dataframe thead th {\n",
              "        text-align: right;\n",
              "    }\n",
              "</style>\n",
              "<table border=\"1\" class=\"dataframe\">\n",
              "  <thead>\n",
              "    <tr style=\"text-align: right;\">\n",
              "      <th></th>\n",
              "      <th>City</th>\n",
              "      <th>Colors Reported</th>\n",
              "      <th>Shape Reported</th>\n",
              "      <th>State</th>\n",
              "    </tr>\n",
              "  </thead>\n",
              "  <tbody>\n",
              "    <tr>\n",
              "      <th>0</th>\n",
              "      <td>Ithaca</td>\n",
              "      <td>NaN</td>\n",
              "      <td>TRIANGLE</td>\n",
              "      <td>NY</td>\n",
              "    </tr>\n",
              "    <tr>\n",
              "      <th>1</th>\n",
              "      <td>Willingboro</td>\n",
              "      <td>NaN</td>\n",
              "      <td>OTHER</td>\n",
              "      <td>NJ</td>\n",
              "    </tr>\n",
              "    <tr>\n",
              "      <th>2</th>\n",
              "      <td>Holyoke</td>\n",
              "      <td>NaN</td>\n",
              "      <td>OVAL</td>\n",
              "      <td>CO</td>\n",
              "    </tr>\n",
              "  </tbody>\n",
              "</table>\n",
              "</div>"
            ],
            "text/plain": [
              "          City Colors Reported Shape Reported State\n",
              "0       Ithaca             NaN       TRIANGLE    NY\n",
              "1  Willingboro             NaN          OTHER    NJ\n",
              "2      Holyoke             NaN           OVAL    CO"
            ]
          },
          "metadata": {
            "tags": []
          },
          "execution_count": 39
        }
      ]
    },
    {
      "cell_type": "code",
      "metadata": {
        "id": "zHCq0fhrYlap",
        "colab_type": "code",
        "colab": {}
      },
      "source": [
        "import pandas as pd\n",
        "import numpy as np\n",
        "drinks = pd.read_csv('http://bit.ly/drinksbycountry')\n"
      ],
      "execution_count": 0,
      "outputs": []
    },
    {
      "cell_type": "code",
      "metadata": {
        "id": "aBPG348mLKBK",
        "colab_type": "code",
        "outputId": "4c3788af-3940-4382-933f-d3726a5e3c89",
        "colab": {
          "base_uri": "https://localhost:8080/",
          "height": 34
        }
      },
      "source": [
        "drinks.shape"
      ],
      "execution_count": 0,
      "outputs": [
        {
          "output_type": "execute_result",
          "data": {
            "text/plain": [
              "(193, 6)"
            ]
          },
          "metadata": {
            "tags": []
          },
          "execution_count": 3
        }
      ]
    },
    {
      "cell_type": "code",
      "metadata": {
        "id": "mWxUhd4TLWZ_",
        "colab_type": "code",
        "outputId": "b1fe0fc5-14f0-4967-f960-75034261b962",
        "colab": {
          "base_uri": "https://localhost:8080/",
          "height": 68
        }
      },
      "source": [
        "drinks.columns"
      ],
      "execution_count": 0,
      "outputs": [
        {
          "output_type": "execute_result",
          "data": {
            "text/plain": [
              "Index(['country', 'beer_servings', 'spirit_servings', 'wine_servings',\n",
              "       'total_litres_of_pure_alcohol', 'continent'],\n",
              "      dtype='object')"
            ]
          },
          "metadata": {
            "tags": []
          },
          "execution_count": 4
        }
      ]
    },
    {
      "cell_type": "code",
      "metadata": {
        "id": "AMehdw4lLaBu",
        "colab_type": "code",
        "outputId": "cb82a63a-b748-4145-a055-371a7e6d56dc",
        "colab": {
          "base_uri": "https://localhost:8080/",
          "height": 204
        }
      },
      "source": [
        "drinks.info()"
      ],
      "execution_count": 0,
      "outputs": [
        {
          "output_type": "stream",
          "text": [
            "<class 'pandas.core.frame.DataFrame'>\n",
            "RangeIndex: 193 entries, 0 to 192\n",
            "Data columns (total 6 columns):\n",
            "country                         193 non-null object\n",
            "beer_servings                   193 non-null int64\n",
            "spirit_servings                 193 non-null int64\n",
            "wine_servings                   193 non-null int64\n",
            "total_litres_of_pure_alcohol    193 non-null float64\n",
            "continent                       193 non-null object\n",
            "dtypes: float64(1), int64(3), object(2)\n",
            "memory usage: 9.2+ KB\n"
          ],
          "name": "stdout"
        }
      ]
    },
    {
      "cell_type": "code",
      "metadata": {
        "id": "cYjQ9R8KLbuU",
        "colab_type": "code",
        "outputId": "bcac0c2f-d4b6-4c5a-c7d8-3a32cfa737a6",
        "colab": {
          "base_uri": "https://localhost:8080/",
          "height": 204
        }
      },
      "source": [
        "drinks.info(memory_usage='deep')"
      ],
      "execution_count": 0,
      "outputs": [
        {
          "output_type": "stream",
          "text": [
            "<class 'pandas.core.frame.DataFrame'>\n",
            "RangeIndex: 193 entries, 0 to 192\n",
            "Data columns (total 6 columns):\n",
            "country                         193 non-null object\n",
            "beer_servings                   193 non-null int64\n",
            "spirit_servings                 193 non-null int64\n",
            "wine_servings                   193 non-null int64\n",
            "total_litres_of_pure_alcohol    193 non-null float64\n",
            "continent                       193 non-null object\n",
            "dtypes: float64(1), int64(3), object(2)\n",
            "memory usage: 30.5 KB\n"
          ],
          "name": "stdout"
        }
      ]
    },
    {
      "cell_type": "code",
      "metadata": {
        "id": "sxjIoZeuL8gA",
        "colab_type": "code",
        "outputId": "b33356e4-8903-4159-909b-9cc8d7c58c36",
        "colab": {
          "base_uri": "https://localhost:8080/",
          "height": 34
        }
      },
      "source": [
        "drinks.memory_usage(deep=True).sum()# gives the memory usage"
      ],
      "execution_count": 0,
      "outputs": [
        {
          "output_type": "execute_result",
          "data": {
            "text/plain": [
              "31224"
            ]
          },
          "metadata": {
            "tags": []
          },
          "execution_count": 8
        }
      ]
    },
    {
      "cell_type": "code",
      "metadata": {
        "id": "qCpsR2k7MWmS",
        "colab_type": "code",
        "outputId": "c36732de-5445-466d-adb9-80d5d48cee76",
        "colab": {
          "base_uri": "https://localhost:8080/",
          "height": 51
        }
      },
      "source": [
        "drinks.continent.sort_values().unique()# returns unique values in array"
      ],
      "execution_count": 0,
      "outputs": [
        {
          "output_type": "execute_result",
          "data": {
            "text/plain": [
              "array(['Africa', 'Asia', 'Europe', 'North America', 'Oceania',\n",
              "       'South America'], dtype=object)"
            ]
          },
          "metadata": {
            "tags": []
          },
          "execution_count": 14
        }
      ]
    },
    {
      "cell_type": "code",
      "metadata": {
        "id": "VpClhG1dMwRT",
        "colab_type": "code",
        "outputId": "ddb2e790-7c9b-477f-9a7a-cde68d19d485",
        "colab": {
          "base_uri": "https://localhost:8080/",
          "height": 34
        }
      },
      "source": [
        "sorted(drinks.continent.unique())# returns list of unique values"
      ],
      "execution_count": 0,
      "outputs": [
        {
          "output_type": "execute_result",
          "data": {
            "text/plain": [
              "['Africa', 'Asia', 'Europe', 'North America', 'Oceania', 'South America']"
            ]
          },
          "metadata": {
            "tags": []
          },
          "execution_count": 15
        }
      ]
    },
    {
      "cell_type": "code",
      "metadata": {
        "id": "c_-L191INjn9",
        "colab_type": "code",
        "outputId": "ac4d2993-c4fa-42bf-f67d-3cb31b4a656b",
        "colab": {
          "base_uri": "https://localhost:8080/",
          "height": 173
        }
      },
      "source": [
        "df = pd.DataFrame({'ID':[100,101,102,103],'quality':['good', 'very good',  'good','Excellent']})\n",
        "df"
      ],
      "execution_count": 0,
      "outputs": [
        {
          "output_type": "execute_result",
          "data": {
            "text/html": [
              "<div>\n",
              "<style scoped>\n",
              "    .dataframe tbody tr th:only-of-type {\n",
              "        vertical-align: middle;\n",
              "    }\n",
              "\n",
              "    .dataframe tbody tr th {\n",
              "        vertical-align: top;\n",
              "    }\n",
              "\n",
              "    .dataframe thead th {\n",
              "        text-align: right;\n",
              "    }\n",
              "</style>\n",
              "<table border=\"1\" class=\"dataframe\">\n",
              "  <thead>\n",
              "    <tr style=\"text-align: right;\">\n",
              "      <th></th>\n",
              "      <th>ID</th>\n",
              "      <th>quality</th>\n",
              "    </tr>\n",
              "  </thead>\n",
              "  <tbody>\n",
              "    <tr>\n",
              "      <th>0</th>\n",
              "      <td>100</td>\n",
              "      <td>good</td>\n",
              "    </tr>\n",
              "    <tr>\n",
              "      <th>1</th>\n",
              "      <td>101</td>\n",
              "      <td>very good</td>\n",
              "    </tr>\n",
              "    <tr>\n",
              "      <th>2</th>\n",
              "      <td>102</td>\n",
              "      <td>good</td>\n",
              "    </tr>\n",
              "    <tr>\n",
              "      <th>3</th>\n",
              "      <td>103</td>\n",
              "      <td>Excellent</td>\n",
              "    </tr>\n",
              "  </tbody>\n",
              "</table>\n",
              "</div>"
            ],
            "text/plain": [
              "    ID    quality\n",
              "0  100       good\n",
              "1  101  very good\n",
              "2  102       good\n",
              "3  103  Excellent"
            ]
          },
          "metadata": {
            "tags": []
          },
          "execution_count": 23
        }
      ]
    },
    {
      "cell_type": "code",
      "metadata": {
        "id": "7TuoDW47SFwU",
        "colab_type": "code",
        "outputId": "2b58f61d-8696-4269-c2dd-2cdad010aaa7",
        "colab": {
          "base_uri": "https://localhost:8080/",
          "height": 34
        }
      },
      "source": [
        "sorted(df.quality)"
      ],
      "execution_count": 0,
      "outputs": [
        {
          "output_type": "execute_result",
          "data": {
            "text/plain": [
              "['Excellent', 'good', 'good', 'very good']"
            ]
          },
          "metadata": {
            "tags": []
          },
          "execution_count": 28
        }
      ]
    },
    {
      "cell_type": "code",
      "metadata": {
        "id": "GwSvTwFcUFg5",
        "colab_type": "code",
        "outputId": "8acaf4f5-560f-46f9-fc98-f6b1a14f4c04",
        "colab": {
          "base_uri": "https://localhost:8080/",
          "height": 173
        }
      },
      "source": [
        "df.sort_values('quality')"
      ],
      "execution_count": 0,
      "outputs": [
        {
          "output_type": "execute_result",
          "data": {
            "text/html": [
              "<div>\n",
              "<style scoped>\n",
              "    .dataframe tbody tr th:only-of-type {\n",
              "        vertical-align: middle;\n",
              "    }\n",
              "\n",
              "    .dataframe tbody tr th {\n",
              "        vertical-align: top;\n",
              "    }\n",
              "\n",
              "    .dataframe thead th {\n",
              "        text-align: right;\n",
              "    }\n",
              "</style>\n",
              "<table border=\"1\" class=\"dataframe\">\n",
              "  <thead>\n",
              "    <tr style=\"text-align: right;\">\n",
              "      <th></th>\n",
              "      <th>ID</th>\n",
              "      <th>quality</th>\n",
              "    </tr>\n",
              "  </thead>\n",
              "  <tbody>\n",
              "    <tr>\n",
              "      <th>3</th>\n",
              "      <td>103</td>\n",
              "      <td>Excellent</td>\n",
              "    </tr>\n",
              "    <tr>\n",
              "      <th>0</th>\n",
              "      <td>100</td>\n",
              "      <td>good</td>\n",
              "    </tr>\n",
              "    <tr>\n",
              "      <th>2</th>\n",
              "      <td>102</td>\n",
              "      <td>good</td>\n",
              "    </tr>\n",
              "    <tr>\n",
              "      <th>1</th>\n",
              "      <td>101</td>\n",
              "      <td>very good</td>\n",
              "    </tr>\n",
              "  </tbody>\n",
              "</table>\n",
              "</div>"
            ],
            "text/plain": [
              "    ID    quality\n",
              "3  103  Excellent\n",
              "0  100       good\n",
              "2  102       good\n",
              "1  101  very good"
            ]
          },
          "metadata": {
            "tags": []
          },
          "execution_count": 29
        }
      ]
    },
    {
      "cell_type": "code",
      "metadata": {
        "id": "pLbmCA3zXys6",
        "colab_type": "code",
        "colab": {}
      },
      "source": [
        "df['quality'] = df.quality.astype('category')\n"
      ],
      "execution_count": 0,
      "outputs": []
    },
    {
      "cell_type": "code",
      "metadata": {
        "id": "kL7fAzRuVVVl",
        "colab_type": "code",
        "outputId": "3d080993-b480-4a3b-b1fd-ad222173cc3c",
        "colab": {
          "base_uri": "https://localhost:8080/",
          "height": 119
        }
      },
      "source": [
        "df.quality"
      ],
      "execution_count": 0,
      "outputs": [
        {
          "output_type": "execute_result",
          "data": {
            "text/plain": [
              "0         good\n",
              "1    very good\n",
              "2         good\n",
              "3    Excellent\n",
              "Name: quality, dtype: category\n",
              "Categories (3, object): [Excellent, good, very good]"
            ]
          },
          "metadata": {
            "tags": []
          },
          "execution_count": 57
        }
      ]
    },
    {
      "cell_type": "code",
      "metadata": {
        "id": "nkSYN0t0U7lb",
        "colab_type": "code",
        "outputId": "4e342a94-b188-4e62-a9fc-5cb908fb9e4f",
        "colab": {
          "base_uri": "https://localhost:8080/",
          "height": 173
        }
      },
      "source": [
        "df.sort_values('quality' )"
      ],
      "execution_count": 0,
      "outputs": [
        {
          "output_type": "execute_result",
          "data": {
            "text/html": [
              "<div>\n",
              "<style scoped>\n",
              "    .dataframe tbody tr th:only-of-type {\n",
              "        vertical-align: middle;\n",
              "    }\n",
              "\n",
              "    .dataframe tbody tr th {\n",
              "        vertical-align: top;\n",
              "    }\n",
              "\n",
              "    .dataframe thead th {\n",
              "        text-align: right;\n",
              "    }\n",
              "</style>\n",
              "<table border=\"1\" class=\"dataframe\">\n",
              "  <thead>\n",
              "    <tr style=\"text-align: right;\">\n",
              "      <th></th>\n",
              "      <th>ID</th>\n",
              "      <th>quality</th>\n",
              "    </tr>\n",
              "  </thead>\n",
              "  <tbody>\n",
              "    <tr>\n",
              "      <th>3</th>\n",
              "      <td>103</td>\n",
              "      <td>Excellent</td>\n",
              "    </tr>\n",
              "    <tr>\n",
              "      <th>0</th>\n",
              "      <td>100</td>\n",
              "      <td>good</td>\n",
              "    </tr>\n",
              "    <tr>\n",
              "      <th>2</th>\n",
              "      <td>102</td>\n",
              "      <td>good</td>\n",
              "    </tr>\n",
              "    <tr>\n",
              "      <th>1</th>\n",
              "      <td>101</td>\n",
              "      <td>very good</td>\n",
              "    </tr>\n",
              "  </tbody>\n",
              "</table>\n",
              "</div>"
            ],
            "text/plain": [
              "    ID    quality\n",
              "3  103  Excellent\n",
              "0  100       good\n",
              "2  102       good\n",
              "1  101  very good"
            ]
          },
          "metadata": {
            "tags": []
          },
          "execution_count": 58
        }
      ]
    },
    {
      "cell_type": "code",
      "metadata": {
        "id": "KtdJhoPfU_Pu",
        "colab_type": "code",
        "outputId": "442d47c3-2058-453a-8a80-8dd8218b21c5",
        "colab": {
          "base_uri": "https://localhost:8080/",
          "height": 111
        }
      },
      "source": [
        "df.loc[df.quality != 'good', :]# returns category not equal to good"
      ],
      "execution_count": 0,
      "outputs": [
        {
          "output_type": "execute_result",
          "data": {
            "text/html": [
              "<div>\n",
              "<style scoped>\n",
              "    .dataframe tbody tr th:only-of-type {\n",
              "        vertical-align: middle;\n",
              "    }\n",
              "\n",
              "    .dataframe tbody tr th {\n",
              "        vertical-align: top;\n",
              "    }\n",
              "\n",
              "    .dataframe thead th {\n",
              "        text-align: right;\n",
              "    }\n",
              "</style>\n",
              "<table border=\"1\" class=\"dataframe\">\n",
              "  <thead>\n",
              "    <tr style=\"text-align: right;\">\n",
              "      <th></th>\n",
              "      <th>ID</th>\n",
              "      <th>quality</th>\n",
              "    </tr>\n",
              "  </thead>\n",
              "  <tbody>\n",
              "    <tr>\n",
              "      <th>1</th>\n",
              "      <td>101</td>\n",
              "      <td>very good</td>\n",
              "    </tr>\n",
              "    <tr>\n",
              "      <th>3</th>\n",
              "      <td>103</td>\n",
              "      <td>Excellent</td>\n",
              "    </tr>\n",
              "  </tbody>\n",
              "</table>\n",
              "</div>"
            ],
            "text/plain": [
              "    ID    quality\n",
              "1  101  very good\n",
              "3  103  Excellent"
            ]
          },
          "metadata": {
            "tags": []
          },
          "execution_count": 59
        }
      ]
    },
    {
      "cell_type": "code",
      "metadata": {
        "id": "X13k6lM3XChM",
        "colab_type": "code",
        "outputId": "a7015a7c-af15-40f3-d90b-63604c836316",
        "colab": {
          "base_uri": "https://localhost:8080/",
          "height": 111
        }
      },
      "source": [
        "df.loc[df.quality == 'good', :]# # returns category  equal to good"
      ],
      "execution_count": 0,
      "outputs": [
        {
          "output_type": "execute_result",
          "data": {
            "text/html": [
              "<div>\n",
              "<style scoped>\n",
              "    .dataframe tbody tr th:only-of-type {\n",
              "        vertical-align: middle;\n",
              "    }\n",
              "\n",
              "    .dataframe tbody tr th {\n",
              "        vertical-align: top;\n",
              "    }\n",
              "\n",
              "    .dataframe thead th {\n",
              "        text-align: right;\n",
              "    }\n",
              "</style>\n",
              "<table border=\"1\" class=\"dataframe\">\n",
              "  <thead>\n",
              "    <tr style=\"text-align: right;\">\n",
              "      <th></th>\n",
              "      <th>ID</th>\n",
              "      <th>quality</th>\n",
              "    </tr>\n",
              "  </thead>\n",
              "  <tbody>\n",
              "    <tr>\n",
              "      <th>0</th>\n",
              "      <td>100</td>\n",
              "      <td>good</td>\n",
              "    </tr>\n",
              "    <tr>\n",
              "      <th>2</th>\n",
              "      <td>102</td>\n",
              "      <td>good</td>\n",
              "    </tr>\n",
              "  </tbody>\n",
              "</table>\n",
              "</div>"
            ],
            "text/plain": [
              "    ID quality\n",
              "0  100    good\n",
              "2  102    good"
            ]
          },
          "metadata": {
            "tags": []
          },
          "execution_count": 60
        }
      ]
    },
    {
      "cell_type": "markdown",
      "metadata": {
        "id": "hJMlfJIVl6GT",
        "colab_type": "text"
      },
      "source": [
        "creating dummy variable"
      ]
    },
    {
      "cell_type": "code",
      "metadata": {
        "id": "aa0fHGJ5YLKD",
        "colab_type": "code",
        "colab": {}
      },
      "source": [
        "import pandas as pd\n",
        "import numpy as np"
      ],
      "execution_count": 0,
      "outputs": []
    },
    {
      "cell_type": "code",
      "metadata": {
        "id": "Sy6XK4sJmSk8",
        "colab_type": "code",
        "colab": {}
      },
      "source": [
        "train = pd.read_csv('http://bit.ly/kaggletrain')\n"
      ],
      "execution_count": 0,
      "outputs": []
    },
    {
      "cell_type": "code",
      "metadata": {
        "id": "-ed71bMpmTga",
        "colab_type": "code",
        "outputId": "8bb3b4c1-fc93-4f20-aaf7-dc9584cfd786",
        "colab": {
          "base_uri": "https://localhost:8080/",
          "height": 204
        }
      },
      "source": [
        "train.head()"
      ],
      "execution_count": 0,
      "outputs": [
        {
          "output_type": "execute_result",
          "data": {
            "text/html": [
              "<div>\n",
              "<style scoped>\n",
              "    .dataframe tbody tr th:only-of-type {\n",
              "        vertical-align: middle;\n",
              "    }\n",
              "\n",
              "    .dataframe tbody tr th {\n",
              "        vertical-align: top;\n",
              "    }\n",
              "\n",
              "    .dataframe thead th {\n",
              "        text-align: right;\n",
              "    }\n",
              "</style>\n",
              "<table border=\"1\" class=\"dataframe\">\n",
              "  <thead>\n",
              "    <tr style=\"text-align: right;\">\n",
              "      <th></th>\n",
              "      <th>PassengerId</th>\n",
              "      <th>Survived</th>\n",
              "      <th>Pclass</th>\n",
              "      <th>Name</th>\n",
              "      <th>Sex</th>\n",
              "      <th>Age</th>\n",
              "      <th>SibSp</th>\n",
              "      <th>Parch</th>\n",
              "      <th>Ticket</th>\n",
              "      <th>Fare</th>\n",
              "      <th>Cabin</th>\n",
              "      <th>Embarked</th>\n",
              "    </tr>\n",
              "  </thead>\n",
              "  <tbody>\n",
              "    <tr>\n",
              "      <th>0</th>\n",
              "      <td>1</td>\n",
              "      <td>0</td>\n",
              "      <td>3</td>\n",
              "      <td>Braund, Mr. Owen Harris</td>\n",
              "      <td>male</td>\n",
              "      <td>22.0</td>\n",
              "      <td>1</td>\n",
              "      <td>0</td>\n",
              "      <td>A/5 21171</td>\n",
              "      <td>7.2500</td>\n",
              "      <td>NaN</td>\n",
              "      <td>S</td>\n",
              "    </tr>\n",
              "    <tr>\n",
              "      <th>1</th>\n",
              "      <td>2</td>\n",
              "      <td>1</td>\n",
              "      <td>1</td>\n",
              "      <td>Cumings, Mrs. John Bradley (Florence Briggs Th...</td>\n",
              "      <td>female</td>\n",
              "      <td>38.0</td>\n",
              "      <td>1</td>\n",
              "      <td>0</td>\n",
              "      <td>PC 17599</td>\n",
              "      <td>71.2833</td>\n",
              "      <td>C85</td>\n",
              "      <td>C</td>\n",
              "    </tr>\n",
              "    <tr>\n",
              "      <th>2</th>\n",
              "      <td>3</td>\n",
              "      <td>1</td>\n",
              "      <td>3</td>\n",
              "      <td>Heikkinen, Miss. Laina</td>\n",
              "      <td>female</td>\n",
              "      <td>26.0</td>\n",
              "      <td>0</td>\n",
              "      <td>0</td>\n",
              "      <td>STON/O2. 3101282</td>\n",
              "      <td>7.9250</td>\n",
              "      <td>NaN</td>\n",
              "      <td>S</td>\n",
              "    </tr>\n",
              "    <tr>\n",
              "      <th>3</th>\n",
              "      <td>4</td>\n",
              "      <td>1</td>\n",
              "      <td>1</td>\n",
              "      <td>Futrelle, Mrs. Jacques Heath (Lily May Peel)</td>\n",
              "      <td>female</td>\n",
              "      <td>35.0</td>\n",
              "      <td>1</td>\n",
              "      <td>0</td>\n",
              "      <td>113803</td>\n",
              "      <td>53.1000</td>\n",
              "      <td>C123</td>\n",
              "      <td>S</td>\n",
              "    </tr>\n",
              "    <tr>\n",
              "      <th>4</th>\n",
              "      <td>5</td>\n",
              "      <td>0</td>\n",
              "      <td>3</td>\n",
              "      <td>Allen, Mr. William Henry</td>\n",
              "      <td>male</td>\n",
              "      <td>35.0</td>\n",
              "      <td>0</td>\n",
              "      <td>0</td>\n",
              "      <td>373450</td>\n",
              "      <td>8.0500</td>\n",
              "      <td>NaN</td>\n",
              "      <td>S</td>\n",
              "    </tr>\n",
              "  </tbody>\n",
              "</table>\n",
              "</div>"
            ],
            "text/plain": [
              "   PassengerId  Survived  Pclass  ...     Fare Cabin  Embarked\n",
              "0            1         0       3  ...   7.2500   NaN         S\n",
              "1            2         1       1  ...  71.2833   C85         C\n",
              "2            3         1       3  ...   7.9250   NaN         S\n",
              "3            4         1       1  ...  53.1000  C123         S\n",
              "4            5         0       3  ...   8.0500   NaN         S\n",
              "\n",
              "[5 rows x 12 columns]"
            ]
          },
          "metadata": {
            "tags": []
          },
          "execution_count": 3
        }
      ]
    },
    {
      "cell_type": "code",
      "metadata": {
        "id": "D1farQDamVZu",
        "colab_type": "code",
        "outputId": "abec0874-6654-4ea3-d22b-9bc5bf31157a",
        "colab": {
          "base_uri": "https://localhost:8080/",
          "height": 238
        }
      },
      "source": [
        "pd.get_dummies(train,columns=['Sex','Embarked'],drop_first=True).head()"
      ],
      "execution_count": 0,
      "outputs": [
        {
          "output_type": "execute_result",
          "data": {
            "text/html": [
              "<div>\n",
              "<style scoped>\n",
              "    .dataframe tbody tr th:only-of-type {\n",
              "        vertical-align: middle;\n",
              "    }\n",
              "\n",
              "    .dataframe tbody tr th {\n",
              "        vertical-align: top;\n",
              "    }\n",
              "\n",
              "    .dataframe thead th {\n",
              "        text-align: right;\n",
              "    }\n",
              "</style>\n",
              "<table border=\"1\" class=\"dataframe\">\n",
              "  <thead>\n",
              "    <tr style=\"text-align: right;\">\n",
              "      <th></th>\n",
              "      <th>PassengerId</th>\n",
              "      <th>Survived</th>\n",
              "      <th>Pclass</th>\n",
              "      <th>Name</th>\n",
              "      <th>Age</th>\n",
              "      <th>SibSp</th>\n",
              "      <th>Parch</th>\n",
              "      <th>Ticket</th>\n",
              "      <th>Fare</th>\n",
              "      <th>Cabin</th>\n",
              "      <th>Sex_male</th>\n",
              "      <th>Embarked_Q</th>\n",
              "      <th>Embarked_S</th>\n",
              "    </tr>\n",
              "  </thead>\n",
              "  <tbody>\n",
              "    <tr>\n",
              "      <th>0</th>\n",
              "      <td>1</td>\n",
              "      <td>0</td>\n",
              "      <td>3</td>\n",
              "      <td>Braund, Mr. Owen Harris</td>\n",
              "      <td>22.0</td>\n",
              "      <td>1</td>\n",
              "      <td>0</td>\n",
              "      <td>A/5 21171</td>\n",
              "      <td>7.2500</td>\n",
              "      <td>NaN</td>\n",
              "      <td>1</td>\n",
              "      <td>0</td>\n",
              "      <td>1</td>\n",
              "    </tr>\n",
              "    <tr>\n",
              "      <th>1</th>\n",
              "      <td>2</td>\n",
              "      <td>1</td>\n",
              "      <td>1</td>\n",
              "      <td>Cumings, Mrs. John Bradley (Florence Briggs Th...</td>\n",
              "      <td>38.0</td>\n",
              "      <td>1</td>\n",
              "      <td>0</td>\n",
              "      <td>PC 17599</td>\n",
              "      <td>71.2833</td>\n",
              "      <td>C85</td>\n",
              "      <td>0</td>\n",
              "      <td>0</td>\n",
              "      <td>0</td>\n",
              "    </tr>\n",
              "    <tr>\n",
              "      <th>2</th>\n",
              "      <td>3</td>\n",
              "      <td>1</td>\n",
              "      <td>3</td>\n",
              "      <td>Heikkinen, Miss. Laina</td>\n",
              "      <td>26.0</td>\n",
              "      <td>0</td>\n",
              "      <td>0</td>\n",
              "      <td>STON/O2. 3101282</td>\n",
              "      <td>7.9250</td>\n",
              "      <td>NaN</td>\n",
              "      <td>0</td>\n",
              "      <td>0</td>\n",
              "      <td>1</td>\n",
              "    </tr>\n",
              "    <tr>\n",
              "      <th>3</th>\n",
              "      <td>4</td>\n",
              "      <td>1</td>\n",
              "      <td>1</td>\n",
              "      <td>Futrelle, Mrs. Jacques Heath (Lily May Peel)</td>\n",
              "      <td>35.0</td>\n",
              "      <td>1</td>\n",
              "      <td>0</td>\n",
              "      <td>113803</td>\n",
              "      <td>53.1000</td>\n",
              "      <td>C123</td>\n",
              "      <td>0</td>\n",
              "      <td>0</td>\n",
              "      <td>1</td>\n",
              "    </tr>\n",
              "    <tr>\n",
              "      <th>4</th>\n",
              "      <td>5</td>\n",
              "      <td>0</td>\n",
              "      <td>3</td>\n",
              "      <td>Allen, Mr. William Henry</td>\n",
              "      <td>35.0</td>\n",
              "      <td>0</td>\n",
              "      <td>0</td>\n",
              "      <td>373450</td>\n",
              "      <td>8.0500</td>\n",
              "      <td>NaN</td>\n",
              "      <td>1</td>\n",
              "      <td>0</td>\n",
              "      <td>1</td>\n",
              "    </tr>\n",
              "  </tbody>\n",
              "</table>\n",
              "</div>"
            ],
            "text/plain": [
              "   PassengerId  Survived  Pclass  ... Sex_male  Embarked_Q  Embarked_S\n",
              "0            1         0       3  ...        1           0           1\n",
              "1            2         1       1  ...        0           0           0\n",
              "2            3         1       3  ...        0           0           1\n",
              "3            4         1       1  ...        0           0           1\n",
              "4            5         0       3  ...        1           0           1\n",
              "\n",
              "[5 rows x 13 columns]"
            ]
          },
          "metadata": {
            "tags": []
          },
          "execution_count": 5
        }
      ]
    },
    {
      "cell_type": "markdown",
      "metadata": {
        "id": "gUJ9wpk2u8rK",
        "colab_type": "text"
      },
      "source": [
        "Work with Date and time"
      ]
    },
    {
      "cell_type": "code",
      "metadata": {
        "id": "ELZGM2FPsTgz",
        "colab_type": "code",
        "outputId": "ac2c9893-122f-4a7a-c48c-d98fa2a8cae9",
        "colab": {
          "base_uri": "https://localhost:8080/",
          "height": 204
        }
      },
      "source": [
        "ufo = pd.read_csv('http://bit.ly/uforeports')\n",
        "ufo.head()"
      ],
      "execution_count": 0,
      "outputs": [
        {
          "output_type": "execute_result",
          "data": {
            "text/html": [
              "<div>\n",
              "<style scoped>\n",
              "    .dataframe tbody tr th:only-of-type {\n",
              "        vertical-align: middle;\n",
              "    }\n",
              "\n",
              "    .dataframe tbody tr th {\n",
              "        vertical-align: top;\n",
              "    }\n",
              "\n",
              "    .dataframe thead th {\n",
              "        text-align: right;\n",
              "    }\n",
              "</style>\n",
              "<table border=\"1\" class=\"dataframe\">\n",
              "  <thead>\n",
              "    <tr style=\"text-align: right;\">\n",
              "      <th></th>\n",
              "      <th>City</th>\n",
              "      <th>Colors Reported</th>\n",
              "      <th>Shape Reported</th>\n",
              "      <th>State</th>\n",
              "      <th>Time</th>\n",
              "    </tr>\n",
              "  </thead>\n",
              "  <tbody>\n",
              "    <tr>\n",
              "      <th>0</th>\n",
              "      <td>Ithaca</td>\n",
              "      <td>NaN</td>\n",
              "      <td>TRIANGLE</td>\n",
              "      <td>NY</td>\n",
              "      <td>6/1/1930 22:00</td>\n",
              "    </tr>\n",
              "    <tr>\n",
              "      <th>1</th>\n",
              "      <td>Willingboro</td>\n",
              "      <td>NaN</td>\n",
              "      <td>OTHER</td>\n",
              "      <td>NJ</td>\n",
              "      <td>6/30/1930 20:00</td>\n",
              "    </tr>\n",
              "    <tr>\n",
              "      <th>2</th>\n",
              "      <td>Holyoke</td>\n",
              "      <td>NaN</td>\n",
              "      <td>OVAL</td>\n",
              "      <td>CO</td>\n",
              "      <td>2/15/1931 14:00</td>\n",
              "    </tr>\n",
              "    <tr>\n",
              "      <th>3</th>\n",
              "      <td>Abilene</td>\n",
              "      <td>NaN</td>\n",
              "      <td>DISK</td>\n",
              "      <td>KS</td>\n",
              "      <td>6/1/1931 13:00</td>\n",
              "    </tr>\n",
              "    <tr>\n",
              "      <th>4</th>\n",
              "      <td>New York Worlds Fair</td>\n",
              "      <td>NaN</td>\n",
              "      <td>LIGHT</td>\n",
              "      <td>NY</td>\n",
              "      <td>4/18/1933 19:00</td>\n",
              "    </tr>\n",
              "  </tbody>\n",
              "</table>\n",
              "</div>"
            ],
            "text/plain": [
              "                   City Colors Reported Shape Reported State             Time\n",
              "0                Ithaca             NaN       TRIANGLE    NY   6/1/1930 22:00\n",
              "1           Willingboro             NaN          OTHER    NJ  6/30/1930 20:00\n",
              "2               Holyoke             NaN           OVAL    CO  2/15/1931 14:00\n",
              "3               Abilene             NaN           DISK    KS   6/1/1931 13:00\n",
              "4  New York Worlds Fair             NaN          LIGHT    NY  4/18/1933 19:00"
            ]
          },
          "metadata": {
            "tags": []
          },
          "execution_count": 11
        }
      ]
    },
    {
      "cell_type": "code",
      "metadata": {
        "id": "DIjoVK7wvFPO",
        "colab_type": "code",
        "colab": {}
      },
      "source": [
        "ufo['Time']=  pd.to_datetime(ufo.Time)"
      ],
      "execution_count": 0,
      "outputs": []
    },
    {
      "cell_type": "code",
      "metadata": {
        "id": "0IIgDGwtv7uH",
        "colab_type": "code",
        "outputId": "f4daad3f-ec48-4565-c4ea-77995eaad7fe",
        "colab": {
          "base_uri": "https://localhost:8080/",
          "height": 119
        }
      },
      "source": [
        "ufo.dtypes\n"
      ],
      "execution_count": 0,
      "outputs": [
        {
          "output_type": "execute_result",
          "data": {
            "text/plain": [
              "City                       object\n",
              "Colors Reported            object\n",
              "Shape Reported             object\n",
              "State                      object\n",
              "Time               datetime64[ns]\n",
              "dtype: object"
            ]
          },
          "metadata": {
            "tags": []
          },
          "execution_count": 10
        }
      ]
    },
    {
      "cell_type": "code",
      "metadata": {
        "id": "LEfE4GvZwEmo",
        "colab_type": "code",
        "outputId": "2fd34d9e-8869-4887-b17c-c54d36dd06fa",
        "colab": {
          "base_uri": "https://localhost:8080/",
          "height": 221
        }
      },
      "source": [
        "ufo.Time.dt.hour"
      ],
      "execution_count": 0,
      "outputs": [
        {
          "output_type": "execute_result",
          "data": {
            "text/plain": [
              "0        22\n",
              "1        20\n",
              "2        14\n",
              "3        13\n",
              "4        19\n",
              "         ..\n",
              "18236    23\n",
              "18237    23\n",
              "18238    23\n",
              "18239    23\n",
              "18240    23\n",
              "Name: Time, Length: 18241, dtype: int64"
            ]
          },
          "metadata": {
            "tags": []
          },
          "execution_count": 13
        }
      ]
    },
    {
      "cell_type": "code",
      "metadata": {
        "id": "2BF6hXFtwPEM",
        "colab_type": "code",
        "outputId": "52d55c2a-f6ce-40d8-c380-ae16170bd7f3",
        "colab": {
          "base_uri": "https://localhost:8080/",
          "height": 221
        }
      },
      "source": [
        "ufo.Time.dt.weekday_name"
      ],
      "execution_count": 0,
      "outputs": [
        {
          "output_type": "execute_result",
          "data": {
            "text/plain": [
              "0         Sunday\n",
              "1         Monday\n",
              "2         Sunday\n",
              "3         Monday\n",
              "4        Tuesday\n",
              "          ...   \n",
              "18236     Sunday\n",
              "18237     Sunday\n",
              "18238     Sunday\n",
              "18239     Sunday\n",
              "18240     Sunday\n",
              "Name: Time, Length: 18241, dtype: object"
            ]
          },
          "metadata": {
            "tags": []
          },
          "execution_count": 15
        }
      ]
    },
    {
      "cell_type": "code",
      "metadata": {
        "id": "_L44F0gRwdEt",
        "colab_type": "code",
        "outputId": "08c7205f-b99c-465c-927d-55ee81f6dfe2",
        "colab": {
          "base_uri": "https://localhost:8080/",
          "height": 102
        }
      },
      "source": [
        "ufo.Time.groupby(by=ufo.Time.dt.hour).count().head(3)"
      ],
      "execution_count": 0,
      "outputs": [
        {
          "output_type": "execute_result",
          "data": {
            "text/plain": [
              "Time\n",
              "0    1207\n",
              "1     818\n",
              "2     688\n",
              "Name: Time, dtype: int64"
            ]
          },
          "metadata": {
            "tags": []
          },
          "execution_count": 24
        }
      ]
    },
    {
      "cell_type": "code",
      "metadata": {
        "id": "Ca3KsefmxI0Q",
        "colab_type": "code",
        "outputId": "c40aba9d-324c-48a7-ac06-2e46775ffe52",
        "colab": {
          "base_uri": "https://localhost:8080/",
          "height": 34
        }
      },
      "source": [
        "ufo.Time.max()"
      ],
      "execution_count": 0,
      "outputs": [
        {
          "output_type": "execute_result",
          "data": {
            "text/plain": [
              "Timestamp('2000-12-31 23:59:00')"
            ]
          },
          "metadata": {
            "tags": []
          },
          "execution_count": 26
        }
      ]
    },
    {
      "cell_type": "code",
      "metadata": {
        "id": "Qf5jkkVnyAr6",
        "colab_type": "code",
        "outputId": "c2312952-4eeb-4c26-958a-8246adfc8a3b",
        "colab": {
          "base_uri": "https://localhost:8080/",
          "height": 221
        }
      },
      "source": [
        "ufo.Time.value_counts()"
      ],
      "execution_count": 0,
      "outputs": [
        {
          "output_type": "execute_result",
          "data": {
            "text/plain": [
              "1999-11-16 19:00:00    27\n",
              "1999-11-16 18:05:00    20\n",
              "1999-11-16 19:05:00    19\n",
              "1999-09-01 21:30:00    19\n",
              "1999-11-16 18:00:00    17\n",
              "                       ..\n",
              "1996-05-09 21:23:00     1\n",
              "1999-03-26 22:37:00     1\n",
              "1978-06-12 00:00:00     1\n",
              "1980-10-01 23:00:00     1\n",
              "2000-06-23 22:40:00     1\n",
              "Name: Time, Length: 16145, dtype: int64"
            ]
          },
          "metadata": {
            "tags": []
          },
          "execution_count": 37
        }
      ]
    },
    {
      "cell_type": "code",
      "metadata": {
        "id": "XG-1-5D_yOkq",
        "colab_type": "code",
        "outputId": "4b08eda9-65eb-4409-ed2c-9ec9df3f44bf",
        "colab": {
          "base_uri": "https://localhost:8080/",
          "height": 238
        }
      },
      "source": [
        "ufo.Time.groupby(ufo.Time.dt.year).value_counts()"
      ],
      "execution_count": 0,
      "outputs": [
        {
          "output_type": "execute_result",
          "data": {
            "text/plain": [
              "Time  Time               \n",
              "1930  1930-06-01 22:00:00    1\n",
              "      1930-06-30 20:00:00    1\n",
              "1931  1931-02-15 14:00:00    1\n",
              "      1931-06-01 13:00:00    1\n",
              "1933  1933-04-18 19:00:00    1\n",
              "                            ..\n",
              "2000  2000-12-31 11:45:00    1\n",
              "      2000-12-31 20:30:00    1\n",
              "      2000-12-31 21:00:00    1\n",
              "      2000-12-31 22:00:00    1\n",
              "      2000-12-31 23:59:00    1\n",
              "Name: Time, Length: 16145, dtype: int64"
            ]
          },
          "metadata": {
            "tags": []
          },
          "execution_count": 41
        }
      ]
    },
    {
      "cell_type": "code",
      "metadata": {
        "id": "sEUCiozO6t2h",
        "colab_type": "code",
        "outputId": "ee6e45d9-59ec-446c-8058-ed373e57ce68",
        "colab": {
          "base_uri": "https://localhost:8080/",
          "height": 34
        }
      },
      "source": [
        "ufo.columns"
      ],
      "execution_count": 0,
      "outputs": [
        {
          "output_type": "execute_result",
          "data": {
            "text/plain": [
              "Index(['City', 'Colors Reported', 'Shape Reported', 'State', 'Time'], dtype='object')"
            ]
          },
          "metadata": {
            "tags": []
          },
          "execution_count": 14
        }
      ]
    },
    {
      "cell_type": "code",
      "metadata": {
        "id": "aBghXKj16Pj0",
        "colab_type": "code",
        "outputId": "758c9d59-f296-47a9-c11b-a0367be239fa",
        "colab": {
          "base_uri": "https://localhost:8080/",
          "height": 238
        }
      },
      "source": [
        "ufo.groupby(['Time','Shape Reported']).State.max()"
      ],
      "execution_count": 0,
      "outputs": [
        {
          "output_type": "execute_result",
          "data": {
            "text/plain": [
              "Time            Shape Reported\n",
              "1/1/1944 10:00  DISK              WV\n",
              "1/1/1944 12:00  CIGAR             CA\n",
              "                DISK              WV\n",
              "1/1/1945 12:00  CIGAR             VA\n",
              "1/1/1953 14:00  CIGAR             TX\n",
              "                                  ..\n",
              "9/9/2000 2:30   FLASH             PA\n",
              "9/9/2000 3:00   FIREBALL          PA\n",
              "9/9/2000 3:30   FIREBALL          NJ\n",
              "                LIGHT             PA\n",
              "                VARIOUS           PA\n",
              "Name: State, Length: 15106, dtype: object"
            ]
          },
          "metadata": {
            "tags": []
          },
          "execution_count": 19
        }
      ]
    },
    {
      "cell_type": "code",
      "metadata": {
        "id": "34e0iQYPzZFb",
        "colab_type": "code",
        "outputId": "1b091c73-6ddb-455d-c141-0df7a6ffc8b4",
        "colab": {
          "base_uri": "https://localhost:8080/",
          "height": 34
        }
      },
      "source": [
        "ufo.shape"
      ],
      "execution_count": 0,
      "outputs": [
        {
          "output_type": "execute_result",
          "data": {
            "text/plain": [
              "(18241, 5)"
            ]
          },
          "metadata": {
            "tags": []
          },
          "execution_count": 43
        }
      ]
    },
    {
      "cell_type": "markdown",
      "metadata": {
        "id": "4mICdlZc5-FU",
        "colab_type": "text"
      },
      "source": [
        "find duplicate rows"
      ]
    },
    {
      "cell_type": "code",
      "metadata": {
        "id": "VbpBEnPa4oed",
        "colab_type": "code",
        "outputId": "7421e048-664b-4bc9-b95c-8a68b647cd61",
        "colab": {
          "base_uri": "https://localhost:8080/",
          "height": 34
        }
      },
      "source": [
        "ufo.drop_duplicates(keep='first').shape"
      ],
      "execution_count": 0,
      "outputs": [
        {
          "output_type": "execute_result",
          "data": {
            "text/plain": [
              "(18132, 5)"
            ]
          },
          "metadata": {
            "tags": []
          },
          "execution_count": 44
        }
      ]
    },
    {
      "cell_type": "code",
      "metadata": {
        "id": "5v3qDh4N5HeW",
        "colab_type": "code",
        "outputId": "da01edc1-a96b-401e-ea56-45c0d255b54a",
        "colab": {
          "base_uri": "https://localhost:8080/",
          "height": 419
        }
      },
      "source": [
        "ufo[ufo.duplicated()]# to see all the duplicated rows"
      ],
      "execution_count": 0,
      "outputs": [
        {
          "output_type": "execute_result",
          "data": {
            "text/html": [
              "<div>\n",
              "<style scoped>\n",
              "    .dataframe tbody tr th:only-of-type {\n",
              "        vertical-align: middle;\n",
              "    }\n",
              "\n",
              "    .dataframe tbody tr th {\n",
              "        vertical-align: top;\n",
              "    }\n",
              "\n",
              "    .dataframe thead th {\n",
              "        text-align: right;\n",
              "    }\n",
              "</style>\n",
              "<table border=\"1\" class=\"dataframe\">\n",
              "  <thead>\n",
              "    <tr style=\"text-align: right;\">\n",
              "      <th></th>\n",
              "      <th>City</th>\n",
              "      <th>Colors Reported</th>\n",
              "      <th>Shape Reported</th>\n",
              "      <th>State</th>\n",
              "      <th>Time</th>\n",
              "    </tr>\n",
              "  </thead>\n",
              "  <tbody>\n",
              "    <tr>\n",
              "      <th>195</th>\n",
              "      <td>Miami</td>\n",
              "      <td>NaN</td>\n",
              "      <td>DISK</td>\n",
              "      <td>FL</td>\n",
              "      <td>1952-06-30 21:00:00</td>\n",
              "    </tr>\n",
              "    <tr>\n",
              "      <th>469</th>\n",
              "      <td>Madison</td>\n",
              "      <td>NaN</td>\n",
              "      <td>CIGAR</td>\n",
              "      <td>WI</td>\n",
              "      <td>1957-12-28 00:00:00</td>\n",
              "    </tr>\n",
              "    <tr>\n",
              "      <th>473</th>\n",
              "      <td>Winooski</td>\n",
              "      <td>NaN</td>\n",
              "      <td>OVAL</td>\n",
              "      <td>VT</td>\n",
              "      <td>1958-04-17 21:30:00</td>\n",
              "    </tr>\n",
              "    <tr>\n",
              "      <th>869</th>\n",
              "      <td>Covina</td>\n",
              "      <td>NaN</td>\n",
              "      <td>CIGAR</td>\n",
              "      <td>CA</td>\n",
              "      <td>1964-05-15 15:00:00</td>\n",
              "    </tr>\n",
              "    <tr>\n",
              "      <th>943</th>\n",
              "      <td>Mt. Prospect</td>\n",
              "      <td>NaN</td>\n",
              "      <td>DISK</td>\n",
              "      <td>IL</td>\n",
              "      <td>1964-09-25 19:00:00</td>\n",
              "    </tr>\n",
              "    <tr>\n",
              "      <th>...</th>\n",
              "      <td>...</td>\n",
              "      <td>...</td>\n",
              "      <td>...</td>\n",
              "      <td>...</td>\n",
              "      <td>...</td>\n",
              "    </tr>\n",
              "    <tr>\n",
              "      <th>17665</th>\n",
              "      <td>Mohawk Valley</td>\n",
              "      <td>NaN</td>\n",
              "      <td>OTHER</td>\n",
              "      <td>AZ</td>\n",
              "      <td>2000-10-13 01:00:00</td>\n",
              "    </tr>\n",
              "    <tr>\n",
              "      <th>17843</th>\n",
              "      <td>Cygnet</td>\n",
              "      <td>NaN</td>\n",
              "      <td>EGG</td>\n",
              "      <td>OH</td>\n",
              "      <td>2000-10-31 19:15:00</td>\n",
              "    </tr>\n",
              "    <tr>\n",
              "      <th>17871</th>\n",
              "      <td>Dover</td>\n",
              "      <td>NaN</td>\n",
              "      <td>TRIANGLE</td>\n",
              "      <td>DE</td>\n",
              "      <td>2000-11-03 19:40:00</td>\n",
              "    </tr>\n",
              "    <tr>\n",
              "      <th>18195</th>\n",
              "      <td>Walpole</td>\n",
              "      <td>GREEN</td>\n",
              "      <td>FIREBALL</td>\n",
              "      <td>NH</td>\n",
              "      <td>2000-12-26 18:20:00</td>\n",
              "    </tr>\n",
              "    <tr>\n",
              "      <th>18231</th>\n",
              "      <td>Pismo Beach</td>\n",
              "      <td>NaN</td>\n",
              "      <td>OVAL</td>\n",
              "      <td>CA</td>\n",
              "      <td>2000-12-31 20:00:00</td>\n",
              "    </tr>\n",
              "  </tbody>\n",
              "</table>\n",
              "<p>109 rows × 5 columns</p>\n",
              "</div>"
            ],
            "text/plain": [
              "                City Colors Reported Shape Reported State                Time\n",
              "195            Miami             NaN           DISK    FL 1952-06-30 21:00:00\n",
              "469          Madison             NaN          CIGAR    WI 1957-12-28 00:00:00\n",
              "473         Winooski             NaN           OVAL    VT 1958-04-17 21:30:00\n",
              "869           Covina             NaN          CIGAR    CA 1964-05-15 15:00:00\n",
              "943     Mt. Prospect             NaN           DISK    IL 1964-09-25 19:00:00\n",
              "...              ...             ...            ...   ...                 ...\n",
              "17665  Mohawk Valley             NaN          OTHER    AZ 2000-10-13 01:00:00\n",
              "17843         Cygnet             NaN            EGG    OH 2000-10-31 19:15:00\n",
              "17871          Dover             NaN       TRIANGLE    DE 2000-11-03 19:40:00\n",
              "18195        Walpole           GREEN       FIREBALL    NH 2000-12-26 18:20:00\n",
              "18231    Pismo Beach             NaN           OVAL    CA 2000-12-31 20:00:00\n",
              "\n",
              "[109 rows x 5 columns]"
            ]
          },
          "metadata": {
            "tags": []
          },
          "execution_count": 52
        }
      ]
    },
    {
      "cell_type": "code",
      "metadata": {
        "id": "V8SCcmR-5Uih",
        "colab_type": "code",
        "outputId": "b17f6425-ce35-41a1-a748-62fdfbd09e9d",
        "colab": {
          "base_uri": "https://localhost:8080/",
          "height": 419
        }
      },
      "source": [
        "ufo[ufo['Shape Reported'].isnull()]# to see all the missing values in shape reported"
      ],
      "execution_count": 0,
      "outputs": [
        {
          "output_type": "execute_result",
          "data": {
            "text/html": [
              "<div>\n",
              "<style scoped>\n",
              "    .dataframe tbody tr th:only-of-type {\n",
              "        vertical-align: middle;\n",
              "    }\n",
              "\n",
              "    .dataframe tbody tr th {\n",
              "        vertical-align: top;\n",
              "    }\n",
              "\n",
              "    .dataframe thead th {\n",
              "        text-align: right;\n",
              "    }\n",
              "</style>\n",
              "<table border=\"1\" class=\"dataframe\">\n",
              "  <thead>\n",
              "    <tr style=\"text-align: right;\">\n",
              "      <th></th>\n",
              "      <th>City</th>\n",
              "      <th>Colors Reported</th>\n",
              "      <th>Shape Reported</th>\n",
              "      <th>State</th>\n",
              "      <th>Time</th>\n",
              "    </tr>\n",
              "  </thead>\n",
              "  <tbody>\n",
              "    <tr>\n",
              "      <th>16</th>\n",
              "      <td>Los Angeles</td>\n",
              "      <td>NaN</td>\n",
              "      <td>NaN</td>\n",
              "      <td>CA</td>\n",
              "      <td>1942-02-25 00:00:00</td>\n",
              "    </tr>\n",
              "    <tr>\n",
              "      <th>17</th>\n",
              "      <td>Hapeville</td>\n",
              "      <td>NaN</td>\n",
              "      <td>NaN</td>\n",
              "      <td>GA</td>\n",
              "      <td>1942-06-01 22:30:00</td>\n",
              "    </tr>\n",
              "    <tr>\n",
              "      <th>21</th>\n",
              "      <td>NaN</td>\n",
              "      <td>NaN</td>\n",
              "      <td>NaN</td>\n",
              "      <td>LA</td>\n",
              "      <td>1943-08-15 00:00:00</td>\n",
              "    </tr>\n",
              "    <tr>\n",
              "      <th>53</th>\n",
              "      <td>Minden</td>\n",
              "      <td>NaN</td>\n",
              "      <td>NaN</td>\n",
              "      <td>LA</td>\n",
              "      <td>1947-06-01 00:00:00</td>\n",
              "    </tr>\n",
              "    <tr>\n",
              "      <th>56</th>\n",
              "      <td>Oroville</td>\n",
              "      <td>NaN</td>\n",
              "      <td>NaN</td>\n",
              "      <td>CA</td>\n",
              "      <td>1947-06-01 18:00:00</td>\n",
              "    </tr>\n",
              "    <tr>\n",
              "      <th>...</th>\n",
              "      <td>...</td>\n",
              "      <td>...</td>\n",
              "      <td>...</td>\n",
              "      <td>...</td>\n",
              "      <td>...</td>\n",
              "    </tr>\n",
              "    <tr>\n",
              "      <th>18206</th>\n",
              "      <td>Cerrilillo</td>\n",
              "      <td>NaN</td>\n",
              "      <td>NaN</td>\n",
              "      <td>NM</td>\n",
              "      <td>2000-12-28 11:00:00</td>\n",
              "    </tr>\n",
              "    <tr>\n",
              "      <th>18223</th>\n",
              "      <td>Greenville</td>\n",
              "      <td>NaN</td>\n",
              "      <td>NaN</td>\n",
              "      <td>SC</td>\n",
              "      <td>2000-12-29 22:00:00</td>\n",
              "    </tr>\n",
              "    <tr>\n",
              "      <th>18232</th>\n",
              "      <td>Lodi</td>\n",
              "      <td>NaN</td>\n",
              "      <td>NaN</td>\n",
              "      <td>WI</td>\n",
              "      <td>2000-12-31 20:30:00</td>\n",
              "    </tr>\n",
              "    <tr>\n",
              "      <th>18235</th>\n",
              "      <td>Fountain Hills</td>\n",
              "      <td>NaN</td>\n",
              "      <td>NaN</td>\n",
              "      <td>AZ</td>\n",
              "      <td>2000-12-31 23:00:00</td>\n",
              "    </tr>\n",
              "    <tr>\n",
              "      <th>18238</th>\n",
              "      <td>Eagle River</td>\n",
              "      <td>NaN</td>\n",
              "      <td>NaN</td>\n",
              "      <td>WI</td>\n",
              "      <td>2000-12-31 23:45:00</td>\n",
              "    </tr>\n",
              "  </tbody>\n",
              "</table>\n",
              "<p>2644 rows × 5 columns</p>\n",
              "</div>"
            ],
            "text/plain": [
              "                 City Colors Reported Shape Reported State                Time\n",
              "16        Los Angeles             NaN            NaN    CA 1942-02-25 00:00:00\n",
              "17          Hapeville             NaN            NaN    GA 1942-06-01 22:30:00\n",
              "21                NaN             NaN            NaN    LA 1943-08-15 00:00:00\n",
              "53             Minden             NaN            NaN    LA 1947-06-01 00:00:00\n",
              "56           Oroville             NaN            NaN    CA 1947-06-01 18:00:00\n",
              "...               ...             ...            ...   ...                 ...\n",
              "18206      Cerrilillo             NaN            NaN    NM 2000-12-28 11:00:00\n",
              "18223      Greenville             NaN            NaN    SC 2000-12-29 22:00:00\n",
              "18232            Lodi             NaN            NaN    WI 2000-12-31 20:30:00\n",
              "18235  Fountain Hills             NaN            NaN    AZ 2000-12-31 23:00:00\n",
              "18238     Eagle River             NaN            NaN    WI 2000-12-31 23:45:00\n",
              "\n",
              "[2644 rows x 5 columns]"
            ]
          },
          "metadata": {
            "tags": []
          },
          "execution_count": 55
        }
      ]
    },
    {
      "cell_type": "code",
      "metadata": {
        "id": "24X0vWX38fmk",
        "colab_type": "code",
        "outputId": "28a5f557-7455-4038-d62e-8580ab6df5f0",
        "colab": {
          "base_uri": "https://localhost:8080/",
          "height": 204
        }
      },
      "source": [
        "import pandas as pd\n",
        "import numpy as np\n",
        "drinks = pd.read_csv('http://bit.ly/drinksbycountry')\n",
        "drinks.head()"
      ],
      "execution_count": 0,
      "outputs": [
        {
          "output_type": "execute_result",
          "data": {
            "text/html": [
              "<div>\n",
              "<style scoped>\n",
              "    .dataframe tbody tr th:only-of-type {\n",
              "        vertical-align: middle;\n",
              "    }\n",
              "\n",
              "    .dataframe tbody tr th {\n",
              "        vertical-align: top;\n",
              "    }\n",
              "\n",
              "    .dataframe thead th {\n",
              "        text-align: right;\n",
              "    }\n",
              "</style>\n",
              "<table border=\"1\" class=\"dataframe\">\n",
              "  <thead>\n",
              "    <tr style=\"text-align: right;\">\n",
              "      <th></th>\n",
              "      <th>country</th>\n",
              "      <th>beer_servings</th>\n",
              "      <th>spirit_servings</th>\n",
              "      <th>wine_servings</th>\n",
              "      <th>total_litres_of_pure_alcohol</th>\n",
              "      <th>continent</th>\n",
              "    </tr>\n",
              "  </thead>\n",
              "  <tbody>\n",
              "    <tr>\n",
              "      <th>0</th>\n",
              "      <td>Afghanistan</td>\n",
              "      <td>0</td>\n",
              "      <td>0</td>\n",
              "      <td>0</td>\n",
              "      <td>0.0</td>\n",
              "      <td>Asia</td>\n",
              "    </tr>\n",
              "    <tr>\n",
              "      <th>1</th>\n",
              "      <td>Albania</td>\n",
              "      <td>89</td>\n",
              "      <td>132</td>\n",
              "      <td>54</td>\n",
              "      <td>4.9</td>\n",
              "      <td>Europe</td>\n",
              "    </tr>\n",
              "    <tr>\n",
              "      <th>2</th>\n",
              "      <td>Algeria</td>\n",
              "      <td>25</td>\n",
              "      <td>0</td>\n",
              "      <td>14</td>\n",
              "      <td>0.7</td>\n",
              "      <td>Africa</td>\n",
              "    </tr>\n",
              "    <tr>\n",
              "      <th>3</th>\n",
              "      <td>Andorra</td>\n",
              "      <td>245</td>\n",
              "      <td>138</td>\n",
              "      <td>312</td>\n",
              "      <td>12.4</td>\n",
              "      <td>Europe</td>\n",
              "    </tr>\n",
              "    <tr>\n",
              "      <th>4</th>\n",
              "      <td>Angola</td>\n",
              "      <td>217</td>\n",
              "      <td>57</td>\n",
              "      <td>45</td>\n",
              "      <td>5.9</td>\n",
              "      <td>Africa</td>\n",
              "    </tr>\n",
              "  </tbody>\n",
              "</table>\n",
              "</div>"
            ],
            "text/plain": [
              "       country  beer_servings  ...  total_litres_of_pure_alcohol  continent\n",
              "0  Afghanistan              0  ...                           0.0       Asia\n",
              "1      Albania             89  ...                           4.9     Europe\n",
              "2      Algeria             25  ...                           0.7     Africa\n",
              "3      Andorra            245  ...                          12.4     Europe\n",
              "4       Angola            217  ...                           5.9     Africa\n",
              "\n",
              "[5 rows x 6 columns]"
            ]
          },
          "metadata": {
            "tags": []
          },
          "execution_count": 5
        }
      ]
    },
    {
      "cell_type": "code",
      "metadata": {
        "id": "sYZmjLA41SEz",
        "colab_type": "code",
        "outputId": "c5fa805e-814a-4390-e3cc-7feb0b5b6acd",
        "colab": {
          "base_uri": "https://localhost:8080/",
          "height": 85
        }
      },
      "source": [
        "drinks.loc[:,'beer_servings':'wine_servings'].apply(max,axis=0)"
      ],
      "execution_count": 0,
      "outputs": [
        {
          "output_type": "execute_result",
          "data": {
            "text/plain": [
              "beer_servings      376\n",
              "spirit_servings    438\n",
              "wine_servings      370\n",
              "dtype: int64"
            ]
          },
          "metadata": {
            "tags": []
          },
          "execution_count": 10
        }
      ]
    },
    {
      "cell_type": "code",
      "metadata": {
        "id": "iLoCwvj92beR",
        "colab_type": "code",
        "colab": {}
      },
      "source": [
        "import pandas as pd\n",
        "import numpy as np"
      ],
      "execution_count": 0,
      "outputs": []
    },
    {
      "cell_type": "code",
      "metadata": {
        "id": "3ObialpzwVOJ",
        "colab_type": "code",
        "outputId": "813e505a-c4c5-4205-8559-d818871c15f6",
        "colab": {
          "base_uri": "https://localhost:8080/",
          "height": 34
        }
      },
      "source": [
        "pd.__version__"
      ],
      "execution_count": 0,
      "outputs": [
        {
          "output_type": "execute_result",
          "data": {
            "text/plain": [
              "'0.25.3'"
            ]
          },
          "metadata": {
            "tags": []
          },
          "execution_count": 4
        }
      ]
    },
    {
      "cell_type": "code",
      "metadata": {
        "id": "OGSiE3jAwYIW",
        "colab_type": "code",
        "outputId": "32746ac8-64c6-4acc-caf1-9f9aea2b5c11",
        "colab": {
          "base_uri": "https://localhost:8080/",
          "height": 136
        }
      },
      "source": [
        "drinks.isnull().sum()"
      ],
      "execution_count": 0,
      "outputs": [
        {
          "output_type": "execute_result",
          "data": {
            "text/plain": [
              "country                         0\n",
              "beer_servings                   0\n",
              "spirit_servings                 0\n",
              "wine_servings                   0\n",
              "total_litres_of_pure_alcohol    0\n",
              "continent                       0\n",
              "dtype: int64"
            ]
          },
          "metadata": {
            "tags": []
          },
          "execution_count": 6
        }
      ]
    },
    {
      "cell_type": "code",
      "metadata": {
        "id": "ugtq1zY11ubB",
        "colab_type": "code",
        "outputId": "e5eb4d5b-92af-457c-c102-6017c06b1459",
        "colab": {
          "base_uri": "https://localhost:8080/",
          "height": 136
        }
      },
      "source": [
        "drinks.isna().sum()"
      ],
      "execution_count": 0,
      "outputs": [
        {
          "output_type": "execute_result",
          "data": {
            "text/plain": [
              "country                         0\n",
              "beer_servings                   0\n",
              "spirit_servings                 0\n",
              "wine_servings                   0\n",
              "total_litres_of_pure_alcohol    0\n",
              "continent                       0\n",
              "dtype: int64"
            ]
          },
          "metadata": {
            "tags": []
          },
          "execution_count": 8
        }
      ]
    },
    {
      "cell_type": "code",
      "metadata": {
        "id": "JPwL3EzO1yoy",
        "colab_type": "code",
        "colab": {}
      },
      "source": [
        "import pandas as pd\n",
        "import numpy as np\n"
      ],
      "execution_count": 0,
      "outputs": []
    },
    {
      "cell_type": "markdown",
      "metadata": {
        "id": "qc8QZ899R1Iy",
        "colab_type": "text"
      },
      "source": [
        "Excercise - Pandas"
      ]
    },
    {
      "cell_type": "code",
      "metadata": {
        "id": "MS2pFvTbLcGf",
        "colab_type": "code",
        "outputId": "da71fa74-6228-489a-9932-745827675e98",
        "colab": {
          "base_uri": "https://localhost:8080/",
          "height": 34
        }
      },
      "source": [
        "pd.__version__"
      ],
      "execution_count": 0,
      "outputs": [
        {
          "output_type": "execute_result",
          "data": {
            "text/plain": [
              "'0.25.3'"
            ]
          },
          "metadata": {
            "tags": []
          },
          "execution_count": 2
        }
      ]
    },
    {
      "cell_type": "code",
      "metadata": {
        "id": "RdSqDIArLe3o",
        "colab_type": "code",
        "colab": {}
      },
      "source": [
        "dfs = pd.DataFrame({'Name':['a','b','c'],'id': [1,3,4]})"
      ],
      "execution_count": 0,
      "outputs": []
    },
    {
      "cell_type": "code",
      "metadata": {
        "id": "3zLz_hK8QPBN",
        "colab_type": "code",
        "outputId": "5886182e-c4df-4d2f-bf94-2ea60243ba4e",
        "colab": {
          "base_uri": "https://localhost:8080/",
          "height": 142
        }
      },
      "source": [
        "dfs"
      ],
      "execution_count": 0,
      "outputs": [
        {
          "output_type": "execute_result",
          "data": {
            "text/html": [
              "<div>\n",
              "<style scoped>\n",
              "    .dataframe tbody tr th:only-of-type {\n",
              "        vertical-align: middle;\n",
              "    }\n",
              "\n",
              "    .dataframe tbody tr th {\n",
              "        vertical-align: top;\n",
              "    }\n",
              "\n",
              "    .dataframe thead th {\n",
              "        text-align: right;\n",
              "    }\n",
              "</style>\n",
              "<table border=\"1\" class=\"dataframe\">\n",
              "  <thead>\n",
              "    <tr style=\"text-align: right;\">\n",
              "      <th></th>\n",
              "      <th>Name</th>\n",
              "      <th>id</th>\n",
              "    </tr>\n",
              "  </thead>\n",
              "  <tbody>\n",
              "    <tr>\n",
              "      <th>0</th>\n",
              "      <td>a</td>\n",
              "      <td>1</td>\n",
              "    </tr>\n",
              "    <tr>\n",
              "      <th>1</th>\n",
              "      <td>b</td>\n",
              "      <td>3</td>\n",
              "    </tr>\n",
              "    <tr>\n",
              "      <th>2</th>\n",
              "      <td>c</td>\n",
              "      <td>4</td>\n",
              "    </tr>\n",
              "  </tbody>\n",
              "</table>\n",
              "</div>"
            ],
            "text/plain": [
              "  Name  id\n",
              "0    a   1\n",
              "1    b   3\n",
              "2    c   4"
            ]
          },
          "metadata": {
            "tags": []
          },
          "execution_count": 7
        }
      ]
    },
    {
      "cell_type": "code",
      "metadata": {
        "id": "sUnMPz51QqcP",
        "colab_type": "code",
        "colab": {}
      },
      "source": [
        "drinks = pd.read_csv('http://bit.ly/drinksbycountry')\n"
      ],
      "execution_count": 0,
      "outputs": []
    },
    {
      "cell_type": "code",
      "metadata": {
        "id": "jPzkL9HsRAc2",
        "colab_type": "code",
        "outputId": "abba9f89-0292-4de0-82ae-bf17adf2757f",
        "colab": {
          "base_uri": "https://localhost:8080/",
          "height": 68
        }
      },
      "source": [
        "drinks.columns"
      ],
      "execution_count": 0,
      "outputs": [
        {
          "output_type": "execute_result",
          "data": {
            "text/plain": [
              "Index(['country', 'beer_servings', 'spirit_servings', 'wine_servings',\n",
              "       'total_litres_of_pure_alcohol', 'continent'],\n",
              "      dtype='object')"
            ]
          },
          "metadata": {
            "tags": []
          },
          "execution_count": 9
        }
      ]
    },
    {
      "cell_type": "code",
      "metadata": {
        "id": "eGKXZM0HRCla",
        "colab_type": "code",
        "outputId": "a3be718b-0f0b-4e30-d7a3-d3adf0adc031",
        "colab": {
          "base_uri": "https://localhost:8080/",
          "height": 419
        }
      },
      "source": [
        "drinks.rename(columns={'country':'Country'})"
      ],
      "execution_count": 0,
      "outputs": [
        {
          "output_type": "execute_result",
          "data": {
            "text/html": [
              "<div>\n",
              "<style scoped>\n",
              "    .dataframe tbody tr th:only-of-type {\n",
              "        vertical-align: middle;\n",
              "    }\n",
              "\n",
              "    .dataframe tbody tr th {\n",
              "        vertical-align: top;\n",
              "    }\n",
              "\n",
              "    .dataframe thead th {\n",
              "        text-align: right;\n",
              "    }\n",
              "</style>\n",
              "<table border=\"1\" class=\"dataframe\">\n",
              "  <thead>\n",
              "    <tr style=\"text-align: right;\">\n",
              "      <th></th>\n",
              "      <th>Country</th>\n",
              "      <th>beer_servings</th>\n",
              "      <th>spirit_servings</th>\n",
              "      <th>wine_servings</th>\n",
              "      <th>total_litres_of_pure_alcohol</th>\n",
              "      <th>continent</th>\n",
              "    </tr>\n",
              "  </thead>\n",
              "  <tbody>\n",
              "    <tr>\n",
              "      <th>0</th>\n",
              "      <td>Afghanistan</td>\n",
              "      <td>0</td>\n",
              "      <td>0</td>\n",
              "      <td>0</td>\n",
              "      <td>0.0</td>\n",
              "      <td>Asia</td>\n",
              "    </tr>\n",
              "    <tr>\n",
              "      <th>1</th>\n",
              "      <td>Albania</td>\n",
              "      <td>89</td>\n",
              "      <td>132</td>\n",
              "      <td>54</td>\n",
              "      <td>4.9</td>\n",
              "      <td>Europe</td>\n",
              "    </tr>\n",
              "    <tr>\n",
              "      <th>2</th>\n",
              "      <td>Algeria</td>\n",
              "      <td>25</td>\n",
              "      <td>0</td>\n",
              "      <td>14</td>\n",
              "      <td>0.7</td>\n",
              "      <td>Africa</td>\n",
              "    </tr>\n",
              "    <tr>\n",
              "      <th>3</th>\n",
              "      <td>Andorra</td>\n",
              "      <td>245</td>\n",
              "      <td>138</td>\n",
              "      <td>312</td>\n",
              "      <td>12.4</td>\n",
              "      <td>Europe</td>\n",
              "    </tr>\n",
              "    <tr>\n",
              "      <th>4</th>\n",
              "      <td>Angola</td>\n",
              "      <td>217</td>\n",
              "      <td>57</td>\n",
              "      <td>45</td>\n",
              "      <td>5.9</td>\n",
              "      <td>Africa</td>\n",
              "    </tr>\n",
              "    <tr>\n",
              "      <th>...</th>\n",
              "      <td>...</td>\n",
              "      <td>...</td>\n",
              "      <td>...</td>\n",
              "      <td>...</td>\n",
              "      <td>...</td>\n",
              "      <td>...</td>\n",
              "    </tr>\n",
              "    <tr>\n",
              "      <th>188</th>\n",
              "      <td>Venezuela</td>\n",
              "      <td>333</td>\n",
              "      <td>100</td>\n",
              "      <td>3</td>\n",
              "      <td>7.7</td>\n",
              "      <td>South America</td>\n",
              "    </tr>\n",
              "    <tr>\n",
              "      <th>189</th>\n",
              "      <td>Vietnam</td>\n",
              "      <td>111</td>\n",
              "      <td>2</td>\n",
              "      <td>1</td>\n",
              "      <td>2.0</td>\n",
              "      <td>Asia</td>\n",
              "    </tr>\n",
              "    <tr>\n",
              "      <th>190</th>\n",
              "      <td>Yemen</td>\n",
              "      <td>6</td>\n",
              "      <td>0</td>\n",
              "      <td>0</td>\n",
              "      <td>0.1</td>\n",
              "      <td>Asia</td>\n",
              "    </tr>\n",
              "    <tr>\n",
              "      <th>191</th>\n",
              "      <td>Zambia</td>\n",
              "      <td>32</td>\n",
              "      <td>19</td>\n",
              "      <td>4</td>\n",
              "      <td>2.5</td>\n",
              "      <td>Africa</td>\n",
              "    </tr>\n",
              "    <tr>\n",
              "      <th>192</th>\n",
              "      <td>Zimbabwe</td>\n",
              "      <td>64</td>\n",
              "      <td>18</td>\n",
              "      <td>4</td>\n",
              "      <td>4.7</td>\n",
              "      <td>Africa</td>\n",
              "    </tr>\n",
              "  </tbody>\n",
              "</table>\n",
              "<p>193 rows × 6 columns</p>\n",
              "</div>"
            ],
            "text/plain": [
              "         Country  beer_servings  ...  total_litres_of_pure_alcohol      continent\n",
              "0    Afghanistan              0  ...                           0.0           Asia\n",
              "1        Albania             89  ...                           4.9         Europe\n",
              "2        Algeria             25  ...                           0.7         Africa\n",
              "3        Andorra            245  ...                          12.4         Europe\n",
              "4         Angola            217  ...                           5.9         Africa\n",
              "..           ...            ...  ...                           ...            ...\n",
              "188    Venezuela            333  ...                           7.7  South America\n",
              "189      Vietnam            111  ...                           2.0           Asia\n",
              "190        Yemen              6  ...                           0.1           Asia\n",
              "191       Zambia             32  ...                           2.5         Africa\n",
              "192     Zimbabwe             64  ...                           4.7         Africa\n",
              "\n",
              "[193 rows x 6 columns]"
            ]
          },
          "metadata": {
            "tags": []
          },
          "execution_count": 11
        }
      ]
    },
    {
      "cell_type": "code",
      "metadata": {
        "id": "phwXWUX2RX6D",
        "colab_type": "code",
        "outputId": "08305146-9fff-4a43-9872-210c4cd053df",
        "colab": {
          "base_uri": "https://localhost:8080/",
          "height": 419
        }
      },
      "source": [
        "drinks.rename(str.upper,axis=1)"
      ],
      "execution_count": 0,
      "outputs": [
        {
          "output_type": "execute_result",
          "data": {
            "text/html": [
              "<div>\n",
              "<style scoped>\n",
              "    .dataframe tbody tr th:only-of-type {\n",
              "        vertical-align: middle;\n",
              "    }\n",
              "\n",
              "    .dataframe tbody tr th {\n",
              "        vertical-align: top;\n",
              "    }\n",
              "\n",
              "    .dataframe thead th {\n",
              "        text-align: right;\n",
              "    }\n",
              "</style>\n",
              "<table border=\"1\" class=\"dataframe\">\n",
              "  <thead>\n",
              "    <tr style=\"text-align: right;\">\n",
              "      <th></th>\n",
              "      <th>COUNTRY</th>\n",
              "      <th>BEER_SERVINGS</th>\n",
              "      <th>SPIRIT_SERVINGS</th>\n",
              "      <th>WINE_SERVINGS</th>\n",
              "      <th>TOTAL_LITRES_OF_PURE_ALCOHOL</th>\n",
              "      <th>CONTINENT</th>\n",
              "    </tr>\n",
              "  </thead>\n",
              "  <tbody>\n",
              "    <tr>\n",
              "      <th>0</th>\n",
              "      <td>Afghanistan</td>\n",
              "      <td>0</td>\n",
              "      <td>0</td>\n",
              "      <td>0</td>\n",
              "      <td>0.0</td>\n",
              "      <td>Asia</td>\n",
              "    </tr>\n",
              "    <tr>\n",
              "      <th>1</th>\n",
              "      <td>Albania</td>\n",
              "      <td>89</td>\n",
              "      <td>132</td>\n",
              "      <td>54</td>\n",
              "      <td>4.9</td>\n",
              "      <td>Europe</td>\n",
              "    </tr>\n",
              "    <tr>\n",
              "      <th>2</th>\n",
              "      <td>Algeria</td>\n",
              "      <td>25</td>\n",
              "      <td>0</td>\n",
              "      <td>14</td>\n",
              "      <td>0.7</td>\n",
              "      <td>Africa</td>\n",
              "    </tr>\n",
              "    <tr>\n",
              "      <th>3</th>\n",
              "      <td>Andorra</td>\n",
              "      <td>245</td>\n",
              "      <td>138</td>\n",
              "      <td>312</td>\n",
              "      <td>12.4</td>\n",
              "      <td>Europe</td>\n",
              "    </tr>\n",
              "    <tr>\n",
              "      <th>4</th>\n",
              "      <td>Angola</td>\n",
              "      <td>217</td>\n",
              "      <td>57</td>\n",
              "      <td>45</td>\n",
              "      <td>5.9</td>\n",
              "      <td>Africa</td>\n",
              "    </tr>\n",
              "    <tr>\n",
              "      <th>...</th>\n",
              "      <td>...</td>\n",
              "      <td>...</td>\n",
              "      <td>...</td>\n",
              "      <td>...</td>\n",
              "      <td>...</td>\n",
              "      <td>...</td>\n",
              "    </tr>\n",
              "    <tr>\n",
              "      <th>188</th>\n",
              "      <td>Venezuela</td>\n",
              "      <td>333</td>\n",
              "      <td>100</td>\n",
              "      <td>3</td>\n",
              "      <td>7.7</td>\n",
              "      <td>South America</td>\n",
              "    </tr>\n",
              "    <tr>\n",
              "      <th>189</th>\n",
              "      <td>Vietnam</td>\n",
              "      <td>111</td>\n",
              "      <td>2</td>\n",
              "      <td>1</td>\n",
              "      <td>2.0</td>\n",
              "      <td>Asia</td>\n",
              "    </tr>\n",
              "    <tr>\n",
              "      <th>190</th>\n",
              "      <td>Yemen</td>\n",
              "      <td>6</td>\n",
              "      <td>0</td>\n",
              "      <td>0</td>\n",
              "      <td>0.1</td>\n",
              "      <td>Asia</td>\n",
              "    </tr>\n",
              "    <tr>\n",
              "      <th>191</th>\n",
              "      <td>Zambia</td>\n",
              "      <td>32</td>\n",
              "      <td>19</td>\n",
              "      <td>4</td>\n",
              "      <td>2.5</td>\n",
              "      <td>Africa</td>\n",
              "    </tr>\n",
              "    <tr>\n",
              "      <th>192</th>\n",
              "      <td>Zimbabwe</td>\n",
              "      <td>64</td>\n",
              "      <td>18</td>\n",
              "      <td>4</td>\n",
              "      <td>4.7</td>\n",
              "      <td>Africa</td>\n",
              "    </tr>\n",
              "  </tbody>\n",
              "</table>\n",
              "<p>193 rows × 6 columns</p>\n",
              "</div>"
            ],
            "text/plain": [
              "         COUNTRY  BEER_SERVINGS  ...  TOTAL_LITRES_OF_PURE_ALCOHOL      CONTINENT\n",
              "0    Afghanistan              0  ...                           0.0           Asia\n",
              "1        Albania             89  ...                           4.9         Europe\n",
              "2        Algeria             25  ...                           0.7         Africa\n",
              "3        Andorra            245  ...                          12.4         Europe\n",
              "4         Angola            217  ...                           5.9         Africa\n",
              "..           ...            ...  ...                           ...            ...\n",
              "188    Venezuela            333  ...                           7.7  South America\n",
              "189      Vietnam            111  ...                           2.0           Asia\n",
              "190        Yemen              6  ...                           0.1           Asia\n",
              "191       Zambia             32  ...                           2.5         Africa\n",
              "192     Zimbabwe             64  ...                           4.7         Africa\n",
              "\n",
              "[193 rows x 6 columns]"
            ]
          },
          "metadata": {
            "tags": []
          },
          "execution_count": 12
        }
      ]
    },
    {
      "cell_type": "code",
      "metadata": {
        "id": "fbFtmjEySB1P",
        "colab_type": "code",
        "outputId": "7bf30668-ae56-4336-e1dd-d6bf10324db9",
        "colab": {
          "base_uri": "https://localhost:8080/",
          "height": 142
        }
      },
      "source": [
        "drinks.head(3)"
      ],
      "execution_count": 0,
      "outputs": [
        {
          "output_type": "execute_result",
          "data": {
            "text/html": [
              "<div>\n",
              "<style scoped>\n",
              "    .dataframe tbody tr th:only-of-type {\n",
              "        vertical-align: middle;\n",
              "    }\n",
              "\n",
              "    .dataframe tbody tr th {\n",
              "        vertical-align: top;\n",
              "    }\n",
              "\n",
              "    .dataframe thead th {\n",
              "        text-align: right;\n",
              "    }\n",
              "</style>\n",
              "<table border=\"1\" class=\"dataframe\">\n",
              "  <thead>\n",
              "    <tr style=\"text-align: right;\">\n",
              "      <th></th>\n",
              "      <th>country</th>\n",
              "      <th>beer_servings</th>\n",
              "      <th>spirit_servings</th>\n",
              "      <th>wine_servings</th>\n",
              "      <th>total_litres_of_pure_alcohol</th>\n",
              "      <th>continent</th>\n",
              "    </tr>\n",
              "  </thead>\n",
              "  <tbody>\n",
              "    <tr>\n",
              "      <th>0</th>\n",
              "      <td>Afghanistan</td>\n",
              "      <td>0</td>\n",
              "      <td>0</td>\n",
              "      <td>0</td>\n",
              "      <td>0.0</td>\n",
              "      <td>Asia</td>\n",
              "    </tr>\n",
              "    <tr>\n",
              "      <th>1</th>\n",
              "      <td>Albania</td>\n",
              "      <td>89</td>\n",
              "      <td>132</td>\n",
              "      <td>54</td>\n",
              "      <td>4.9</td>\n",
              "      <td>Europe</td>\n",
              "    </tr>\n",
              "    <tr>\n",
              "      <th>2</th>\n",
              "      <td>Algeria</td>\n",
              "      <td>25</td>\n",
              "      <td>0</td>\n",
              "      <td>14</td>\n",
              "      <td>0.7</td>\n",
              "      <td>Africa</td>\n",
              "    </tr>\n",
              "  </tbody>\n",
              "</table>\n",
              "</div>"
            ],
            "text/plain": [
              "       country  beer_servings  ...  total_litres_of_pure_alcohol  continent\n",
              "0  Afghanistan              0  ...                           0.0       Asia\n",
              "1      Albania             89  ...                           4.9     Europe\n",
              "2      Algeria             25  ...                           0.7     Africa\n",
              "\n",
              "[3 rows x 6 columns]"
            ]
          },
          "metadata": {
            "tags": []
          },
          "execution_count": 13
        }
      ]
    },
    {
      "cell_type": "code",
      "metadata": {
        "id": "BEihlSfKSIMx",
        "colab_type": "code",
        "colab": {}
      },
      "source": [
        "import pandas_profiling"
      ],
      "execution_count": 0,
      "outputs": []
    },
    {
      "cell_type": "code",
      "metadata": {
        "id": "LBj80WgA5ut7",
        "colab_type": "code",
        "outputId": "9b100b46-b020-447b-e418-e4a066075293",
        "colab": {
          "base_uri": "https://localhost:8080/",
          "height": 1000
        }
      },
      "source": [
        "pandas_profiling.ProfileReport(drinks)"
      ],
      "execution_count": 0,
      "outputs": [
        {
          "output_type": "stream",
          "text": [
            "/usr/local/lib/python3.6/dist-packages/pandas_profiling/describe.py:392: FutureWarning: The join_axes-keyword is deprecated. Use .reindex or .reindex_like on the result to achieve the same functionality.\n",
            "  variable_stats = pd.concat(ldesc, join_axes=pd.Index([names]), axis=1)\n"
          ],
          "name": "stderr"
        },
        {
          "output_type": "execute_result",
          "data": {
            "text/html": [
              "<meta charset=\"UTF-8\">\n",
              "\n",
              "<style>\n",
              "\n",
              "        .variablerow {\n",
              "            border: 1px solid #e1e1e8;\n",
              "            border-top: hidden;\n",
              "            padding-top: 2em;\n",
              "            padding-bottom: 2em;\n",
              "            padding-left: 1em;\n",
              "            padding-right: 1em;\n",
              "        }\n",
              "\n",
              "        .headerrow {\n",
              "            border: 1px solid #e1e1e8;\n",
              "            background-color: #f5f5f5;\n",
              "            padding: 2em;\n",
              "        }\n",
              "        .namecol {\n",
              "            margin-top: -1em;\n",
              "            overflow-x: auto;\n",
              "        }\n",
              "\n",
              "        .dl-horizontal dt {\n",
              "            text-align: left;\n",
              "            padding-right: 1em;\n",
              "            white-space: normal;\n",
              "        }\n",
              "\n",
              "        .dl-horizontal dd {\n",
              "            margin-left: 0;\n",
              "        }\n",
              "\n",
              "        .ignore {\n",
              "            opacity: 0.4;\n",
              "        }\n",
              "\n",
              "        .container.pandas-profiling {\n",
              "            max-width:975px;\n",
              "        }\n",
              "\n",
              "        .col-md-12 {\n",
              "            padding-left: 2em;\n",
              "        }\n",
              "\n",
              "        .indent {\n",
              "            margin-left: 1em;\n",
              "        }\n",
              "\n",
              "        .center-img {\n",
              "            margin-left: auto !important;\n",
              "            margin-right: auto !important;\n",
              "            display: block;\n",
              "        }\n",
              "\n",
              "        /* Table example_values */\n",
              "            table.example_values {\n",
              "                border: 0;\n",
              "            }\n",
              "\n",
              "            .example_values th {\n",
              "                border: 0;\n",
              "                padding: 0 ;\n",
              "                color: #555;\n",
              "                font-weight: 600;\n",
              "            }\n",
              "\n",
              "            .example_values tr, .example_values td{\n",
              "                border: 0;\n",
              "                padding: 0;\n",
              "                color: #555;\n",
              "            }\n",
              "\n",
              "        /* STATS */\n",
              "            table.stats {\n",
              "                border: 0;\n",
              "            }\n",
              "\n",
              "            .stats th {\n",
              "                border: 0;\n",
              "                padding: 0 2em 0 0;\n",
              "                color: #555;\n",
              "                font-weight: 600;\n",
              "            }\n",
              "\n",
              "            .stats tr {\n",
              "                border: 0;\n",
              "            }\n",
              "\n",
              "            .stats td{\n",
              "                color: #555;\n",
              "                padding: 1px;\n",
              "                border: 0;\n",
              "            }\n",
              "\n",
              "\n",
              "        /* Sample table */\n",
              "            table.sample {\n",
              "                border: 0;\n",
              "                margin-bottom: 2em;\n",
              "                margin-left:1em;\n",
              "            }\n",
              "            .sample tr {\n",
              "                border:0;\n",
              "            }\n",
              "            .sample td, .sample th{\n",
              "                padding: 0.5em;\n",
              "                white-space: nowrap;\n",
              "                border: none;\n",
              "\n",
              "            }\n",
              "\n",
              "            .sample thead {\n",
              "                border-top: 0;\n",
              "                border-bottom: 2px solid #ddd;\n",
              "            }\n",
              "\n",
              "            .sample td {\n",
              "                width:100%;\n",
              "            }\n",
              "\n",
              "\n",
              "        /* There is no good solution available to make the divs equal height and then center ... */\n",
              "            .histogram {\n",
              "                margin-top: 3em;\n",
              "            }\n",
              "        /* Freq table */\n",
              "\n",
              "            table.freq {\n",
              "                margin-bottom: 2em;\n",
              "                border: 0;\n",
              "            }\n",
              "            table.freq th, table.freq tr, table.freq td {\n",
              "                border: 0;\n",
              "                padding: 0;\n",
              "            }\n",
              "\n",
              "            .freq thead {\n",
              "                font-weight: 600;\n",
              "                white-space: nowrap;\n",
              "                overflow: hidden;\n",
              "                text-overflow: ellipsis;\n",
              "\n",
              "            }\n",
              "\n",
              "            td.fillremaining{\n",
              "                width:auto;\n",
              "                max-width: none;\n",
              "            }\n",
              "\n",
              "            td.number, th.number {\n",
              "                text-align:right ;\n",
              "            }\n",
              "\n",
              "        /* Freq mini */\n",
              "            .freq.mini td{\n",
              "                width: 50%;\n",
              "                padding: 1px;\n",
              "                font-size: 12px;\n",
              "\n",
              "            }\n",
              "            table.freq.mini {\n",
              "                 width:100%;\n",
              "            }\n",
              "            .freq.mini th {\n",
              "                overflow: hidden;\n",
              "                text-overflow: ellipsis;\n",
              "                white-space: nowrap;\n",
              "                max-width: 5em;\n",
              "                font-weight: 400;\n",
              "                text-align:right;\n",
              "                padding-right: 0.5em;\n",
              "            }\n",
              "\n",
              "            .missing {\n",
              "                color: #a94442;\n",
              "            }\n",
              "            .alert, .alert > th, .alert > td {\n",
              "                color: #a94442;\n",
              "            }\n",
              "\n",
              "\n",
              "        /* Bars in tables */\n",
              "            .freq .bar{\n",
              "                float: left;\n",
              "                width: 0;\n",
              "                height: 100%;\n",
              "                line-height: 20px;\n",
              "                color: #fff;\n",
              "                text-align: center;\n",
              "                background-color: #337ab7;\n",
              "                border-radius: 3px;\n",
              "                margin-right: 4px;\n",
              "            }\n",
              "            .other .bar {\n",
              "                background-color: #999;\n",
              "            }\n",
              "            .missing .bar{\n",
              "                background-color: #a94442;\n",
              "            }\n",
              "            .tooltip-inner {\n",
              "                width: 100%;\n",
              "                white-space: nowrap;\n",
              "                text-align:left;\n",
              "            }\n",
              "\n",
              "            .extrapadding{\n",
              "                padding: 2em;\n",
              "            }\n",
              "\n",
              "            .pp-anchor{\n",
              "\n",
              "            }\n",
              "\n",
              "</style>\n",
              "\n",
              "<div class=\"container pandas-profiling\">\n",
              "    <div class=\"row headerrow highlight\">\n",
              "        <h1>Overview</h1>\n",
              "    </div>\n",
              "    <div class=\"row variablerow\">\n",
              "    <div class=\"col-md-6 namecol\">\n",
              "        <p class=\"h4\">Dataset info</p>\n",
              "        <table class=\"stats\" style=\"margin-left: 1em;\">\n",
              "            <tbody>\n",
              "            <tr>\n",
              "                <th>Number of variables</th>\n",
              "                <td>6 </td>\n",
              "            </tr>\n",
              "            <tr>\n",
              "                <th>Number of observations</th>\n",
              "                <td>193 </td>\n",
              "            </tr>\n",
              "            <tr>\n",
              "                <th>Total Missing (%)</th>\n",
              "                <td>0.0% </td>\n",
              "            </tr>\n",
              "            <tr>\n",
              "                <th>Total size in memory</th>\n",
              "                <td>9.2 KiB </td>\n",
              "            </tr>\n",
              "            <tr>\n",
              "                <th>Average record size in memory</th>\n",
              "                <td>48.7 B </td>\n",
              "            </tr>\n",
              "            </tbody>\n",
              "        </table>\n",
              "    </div>\n",
              "    <div class=\"col-md-6 namecol\">\n",
              "        <p class=\"h4\">Variables types</p>\n",
              "        <table class=\"stats\" style=\"margin-left: 1em;\">\n",
              "            <tbody>\n",
              "            <tr>\n",
              "                <th>Numeric</th>\n",
              "                <td>4 </td>\n",
              "            </tr>\n",
              "            <tr>\n",
              "                <th>Categorical</th>\n",
              "                <td>1 </td>\n",
              "            </tr>\n",
              "            <tr>\n",
              "                <th>Boolean</th>\n",
              "                <td>0 </td>\n",
              "            </tr>\n",
              "            <tr>\n",
              "                <th>Date</th>\n",
              "                <td>0 </td>\n",
              "            </tr>\n",
              "            <tr>\n",
              "                <th>Text (Unique)</th>\n",
              "                <td>1 </td>\n",
              "            </tr>\n",
              "            <tr>\n",
              "                <th>Rejected</th>\n",
              "                <td>0 </td>\n",
              "            </tr>\n",
              "            <tr>\n",
              "                <th>Unsupported</th>\n",
              "                <td>0 </td>\n",
              "            </tr>\n",
              "            </tbody>\n",
              "        </table>\n",
              "    </div>\n",
              "    <div class=\"col-md-12\" style=\"padding-left: 1em;\">\n",
              "        \n",
              "        <p class=\"h4\">Warnings</p>\n",
              "        <ul class=\"list-unstyled\"><li><a href=\"#pp_var_beer_servings\"><code>beer_servings</code></a> has 15 / 7.8% zeros <span class=\"label label-info\">Zeros</span></li><li><a href=\"#pp_var_spirit_servings\"><code>spirit_servings</code></a> has 23 / 11.9% zeros <span class=\"label label-info\">Zeros</span></li><li><a href=\"#pp_var_wine_servings\"><code>wine_servings</code></a> has 31 / 16.1% zeros <span class=\"label label-info\">Zeros</span></li><li><a href=\"#pp_var_total_litres_of_pure_alcohol\"><code>total_litres_of_pure_alcohol</code></a> has 13 / 6.7% zeros <span class=\"label label-info\">Zeros</span></li> </ul>\n",
              "    </div>\n",
              "</div>\n",
              "    <div class=\"row headerrow highlight\">\n",
              "        <h1>Variables</h1>\n",
              "    </div>\n",
              "    <div class=\"row variablerow\">\n",
              "    <div class=\"col-md-3 namecol\">\n",
              "        <p class=\"h4 pp-anchor\" id=\"pp_var_country\">country<br/>\n",
              "            <small>Categorical, Unique</small>\n",
              "        </p>\n",
              "    </div><div class=\"col-md-3 collapse in\" id=\"minivalues-3618273865408810302\"><table border=\"1\" class=\"dataframe example_values\">\n",
              "  <thead>\n",
              "    <tr style=\"text-align: right;\">\n",
              "      <th>First 3 values</th>\n",
              "    </tr>\n",
              "  </thead>\n",
              "  <tbody>\n",
              "    <tr>\n",
              "      <td>Sweden</td>\n",
              "    </tr>\n",
              "    <tr>\n",
              "      <td>United Arab Emirates</td>\n",
              "    </tr>\n",
              "    <tr>\n",
              "      <td>Mauritius</td>\n",
              "    </tr>\n",
              "  </tbody>\n",
              "</table></div>\n",
              "<div class=\"col-md-6 collapse in\" id=\"minivalues-3618273865408810302\"><table border=\"1\" class=\"dataframe example_values\">\n",
              "  <thead>\n",
              "    <tr style=\"text-align: right;\">\n",
              "      <th>Last 3 values</th>\n",
              "    </tr>\n",
              "  </thead>\n",
              "  <tbody>\n",
              "    <tr>\n",
              "      <td>Mongolia</td>\n",
              "    </tr>\n",
              "    <tr>\n",
              "      <td>Netherlands</td>\n",
              "    </tr>\n",
              "    <tr>\n",
              "      <td>Ireland</td>\n",
              "    </tr>\n",
              "  </tbody>\n",
              "</table></div>\n",
              "<div class=\"col-md-12 text-right\">\n",
              "    <a role=\"button\" data-toggle=\"collapse\" data-target=\"#values-3618273865408810302,#minivalues-3618273865408810302\" aria-expanded=\"false\"\n",
              "       aria-controls=\"collapseExample\">\n",
              "        Toggle details\n",
              "    </a>\n",
              "</div>\n",
              "<div class=\"col-md-12 collapse\" id=\"values-3618273865408810302\">\n",
              "    <p class=\"h4\">First 10 values</p>\n",
              "    \n",
              "<table class=\"freq table table-hover\">\n",
              "    <thead>\n",
              "    <tr>\n",
              "        <td class=\"fillremaining\">Value</td>\n",
              "        <td class=\"number\">Count</td>\n",
              "        <td class=\"number\">Frequency (%)</td>\n",
              "        <td style=\"min-width:200px\">&nbsp;</td>\n",
              "    </tr>\n",
              "    </thead>\n",
              "    <tr class=\"\">\n",
              "        <td class=\"fillremaining\">Afghanistan</td>\n",
              "        <td class=\"number\">1</td>\n",
              "        <td class=\"number\">0.5%</td>\n",
              "        <td>\n",
              "            <div class=\"bar\" style=\"width:100%\">&nbsp;</div>\n",
              "        </td>\n",
              "</tr><tr class=\"\">\n",
              "        <td class=\"fillremaining\">Albania</td>\n",
              "        <td class=\"number\">1</td>\n",
              "        <td class=\"number\">0.5%</td>\n",
              "        <td>\n",
              "            <div class=\"bar\" style=\"width:100%\">&nbsp;</div>\n",
              "        </td>\n",
              "</tr><tr class=\"\">\n",
              "        <td class=\"fillremaining\">Algeria</td>\n",
              "        <td class=\"number\">1</td>\n",
              "        <td class=\"number\">0.5%</td>\n",
              "        <td>\n",
              "            <div class=\"bar\" style=\"width:100%\">&nbsp;</div>\n",
              "        </td>\n",
              "</tr><tr class=\"\">\n",
              "        <td class=\"fillremaining\">Andorra</td>\n",
              "        <td class=\"number\">1</td>\n",
              "        <td class=\"number\">0.5%</td>\n",
              "        <td>\n",
              "            <div class=\"bar\" style=\"width:100%\">&nbsp;</div>\n",
              "        </td>\n",
              "</tr><tr class=\"\">\n",
              "        <td class=\"fillremaining\">Angola</td>\n",
              "        <td class=\"number\">1</td>\n",
              "        <td class=\"number\">0.5%</td>\n",
              "        <td>\n",
              "            <div class=\"bar\" style=\"width:100%\">&nbsp;</div>\n",
              "        </td>\n",
              "</tr>\n",
              "</table>\n",
              "    <p class=\"h4\">Last 10 values</p>\n",
              "    \n",
              "<table class=\"freq table table-hover\">\n",
              "    <thead>\n",
              "    <tr>\n",
              "        <td class=\"fillremaining\">Value</td>\n",
              "        <td class=\"number\">Count</td>\n",
              "        <td class=\"number\">Frequency (%)</td>\n",
              "        <td style=\"min-width:200px\">&nbsp;</td>\n",
              "    </tr>\n",
              "    </thead>\n",
              "    <tr class=\"\">\n",
              "        <td class=\"fillremaining\">Venezuela</td>\n",
              "        <td class=\"number\">1</td>\n",
              "        <td class=\"number\">0.5%</td>\n",
              "        <td>\n",
              "            <div class=\"bar\" style=\"width:100%\">&nbsp;</div>\n",
              "        </td>\n",
              "</tr><tr class=\"\">\n",
              "        <td class=\"fillremaining\">Vietnam</td>\n",
              "        <td class=\"number\">1</td>\n",
              "        <td class=\"number\">0.5%</td>\n",
              "        <td>\n",
              "            <div class=\"bar\" style=\"width:100%\">&nbsp;</div>\n",
              "        </td>\n",
              "</tr><tr class=\"\">\n",
              "        <td class=\"fillremaining\">Yemen</td>\n",
              "        <td class=\"number\">1</td>\n",
              "        <td class=\"number\">0.5%</td>\n",
              "        <td>\n",
              "            <div class=\"bar\" style=\"width:100%\">&nbsp;</div>\n",
              "        </td>\n",
              "</tr><tr class=\"\">\n",
              "        <td class=\"fillremaining\">Zambia</td>\n",
              "        <td class=\"number\">1</td>\n",
              "        <td class=\"number\">0.5%</td>\n",
              "        <td>\n",
              "            <div class=\"bar\" style=\"width:100%\">&nbsp;</div>\n",
              "        </td>\n",
              "</tr><tr class=\"\">\n",
              "        <td class=\"fillremaining\">Zimbabwe</td>\n",
              "        <td class=\"number\">1</td>\n",
              "        <td class=\"number\">0.5%</td>\n",
              "        <td>\n",
              "            <div class=\"bar\" style=\"width:100%\">&nbsp;</div>\n",
              "        </td>\n",
              "</tr>\n",
              "</table>\n",
              "</div>\n",
              "</div><div class=\"row variablerow\">\n",
              "    <div class=\"col-md-3 namecol\">\n",
              "        <p class=\"h4 pp-anchor\" id=\"pp_var_beer_servings\">beer_servings<br/>\n",
              "            <small>Numeric</small>\n",
              "        </p>\n",
              "    </div><div class=\"col-md-6\">\n",
              "    <div class=\"row\">\n",
              "        <div class=\"col-sm-6\">\n",
              "            <table class=\"stats \">\n",
              "                <tr>\n",
              "                    <th>Distinct count</th>\n",
              "                    <td>130</td>\n",
              "                </tr>\n",
              "                <tr>\n",
              "                    <th>Unique (%)</th>\n",
              "                    <td>67.4%</td>\n",
              "                </tr>\n",
              "                <tr class=\"ignore\">\n",
              "                    <th>Missing (%)</th>\n",
              "                    <td>0.0%</td>\n",
              "                </tr>\n",
              "                <tr class=\"ignore\">\n",
              "                    <th>Missing (n)</th>\n",
              "                    <td>0</td>\n",
              "                </tr>\n",
              "                <tr class=\"ignore\">\n",
              "                    <th>Infinite (%)</th>\n",
              "                    <td>0.0%</td>\n",
              "                </tr>\n",
              "                <tr class=\"ignore\">\n",
              "                    <th>Infinite (n)</th>\n",
              "                    <td>0</td>\n",
              "                </tr>\n",
              "            </table>\n",
              "\n",
              "        </div>\n",
              "        <div class=\"col-sm-6\">\n",
              "            <table class=\"stats \">\n",
              "\n",
              "                <tr>\n",
              "                    <th>Mean</th>\n",
              "                    <td>106.16</td>\n",
              "                </tr>\n",
              "                <tr>\n",
              "                    <th>Minimum</th>\n",
              "                    <td>0</td>\n",
              "                </tr>\n",
              "                <tr>\n",
              "                    <th>Maximum</th>\n",
              "                    <td>376</td>\n",
              "                </tr>\n",
              "                <tr class=\"alert\">\n",
              "                    <th>Zeros (%)</th>\n",
              "                    <td>7.8%</td>\n",
              "                </tr>\n",
              "            </table>\n",
              "        </div>\n",
              "    </div>\n",
              "</div>\n",
              "<div class=\"col-md-3 collapse in\" id=\"minihistogram-8543615424374388117\">\n",
              "    <img src=\"data:image/png;base64,iVBORw0KGgoAAAANSUhEUgAAAMgAAABLCAYAAAA1fMjoAAAABHNCSVQICAgIfAhkiAAAAAlwSFlzAAAPYQAAD2EBqD%2BnaQAAADh0RVh0U29mdHdhcmUAbWF0cGxvdGxpYiB2ZXJzaW9uMy4xLjMsIGh0dHA6Ly9tYXRwbG90bGliLm9yZy%2BAADFEAAABMUlEQVR4nO3dwW2DQBBA0ThySSkiPfnsnlxEetrcI%2BsLkAgreO%2BONAe%2BZpcLtzHG%2BADe%2Bjx6AJjZ/egB/vp6vFY/8/P83mESsEEgCQSCQCAIBIJAIAgEgkAgCASCQCAIBIJAIAgEgkAgCASCQCAIBIJAIAgEgkAgCASCQCAIBIJAIAgEgkAgCASCQCAIBIJAIAgEwnS/P9jCLxPYyykC2UJULOGIBUEgEAQC4bJ3kFm5G81FICusfXn/68Wdda4zcMSCIBAIjlg72nKfYC42CAQb5IJ8KVtOIOzmDCE6YkGwQVjkqh8cbBAItzHGOHoImJUNAkEgEAQCQSAQBAJBIBAEAkEgEAQCQSAQBAJBIBAEAkEgEAQCQSAQBAJBIBAEAkEgEAQCQSAQBAJBIBAEAuEXwisjbTyc5Y4AAAAASUVORK5CYII%3D\">\n",
              "\n",
              "</div>\n",
              "<div class=\"col-md-12 text-right\">\n",
              "    <a role=\"button\" data-toggle=\"collapse\" data-target=\"#descriptives-8543615424374388117,#minihistogram-8543615424374388117\"\n",
              "       aria-expanded=\"false\" aria-controls=\"collapseExample\">\n",
              "        Toggle details\n",
              "    </a>\n",
              "</div>\n",
              "<div class=\"row collapse col-md-12\" id=\"descriptives-8543615424374388117\">\n",
              "    <ul class=\"nav nav-tabs\" role=\"tablist\">\n",
              "        <li role=\"presentation\" class=\"active\"><a href=\"#quantiles-8543615424374388117\"\n",
              "                                                  aria-controls=\"quantiles-8543615424374388117\" role=\"tab\"\n",
              "                                                  data-toggle=\"tab\">Statistics</a></li>\n",
              "        <li role=\"presentation\"><a href=\"#histogram-8543615424374388117\" aria-controls=\"histogram-8543615424374388117\"\n",
              "                                   role=\"tab\" data-toggle=\"tab\">Histogram</a></li>\n",
              "        <li role=\"presentation\"><a href=\"#common-8543615424374388117\" aria-controls=\"common-8543615424374388117\"\n",
              "                                   role=\"tab\" data-toggle=\"tab\">Common Values</a></li>\n",
              "        <li role=\"presentation\"><a href=\"#extreme-8543615424374388117\" aria-controls=\"extreme-8543615424374388117\"\n",
              "                                   role=\"tab\" data-toggle=\"tab\">Extreme Values</a></li>\n",
              "\n",
              "    </ul>\n",
              "\n",
              "    <div class=\"tab-content\">\n",
              "        <div role=\"tabpanel\" class=\"tab-pane active row\" id=\"quantiles-8543615424374388117\">\n",
              "            <div class=\"col-md-4 col-md-offset-1\">\n",
              "                <p class=\"h4\">Quantile statistics</p>\n",
              "                <table class=\"stats indent\">\n",
              "                    <tr>\n",
              "                        <th>Minimum</th>\n",
              "                        <td>0</td>\n",
              "                    </tr>\n",
              "                    <tr>\n",
              "                        <th>5-th percentile</th>\n",
              "                        <td>0</td>\n",
              "                    </tr>\n",
              "                    <tr>\n",
              "                        <th>Q1</th>\n",
              "                        <td>20</td>\n",
              "                    </tr>\n",
              "                    <tr>\n",
              "                        <th>Median</th>\n",
              "                        <td>76</td>\n",
              "                    </tr>\n",
              "                    <tr>\n",
              "                        <th>Q3</th>\n",
              "                        <td>188</td>\n",
              "                    </tr>\n",
              "                    <tr>\n",
              "                        <th>95-th percentile</th>\n",
              "                        <td>295.8</td>\n",
              "                    </tr>\n",
              "                    <tr>\n",
              "                        <th>Maximum</th>\n",
              "                        <td>376</td>\n",
              "                    </tr>\n",
              "                    <tr>\n",
              "                        <th>Range</th>\n",
              "                        <td>376</td>\n",
              "                    </tr>\n",
              "                    <tr>\n",
              "                        <th>Interquartile range</th>\n",
              "                        <td>168</td>\n",
              "                    </tr>\n",
              "                </table>\n",
              "            </div>\n",
              "            <div class=\"col-md-4 col-md-offset-2\">\n",
              "                <p class=\"h4\">Descriptive statistics</p>\n",
              "                <table class=\"stats indent\">\n",
              "                    <tr>\n",
              "                        <th>Standard deviation</th>\n",
              "                        <td>101.14</td>\n",
              "                    </tr>\n",
              "                    <tr>\n",
              "                        <th>Coef of variation</th>\n",
              "                        <td>0.95274</td>\n",
              "                    </tr>\n",
              "                    <tr>\n",
              "                        <th>Kurtosis</th>\n",
              "                        <td>-0.46208</td>\n",
              "                    </tr>\n",
              "                    <tr>\n",
              "                        <th>Mean</th>\n",
              "                        <td>106.16</td>\n",
              "                    </tr>\n",
              "                    <tr>\n",
              "                        <th>MAD</th>\n",
              "                        <td>86.091</td>\n",
              "                    </tr>\n",
              "                    <tr class=\"\">\n",
              "                        <th>Skewness</th>\n",
              "                        <td>0.81688</td>\n",
              "                    </tr>\n",
              "                    <tr>\n",
              "                        <th>Sum</th>\n",
              "                        <td>20489</td>\n",
              "                    </tr>\n",
              "                    <tr>\n",
              "                        <th>Variance</th>\n",
              "                        <td>10230</td>\n",
              "                    </tr>\n",
              "                    <tr>\n",
              "                        <th>Memory size</th>\n",
              "                        <td>1.6 KiB</td>\n",
              "                    </tr>\n",
              "                </table>\n",
              "            </div>\n",
              "        </div>\n",
              "        <div role=\"tabpanel\" class=\"tab-pane col-md-8 col-md-offset-2\" id=\"histogram-8543615424374388117\">\n",
              "            <img src=\"data:image/png;base64,iVBORw0KGgoAAAANSUhEUgAAAlgAAAGQCAYAAAByNR6YAAAABHNCSVQICAgIfAhkiAAAAAlwSFlzAAAPYQAAD2EBqD%2BnaQAAADh0RVh0U29mdHdhcmUAbWF0cGxvdGxpYiB2ZXJzaW9uMy4xLjMsIGh0dHA6Ly9tYXRwbG90bGliLm9yZy%2BAADFEAAAgAElEQVR4nO3de1TVdb7/8Rewg7yAiIU2aOFkaghaXov0oJhYOVopip7lSqcyUiaWHi0dL6c6NWILOeWEx3QmnWN2xh3WhJq3X5l0Y5qZrhu8nEKdUcaClB3pQePy/f3RktriBeSjX757Px9ruVZ8vt/95f1ib%2Bi1v9/NJsiyLEsAAAAwJtjuAQAAAPwNBQsAAMAwChYAAIBhFCwAAADDKFgAAACGUbAAAAAMo2ABAAAYRsECAAAwjIIFAABgGAULAADAMAoWAACAYRQsAAAAwyhYAAAAhlGwAAAADKNgAQAAGEbBAgAAMIyCBQAAYBgFCwAAwDAKFgAAgGEULAAAAMMoWAAAAIZRsAAAAAyjYAEAABhGwQIAADCMggUAAGAYBQsAAMAwChYAAIBhFCwAAADDKFgAAACGUbAAAAAMo2ABAAAYRsECAAAwjIIFAABgGAULAADAMAoWAACAYRQsAAAAwyhYAAAAhlGwAAAADKNgAQAAGOaye4BAUV7%2BnfFjBgcHKSqqjY4dO6G6Osv48VsKcvoXcvoXcvoXf8x59dXhtnxezmA5WHBwkIKCghQcHGT3KJcUOf0LOf0LOf1LoOS8HChYAAAAhlGwAAAADKNgAQAAGEbBAgAAMIyCBQAAYBgFCwAAwDAKFgAAgGEULAAAAMMoWAAAAIZRsAAAAAyjYAEAABhGwQIAADCMggUAAGCYy%2B4B0Dz9F2yze4RG2zrzNrtHAADgsuAMFgAAgGEULAAAAMMoWAAAAIYF5Guw/vrXv%2Br%2B%2B%2B/3WbMsS9XV1dq3b58KCwuVk5Oj/fv365prrlF6errGjBlj07QAAMBpArJgDRgwQB6Px2fthRde0N69e1VWVqYZM2ZowYIFGj16tD766CNNnz5dXbt2VUJCgk0TAwAAJ%2BESoaR//vOfWrNmjR577DFt2rRJsbGxSk1NVVhYmBITE5WcnKy8vDy7xwQAAA5BwZK0bNkyjRs3Tj/72c9UXFysuLg4n%2B1xcXEqKiqyaToAAOA0AXmJ8KcOHz6sHTt2aMeOHZIkr9erjh07%2BuwTGRmpioqKRh%2BzrKxM5eXlPmsuV2tFR0c3f%2BCfCAlxVj92uS5u3tM5nZa3qcjpX8jpX8iJpgr4gvXyyy8rJSVFV199tbFjut1u5ebm%2BqxlZGQoMzPT2Odwovbt2zTr9hERrQxN0rKR07%2BQ07%2BQE40V8AVr%2B/btmjt3bv3H7du3l9fr9dmnoqJCUVFRjT5mWlqakpOTfdZcrtaqqDjRvGHP4LRnGBebPyQkWBERrVRZWaXa2jrDU7Uc5PQv5PQv5HSu5j65v1gBXbD27Nmj0tJS3Xbbj3/CJSEhQa%2B%2B%2BqrPfkVFRerTp0%2BjjxsdHd3gcmB5%2BXeqqfGPB%2BvFam7%2B2tq6gPgaktO/kNO/kBON5axTIIbt3r1bkZGRatu2bf3a6NGjVVpaqry8PJ06dUoFBQUqKCjQhAkTbJwUAAA4SUAXrG%2B%2B%2BabBa686dOiglStXat26derXr58WL16s7Oxs9ezZ06YpAQCA0wT0JcL09HSlp6c3WB8wYIDy8/NtmAgAAPiDgD6DBQAAcClQsAAAAAyjYAEAABhGwQIAADCMggUAAGAYBQsAAMAwChYAAIBhFCwAAADDKFgAAACGUbAAAAAMo2ABAAAYRsECAAAwjIIFAABgGAULAADAMAoWAACAYRQsAAAAwyhYAAAAhlGwAAAADKNgAQAAGEbBAgAAMIyCBQAAYBgFCwAAwDAKFgAAgGEULAAAAMMoWAAAAIZRsAAAAAyjYAEAABhGwQIAADCMggUAAGAYBQsAAMAwChYAAIBhFCwAAADDArpgrVixQoMHD9ZNN92kqVOn6vDhw5KkwsJCpaamqm/fvho1apQ2btxo86QAAMBJArZgvfzyy9q4caPWrl2r9957T926ddMf/vAHlZWVacaMGZo4caIKCwu1YMECLVq0SB6Px%2B6RAQCAQ7jsHsAuq1ev1ty5c/Xzn/9ckrRw4UJJ0osvvqjY2FilpqZKkhITE5WcnKy8vDwlJCTYNi8AAHCOgCxYX3/9tQ4fPqxvv/1Wd911l44ePapBgwbpiSeeUHFxseLi4nz2j4uL09atWxt9/LKyMpWXl/usuVytFR0dbWT%2B00JCnHUC0uW6uHlP53Ra3qYip38hp38hJ5oqIAvWV199JUnatm2b1qxZI8uylJmZqYULF%2BrkyZPq2LGjz/6RkZGqqKho9PHdbrdyc3N91jIyMpSZmdn84R2sffs2zbp9REQrQ5O0bOT0L%2BT0L%2BREYwVkwbIsS5L04IMP1pepRx55RNOmTVNiYmKzj5%2BWlqbk5GSfNZertSoqTjT72D/ltGcYF5s/JCRYERGtVFlZpdraOsNTtRzk9C/k9C/kdK7mPrm/WAFZsK666ipJUkRERP1aTEyMLMtSdXW1vF6vz/4VFRWKiopq9PGjo6MbXA4sL/9ONTX%2B8WC9WM3NX1tbFxBfQ3L6F3L6F3KisZx1CsSQTp06qW3bttqzZ0/9Wmlpqa644golJSWpqKjIZ/%2BioiL16dPnco8JAAAcKiALlsvlUmpqql544QX9/e9/19GjR7V8%2BXKNHj1a9957r0pLS5WXl6dTp06poKBABQUFmjBhgt1jAwAAhwjIS4SSNHv2bH3//fcaP368qqurNXLkSC1cuFBt2rTRypUr9fTTT%2BvJJ59UTEyMsrOz1bNnT7tHBgAADhGwBSs0NFSPP/64Hn/88QbbBgwYoPz8fBumAgAA/iAgLxECAABcShQsAAAAwyhYAAAAhlGwAAAADKNgAQAAGEbBAgAAMIyCBQAAYBgFCwAAwDAKFgAAgGEULAAAAMMoWAAAAIZRsAAAAAyjYAEAABhGwQIAADCMggUAAGAYBQsAAMAwChYAAIBhFCwAAADDKFgAAACGUbAAAAAMo2ABAAAYRsECAAAwjIIFAABgGAULAADAMAoWAACAYRQsAAAAwyhYAAAAhlGwAAAADKNgAQAAGEbBAgAAMIyCBQAAYJjL7gHs0KNHD11xxRUKCgqqX5swYYIWLVqkwsJC5eTkaP/%2B/brmmmuUnp6uMWPG2DgtAABwmoAsWJK0bds2de7c2WetrKxMM2bM0IIFCzR69Gh99NFHmj59urp27aqEhASbJgUAAE7DJcKf2LRpk2JjY5WamqqwsDAlJiYqOTlZeXl5do8GAAAcJGDPYOXk5OiTTz7R8ePHdeedd2revHkqLi5WXFycz35xcXHaunVrk45dVlam8vJynzWXq7Wio6ObPfdPhYQ4qx%2B7XBc37%2BmcTsvbVOT0L%2BT0L%2BREUwVkwbrpppuUmJioZ555RocOHdLMmTP15JNPyuv1qmPHjj77RkZGqqKioknHd7vdys3N9VnLyMhQZmZms2d3svbt2zTr9hERrQxN0rKR07%2BQ07%2BQE40VkAXL7XbX//f111%2BvOXPmaPr06erXr5%2BR46elpSk5OdlnzeVqrYqKE0aOf5rTnmFcbP6QkGBFRLRSZWWVamvrDE/VcpDTv5DTv5DTuZr75P5iBWTBOlPnzp1VW1ur4OBgeb1en20VFRWKiopq0vGio6MbXA4sL/9ONTX%2B8WC9WM3NX1tbFxBfQ3L6F3L6F3KisZx1CsSA3bt3a8mSJT5rJSUlCg0NVVJSkoqKiny2FRUVqU%2BfPpdzRAAA4HABV7A6dOggt9utVatW6fvvv9eBAwe0bNkypaWl6e6771Zpaany8vJ06tQpFRQUqKCgQBMmTLB7bAAA4CABV7A6duyoVatWaefOnRo0aJAmTpyoIUOG6NFHH1WHDh20cuVKrVu3Tv369dPixYuVnZ2tnj172j02AABwkIB8DdaAAQO0fv36c27Lz8%2B/zBMBAAB/EnBnsAAAAC41ChYAAIBhFCwAAADDKFgAAACGUbAAAAAMo2ABAAAYRsECAAAwjIIFAABgGAULAADAMAoWAACAYRQsAAAAwyhYAAAAhjmqYCUnJys3N1dHjhyxexQAAIBzclTBGjdunLZs2aLbb79dDz74oHbs2KGamhq7xwIAAPDhqIKVkZGhLVu26JVXXtENN9ygxYsXKykpSdnZ2Tpw4IDd4wEAAEhyWME6rVevXpo7d67efvttzZ8/X6%2B88oruuusuPfDAA/r888/tHg8AAAQ4Rxas6upqbdmyRdOmTdPcuXPVsWNH/frXv9aNN96oqVOnatOmTXaPCAAAApjL7gGaoqSkRBs2bNDrr7%2BuEydOaOTIkfrv//5v9evXr36fAQMG6IknntDo0aNtnBQAAAQyRxWsUaNGqWvXrkpPT9c999yjyMjIBvskJSXp2LFjNkwHAADwA0cVrLVr12rgwIEX3O%2Bzzz67DNMAAACcnaNeg9WjRw89/PDDevPNN%2BvX/vCHP2jatGnyer02TgYAAPAjRxWsrKwsfffdd%2BrWrVv92tChQ1VXV6clS5bYOBkAAMCPHHWJ8L333tOmTZvUvn37%2BrXY2FgtXbpUv/jFL2ycDAAA4EeOOoN18uRJhYWFNVgPDg5WVVWVDRMBAAA05KiCNWDAAC1ZskTffvtt/drXX3%2BtJ5980uetGgAAAOzkqEuE8%2BfP1/33369bb71Vbdu2VV1dnU6cOKEuXbropZdesns8AAAASQ4rWF26dNEbb7yhd955R//4xz8UHBysrl27avDgwQoJCbF7PAAAAEkOK1iSFBoaqttvv93uMQAAAM7JUQXr0KFDysnJ0RdffKGTJ0822P7WW2/ZMBUAAIAvRxWs%2BfPnq6ysTIMHD1br1q3tHgcAAOCsHFWwioqK9NZbbykqKsruUQAAAM7JUW/T0KFDB%2BNnrhYvXqwePXrUf1xYWKjU1FT17dtXo0aN0saNG41%2BPgAA4P8cVbDS09OVm5sry7KMHG/Pnj3Kz8%2Bv/7isrEwzZszQxIkTVVhYqAULFmjRokXyeDxGPh8AAAgMjrpE%2BM477%2Bjjjz/Wa6%2B9ps6dOys42Lcfrl%2B/vtHHqqur0%2BOPP66pU6fqueeekyRt2rRJsbGxSk1NlSQlJiYqOTlZeXl5SkhIMBcEAAD4NUcVrLZt2%2Bpf/uVfjBxr/fr1CgsL0%2BjRo%2BsLVnFxseLi4nz2i4uL09atW418TgAAEBgcVbCysrKMHOebb77R888/3%2BDd371erzp27OizFhkZqYqKiiYdv6ysTOXl5T5rLldrRUdHX9zA5xAS4qgrvHK5Lm7e0zmdlrepyOlfyOlfyImmclTBkqT9%2B/frjTfe0D//%2Bc/6wvXJJ5/o5ptvbvQxsrKyNHbsWHXr1k2HDx82PqPb7VZubq7PWkZGhjIzM41/Lidp375Ns24fEdHK0CQtGzn9Czn9CznRWI4qWIWFhZo2bZq6du2qgwcPKisrS4cOHdJ9992n5557TsOHD2/UMT755BNt3ry5wbb27dvL6/X6rFVUVDT5bSHS0tKUnJzss%2BZytVZFxYkmHedCnPYM42Lzh4QEKyKilSorq1RbW2d4qpaDnP6FnP6FnM7V3Cf3F8tRBevZZ5/Vo48%2BqilTpqh3796Sfvj7hEuWLNHy5csbVbA2btyoo0ePatiwYZJU/xuJgwYN0v3339%2BgeBUVFalPnz5NmjM6OrrB5cDy8u9UU%2BMfD9aL1dz8tbV1AfE1JKd/Iad/IScay1GnQP73f/9XkyZNkiQFBQXVr99xxx0qKSlp1DHmzZun7du3Kz8/X/n5%2BVq1apUkKT8/X6NHj1Zpaany8vJ06tQpFRQUqKCgQBMmTDAfBgAA%2BC1HncEKDw/XyZMnFRoa6rNeVlbWYO1c2rVrp3bt2tV/XFNTI0nq1KmTJGnlypV6%2Bumn9eSTTyomJkbZ2dnq2bOnoQQAACAQOKpg9e3bV4sXL9bChQvr1w4cOKDHH39ct95660Uds3Pnztq3b1/9xwMGDPB581EAAICmclTB%2BvWvf60pU6Zo0KBBqq2tVd%2B%2BfVVVVaUbbrhBS5YssXs8AAAASQ4rWJ06ddLmzZtVUFCgAwcO6Morr1TXrl112223%2BbwmCwAAwE6OKliSdMUVV%2Bj222%2B3ewwAAIBzclTBSk5OPu%2BZqrfeeusyTgMAAHB2jipYd911l0/Bqq2t1YEDB%2BTxeDRlyhQbJwMAAPiRowrWnDlzzrq%2Bfft2ffjhh5d5GgAAgLNz1BuNnsvtt9%2BuN954w%2B4xAAAAJPlJwdq9e3f9n7wBAACwm6MuEU6cOLHBWlVVlUpKSpSSkmLDRAAAAA05qmDFxsY2%2BC3CsLAwpaamavz48TZNBQAA4MtRBYt3awcAAE7gqIL1%2BuuvN3rfe%2B655xJOAgAAcG6OKlgLFixQXV1dgxe0BwUF%2BawFBQVRsAAAgG0cVbB%2B//vfa/Xq1Xr44YfVo0cPWZalffv26Xe/%2B50mT56sQYMG2T0iAACAswrWkiVLtGrVKnXs2LF%2BrX///urSpYseeOABbd682cbpAAAAfuCo98E6ePCg2rVr12A9IiJCpaWlNkwEAADQkKMKVkxMjJYsWaKKior6tcrKSuXk5Ojaa6%2B1cTIAAIAfOeoS4fz58zV79my53W61adNGwcHBOn78uK688kotX77c7vEAAAAkOaxgDR48WLt27VJBQYG%2B%2BuorWZaljh07asiQIQoPD7d7PAAAAEkOK1iS1KpVKw0fPlxfffWVunTpYvc4AAAADTjqNVgnT57U3LlzdfPNN%2BvOO%2B%2BU9MNrsB588EFVVlbaPB0AAMAPHFWwsrOztWfPHi1dulTBwT%2BOXltbq6VLl9o4GQAAwI8cVbC2b9%2Bu3/72t7rjjjvq/%2BhzRESEsrKytGPHDpunAwAA%2BIGjCtaJEycUGxvbYD0qKkr/93//d/kHAgAAOAtHFaxrr71WH374oST5/O3Bbdu26Wc/%2B5ldYwEAAPhw1G8R/uu//qseeeQRjRs3TnV1dVqzZo2Kioq0fft2LViwwO7xAAAAJDmsYKWlpcnlcmndunUKCQnRCy%2B8oK5du2rp0qW644477B4PAABAksMK1rFjxzRu3DiNGzfO7lEAAADOyVGvwRo%2BfLjPa68AAABaIkcVrEGDBmnr1q12jwEAAHBejrpEeM011%2Bg3v/mNVq1apWuvvVZXXHGFz/acnBybJgMAAPiRowrWl19%2BqZ///OeSpIqKCpunAQAAODtHFKxZs2bp2Wef1UsvvVS/tnz5cmVkZFz0Mffu3ausrCwVFRUpLCxMAwcO1IIFC3T11VersLBQOTk52r9/v6655hqlp6drzJgxJqIAAIAA4IjXYO3cubPB2qpVqy76eN9//73uv/9%2BDRw4UIWFhdq8ebOOHj2qJ554QmVlZZoxY4YmTpyowsJCLViwQIsWLZLH42lOBAAAEEAcUbDO9puDzfltwqqqKs2aNUvp6ekKDQ1VVFSURowYoS%2B%2B%2BEKbNm1SbGysUlNTFRYWpsTERCUnJysvL685EQAAQABxxCXC03/Y%2BUJrjdWuXTuNHz%2B%2B/uP9%2B/frT3/6k%2B68804VFxcrLi7OZ/%2B4uLgm/fZiWVmZysvLfdZcrtaKjo6%2B6JnPJiTEEf24nst1cfOezum0vE1FTv9CTv9CTjSVIwrWpVJaWqqRI0eqpqZGEyZMUGZmpqZNm6aOHTv67BcZGdmkF9W73W7l5ub6rGVkZCgzM9PI3E7Vvn2bZt0%2BIqKVoUlaNnL6F3L6F3KisQK6YMXExMjj8ejvf/%2B7/v3f/12PPfaYkeOmpaUpOTnZZ83laq2KihNGjn%2Ba055hXGz%2BkJBgRUS0UmVllWpr6wxP1XKQ07%2BQ07%2BQ07ma%2B%2BT%2BYjmiYFVXV2v27NkXXLuY98EKCgpSbGysZs2apYkTJyopKUler9dnn4qKCkVFRTX6mNHR0Q0uB5aXf6eaGv94sF6s5uavra0LiK8hOf0LOf0LOdFYjjgF0q9fP5WVlfn8O9taYxUWFmrkyJGqq/vxwRMc/MOXonfv3ioqKvLZv6ioSH369DETBgAA%2BD1HnMH66ftfmRAfH6/jx48rOztbmZmZqqqq0vPPP6/%2B/ftr0qRJWr16tfLy8jRmzBj9%2Bc9/VkFBgdxut9EZAACA/3LEGSzTwsPDtXr1ahUVFemWW27RqFGjFB4erv/8z/9Uhw4dtHLlSq1bt079%2BvXT4sWLlZ2drZ49e9o9NgAAcAhHnMG6FHr06HHOM2MDBgxQfn7%2BZZ4IAAD4i4A8gwUAAHApUbAAAAAMo2ABAAAYRsECAAAwjIIFAABgGAULAADAMAoWAACAYRQsAAAAwyhYAAAAhlGwAAAADKNgAQAAGEbBAgAAMIyCBQAAYBgFCwAAwDAKFgAAgGEULAAAAMMoWAAAAIZRsAAAAAxz2T0AAsedz71v9whNsnXmbXaPAABwKM5gAQAAGEbBAgAAMIyCBQAAYBgFCwAAwDBe5A6cAy/KBwBcLM5gAQAAGEbBAgAAMIyCBQAAYBgFCwAAwDAKFgAAgGEULAAAAMMoWAAAAIYFbMEqLS1VRkaGBg0apMTERM2bN0%2BVlZWSpD179mjy5Mnq16%2BfUlJStHr1apunBQAAThKwBevhhx9WRESEdu7cqddee01ffPGFnnnmGZ08eVLp6em65ZZb9O677%2BrZZ5/VypUrtWPHDrtHBgAADhGQBauyslLx8fGaPXu22rRpo06dOunee%2B/V3/72N%2B3atUvV1dWaPn26WrdurV69emn8%2BPFyu912jw0AABwiIP9UTkREhLKysnzWjhw5oujoaBUXF6tHjx4KCQmp3xYXF6e8vLxGH7%2BsrEzl5eU%2Bay5Xa0VHRzdv8DOEhARkP8Y5uFzOeDycftz6%2B%2BOXnP6FnGiqgCxYZ/J4PFq3bp1WrFihrVu3KiIiwmd7ZGSkvF6v6urqFBx84Qed2%2B1Wbm6uz1pGRoYyMzONzg38VPv2beweoUkiIlrZPcJlQU7/Qk40VsAXrI8%2B%2BkjTp0/X7NmzlZiYqK1bt551v6CgoEYfMy0tTcnJyT5rLldrVVScaNasZ%2BIZBn7K9OPrUgkJCVZERCtVVlaptrbO7nEuGXL6F3I6l11PPgO6YO3cuVOPPvqoFi1apHvuuUeSFBUVpYMHD/rs5/V6FRkZ2aizV5IUHR3d4HJgefl3qqnxjwcrWianPb5qa%2BscN/PFIKd/IScaK2BPgXz88ceaO3euli1bVl%2BuJCk%2BPl779u1TTU1N/ZrH41GfPn3sGBMAADhQQBasmpoaLVy4UHPmzNHgwYN9tiUlJalt27ZasWKFqqqq9Nlnn2nDhg2aNGmSTdMCAACnCciC9emnn6qkpERPP/20EhISfP6Vl5frhRde0AcffKCBAwdq5syZmjVrloYOHWr32AAAwCEC8jVY/fv31759%2B867zx//%2BMfLNA0AAPA3AXkGCwAA4FKiYAEAABhGwQIAADCMggUAAGAYBQsAAMAwChYAAIBhAfk2DQDQFHc%2B977dIzTJ1pm32T0CEPA4gwUAAGAYBQsAAMAwChYAAIBhFCwAAADDKFgAAACGUbAAAAAMo2ABAAAYRsECAAAwjDcaBfyEk94M82%2B/ucPuEfyakx4LvCkq/BVnsAAAAAyjYAEAABhGwQIAADCMggUAAGAYBQsAAMAwChYAAIBhFCwAAADDKFgAAACGUbAAAAAMo2ABAAAYRsECAAAwjIIFAABgGAULAADAMAoWAACAYRQsAAAAwwK2YL377rtKTEzUrFmzGmzbsmWLRo8erZtvvlljx47Ve%2B%2B9Z8OEAADAqVx2D2CH3/3ud9qwYYOuu%2B66Btv27NmjuXPnKjc3V7fccou2b9%2BuX/3qV9q2bZs6depkw7QAAMBpAvIMVlhY2DkLVl5enpKSkpSUlKSwsDCNGTNG3bt318aNG22YFAAAOFFAFqz77rtP4eHhZ91WXFysuLg4n7W4uDh5PJ7LMRoAAPADAXmJ8Hy8Xq/atWvns9auXTt9%2BeWXjT5GWVmZysvLfdZcrtaKjo42MuNpISEB2Y/hJ3j8QpJcLmc8Dk4/Xv39cRsoOS8HCtZZWJbVrNu73W7l5ub6rGVkZCgzM7NZxwX8Rf8F2%2BweAS1E%2B/Zt7B6hSSIiWtk9wmURKDkvJQrWGdq3by%2Bv1%2Buz5vV6FRUV1ehjpKWlKTk52WfN5WqtiooTRmY8jWcYAJzO9M/FSyUkJFgREa1UWVml2to6u8e5ZPwxp10lnoJ1hvj4eBUVFfmseTwejRo1qtHHiI6ObnA5sLz8O9XU%2BMeDFQBMcdrPxdraOsfNfDECJeelxCmQM0yYMEEffPCBdu3apVOnTmnDhg06ePCgxowZY/doAADAIQLyDFZCQoIkqaamRpL05ptvSvrhTFX37t21dOlSZWVlqbS0VN26ddPKlSt19dVX2zYvAABwloAsWBd6y4WUlBSlpKRcpmkAAIC/4RIhAACAYRQsAAAAwwLyEiEAoGW487n37R6hSf7fnCF2jwCH4AwWAACAYRQsAAAAwyhYAAAAhlGwAAAADKNgAQAAGEbBAgAAMIyCBQAAYBgFCwAAwDDeaBQAAD/lpDdy3TrzNrtHMIozWAAAAIZRsAAAAAyjYAEAABhGwQIAADCMggUAAGAYBQsAAMAwChYAAIBhFCwAAADDKFgAAACGUbAAAAAMo2ABAAAYxt8iBACgkUYsfdfuEeAQnMECAAAwjIIFAABgGAULAADAMAoWAACAYRQsAAAAwyhYAAAAhlGwAAAADKNgAQAAGEbBOovS0lI99NBDGjRokIYNG6bs7GzV1dXZPRYAAHAI3sn9LB555BH16tVLb775po4ePar09HRdddVV%2BuUvf2n3aAAAwAE4g3UGj8ejvXv3as6cOQoPD1dsbKymTp0qt9tt92gAAMAhOIN1huLiYsXExKhdu3b1a7169dKBAwd0/PhxtW3b9oLHKCsrU3l5uc%2Bay9Va0dHRRmcNCaEfAwD8g8vlX/9Po2Cdwev1KiIiwmftdNmqqKhoVMFyu93Kzc31WfvVr36lRx55xNyg%2BqHITen0hdLS0mX12HUAAAvBSURBVIyXt5akrKxMbrebnH6CnP6FnP4lUHJeDv5VFw2xLKtZt09LS9Nrr73m8y8tLc3QdD8qLy9Xbm5ug7Nl/oac/oWc/oWc/iVQcl4OnME6Q1RUlLxer8%2Ba1%2BtVUFCQoqKiGnWM6Ohomj8AAAGMM1hniI%2BP15EjR3Ts2LH6NY/Ho27duqlNmzY2TgYAAJyCgnWGuLg4JSQkKCcnR8ePH1dJSYnWrFmjSZMm2T0aAABwiJAnnnjiCbuHaGmGDBmizZs366mnntIbb7yh1NRUPfDAAwoKCrJ7tAbatGmjgQMH%2Bv3ZNXL6F3L6F3L6l0DJeakFWc19RTcAAAB8cIkQAADAMAoWAACAYRQsAAAAwyhYAAAAhlGwAAAADKNgAQAAGEbBAgAAMIyCBQAAYBgFCwAAwDAKlgOVlpbqoYce0qBBgzRs2DBlZ2errq7O7rGM6NGjh%2BLj45WQkFD/76mnnpIkFRYWKjU1VX379tWoUaO0ceNGm6dtvHfffVeJiYmaNWtWg21btmzR6NGjdfPNN2vs2LF677336rfV1dXp2Wef1fDhwzVgwAA98MADOnTo0OUcvUnOlfO1115Tz549fe7XhIQEff7555Kcl7O0tFQZGRkaNGiQEhMTNW/ePFVWVkqS9uzZo8mTJ6tfv35KSUnR6tWrfW57vvu7pTlXzsOHD6tHjx4N7s8XX3yx/rZOyrl3715NmTJF/fr1U2JiombOnKny8nJJF/65s3btWo0cOVJ9%2B/bVpEmTVFRUZEeERjlXzg8//PCs9%2BfWrVvrb%2BuknC2GBce59957rYULF1qVlZXWgQMHrJSUFGv16tV2j2VE9%2B7drUOHDjVY//rrr62bbrrJysvLs06ePGm9//77Vu/eva3PP//chimbZtWqVVZKSoo1ceJEa%2BbMmT7bdu/ebcXHx1u7du2yTp48aeXn51t9%2BvSxjhw5YlmWZa1du9YaNmyY9eWXX1rfffed9R//8R/W6NGjrbq6OjuinNf5cr766qvW5MmTz3lbJ%2BW0LMv6xS9%2BYc2bN886fvy4deTIEWvs2LHW/PnzraqqKmvIkCHW888/b504ccIqKiqyBg4caG3fvt2yrAvf3y3NuXIeOnTI6t69%2Bzlv56Scp06dsm699VYrNzfXOnXqlHX06FFr8uTJ1owZMy74c%2Bett96y%2Bvfvb3366adWVVWVtXLlSuu2226zTpw4YXOqhs6X889//rM1bNiwc97WSTlbEs5gOYzH49HevXs1Z84chYeHKzY2VlOnTpXb7bZ7tEtq06ZNio2NVWpqqsLCwpSYmKjk5GTl5eXZPdoFhYWFacOGDbruuusabMvLy1NSUpKSkpIUFhamMWPGqHv37vXPkt1ut6ZOnarrr79ebdu21axZs1RSUqLPPvvscse4oPPlvBAn5aysrFR8fLxmz56tNm3aqFOnTrr33nv1t7/9Tbt27VJ1dbWmT5%2Bu1q1bq1evXho/fnz99%2BeF7u%2BW5Hw5L8RJOauqqjRr1iylp6crNDRUUVFRGjFihL744osL/txxu90aO3as%2BvTpoyuvvFIPPvigJOntt9%2B2M9JZnS/nhTgpZ0tCwXKY4uJixcTEqF27dvVrvXr10oEDB3T8%2BHEbJzMnJydHQ4cOVf/%2B/bVo0SKdOHFCxcXFiouL89kvLi7OEaep77vvPoWHh59127lyeTwenTx5Ul9%2B%2BaXP9rZt2%2Bq6666Tx%2BO5pDNfjPPllKQjR47ol7/8pQYMGKDhw4crPz9fkhyXMyIiQllZWbrqqqvq144cOaLo6GgVFxerR48eCgkJqd/208fp%2Be7vluZ8OU977LHHNHjwYN1yyy3KyclRdXW1JGflbNeuncaPHy%2BXyyVJ2r9/v/70pz/pzjvvvODPnTO3BwcH68Ybb3RcTkk6ceJE/eXgIUOGaM2aNbIsS5KzcrYkFCyH8Xq9ioiI8Fk7XbYqKirsGMmom266SYmJidqxY4fcbrc%2B/fRTPfnkk2fNHRkZ6fjMXq/XpyxLP9yfFRUV%2Bvbbb2VZ1jm3O0lUVJRiY2P16KOP6v3339e//du/af78%2BSosLHR8To/Ho3Xr1mn69OnnfJx6vV7V1dWd9/5u6X6aMzQ0VDfffLNGjBiht99%2BW6tWrdLGjRv1X//1X5LO/7huqUpLSxUfH6%2B77rpLCQkJyszMvODPHX/J2bZtW3Xv3l1TpkzRu%2B%2B%2Bq6ysLOXm5urVV1%2BV5MycLQEFy4FOP6vwR263W%2BPHj1doaKiuv/56zZkzR5s3b65/ZuyPLnR/%2BsP9PXToUP3%2B979XXFycQkNDNWrUKI0YMUKvvfZa/T5OzPnRRx/pgQce0OzZs5WYmHjO/YKCgur/2x9yRkdHa/369RoxYoSuuOIK9e7dW%2Bnp6Y6%2BP2NiYuTxeLRt2zYdPHhQjz32WKNu5w85e/XqpZdeekkDBw5UaGioBg8erIkTJzr6/mwJKFgOExUVJa/X67Pm9XoVFBSkqKgom6a6dDp37qza2loFBwc3yF1RUeH4zO3btz/r/RkVFaXIyMiz5vZ6verQocPlHPOSiImJUVlZmWNz7ty5Uw899JDmz5%2Bv%2B%2B67T9IP359nPqv3er31Gc93f7dUZ8t5NjExMfrmm29kWZYjc0o/FOHY2FjNmjVLmzdvlsvlOu/PHX/JeezYsQb7nP7%2BlJyb024ULIeJj4/XkSNHfL4hPB6PunXrpjZt2tg4WfPt3r1bS5Ys8VkrKSlRaGiokpKSGrzeqqioSH369LmcIxoXHx/fIJfH41GfPn0UFhamG264QcXFxfXbKisr9Y9//EO9e/e%2B3KM2yx//%2BEdt2bLFZ62kpERdunRxZM6PP/5Yc%2BfO1bJly3TPPffUr8fHx2vfvn2qqampXzt9f57efq77uyU6V87CwkKtWLHCZ9/9%2B/crJiZGQUFBjspZWFiokSNH%2BrzVTXDwD/9r7N2793l/7sTHx/s8bmtra7V7927H5SwoKND//M//%2BOy/f/9%2BdenSRZKzcrYkFCyHiYuLU0JCgnJycnT8%2BHGVlJRozZo1mjRpkt2jNVuHDh3kdru1atUqff/99zpw4ICWLVumtLQ03X333SotLVVeXp5OnTqlgoICFRQUaMKECXaP3SwTJkzQBx98oF27dunUqVPasGGDDh48qDFjxkiSJk2apLVr16qkpETHjx/X0qVLdeONNyohIcHmyZvm%2B%2B%2B/11NPPSWPx6Pq6mpt3rxZ77zzjiZOnCjJWTlramq0cOFCzZkzR4MHD/bZlpSUpLZt22rFihWqqqrSZ599pg0bNtR/f17o/m5JzpczPDxcy5cvV35%2Bvqqrq%2BXxePTiiy86Mmd8fLyOHz%2Bu7OxsVVVV6dixY3r%2B%2BefVv39/TZo06bw/dyZNmqTXX39dn376qaqqqrRixQqFhoZq6NCh9oY6i/PlDA8P1zPPPKP33ntP1dXVev/99/Xqq6/W359Oytmi2PPuEGiOI0eOWA8%2B%2BKDVu3dvKzEx0frtb3/bYt8vqKn%2B8pe/WGlpadZNN91kDRw40MrKyrJOnjxZv23MmDFWr169rJSUlPr3Fmrp4uPjrfj4eKtnz55Wz5496z8%2Bbfv27VZKSorVq1cv6%2B6777b%2B8pe/1G%2Brq6uzli1bZt16661W7969rWnTprXI9xKyrPPnrKurs5YvX24NGzbMio%2BPt%2B644w5r586d9bd1Us6//vWvVvfu3evz/fTf4cOHrX379lkTJ0604uPjraFDh1ovv/yyz%2B3Pd3%2B3JBfKuWPHDmvMmDFW7969rdtuu8164YUXrNra2vrbOyWnZVnW3r17rcmTJ1u9e/e2brnlFmvmzJnWV199ZVnWhX/uvPzyy1ZSUpIVHx9vTZo0ydq3b58dERrlfDnXr19vpaSkWAkJCdawYcOsV155xee2TsrZUgRZFq9cAwAAMIlLhAAAAIZRsAAAAAyjYAEAABhGwQIAADCMggUAAGAYBQsAAMAwChYAAIBhFCwAAADDKFgAAACGUbAAAAAMo2ABAAAYRsECAAAwjIIFAABg2P8HVfGd3XpaaX0AAAAASUVORK5CYII%3D\"/>\n",
              "        </div>\n",
              "        <div role=\"tabpanel\" class=\"tab-pane col-md-12\" id=\"common-8543615424374388117\">\n",
              "            \n",
              "<table class=\"freq table table-hover\">\n",
              "    <thead>\n",
              "    <tr>\n",
              "        <td class=\"fillremaining\">Value</td>\n",
              "        <td class=\"number\">Count</td>\n",
              "        <td class=\"number\">Frequency (%)</td>\n",
              "        <td style=\"min-width:200px\">&nbsp;</td>\n",
              "    </tr>\n",
              "    </thead>\n",
              "    <tr class=\"\">\n",
              "        <td class=\"fillremaining\">0</td>\n",
              "        <td class=\"number\">15</td>\n",
              "        <td class=\"number\">7.8%</td>\n",
              "        <td>\n",
              "            <div class=\"bar\" style=\"width:11%\">&nbsp;</div>\n",
              "        </td>\n",
              "</tr><tr class=\"\">\n",
              "        <td class=\"fillremaining\">5</td>\n",
              "        <td class=\"number\">5</td>\n",
              "        <td class=\"number\">2.6%</td>\n",
              "        <td>\n",
              "            <div class=\"bar\" style=\"width:4%\">&nbsp;</div>\n",
              "        </td>\n",
              "</tr><tr class=\"\">\n",
              "        <td class=\"fillremaining\">6</td>\n",
              "        <td class=\"number\">4</td>\n",
              "        <td class=\"number\">2.1%</td>\n",
              "        <td>\n",
              "            <div class=\"bar\" style=\"width:3%\">&nbsp;</div>\n",
              "        </td>\n",
              "</tr><tr class=\"\">\n",
              "        <td class=\"fillremaining\">31</td>\n",
              "        <td class=\"number\">4</td>\n",
              "        <td class=\"number\">2.1%</td>\n",
              "        <td>\n",
              "            <div class=\"bar\" style=\"width:3%\">&nbsp;</div>\n",
              "        </td>\n",
              "</tr><tr class=\"\">\n",
              "        <td class=\"fillremaining\">25</td>\n",
              "        <td class=\"number\">4</td>\n",
              "        <td class=\"number\">2.1%</td>\n",
              "        <td>\n",
              "            <div class=\"bar\" style=\"width:3%\">&nbsp;</div>\n",
              "        </td>\n",
              "</tr><tr class=\"\">\n",
              "        <td class=\"fillremaining\">9</td>\n",
              "        <td class=\"number\">4</td>\n",
              "        <td class=\"number\">2.1%</td>\n",
              "        <td>\n",
              "            <div class=\"bar\" style=\"width:3%\">&nbsp;</div>\n",
              "        </td>\n",
              "</tr><tr class=\"\">\n",
              "        <td class=\"fillremaining\">21</td>\n",
              "        <td class=\"number\">4</td>\n",
              "        <td class=\"number\">2.1%</td>\n",
              "        <td>\n",
              "            <div class=\"bar\" style=\"width:3%\">&nbsp;</div>\n",
              "        </td>\n",
              "</tr><tr class=\"\">\n",
              "        <td class=\"fillremaining\">1</td>\n",
              "        <td class=\"number\">4</td>\n",
              "        <td class=\"number\">2.1%</td>\n",
              "        <td>\n",
              "            <div class=\"bar\" style=\"width:3%\">&nbsp;</div>\n",
              "        </td>\n",
              "</tr><tr class=\"\">\n",
              "        <td class=\"fillremaining\">77</td>\n",
              "        <td class=\"number\">3</td>\n",
              "        <td class=\"number\">1.6%</td>\n",
              "        <td>\n",
              "            <div class=\"bar\" style=\"width:3%\">&nbsp;</div>\n",
              "        </td>\n",
              "</tr><tr class=\"\">\n",
              "        <td class=\"fillremaining\">8</td>\n",
              "        <td class=\"number\">3</td>\n",
              "        <td class=\"number\">1.6%</td>\n",
              "        <td>\n",
              "            <div class=\"bar\" style=\"width:3%\">&nbsp;</div>\n",
              "        </td>\n",
              "</tr><tr class=\"other\">\n",
              "        <td class=\"fillremaining\">Other values (120)</td>\n",
              "        <td class=\"number\">143</td>\n",
              "        <td class=\"number\">74.1%</td>\n",
              "        <td>\n",
              "            <div class=\"bar\" style=\"width:100%\">&nbsp;</div>\n",
              "        </td>\n",
              "</tr>\n",
              "</table>\n",
              "        </div>\n",
              "        <div role=\"tabpanel\" class=\"tab-pane col-md-12\"  id=\"extreme-8543615424374388117\">\n",
              "            <p class=\"h4\">Minimum 5 values</p>\n",
              "            \n",
              "<table class=\"freq table table-hover\">\n",
              "    <thead>\n",
              "    <tr>\n",
              "        <td class=\"fillremaining\">Value</td>\n",
              "        <td class=\"number\">Count</td>\n",
              "        <td class=\"number\">Frequency (%)</td>\n",
              "        <td style=\"min-width:200px\">&nbsp;</td>\n",
              "    </tr>\n",
              "    </thead>\n",
              "    <tr class=\"\">\n",
              "        <td class=\"fillremaining\">0</td>\n",
              "        <td class=\"number\">15</td>\n",
              "        <td class=\"number\">7.8%</td>\n",
              "        <td>\n",
              "            <div class=\"bar\" style=\"width:100%\">&nbsp;</div>\n",
              "        </td>\n",
              "</tr><tr class=\"\">\n",
              "        <td class=\"fillremaining\">1</td>\n",
              "        <td class=\"number\">4</td>\n",
              "        <td class=\"number\">2.1%</td>\n",
              "        <td>\n",
              "            <div class=\"bar\" style=\"width:27%\">&nbsp;</div>\n",
              "        </td>\n",
              "</tr><tr class=\"\">\n",
              "        <td class=\"fillremaining\">2</td>\n",
              "        <td class=\"number\">1</td>\n",
              "        <td class=\"number\">0.5%</td>\n",
              "        <td>\n",
              "            <div class=\"bar\" style=\"width:7%\">&nbsp;</div>\n",
              "        </td>\n",
              "</tr><tr class=\"\">\n",
              "        <td class=\"fillremaining\">3</td>\n",
              "        <td class=\"number\">1</td>\n",
              "        <td class=\"number\">0.5%</td>\n",
              "        <td>\n",
              "            <div class=\"bar\" style=\"width:7%\">&nbsp;</div>\n",
              "        </td>\n",
              "</tr><tr class=\"\">\n",
              "        <td class=\"fillremaining\">5</td>\n",
              "        <td class=\"number\">5</td>\n",
              "        <td class=\"number\">2.6%</td>\n",
              "        <td>\n",
              "            <div class=\"bar\" style=\"width:34%\">&nbsp;</div>\n",
              "        </td>\n",
              "</tr>\n",
              "</table>\n",
              "            <p class=\"h4\">Maximum 5 values</p>\n",
              "            \n",
              "<table class=\"freq table table-hover\">\n",
              "    <thead>\n",
              "    <tr>\n",
              "        <td class=\"fillremaining\">Value</td>\n",
              "        <td class=\"number\">Count</td>\n",
              "        <td class=\"number\">Frequency (%)</td>\n",
              "        <td style=\"min-width:200px\">&nbsp;</td>\n",
              "    </tr>\n",
              "    </thead>\n",
              "    <tr class=\"\">\n",
              "        <td class=\"fillremaining\">343</td>\n",
              "        <td class=\"number\">2</td>\n",
              "        <td class=\"number\">1.0%</td>\n",
              "        <td>\n",
              "            <div class=\"bar\" style=\"width:100%\">&nbsp;</div>\n",
              "        </td>\n",
              "</tr><tr class=\"\">\n",
              "        <td class=\"fillremaining\">346</td>\n",
              "        <td class=\"number\">1</td>\n",
              "        <td class=\"number\">0.5%</td>\n",
              "        <td>\n",
              "            <div class=\"bar\" style=\"width:50%\">&nbsp;</div>\n",
              "        </td>\n",
              "</tr><tr class=\"\">\n",
              "        <td class=\"fillremaining\">347</td>\n",
              "        <td class=\"number\">1</td>\n",
              "        <td class=\"number\">0.5%</td>\n",
              "        <td>\n",
              "            <div class=\"bar\" style=\"width:50%\">&nbsp;</div>\n",
              "        </td>\n",
              "</tr><tr class=\"\">\n",
              "        <td class=\"fillremaining\">361</td>\n",
              "        <td class=\"number\">1</td>\n",
              "        <td class=\"number\">0.5%</td>\n",
              "        <td>\n",
              "            <div class=\"bar\" style=\"width:50%\">&nbsp;</div>\n",
              "        </td>\n",
              "</tr><tr class=\"\">\n",
              "        <td class=\"fillremaining\">376</td>\n",
              "        <td class=\"number\">1</td>\n",
              "        <td class=\"number\">0.5%</td>\n",
              "        <td>\n",
              "            <div class=\"bar\" style=\"width:50%\">&nbsp;</div>\n",
              "        </td>\n",
              "</tr>\n",
              "</table>\n",
              "        </div>\n",
              "    </div>\n",
              "</div>\n",
              "</div><div class=\"row variablerow\">\n",
              "    <div class=\"col-md-3 namecol\">\n",
              "        <p class=\"h4 pp-anchor\" id=\"pp_var_spirit_servings\">spirit_servings<br/>\n",
              "            <small>Numeric</small>\n",
              "        </p>\n",
              "    </div><div class=\"col-md-6\">\n",
              "    <div class=\"row\">\n",
              "        <div class=\"col-sm-6\">\n",
              "            <table class=\"stats \">\n",
              "                <tr>\n",
              "                    <th>Distinct count</th>\n",
              "                    <td>109</td>\n",
              "                </tr>\n",
              "                <tr>\n",
              "                    <th>Unique (%)</th>\n",
              "                    <td>56.5%</td>\n",
              "                </tr>\n",
              "                <tr class=\"ignore\">\n",
              "                    <th>Missing (%)</th>\n",
              "                    <td>0.0%</td>\n",
              "                </tr>\n",
              "                <tr class=\"ignore\">\n",
              "                    <th>Missing (n)</th>\n",
              "                    <td>0</td>\n",
              "                </tr>\n",
              "                <tr class=\"ignore\">\n",
              "                    <th>Infinite (%)</th>\n",
              "                    <td>0.0%</td>\n",
              "                </tr>\n",
              "                <tr class=\"ignore\">\n",
              "                    <th>Infinite (n)</th>\n",
              "                    <td>0</td>\n",
              "                </tr>\n",
              "            </table>\n",
              "\n",
              "        </div>\n",
              "        <div class=\"col-sm-6\">\n",
              "            <table class=\"stats \">\n",
              "\n",
              "                <tr>\n",
              "                    <th>Mean</th>\n",
              "                    <td>80.995</td>\n",
              "                </tr>\n",
              "                <tr>\n",
              "                    <th>Minimum</th>\n",
              "                    <td>0</td>\n",
              "                </tr>\n",
              "                <tr>\n",
              "                    <th>Maximum</th>\n",
              "                    <td>438</td>\n",
              "                </tr>\n",
              "                <tr class=\"alert\">\n",
              "                    <th>Zeros (%)</th>\n",
              "                    <td>11.9%</td>\n",
              "                </tr>\n",
              "            </table>\n",
              "        </div>\n",
              "    </div>\n",
              "</div>\n",
              "<div class=\"col-md-3 collapse in\" id=\"minihistogram2216967448452303308\">\n",
              "    <img src=\"data:image/png;base64,iVBORw0KGgoAAAANSUhEUgAAAMgAAABLCAYAAAA1fMjoAAAABHNCSVQICAgIfAhkiAAAAAlwSFlzAAAPYQAAD2EBqD%2BnaQAAADh0RVh0U29mdHdhcmUAbWF0cGxvdGxpYiB2ZXJzaW9uMy4xLjMsIGh0dHA6Ly9tYXRwbG90bGliLm9yZy%2BAADFEAAABMElEQVR4nO3dwW3CQBBAUYMoKUXQE%2Bf0lCLS0%2BYeoS9syXiB9%2B6W5vI1u77saYwxFuCu89EDwMwuRw/w39ftZ/U3v9/XHSYBGwSSQCAIBIJAIAgEgkAgCASCQCAIBIJAIAgEgkAgCASCQCAIBIJAIAgEgkAgCASCQCAIBIJAIAgEgkAgCASCQCAIBIJAIAgEgkAgCATCdO%2BDbOFNEfbyFoFsISoe4YgFQSAQBAJBIBA%2B9pK%2BxdqLvUv967NBINggO/Ir%2BfXZIBAEAsERazKOZXOxQSDYIG9gy9ZZ61O3lEB4yDMiXJb5QjyNMcbRQ8Cs3EEgCASCQCAIBIJAIAgEgkAgCASCQCAIBIJAIAgEgkAgCASCQCAIBIJAIAgEgkAgCASCQCAIBIJAIAgEgkAg/AFGuCCd/NPxtQAAAABJRU5ErkJggg%3D%3D\">\n",
              "\n",
              "</div>\n",
              "<div class=\"col-md-12 text-right\">\n",
              "    <a role=\"button\" data-toggle=\"collapse\" data-target=\"#descriptives2216967448452303308,#minihistogram2216967448452303308\"\n",
              "       aria-expanded=\"false\" aria-controls=\"collapseExample\">\n",
              "        Toggle details\n",
              "    </a>\n",
              "</div>\n",
              "<div class=\"row collapse col-md-12\" id=\"descriptives2216967448452303308\">\n",
              "    <ul class=\"nav nav-tabs\" role=\"tablist\">\n",
              "        <li role=\"presentation\" class=\"active\"><a href=\"#quantiles2216967448452303308\"\n",
              "                                                  aria-controls=\"quantiles2216967448452303308\" role=\"tab\"\n",
              "                                                  data-toggle=\"tab\">Statistics</a></li>\n",
              "        <li role=\"presentation\"><a href=\"#histogram2216967448452303308\" aria-controls=\"histogram2216967448452303308\"\n",
              "                                   role=\"tab\" data-toggle=\"tab\">Histogram</a></li>\n",
              "        <li role=\"presentation\"><a href=\"#common2216967448452303308\" aria-controls=\"common2216967448452303308\"\n",
              "                                   role=\"tab\" data-toggle=\"tab\">Common Values</a></li>\n",
              "        <li role=\"presentation\"><a href=\"#extreme2216967448452303308\" aria-controls=\"extreme2216967448452303308\"\n",
              "                                   role=\"tab\" data-toggle=\"tab\">Extreme Values</a></li>\n",
              "\n",
              "    </ul>\n",
              "\n",
              "    <div class=\"tab-content\">\n",
              "        <div role=\"tabpanel\" class=\"tab-pane active row\" id=\"quantiles2216967448452303308\">\n",
              "            <div class=\"col-md-4 col-md-offset-1\">\n",
              "                <p class=\"h4\">Quantile statistics</p>\n",
              "                <table class=\"stats indent\">\n",
              "                    <tr>\n",
              "                        <th>Minimum</th>\n",
              "                        <td>0</td>\n",
              "                    </tr>\n",
              "                    <tr>\n",
              "                        <th>5-th percentile</th>\n",
              "                        <td>0</td>\n",
              "                    </tr>\n",
              "                    <tr>\n",
              "                        <th>Q1</th>\n",
              "                        <td>4</td>\n",
              "                    </tr>\n",
              "                    <tr>\n",
              "                        <th>Median</th>\n",
              "                        <td>56</td>\n",
              "                    </tr>\n",
              "                    <tr>\n",
              "                        <th>Q3</th>\n",
              "                        <td>128</td>\n",
              "                    </tr>\n",
              "                    <tr>\n",
              "                        <th>95-th percentile</th>\n",
              "                        <td>252.8</td>\n",
              "                    </tr>\n",
              "                    <tr>\n",
              "                        <th>Maximum</th>\n",
              "                        <td>438</td>\n",
              "                    </tr>\n",
              "                    <tr>\n",
              "                        <th>Range</th>\n",
              "                        <td>438</td>\n",
              "                    </tr>\n",
              "                    <tr>\n",
              "                        <th>Interquartile range</th>\n",
              "                        <td>124</td>\n",
              "                    </tr>\n",
              "                </table>\n",
              "            </div>\n",
              "            <div class=\"col-md-4 col-md-offset-2\">\n",
              "                <p class=\"h4\">Descriptive statistics</p>\n",
              "                <table class=\"stats indent\">\n",
              "                    <tr>\n",
              "                        <th>Standard deviation</th>\n",
              "                        <td>88.284</td>\n",
              "                    </tr>\n",
              "                    <tr>\n",
              "                        <th>Coef of variation</th>\n",
              "                        <td>1.09</td>\n",
              "                    </tr>\n",
              "                    <tr>\n",
              "                        <th>Kurtosis</th>\n",
              "                        <td>1.4762</td>\n",
              "                    </tr>\n",
              "                    <tr>\n",
              "                        <th>Mean</th>\n",
              "                        <td>80.995</td>\n",
              "                    </tr>\n",
              "                    <tr>\n",
              "                        <th>MAD</th>\n",
              "                        <td>70.616</td>\n",
              "                    </tr>\n",
              "                    <tr class=\"\">\n",
              "                        <th>Skewness</th>\n",
              "                        <td>1.2921</td>\n",
              "                    </tr>\n",
              "                    <tr>\n",
              "                        <th>Sum</th>\n",
              "                        <td>15632</td>\n",
              "                    </tr>\n",
              "                    <tr>\n",
              "                        <th>Variance</th>\n",
              "                        <td>7794.1</td>\n",
              "                    </tr>\n",
              "                    <tr>\n",
              "                        <th>Memory size</th>\n",
              "                        <td>1.6 KiB</td>\n",
              "                    </tr>\n",
              "                </table>\n",
              "            </div>\n",
              "        </div>\n",
              "        <div role=\"tabpanel\" class=\"tab-pane col-md-8 col-md-offset-2\" id=\"histogram2216967448452303308\">\n",
              "            <img src=\"data:image/png;base64,iVBORw0KGgoAAAANSUhEUgAAAlgAAAGQCAYAAAByNR6YAAAABHNCSVQICAgIfAhkiAAAAAlwSFlzAAAPYQAAD2EBqD%2BnaQAAADh0RVh0U29mdHdhcmUAbWF0cGxvdGxpYiB2ZXJzaW9uMy4xLjMsIGh0dHA6Ly9tYXRwbG90bGliLm9yZy%2BAADFEAAAgAElEQVR4nO3de1DVdf7H8RdwEhNFIRfdNQtb00LUvFKoqWhes7xgauuom3dJVxf7aaijtq7aqGMljuluVua2Ek2bl0SdUunGtFtaAZqbZlsyGIScUAQTzvf3h%2BOpE1qaH/yeL%2Bf5mGlm/Zzj1/fxjbNPzjkegyzLsgQAAABjgu0eAAAAoKYhsAAAAAwjsAAAAAwjsAAAAAwjsAAAAAwjsAAAAAwjsAAAAAwjsAAAAAwjsAAAAAwjsAAAAAwjsAAAAAwjsAAAAAwjsAAAAAwjsAAAAAwjsAAAAAwjsAAAAAwjsAAAAAwjsAAAAAwjsAAAAAwjsAAAAAwjsAAAAAwjsAAAAAwjsAAAAAwjsAAAAAwjsAAAAAwjsAAAAAwjsAAAAAwjsAAAAAwjsAAAAAwjsAAAAAwjsAAAAAwjsAAAAAwjsAAAAAwjsAAAAAwjsAAAAAwjsAAAAAwjsAAAAAwjsAAAAAwjsAAAAAxz2T1AoCgsPG38msHBQYqMDNOpU6XyeCzj18eVYxf%2BhX34F/bhPwJxF7/5TT1bfl2ewXKw4OAgBQUFKTg4yO5RAh678C/sw7%2BwD//BLq4fAgsAAMAwAgsAAMAwAgsAAMAwAgsAAMAwAgsAAMAwAgsAAMAwAgsAAMAwAgsAAMAwAgsAAMAwAgsAAMAwAgsAAMAwAgsAAMAwAgsAAMAwl90D4Np0nLfL7hGuWMbMLnaPAADAdcEzWAAAAIYRWAAAAIYRWAAAAIYRWAAAAIYRWAAAAIYRWAAAAIYRWAAAAIYRWAAAAIYRWAAAAIYRWAAAAIYRWAAAAIYRWAAAAIYRWAAAAIYRWAAAAIYRWAAAAIYRWAAAAIYRWAAAAIYRWAAAAIYRWAAAAIYRWAAAAIYRWAAAAIYRWAAAAIYRWAAAAIYRWAAAAIYRWAAAAIYRWAAAAIYRWAAAAIYRWAAAAIYRWAAAAIYRWAAAAIYRWAAAAIYRWAAAAIYFbGAdOnRIY8aMUceOHdWlSxfNnj1bp06dkiRlZWUpMTFR7du318CBA7Vt2zabpwUAAE4SkIFVUVGhSZMm6a677tL777%2BvHTt26NSpU1q0aJEKCgo0bdo0jRw5UllZWZo3b54WLFig7Oxsu8cGAAAOEZCBVVhYqMLCQj344IOqVauWIiIidN999%2Bnw4cPavn27oqOjlZiYqNDQUMXHxyshIUHp6el2jw0AABzCZfcAdmjUqJHuvPNOpaWl6U9/%2BpPKy8u1Z88e9ejRQ7m5uYqJifG5f0xMjDIyMq74%2BgUFBSosLPQ5c7nqKCoqysj8F4WEOKuPXS5nzXs1Lu7CaTupqdiHf2Ef/oNdXD8BGVjBwcFas2aNxo0bpxdffFGS1LlzZyUnJ2vatGlq1KiRz/0bNGig4uLiK75%2BWlqaUlNTfc6SkpI0Y8aMax/ewSIiwuweodqFh99o9wj4EfbhX9iH/2AX1S8gA%2Bv777/XlClT1K9fP02ZMkVnz57V4sWLNXv2bCPXHzFihBISEnzOXK46Ki4uNXL9i5z2HYjpx%2B9PQkKCFR5%2Bo0pKylRZ6bF7nIDHPvwL%2B/AfgbgLu765D8jAysrK0okTJ/TnP/9ZISEhqlevnmbMmKEHH3xQ3bp1k9vt9rl/cXGxIiMjr/j6UVFRVV4OLCw8rYqKwPhivpxAePyVlZ6AeJxOwT78C/vwH%2Byi%2BjnrKRBDKisr5fF4ZFmW9%2Bz777%2BXJMXHxysnJ8fn/jk5OWrbtu11nREAADhXQAZWu3btVKdOHa1Zs0ZlZWUqLi7WunXr1KlTJz344IPKy8tTenq6zp07p8zMTGVmZuqhhx6ye2wAAOAQARlYEREReu6553TgwAHde%2B%2B9uv/%2B%2B1W7dm2tWrVKN910k9avX6/NmzerQ4cOWrp0qVasWKE77rjD7rEBAIBDBOR7sCQpNjZWL7300iVv69Spk7Zu3XqdJwIAADVFQD6DBQAAUJ0ILAAAAMMILAAAAMMILAAAAMMILAAAAMMILAAAAMMILAAAAMMILAAAAMMILAAAAMMILAAAAMMILAAAAMMILAAAAMMILAAAAMMILAAAAMMILAAAAMMILAAAAMMILAAAAMMILAAAAMMILAAAAMMILAAAAMMILAAAAMMILAAAAMMILAAAAMMILAAAAMMILAAAAMMILAAAAMMILAAAAMMILAAAAMMILAAAAMMILAAAAMMILAAAAMMILAAAAMMILAAAAMMILAAAAMMILAAAAMMILAAAAMMILAAAAMMILAAAAMMILAAAAMMILAAAAMMILAAAAMMILAAAAMMILAAAAMMILAAAAMMILAAAAMMILAAAAMMILAAAAMMILAAAAMMILAAAAMMILAAAAMMILAAAAMMILAAAAMMILAAAAMMILAAAAMMILAAAAMMILAAAAMMCOrDWrVunrl276q677tK4ceN04sQJSVJWVpYSExPVvn17DRw4UNu2bbN5UgAA4CQBG1j/%2BMc/tG3bNm3atEnvvvuumjdvrhdeeEEFBQWaNm2aRo4cqaysLM2bN08LFixQdna23SMDAACHcNk9gF02btyoOXPm6LbbbpMkzZ8/X5L03HPPKTo6WomJiZKk%2BPh4JSQkKD09Xa1bt7ZtXgAA4BwBGVjffPONTpw4oe%2B%2B%2B04DBgxQUVGR4uLitGjRIuXm5iomJsbn/jExMcrIyLji6xcUFKiwsNDnzOWqo6ioKCPzXxQS4qwnIF0uZ817NS7uwmk7qanYh39hH/6DXVw/ARlYJ0%2BelCTt2rVLzz//vCzL0owZMzR//nyVl5erUaNGPvdv0KCBiouLr/j6aWlpSk1N9TlLSkrSjBkzrn14B4uICLN7hGoXHn6j3SPgR9iHf2Ef/oNdVL%2BADCzLsiRJEyZM8MbU9OnTNXHiRMXHx1/z9UeMGKGEhASfM5erjoqLS6/52j/mtO9ATD9%2BfxISEqzw8BtVUlKmykqP3eMEPPbhX9iH/wjEXdj1zX1ABlbDhg0lSeHh4d6zJk2ayLIsnT9/Xm632%2Bf%2BxcXFioyMvOLrR0VFVXk5sLDwtCoqAuOL%2BXIC4fFXVnoC4nE6BfvwL%2BzDf7CL6uesp0AMady4serWravDhw97z/Ly8nTDDTeoe/fuysnJ8bl/Tk6O2rZte73HBAAADhWQgeVyuZSYmKhnn31W//vf/1RUVKS1a9dq0KBBGjJkiPLy8pSenq5z584pMzNTmZmZeuihh%2BweGwAAOERAvkQoScnJyfr%2B%2B%2B81fPhwnT9/Xn379tX8%2BfMVFham9evXa8mSJVq8eLGaNGmiFStW6I477rB7ZAAA4BBB1sV3fKNaFRaeNn5NlytY9618x/h1q0vGzC52j1BtXK5gRUSEqbi4lPc1%2BAH24V/Yh/8IxF385jf1bPl1A/IlQgAAgOrkqMBKSEhQamqq8vPz7R4FAADgshwVWMOGDdPOnTvVu3dvTZgwQXv27FFFRYXdYwEAAPhwVGAlJSVp586deuWVV3T77bdr6dKl6t69u1asWKHjx4/bPR4AAIAkhwXWRa1atdKcOXO0b98%2BpaSk6JVXXtGAAQM0fvx4ffrpp3aPBwAAApwjA%2Bv8%2BfPauXOnJk6cqDlz5qhRo0Z6/PHHdeedd2rcuHHavn273SMCAIAA5qjPwTp27JheffVVvf766yotLVXfvn314osvqkOHDt77dOrUSYsWLdKgQYNsnBQAAAQyRwXWwIED1axZM02ePFmDBw9WgwYNqtyne/fuOnXqlA3TAQAAXOCowNq0aZM6d%2B78i/f75JNPrsM0AAAAl%2Bao92C1bNlSU6ZM0Ztvvuk9e%2BGFFzRx4kS53W4bJwMAAPiBowJr2bJlOn36tJo3b%2B4969Gjhzwej5YvX27jZAAAAD9w1EuE7777rrZv366IiAjvWXR0tFauXKn777/fxskAAAB%2B4KhnsMrLyxUaGlrlPDg4WGVlZTZMBAAAUJWjAqtTp05avny5vvvuO%2B/ZN998o8WLF/t8VAMAAICdHPUSYUpKih555BHdc889qlu3rjwej0pLS9W0aVO99NJLdo8HAAAgyWGB1bRpU73xxht6%2B%2B239dVXXyk4OFjNmjVT165dFRISYvd4AAAAkhwWWJJUq1Yt9e7d2%2B4xAAAALstRgfX1119r1apV%2Bvzzz1VeXl7l9rfeesuGqQAAAHw5KrBSUlJUUFCgrl27qk6dOnaPAwAAcEmOCqycnBy99dZbioyMtHsUAACAy3LUxzTcdNNNPHMFAAD8nqMCa/LkyUpNTZVlWXaPAgAAcFmOeonw7bff1oEDB/Taa6/p5ptvVnCwbx9u2bLFpskAAAB%2B4KjAqlu3ru699167xwAAAPhZjgqsZcuW2T0CAADAL3LUe7Ak6YsvvtCaNWv0%2BOOPe88OHjxo40QAAAC%2BHBVYWVlZeuCBB7Rnzx7t2LFD0oUPHx0zZgwfMgoAAPyGowJr9erVeuyxx7R9%2B3YFBQVJuvDvEy5fvlxr1661eToAAIALHBVY//3vfzVq1ChJ8gaWJPXr10/Hjh2zaywAAAAfjgqsevXqXfLfICwoKFCtWrVsmAgAAKAqRwVW%2B/bttXTpUp05c8Z7dvz4cc2ZM0f33HOPjZMBAAD8wFEf0/D4449r7NixiouLU2Vlpdq3b6%2BysjLdfvvtWr58ud3jAQAASHJYYDVu3Fg7duxQZmamjh8/rtq1a6tZs2bq0qWLz3uyAAAA7OSowJKkG264Qb1797Z7DAAAgMtyVGAlJCT87DNVfBYWAADwB44KrAEDBvgEVmVlpY4fP67s7GyNHTvWxskAAAB%2B4KjAmj179iXPd%2B/erQ8%2B%2BOA6TwMAAHBpjvqYhsvp3bu33njjDbvHAAAAkFRDAuvQoUOyLMvuMQAAACQ57CXCkSNHVjkrKyvTsWPH1KdPHxsmAgAAqMpRgRUdHV3lbxGGhoYqMTFRw4cPt2kqAAAAX44KLD6tHQAAOIGjAuv111%2B/4vsOHjy4GicBAAC4PEcF1rx58%2BTxeKq8oT0oKMjnLCgoiMACAAC2cVRg/f3vf9fGjRs1ZcoUtWzZUpZl6ciRI/rb3/6m0aNHKy4uzu4RAQAAnBVYy5cv14YNG9SoUSPvWceOHdW0aVONHz9eO3bssHE6AACACxz1OVhffvml6tevX%2BU8PDxceXl5NkwEAABQlaMCq0mTJlq%2BfLmKi4u9ZyUlJVq1apVuueUWGycDAAD4gaNeIkxJSVFycrLS0tIUFham4OBgnTlzRrVr19batWvtHg8AAECSwwKra9eu2r9/vzIzM3Xy5ElZlqVGjRqpW7duqlevnt3jAQAASHJYYEnSjTfeqF69eunkyZNq2rSp3eMAAABU4aj3YJWXl2vOnDlq166d%2BvfvL%2BnCe7AmTJigkpISm6cDAAC4wFGBtWLFCh0%2BfFgrV65UcPAPo1dWVmrlypU2TgYAAPADRwXW7t279cwzz6hfv37ef/Q5PDxcy5Yt0549e2yeDgAA4AJHBVZpaamio6OrnEdGRurs2bPXfyAAAIBLcFRg3XLLLfrggw8kyeffHty1a5d%2B97vf2TUWAACAD0cF1sMPP6zp06frySeflMfj0fPPP6/k5GSlpKRo7Nixv%2BqaS5cuVcuWLb0/zsrKUmJiotq3b6%2BBAwdq27ZtpsYHAAABwlEf0zBixAi5XC5t3rxZISEhevbZZ9WsWTOtXLlS/fr1u%2BrrHT58WFu3bvX%2BuKCgQNOmTdO8efM0aNAgffTRR5o6daqaNWum1q1bm3woAACgBnNUYJ06dUrDhg3TsGHDrvlaHo9HCxcu1Lhx4/TUU09JkrZv367o6GglJiZKkuLj45WQkKD09HQCCwAAXDFHBVavXr104MAB798gvBZbtmxRaGioBg0a5A2s3NxcxcTE%2BNwvJiZGGRkZV3XtgoICFRYW%2Bpy5XHUUFRV1bUP/REiIo17hlcvlrHmvxsVdOG0nNRX78C/sw3%2Bwi%2BvHUYEVFxenjIwMDRgw4Jqu8%2B2332rNmjV66aWXfM7dbrcaNWrkc9agQQOff1z6SqSlpSk1NdXnLCkpSTNmzPh1A9cQERFhdo9Q7cLDb7R7BPwI%2B/Av7MN/sIvq56jA%2Bu1vf6u//vWv2rBhg2655RbdcMMNPrevWrXqiq6zbNkyDR06VM2bN9eJEyeMzzlixAglJCT4nLlcdVRcXGr013HadyCmH78/CQkJVnj4jSopKVNlpcfucQIe%2B/Av7MN/BOIu7Prm3lGBdfToUd12222SdNXPKl2UlZWlgwcPaseOHVVui4iIkNvt9jkrLi5WZGTkVf0aUVFRVV4OLCw8rYqKwPhivpxAePyVlZ6AeJxOwT78C/vwH%2Byi%2BjkisGbNmqXVq1f7vKS3du1aJSUlXfW1tm3bpqKiIvXs2VPSD5%2BnFRcXp0ceeaRKeOXk5Kht27bXMD0AAAg0jniNae/evVXONmzY8KuuNXfuXO3evVtbt27V1q1bvdfZunWrBg0apLy8PKWnp%2BvcuXPKzMxUZmamHnrooWuaHwAABBZHPIP1409t/7mzK1G/fn3Vr1/f%2B%2BOKigpJUuPGjSVJ69ev15IlS7R48WI1adJEK1as0B133PGrfi0AABCYHBFYl/pYBhMf1SBJN998s44cOeL9cadOnXw%2BfBQAAOBqOeIlQgAAACchsAAAAAxzxEuE58%2BfV3Jy8i%2BeXennYAEAAFQnRwRWhw4dVFBQ8ItnAAAA/sARgfXTf9IGAADAn/EeLAAAAMMILAAAAMMILAAAAMMILAAAAMMILAAAAMMILAAAAMMILAAAAMMILAAAAMMILAAAAMMILAAAAMMILAAAAMMILAAAAMMILAAAAMMILAAAAMMILAAAAMMILAAAAMMILAAAAMMILAAAAMMILAAAAMMILAAAAMMILAAAAMMILAAAAMMILAAAAMMILAAAAMMILAAAAMNcdg%2BAwNH/qffsHuGqZMzsYvcIAACH4hksAAAAwwgsAAAAwwgsAAAAwwgsAAAAwwgsAAAAwwgsAAAAwwgsAAAAwwgsAAAAwwgsAAAAw/gkd%2BAy%2BOR5AMCvxTNYAAAAhhFYAAAAhhFYAAAAhhFYAAAAhhFYAAAAhhFYAAAAhhFYAAAAhhFYAAAAhhFYAAAAhhFYAAAAhhFYAAAAhhFYAAAAhhFYAAAAhhFYAAAAhhFYAAAAhgVsYOXl5SkpKUlxcXGKj4/X3LlzVVJSIkk6fPiwRo8erQ4dOqhPnz7auHGjzdMCAAAnCdjAmjJlisLDw7V371699tpr%2Bvzzz/Xkk0%2BqvLxckydP1t1336133nlHq1ev1vr167Vnzx67RwYAAA4RkIFVUlKi2NhYJScnKywsTI0bN9aQIUP04Ycfav/%2B/Tp//rymTp2qOnXqqFWrVho%2BfLjS0tLsHhsAADiEy%2B4B7BAeHq5ly5b5nOXn5ysqKkq5ublq2bKlQkJCvLfFxMQoPT39iq9fUFCgwsJCnzOXq46ioqKubfCfCAkJyD7GZbhcfD1cdPHPBn9G/AP78B/s4voJyMD6qezsbG3evFnr1q1TRkaGwsPDfW5v0KCB3G63PB6PgoN/%2BYsyLS1NqampPmdJSUmaMWOG0bmBH4uICLN7BL8THn6j3SPgR9iH/2AX1S/gA%2Bujjz7S1KlTlZycrPj4eGVkZFzyfkFBQVd8zREjRighIcHnzOWqo%2BLi0mua9af4DgQ/Zvrry8lCQoIVHn6jSkrKVFnpsXucgMc%2B/Ecg7sKubz4DOrD27t2rxx57TAsWLNDgwYMlSZGRkfryyy997ud2u9WgQYMrevZKkqKioqq8HFhYeFoVFYHxxQx78PVVVWWlh98XP8I%2B/Ae7qH4B%2BxTIgQMHNGfOHD399NPeuJKk2NhYHTlyRBUVFd6z7OxstW3b1o4xAQCAAwVkYFVUVGj%2B/PmaPXu2unbt6nNb9%2B7dVbduXa1bt05lZWX65JNP9Oqrr2rUqFE2TQsAAJwmIAPr448/1rFjx7RkyRK1bt3a57/CwkI9%2B%2Byzev/999W5c2fNnDlTs2bNUo8ePeweGwAAOERAvgerY8eOOnLkyM/e55///Od1mgYAANQ0ARlYQE3U/6n37B7himXM7GL3CABQrQLyJUIAAIDqRGABAAAYRmABAAAYRmABAAAYRmABAAAYRmABAAAYRmABAAAYRmABAAAYRmABAAAYRmABAAAYRmABAAAYRmABAAAYRmABAAAYRmABAAAYRmABAAAY5rJ7AACBp/9T79k9wlXJmNnF7hEAOAzPYAEAABhGYAEAABhGYAEAABhGYAEAABhGYAEAABhGYAEAABhGYAEAABhGYAEAABhGYAEAABhGYAEAABhGYAEAABhGYAEAABhGYAEAABhGYAEAABhGYAEAABhGYAEAABjmsnsAAPB3/Z96z%2B4RrkrGzC52jwAEPJ7BAgAAMIzAAgAAMIzAAgAAMIzAAgAAMIzAAgAAMIzAAgAAMIzAAgAAMIzAAgAAMIzAAgAAMIzAAgAAMIzAAgAAMIzAAgAAMIzAAgAAMIzAAgAAMIzAAgAAMIzAAgAAMMxl9wAAALP6P/We3SPUWBkzu9g9AhyCZ7AAAAAMI7AAAAAMI7AAAAAMI7AAAAAMI7AAAAAMI7AuIS8vT5MmTVJcXJx69uypFStWyOPx2D0WAABwCD6m4RKmT5%2BuVq1a6c0331RRUZEmT56shg0b6o9//KPdowEAbMRHYFSfmvYRGDyD9RPZ2dn67LPPNHv2bNWrV0/R0dEaN26c0tLS7B4NAAA4BM9g/URubq6aNGmi%2BvXre89atWql48eP68yZM6pbt%2B4vXqOgoECFhYU%2BZy5XHUVFRRmdNSSEPgYA1AwuV836/zQC6yfcbrfCw8N9zi7GVnFx8RUFVlpamlJTU33OHn30UU2fPt3coLoQcmMbf64RI0YYjzdcnYKCAqWlpbELP8E%2B/Av78B/s4vqpWbloiGVZ1/TzR4wYoddee83nvxEjRhia7geFhYVKTU2t8mwZrj924V/Yh39hH/6DXVw/PIP1E5GRkXK73T5nbrdbQUFBioyMvKJrREVF8Z0BAAABjGewfiI2Nlb5%2Bfk6deqU9yw7O1vNmzdXWFiYjZMBAACnILB%2BIiYmRq1bt9aqVat05swZHTt2TM8//7xGjRpl92gAAMAhQhYtWrTI7iH8Tbdu3bRjxw795S9/0RtvvKHExESNHz9eQUFBdo9WRVhYmDp37syza36AXfgX9uFf2If/YBfXR5B1re/oBgAAgA9eIgQAADCMwAIAADCMwAIAADCMwAIAADCMwAIAADCMwAIAADCMwAIAADCMwAIAADCMwAIAADCMwHKgvLw8TZo0SXFxcerZs6dWrFghj8dj91g12jvvvKP4%2BHjNmjWrym07d%2B7UoEGD1K5dOw0dOlTvvvuu9zaPx6PVq1erV69e6tSpk8aPH6%2Bvv/76eo5e4%2BTl5SkpKUlxcXGKj4/X3LlzVVJSIkk6fPiwRo8erQ4dOqhPnz7auHGjz8/9uV3h1/nss880duxYdejQQfHx8Zo5c6YKCwslSVlZWUpMTFT79u01cOBAbdu2zefnbtq0SX379lX79u01atQo5eTk2PEQaqSlS5eqZcuW3h%2BzCxtYcJwhQ4ZY8%2BfPt0pKSqzjx49bffr0sTZu3Gj3WDXWhg0brD59%2BlgjR460Zs6c6XPboUOHrNjYWGv//v1WeXm5tXXrVqtt27ZWfn6%2BZVmWtWnTJqtnz57W0aNHrdOnT1tPPPGENWjQIMvj8djxUGqE%2B%2B%2B/35o7d6515swZKz8/3xo6dKiVkpJilZWVWd26dbPWrFljlZaWWjk5OVbnzp2t3bt3W5b1y7vC1Tt37px1zz33WKmpqda5c%2BesoqIia/To0da0adOsb775xrrrrrus9PR0q7y83HrvvfesNm3aWJ9%2B%2BqllWZb11ltvWR07drQ%2B/vhjq6yszFq/fr3VpUsXq7S01OZH5XyHDh2yOnfubLVo0cKyLItd2IRnsBwmOztbn332mWbPnq169eopOjpa48aNU1pamt2j1VihoaF69dVXdeutt1a5LT09Xd27d1f37t0VGhqqBx54QC1atPB%2Bd5iWlqZx48bp97//verWratZs2bp2LFj%2BuSTT673w6gRSkpKFBsbq%2BTkZIWFhalx48YaMmSIPvzwQ%2B3fv1/nz5/X1KlTVadOHbVq1UrDhw/3/tn4pV3h6pWVlWnWrFmaPHmyatWqpcjISN133336/PPPtX37dkVHRysxMVGhoaGKj49XQkKC0tPTJV34szF06FC1bdtWtWvX1oQJEyRJ%2B/bts/MhOZ7H49HChQs1btw47xm7sAeB5TC5ublq0qSJ6tev7z1r1aqVjh8/rjNnztg4Wc01ZswY1atX75K35ebmKiYmxucsJiZG2dnZKi8v19GjR31ur1u3rm699VZlZ2dX68w1VXh4uJYtW6aGDRt6z/Lz8xUVFaXc3Fy1bNlSISEh3ttiYmK8L3X83K7w69SvX1/Dhw%2BXy%2BWSJH3xxRf617/%2Bpf79%2B1/29/ty%2BwgODtadd97JPq7Rli1bFBoaqkGDBnnP2IU9CCyHcbvdCg8P9zm7GFvFxcV2jBTQ3G63T%2BxKF/ZRXFys7777TpZlXfZ2XLvs7Gxt3rxZU6dOveSfjQYNGsjtdsvj8fzsrnBt8vLyFBsbqwEDBqh169aaMWPGZfdx8febfZj37bffas2aNVq4cKHPObuwB4HlQJZl2T0CfuSX9sG%2BqsdHH32k8ePHKzk5WfHx8Ze9X1BQkPd/s4vq0aRJE2VnZ2vXrl368ssv9X//939X9PPYh1nLli3T0KFD1bx586v%2BuezCPALLYSIjI%2BV2u33O3G63goKCFBkZadNUgSsiIuKS%2B4iMjFSDBg0UHBx8ydtvuumm6zlmjbN3715NmjRJKSkpGjNmjKQLfzZ%2B%2Bh232%2B327uHndoVrFxQUpOjoaM2aNUs7duyQy%2BWq8vtdXFzs/f1mH/s4h6cAAAMfSURBVGZlZWXp4MGDSkpKqnLbpX6v2UX1I7AcJjY2Vvn5%2BTp16pT3LDs7W82bN1dYWJiNkwWm2NjYKn%2BdOTs7W23btlVoaKhuv/125ebmem8rKSnRV199pTZt2lzvUWuMAwcOaM6cOXr66ac1ePBg73lsbKyOHDmiiooK79nFXVy8/XK7wq%2BTlZWlvn37%2BnxMTHDwhf9badOmTZXf75ycHJ99/PjPRmVlpQ4dOsQ%2BfqVt27apqKhIPXv2VFxcnIYOHSpJiouLU4sWLdiFHWz8G4z4lYYPH26lpKRYp0%2Bfto4ePWolJCRYmzdvtnusGm/OnDlVPqbhyJEjVuvWra19%2B/ZZ5eXlVnp6utWuXTuroKDAsizLevnll60ePXp4P6ZhwYIF1rBhw%2BwYv0Y4f/681b9/f2vLli1Vbjt37pzVs2dP65lnnrHOnj1rffzxx1bHjh2tffv2WZb1y7vC1SspKbHi4%2BOt5cuXW2fPnrWKioqs8ePHWw8//LD17bffWu3atbNeeeUVq7y83Nq/f7/Vpk0b6/Dhw5ZlWVZmZqbVoUMH6%2BDBg9bZs2etNWvWWN27d7fKyspsflTO5Ha7rfz8fO9/Bw8etFq0aGHl5%2BdbeXl57MIGQZbFC69Oc/LkSS1YsED//ve/VbduXY0cOVKPPvqoz3tNYE7r1q0lyfvMyMW/MXXxb9js2bNHq1atUl5enpo3b6558%2BapU6dOki68r2HNmjXasmWLSktLFRcXpyeeeEKNGze24ZE434cffqg//OEPqlWrVpXbdu3apdLSUi1cuFA5OTlq2LChJk6cqIcffth7n5/bFX6dI0eOaMmSJfr0009Vp04d3X333Zo7d64aNWqk//znP1qyZImOHTumJk2aKDk5WX369PH%2B3JdfflkbNmxQUVGRWrdurUWLFqlFixY2Ppqa48SJE%2BrVq5eOHDkiSezCBgQWAACAYbwHCwAAwDACCwAAwDACCwAAwDACCwAAwDACCwAAwDACCwAAwDACCwAAwDACCwAAwDACCwAAwDACCwAAwDACCwAAwDACCwAAwDACCwAAwLD/B3eVQMROhm/gAAAAAElFTkSuQmCC\"/>\n",
              "        </div>\n",
              "        <div role=\"tabpanel\" class=\"tab-pane col-md-12\" id=\"common2216967448452303308\">\n",
              "            \n",
              "<table class=\"freq table table-hover\">\n",
              "    <thead>\n",
              "    <tr>\n",
              "        <td class=\"fillremaining\">Value</td>\n",
              "        <td class=\"number\">Count</td>\n",
              "        <td class=\"number\">Frequency (%)</td>\n",
              "        <td style=\"min-width:200px\">&nbsp;</td>\n",
              "    </tr>\n",
              "    </thead>\n",
              "    <tr class=\"\">\n",
              "        <td class=\"fillremaining\">0</td>\n",
              "        <td class=\"number\">23</td>\n",
              "        <td class=\"number\">11.9%</td>\n",
              "        <td>\n",
              "            <div class=\"bar\" style=\"width:19%\">&nbsp;</div>\n",
              "        </td>\n",
              "</tr><tr class=\"\">\n",
              "        <td class=\"fillremaining\">1</td>\n",
              "        <td class=\"number\">9</td>\n",
              "        <td class=\"number\">4.7%</td>\n",
              "        <td>\n",
              "            <div class=\"bar\" style=\"width:8%\">&nbsp;</div>\n",
              "        </td>\n",
              "</tr><tr class=\"\">\n",
              "        <td class=\"fillremaining\">3</td>\n",
              "        <td class=\"number\">8</td>\n",
              "        <td class=\"number\">4.1%</td>\n",
              "        <td>\n",
              "            <div class=\"bar\" style=\"width:7%\">&nbsp;</div>\n",
              "        </td>\n",
              "</tr><tr class=\"\">\n",
              "        <td class=\"fillremaining\">2</td>\n",
              "        <td class=\"number\">7</td>\n",
              "        <td class=\"number\">3.6%</td>\n",
              "        <td>\n",
              "            <div class=\"bar\" style=\"width:6%\">&nbsp;</div>\n",
              "        </td>\n",
              "</tr><tr class=\"\">\n",
              "        <td class=\"fillremaining\">100</td>\n",
              "        <td class=\"number\">4</td>\n",
              "        <td class=\"number\">2.1%</td>\n",
              "        <td>\n",
              "            <div class=\"bar\" style=\"width:4%\">&nbsp;</div>\n",
              "        </td>\n",
              "</tr><tr class=\"\">\n",
              "        <td class=\"fillremaining\">18</td>\n",
              "        <td class=\"number\">4</td>\n",
              "        <td class=\"number\">2.1%</td>\n",
              "        <td>\n",
              "            <div class=\"bar\" style=\"width:4%\">&nbsp;</div>\n",
              "        </td>\n",
              "</tr><tr class=\"\">\n",
              "        <td class=\"fillremaining\">35</td>\n",
              "        <td class=\"number\">4</td>\n",
              "        <td class=\"number\">2.1%</td>\n",
              "        <td>\n",
              "            <div class=\"bar\" style=\"width:4%\">&nbsp;</div>\n",
              "        </td>\n",
              "</tr><tr class=\"\">\n",
              "        <td class=\"fillremaining\">6</td>\n",
              "        <td class=\"number\">3</td>\n",
              "        <td class=\"number\">1.6%</td>\n",
              "        <td>\n",
              "            <div class=\"bar\" style=\"width:3%\">&nbsp;</div>\n",
              "        </td>\n",
              "</tr><tr class=\"\">\n",
              "        <td class=\"fillremaining\">69</td>\n",
              "        <td class=\"number\">3</td>\n",
              "        <td class=\"number\">1.6%</td>\n",
              "        <td>\n",
              "            <div class=\"bar\" style=\"width:3%\">&nbsp;</div>\n",
              "        </td>\n",
              "</tr><tr class=\"\">\n",
              "        <td class=\"fillremaining\">4</td>\n",
              "        <td class=\"number\">3</td>\n",
              "        <td class=\"number\">1.6%</td>\n",
              "        <td>\n",
              "            <div class=\"bar\" style=\"width:3%\">&nbsp;</div>\n",
              "        </td>\n",
              "</tr><tr class=\"other\">\n",
              "        <td class=\"fillremaining\">Other values (99)</td>\n",
              "        <td class=\"number\">125</td>\n",
              "        <td class=\"number\">64.8%</td>\n",
              "        <td>\n",
              "            <div class=\"bar\" style=\"width:100%\">&nbsp;</div>\n",
              "        </td>\n",
              "</tr>\n",
              "</table>\n",
              "        </div>\n",
              "        <div role=\"tabpanel\" class=\"tab-pane col-md-12\"  id=\"extreme2216967448452303308\">\n",
              "            <p class=\"h4\">Minimum 5 values</p>\n",
              "            \n",
              "<table class=\"freq table table-hover\">\n",
              "    <thead>\n",
              "    <tr>\n",
              "        <td class=\"fillremaining\">Value</td>\n",
              "        <td class=\"number\">Count</td>\n",
              "        <td class=\"number\">Frequency (%)</td>\n",
              "        <td style=\"min-width:200px\">&nbsp;</td>\n",
              "    </tr>\n",
              "    </thead>\n",
              "    <tr class=\"\">\n",
              "        <td class=\"fillremaining\">0</td>\n",
              "        <td class=\"number\">23</td>\n",
              "        <td class=\"number\">11.9%</td>\n",
              "        <td>\n",
              "            <div class=\"bar\" style=\"width:100%\">&nbsp;</div>\n",
              "        </td>\n",
              "</tr><tr class=\"\">\n",
              "        <td class=\"fillremaining\">1</td>\n",
              "        <td class=\"number\">9</td>\n",
              "        <td class=\"number\">4.7%</td>\n",
              "        <td>\n",
              "            <div class=\"bar\" style=\"width:39%\">&nbsp;</div>\n",
              "        </td>\n",
              "</tr><tr class=\"\">\n",
              "        <td class=\"fillremaining\">2</td>\n",
              "        <td class=\"number\">7</td>\n",
              "        <td class=\"number\">3.6%</td>\n",
              "        <td>\n",
              "            <div class=\"bar\" style=\"width:31%\">&nbsp;</div>\n",
              "        </td>\n",
              "</tr><tr class=\"\">\n",
              "        <td class=\"fillremaining\">3</td>\n",
              "        <td class=\"number\">8</td>\n",
              "        <td class=\"number\">4.1%</td>\n",
              "        <td>\n",
              "            <div class=\"bar\" style=\"width:35%\">&nbsp;</div>\n",
              "        </td>\n",
              "</tr><tr class=\"\">\n",
              "        <td class=\"fillremaining\">4</td>\n",
              "        <td class=\"number\">3</td>\n",
              "        <td class=\"number\">1.6%</td>\n",
              "        <td>\n",
              "            <div class=\"bar\" style=\"width:13%\">&nbsp;</div>\n",
              "        </td>\n",
              "</tr>\n",
              "</table>\n",
              "            <p class=\"h4\">Maximum 5 values</p>\n",
              "            \n",
              "<table class=\"freq table table-hover\">\n",
              "    <thead>\n",
              "    <tr>\n",
              "        <td class=\"fillremaining\">Value</td>\n",
              "        <td class=\"number\">Count</td>\n",
              "        <td class=\"number\">Frequency (%)</td>\n",
              "        <td style=\"min-width:200px\">&nbsp;</td>\n",
              "    </tr>\n",
              "    </thead>\n",
              "    <tr class=\"\">\n",
              "        <td class=\"fillremaining\">302</td>\n",
              "        <td class=\"number\">1</td>\n",
              "        <td class=\"number\">0.5%</td>\n",
              "        <td>\n",
              "            <div class=\"bar\" style=\"width:50%\">&nbsp;</div>\n",
              "        </td>\n",
              "</tr><tr class=\"\">\n",
              "        <td class=\"fillremaining\">315</td>\n",
              "        <td class=\"number\">1</td>\n",
              "        <td class=\"number\">0.5%</td>\n",
              "        <td>\n",
              "            <div class=\"bar\" style=\"width:50%\">&nbsp;</div>\n",
              "        </td>\n",
              "</tr><tr class=\"\">\n",
              "        <td class=\"fillremaining\">326</td>\n",
              "        <td class=\"number\">2</td>\n",
              "        <td class=\"number\">1.0%</td>\n",
              "        <td>\n",
              "            <div class=\"bar\" style=\"width:100%\">&nbsp;</div>\n",
              "        </td>\n",
              "</tr><tr class=\"\">\n",
              "        <td class=\"fillremaining\">373</td>\n",
              "        <td class=\"number\">1</td>\n",
              "        <td class=\"number\">0.5%</td>\n",
              "        <td>\n",
              "            <div class=\"bar\" style=\"width:50%\">&nbsp;</div>\n",
              "        </td>\n",
              "</tr><tr class=\"\">\n",
              "        <td class=\"fillremaining\">438</td>\n",
              "        <td class=\"number\">1</td>\n",
              "        <td class=\"number\">0.5%</td>\n",
              "        <td>\n",
              "            <div class=\"bar\" style=\"width:50%\">&nbsp;</div>\n",
              "        </td>\n",
              "</tr>\n",
              "</table>\n",
              "        </div>\n",
              "    </div>\n",
              "</div>\n",
              "</div><div class=\"row variablerow\">\n",
              "    <div class=\"col-md-3 namecol\">\n",
              "        <p class=\"h4 pp-anchor\" id=\"pp_var_wine_servings\">wine_servings<br/>\n",
              "            <small>Numeric</small>\n",
              "        </p>\n",
              "    </div><div class=\"col-md-6\">\n",
              "    <div class=\"row\">\n",
              "        <div class=\"col-sm-6\">\n",
              "            <table class=\"stats \">\n",
              "                <tr>\n",
              "                    <th>Distinct count</th>\n",
              "                    <td>79</td>\n",
              "                </tr>\n",
              "                <tr>\n",
              "                    <th>Unique (%)</th>\n",
              "                    <td>40.9%</td>\n",
              "                </tr>\n",
              "                <tr class=\"ignore\">\n",
              "                    <th>Missing (%)</th>\n",
              "                    <td>0.0%</td>\n",
              "                </tr>\n",
              "                <tr class=\"ignore\">\n",
              "                    <th>Missing (n)</th>\n",
              "                    <td>0</td>\n",
              "                </tr>\n",
              "                <tr class=\"ignore\">\n",
              "                    <th>Infinite (%)</th>\n",
              "                    <td>0.0%</td>\n",
              "                </tr>\n",
              "                <tr class=\"ignore\">\n",
              "                    <th>Infinite (n)</th>\n",
              "                    <td>0</td>\n",
              "                </tr>\n",
              "            </table>\n",
              "\n",
              "        </div>\n",
              "        <div class=\"col-sm-6\">\n",
              "            <table class=\"stats \">\n",
              "\n",
              "                <tr>\n",
              "                    <th>Mean</th>\n",
              "                    <td>49.451</td>\n",
              "                </tr>\n",
              "                <tr>\n",
              "                    <th>Minimum</th>\n",
              "                    <td>0</td>\n",
              "                </tr>\n",
              "                <tr>\n",
              "                    <th>Maximum</th>\n",
              "                    <td>370</td>\n",
              "                </tr>\n",
              "                <tr class=\"alert\">\n",
              "                    <th>Zeros (%)</th>\n",
              "                    <td>16.1%</td>\n",
              "                </tr>\n",
              "            </table>\n",
              "        </div>\n",
              "    </div>\n",
              "</div>\n",
              "<div class=\"col-md-3 collapse in\" id=\"minihistogram-1465403353101684597\">\n",
              "    <img src=\"data:image/png;base64,iVBORw0KGgoAAAANSUhEUgAAAMgAAABLCAYAAAA1fMjoAAAABHNCSVQICAgIfAhkiAAAAAlwSFlzAAAPYQAAD2EBqD%2BnaQAAADh0RVh0U29mdHdhcmUAbWF0cGxvdGxpYiB2ZXJzaW9uMy4xLjMsIGh0dHA6Ly9tYXRwbG90bGliLm9yZy%2BAADFEAAABLUlEQVR4nO3YQWoCMQCG0Vo8kofwTq69k4fwTnErpXx0pM4E57194F/kI5DDGGN8Ab/63noAzOy49YCfTpfb4jP36/kNS8ALAkkgEAQCQSAQBAJBIBAEAkEgEAQCQSAQBAJBIBAEAkEgEAQCQSAQBAJBIBAEAkEgEAQCQSAQBAJBIBAEAkEgEAQCQSAQBAJBIBAEAkEgEAQCQSAQBAJBIBAEAkEgEAQCQSAQBALhuPWA/3C63BafuV/Pb1jCp/mIQNayNMRXIhT7XHYbyCsXkf3ZbSBrmDVCr9TfHcYYY%2BsRz2a9VKxjthCnCwRm4psXgkAgCASCQCAIBIJAIAgEgkAgCASCQCAIBIJAIAgEgkAgCASCQCAIBIJAIAgEgkAgCASCQCAIBIJAIAgEwgMN/iFgGa8HGQAAAABJRU5ErkJggg%3D%3D\">\n",
              "\n",
              "</div>\n",
              "<div class=\"col-md-12 text-right\">\n",
              "    <a role=\"button\" data-toggle=\"collapse\" data-target=\"#descriptives-1465403353101684597,#minihistogram-1465403353101684597\"\n",
              "       aria-expanded=\"false\" aria-controls=\"collapseExample\">\n",
              "        Toggle details\n",
              "    </a>\n",
              "</div>\n",
              "<div class=\"row collapse col-md-12\" id=\"descriptives-1465403353101684597\">\n",
              "    <ul class=\"nav nav-tabs\" role=\"tablist\">\n",
              "        <li role=\"presentation\" class=\"active\"><a href=\"#quantiles-1465403353101684597\"\n",
              "                                                  aria-controls=\"quantiles-1465403353101684597\" role=\"tab\"\n",
              "                                                  data-toggle=\"tab\">Statistics</a></li>\n",
              "        <li role=\"presentation\"><a href=\"#histogram-1465403353101684597\" aria-controls=\"histogram-1465403353101684597\"\n",
              "                                   role=\"tab\" data-toggle=\"tab\">Histogram</a></li>\n",
              "        <li role=\"presentation\"><a href=\"#common-1465403353101684597\" aria-controls=\"common-1465403353101684597\"\n",
              "                                   role=\"tab\" data-toggle=\"tab\">Common Values</a></li>\n",
              "        <li role=\"presentation\"><a href=\"#extreme-1465403353101684597\" aria-controls=\"extreme-1465403353101684597\"\n",
              "                                   role=\"tab\" data-toggle=\"tab\">Extreme Values</a></li>\n",
              "\n",
              "    </ul>\n",
              "\n",
              "    <div class=\"tab-content\">\n",
              "        <div role=\"tabpanel\" class=\"tab-pane active row\" id=\"quantiles-1465403353101684597\">\n",
              "            <div class=\"col-md-4 col-md-offset-1\">\n",
              "                <p class=\"h4\">Quantile statistics</p>\n",
              "                <table class=\"stats indent\">\n",
              "                    <tr>\n",
              "                        <th>Minimum</th>\n",
              "                        <td>0</td>\n",
              "                    </tr>\n",
              "                    <tr>\n",
              "                        <th>5-th percentile</th>\n",
              "                        <td>0</td>\n",
              "                    </tr>\n",
              "                    <tr>\n",
              "                        <th>Q1</th>\n",
              "                        <td>1</td>\n",
              "                    </tr>\n",
              "                    <tr>\n",
              "                        <th>Median</th>\n",
              "                        <td>8</td>\n",
              "                    </tr>\n",
              "                    <tr>\n",
              "                        <th>Q3</th>\n",
              "                        <td>59</td>\n",
              "                    </tr>\n",
              "                    <tr>\n",
              "                        <th>95-th percentile</th>\n",
              "                        <td>225.8</td>\n",
              "                    </tr>\n",
              "                    <tr>\n",
              "                        <th>Maximum</th>\n",
              "                        <td>370</td>\n",
              "                    </tr>\n",
              "                    <tr>\n",
              "                        <th>Range</th>\n",
              "                        <td>370</td>\n",
              "                    </tr>\n",
              "                    <tr>\n",
              "                        <th>Interquartile range</th>\n",
              "                        <td>58</td>\n",
              "                    </tr>\n",
              "                </table>\n",
              "            </div>\n",
              "            <div class=\"col-md-4 col-md-offset-2\">\n",
              "                <p class=\"h4\">Descriptive statistics</p>\n",
              "                <table class=\"stats indent\">\n",
              "                    <tr>\n",
              "                        <th>Standard deviation</th>\n",
              "                        <td>79.698</td>\n",
              "                    </tr>\n",
              "                    <tr>\n",
              "                        <th>Coef of variation</th>\n",
              "                        <td>1.6117</td>\n",
              "                    </tr>\n",
              "                    <tr>\n",
              "                        <th>Kurtosis</th>\n",
              "                        <td>2.9444</td>\n",
              "                    </tr>\n",
              "                    <tr>\n",
              "                        <th>Mean</th>\n",
              "                        <td>49.451</td>\n",
              "                    </tr>\n",
              "                    <tr>\n",
              "                        <th>MAD</th>\n",
              "                        <td>59.743</td>\n",
              "                    </tr>\n",
              "                    <tr class=\"\">\n",
              "                        <th>Skewness</th>\n",
              "                        <td>1.9095</td>\n",
              "                    </tr>\n",
              "                    <tr>\n",
              "                        <th>Sum</th>\n",
              "                        <td>9544</td>\n",
              "                    </tr>\n",
              "                    <tr>\n",
              "                        <th>Variance</th>\n",
              "                        <td>6351.7</td>\n",
              "                    </tr>\n",
              "                    <tr>\n",
              "                        <th>Memory size</th>\n",
              "                        <td>1.6 KiB</td>\n",
              "                    </tr>\n",
              "                </table>\n",
              "            </div>\n",
              "        </div>\n",
              "        <div role=\"tabpanel\" class=\"tab-pane col-md-8 col-md-offset-2\" id=\"histogram-1465403353101684597\">\n",
              "            <img src=\"data:image/png;base64,iVBORw0KGgoAAAANSUhEUgAAAlgAAAGQCAYAAAByNR6YAAAABHNCSVQICAgIfAhkiAAAAAlwSFlzAAAPYQAAD2EBqD%2BnaQAAADh0RVh0U29mdHdhcmUAbWF0cGxvdGxpYiB2ZXJzaW9uMy4xLjMsIGh0dHA6Ly9tYXRwbG90bGliLm9yZy%2BAADFEAAAgAElEQVR4nO3df1iUdb7/8RcwQSLyy0L3kCtt/kTwVypFJoqpra5UpiHncs1dLS02V9LWMruOnTxpl3o8rbgmlZbVqQlzU0k3r/JHVtSearMBzZNkV%2BrRmFUmlIUS5v7%2B0SXfHVFB%2BeDM3Dwf1%2BV1xeeeue/3ixnpNfcMtyGWZVkCAACAMaH%2BHgAAAMBuKFgAAACGUbAAAAAMo2ABAAAYRsECAAAwjIIFAABgGAULAADAMAoWAACAYRQsAAAAwyhYAAAAhlGwAAAADKNgAQAAGEbBAgAAMIyCBQAAYBgFCwAAwDAKFgAAgGEULAAAAMMoWAAAAIZRsAAAAAyjYAEAABhGwQIAADCMggUAAGAYBQsAAMAwChYAAIBhFCwAAADDKFgAAACGUbAAAAAMo2ABAAAYRsECAAAwjIIFAABgGAULAADAMAoWAACAYRQsAAAAwyhYAAAAhlGwAAAADKNgAQAAGGbbgrV7926lp6crLy/vvLepqqrS0KFD9fDDD9eveb1eLV%2B%2BXMOHD9fAgQM1depUHTp06HKMDAAAbMKWBevZZ5/VwoUL1blz5wvebsWKFTp16pTP2iuvvKLNmzeroKBAO3bsUFJSknJzc2VZVkuODAAAbMSWBSsiIkLr16%2B/YMH68ssvVVRUpDvuuMNn3el0asqUKbruuusUFRWlvLw8lZWVac%2BePS09NgAAsAmHvwdoCZMnT77gdsuytGDBAuXl5en//u//dPLkSUlSTU2NDhw4oOTk5PrbRkVFqXPnznK5XOrbt%2B8lz%2BR2n7zk%2B55PaGiI4uPb6sSJKnm99j7DRlZ7Iqs9kdWegjXr1Ve388txbVmwGuN0OhUSEqJx48YpPz%2B/fv3777%2BXZVmKiYnxuX1MTIwqKiqavP/y8nK53W6fNYcjUgkJCc0b/CxhYaEKCQnRFVeEqa7Oa3TfgYas9kRWeyKrPbWmrCa0uoJ1/PhxPf3003rhhRcUEhJyzts09/NWTqfTp7hJUm5urmbOnNms/Z5PdHSbFtlvICKrPZHVnshqT60pa3O0uoK1ePFi3X777erevXuDbbGxsQoNDZXH4/FZ93g8at%2B%2BfZOPkZ2drczMTJ81hyNSFRVVlzb0eYSFhSo6uo0qK6tt/2qCrPZEVnsiqz0Fa9a4uLZ%2BOW6rK1ibNm1SdHS0NmzYIOmnz115vV7t2LFDH3/8sbp27arS0lINGjRIklRZWalvv/1WvXv3bvIxEhISGrwd6HafVG1tyzwh6%2Bq8LbbvQENWeyKrPZHVnlpT1uZodQVr165dPl%2BvXbtWx44d0yOPPCJJysnJUUFBgYYMGaIOHTpo6dKl6tmzp1JTU/0xLgAACEK2LFhnylBtba0k6Z133pEkuVwudezY0ee2UVFRatOmTf36xIkT5Xa79etf/1pVVVVKS0tr8HkqAACACwmxuILmZdESl2lwOEIVF9dWFRVVtj9dS1Z7Iqs9kdWegjWrvy7TYMsLjQIAAPgTBQsAAMAwChYAAIBhFCwAAADDKFgAAACGUbAAAAAMo2ABAAAYZssLjbYmAx79i79HaLKts27y9wgAAFwWnMECAAAwjIIFAABgGAULAADAMAoWAACAYRQsAAAAwyhYAAAAhlGwAAAADKNgAQAAGEbBAgAAMIyCBQAAYBgFCwAAwDAKFgAAgGEULAAAAMMoWAAAAIZRsAAAAAyjYAEAABhGwQIAADCMggUAAGAYBQsAAMAwChYAAIBhFCwAAADDKFgAAACGUbAAAAAMo2ABAAAYRsECAAAwjIIFAABgGAULAADAMNsWrN27dys9PV15eXkNtm3btk1ZWVnq16%2BfRo0apddff91n%2B7p16zRq1Cj1799fOTk5KikpuVxjAwAAG3D4e4CW8Oyzz2r9%2BvXq3Llzg21ffPGF5syZo//8z//U0KFD9cEHHyg3N1e/%2BMUvNGDAAG3fvl0rVqzQc889p%2B7du2vdunWaMWOGtm3bpsjISD%2BkAQAAwcaWZ7AiIiLOW7A8Ho%2BmT5%2BuW265RQ6HQxkZGerWrZs%2B%2BeQTSZLT6dS4cePUp08fXXnllZo2bZokaceOHZc1AwAACF62PIM1efLk824bMmSIhgwZUv91bW2t3G63OnToIEkqLS3V6NGj67eHhoaqZ8%2BecrlcGjNmTJOOX15eLrfb7bPmcEQqISHhYmI0KiwsuPqxw3Hp857JGmyZLwVZ7Yms9kRWnI8tC9bFWLp0qSIjI%2BtLlcfjUUxMjM9tYmJiVFFR0eR9Op1O5efn%2B6zl5uZq5syZzR84iMXFtW32PqKj2xiYJDiQ1Z7Iak9kxdlabcGyLEtLly5VUVGR1q1bp4iICJ9tzZGdna3MzEyfNYcjUhUVVc3a79mC7VVEc/KHhYUqOrqNKiurVVfnNThV4CGrPZHVnsga%2BEy8uL8UrbJgeb1ePfLII/riiy/06quvqlOnTvXb4uLi5PF4fG7v8XjUtWvXJu8/ISGhwduBbvdJ1dYGzxOyJZjIX1fnbTXfR7LaE1ntiaw4W3CdAjHkySef1FdffdWgXElSSkqKSktL67%2Buq6vT3r171adPn8s9JgAACFKtrmB9%2Bumn2rRpkwoKChQbG9tge05Ojt588019/vnnqq6u1qpVqxQeHq6hQ4de/mEBAEBQsuVbhKmpqZJ%2B%2Bg1BSXrnnXckSS6XS2%2B88YZOnjypYcOG%2Bdxn4MCBWrNmjYYMGaIHH3xQs2bN0vHjx5WamqqCggJdeeWVlzcEAAAIWiFWcz/RjSZxu08a36fDEaoRS3cb329L2Trrpku%2Br8MRqri4tqqoqLL9e/9ktSey2hNZA9/VV7fzy3Fb3VuEAAAALY2CBQAAYBgFCwAAwDAKFgAAgGEULAAAAMMoWAAAAIZRsAAAAAyjYAEAABhGwQIAADCMggUAAGAYBQsAAMAwChYAAIBhFCwAAADDKFgAAACGUbAAAAAMo2ABAAAYRsECAAAwjIIFAABgGAULAADAMAoWAACAYRQsAAAAwyhYAAAAhlGwAAAADKNgAQAAGEbBAgAAMIyCBQAAYBgFCwAAwDAKFgAAgGEULAAAAMMoWAAAAIZRsAAAAAyjYAEAABhGwQIAADCMggUAAGCYbQvW7t27lZ6erry8vAbbtmzZorFjx6pfv34aN26c3n///fptXq9Xy5cv1/DhwzVw4EBNnTpVhw4dupyjAwCAIGfLgvXss89q4cKF6ty5c4Nt%2B/bt09y5czVnzhx99NFHmjJlin73u9/p2LFjkqRXXnlFmzdvVkFBgXbs2KGkpCTl5ubKsqzLHQMAAAQpWxasiIgIrV%2B//pwFq7CwUBkZGcrIyFBERISysrLUrVs3bdq0SZLkdDo1ZcoUXXfddYqKilJeXp7Kysq0Z8%2Beyx0DAAAEKVsWrMmTJ6tdu3bn3FZaWqrk5GSfteTkZLlcLtXU1OjAgQM%2B26OiotS5c2e5XK4WnRkAANiHw98DXG4ej0cxMTE%2BazExMTpw4IC%2B//57WZZ1zu0VFRVNPkZ5ebncbrfPmsMRqYSEhEsf/BzCwoKrHzsclz7vmazBlvlSkNWeyGpPZMX5tLqCJanRz1M19/NWTqdT%2Bfn5Pmu5ubmaOXNms/Yb7OLi2jZ7H9HRbQxMEhzIak9ktSey4mytrmDFxcXJ4/H4rHk8HsXHxys2NlahoaHn3N6%2BffsmHyM7O1uZmZk%2Baw5HpCoqqi598HMItlcRzckfFhaq6Og2qqysVl2d1%2BBUgYes9kRWeyJr4DPx4v5StLqClZKSopKSEp81l8ulMWPGKCIiQl27dlVpaakGDRokSaqsrNS3336r3r17N/kYCQkJDd4OdLtPqrY2eJ6QLcFE/ro6b6v5PpLVnshqT2TF2YLrFIgBd911lz788EPt3LlTP/zwg9avX69vvvlGWVlZkqScnBytW7dOZWVlOnXqlJYuXaqePXsqNTXVz5MDAIBgYcszWGfKUG1trSTpnXfekfTTmapu3bpp6dKlWrRokY4cOaIuXbpo9erVuvrqqyVJEydOlNvt1q9//WtVVVUpLS2tweepAAAALsSWBauxSyqMHDlSI0eOPOe2kJAQzZw5s9V/IB0AAFy6VvcWIQAAQEujYAEAABhGwQIAADCMggUAAGAYBQsAAMAwChYAAIBhFCwAAADDKFgAAACGUbAAAAAMo2ABAAAYRsECAAAwjIIFAABgGAULAADAMAoWAACAYRQsAAAAwyhYAAAAhlGwAAAADKNgAQAAGEbBAgAAMIyCBQAAYBgFCwAAwDAKFgAAgGEULAAAAMMoWAAAAIZRsAAAAAyjYAEAABhGwQIAADCMggUAAGBYwBWszMxM5efn6%2BjRo/4eBQAA4JIEXMG68847tWXLFt1yyy2aNm2atm3bptraWn%2BPBQAA0GQBV7Byc3O1ZcsWvf766%2BratauefPJJZWRkaMmSJTp48KC/xwMAAGhUwBWsM3r16qW5c%2Bdqx44dmjdvnl5//XWNHj1aU6dO1RdffOHv8QAAAM4rYAvW6dOntWXLFt1zzz2aO3euOnTooEceeUQ9e/bUlClTtHnzZn%2BPCAAAcE4Ofw9wtrKyMq1fv15vvvmmqqqqNGrUKL344ou6/vrr628zcOBALViwQGPHjvXjpAAAAOcWcAVrzJgxuvbaazV9%2BnTdfvvtio2NbXCbjIwMnThxwg/TAQAANC7gCta6des0aNCgRm%2B3Z8%2BeZh1n7969Wrx4sfbu3auIiAjdeOONmjdvnuLj41VcXKxly5bp66%2B/1s9%2B9jNNnz5dWVlZzToeAABoPQLuM1jdu3fXjBkz9M4779SvvfDCC7rnnnvk8XiMHKO2tlb33nuv%2Bvbtqw8//FBFRUU6ceKEFixYoPLyct1///2aOHGiiouL9eijj%2Bqxxx6Ty%2BUycmwAAGB/AVewFi1apJMnT6pLly71a0OHDpXX69XixYuNHMPtdsvtduu2225TeHi44uLiNGLECO3bt0%2BbN29WUlKSxo8fr4iICKWnpyszM1OFhYVGjg0AAOwv4N4ifP/997V582bFxcXVryUlJWnp0qX61a9%2BZeQYHTp0UM%2BePeV0OvX73/9eNTU12rZtm4YOHarS0lIlJyf73D45OVlbt25t8v7Ly8vldrt91hyOSCUkJBiZ/4ywsIDrxxfkcFz6vGeyBlvmS0FWeyKrPZEV5xNwBaumpkYREREN1kNDQ1VdXW3kGKGhoVqxYoWmTJmiF198UZI0aNAgzZ49W/fff786dOjgc/vY2FhVVFQ0ef9Op1P5%2Bfk%2Ba7m5uZo5c2bzhw9icXFtm72P6Og2BiYJDmS1J7LaE1lxtoArWAMHDtTixYs1e/ZsxcTESJK%2B%2B%2B47PfXUUz6XamiOH3/8UTNmzNCtt96qGTNm6B//%2BIcef/xxzZkzx8j%2Bs7OzlZmZ6bPmcESqoqLKyP7PCLZXEc3JHxYWqujoNqqsrFZdndfgVIGHrPZEVnsia%2BAz8eL%2BUgRcwZo3b55%2B%2B9vf6sYbb1RUVJS8Xq%2BqqqrUqVMnvfTSS0aOUVxcrMOHD%2BvBBx9UWFiY2rVrp5kzZ%2Bq2227TzTff3ODD9BUVFYqPj2/y/hMSEhq8Heh2n1RtbfA8IVuCifx1dd5W830kqz2R1Z7IirMFXMHq1KmT3nrrLb333nv69ttvFRoaqmuvvVaDBw9WWFiYkWPU1dXJ6/XKsqz6tR9//FGSlJ6erj//%2Bc8%2Bty8pKVGfPn2MHBsAANhfwBUsSQoPD9ctt9zSYvvv16%2BfIiMjtWLFCs2YMUM1NTVatWqVBg4cqNtuu035%2BfkqLCxUVlaWPvroI%2B3atUtOp7PF5gEAAPYScAXr0KFDWrZsmb766ivV1NQ02P7uu%2B82%2BxhxcXF6/vnn9dRTT2nIkCEKDw/XoEGDtGDBArVv316rV6/WwoUL9fjjjysxMVFLlixRjx49mn1cAADQOgRcwZo3b57Ky8s1ePBgRUZGtthxUlJSzvuZroEDB2rjxo0tdmwAAGBvAVewSkpK9O67717Uh8oBAAACScD9nn/79u1b9MwVAABASwu4gjV9%2BnTl5%2Bf7/IYfAABAMAm4twjfe%2B89ffbZZ9qwYYOuueYahYb6dsDXXnvNT5MBAAA0TcAVrKioKA0ZMsTfYwAAAFyygCtYixYt8vcIAAAAzRJwn8GSpK%2B//lorVqzQI488Ur/2t7/9zY8TAQAANF3AFazi4mJlZWVp27ZtKioqkvTTxUcnT55s5CKjAAAALS3gCtby5cv10EMPafPmzQoJCZH0079PuHjxYq1cudLP0wEAADQu4ArW//7v/yonJ0eS6guWJN16660qKyvz11gAAABNFnAFq127duf8NwjLy8sVHh7uh4kAAAAuTsAVrP79%2B%2BvJJ5/UqVOn6tcOHjyouXPn6sYbb/TjZAAAAE0TcJdpeOSRR3T33XcrLS1NdXV16t%2B/v6qrq9W1a1ctXrzY3%2BMBAAA0KuAKVseOHVVUVKRdu3bp4MGDuvLKK3Xttdfqpptu8vlMFgAAQKAKuIIlSVdccYVuueUWf48BAABwSQKuYGVmZl7wTBXXwgIAAIEu4ArW6NGjfQpWXV2dDh48KJfLpbvvvtuPkwEAADRNwBWsOXPmnHP97bff1scff3yZpwEAALh4AXeZhvO55ZZb9NZbb/l7DAAAgEYFTcHau3evLMvy9xgAAACNCri3CCdOnNhgrbq6WmVlZRo5cqQfJgIAALg4AVewkpKSGvwWYUREhMaPH68JEyb4aSoAAICmC7iCxdXaAQBAsAu4gvXmm282%2Bba33357C04CAABwaQKuYD366KPyer0NPtAeEhLisxYSEkLBAgAAASngCtZzzz2nNWvWaMaMGerevbssy9L%2B/fv17LPPatKkSUpLS/P3iAAAABcUcAVr8eLFKigoUIcOHerXBgwYoE6dOmnq1KkqKiry43QAAACNC7jrYH3zzTeKiYlpsB4dHa0jR474YSIAAICLE3AFKzExUYsXL1ZFRUX9WmVlpZYtW6af//znfpwMAACgaQLuLcJ58%2BZp9uzZcjqdatu2rUJDQ3Xq1CldeeWVWrlypb/HAwAAaFTAFazBgwdr586d2rVrl44dOybLstShQwfdfPPNateunb/HAwAAaFTAFSxJatOmjYYPH65jx46pU6dO/h4HAADgogTcZ7Bqamo0d%2B5c9evXT7/85S8l/fQZrGnTpqmystLP0wEAADQu4ArWkiVLtG/fPi1dulShof9/vLq6Oi1dutSPkwEAADRNwBWst99%2BW3/84x9166231v%2Bjz9HR0Vq0aJG2bdtm9FirVq3S4MGD1bdvX02ZMkWHDx%2BWJBUXF2v8%2BPHq37%2B/xowZo02bNhk9LgAAsLeAK1hVVVVKSkpqsB4fH69//OMfxo7zyiuvaNOmTVq3bp3ef/99denSRS%2B88ILKy8t1//33a%2BLEiSouLtajjz6qxx57TC6Xy9ixAQCAvQXch9x//vOf6%2BOPP1ZaWprPvz34l7/8Rf/yL/9i7Dhr1qzR3Llz9Ytf/EKSNH/%2BfEnS888/r6SkJI0fP16SlJ6erszMTBUWFio1NdXY8QEAgH0FXMH613/9Vz3wwAO688475fV6tXbtWpWUlOjtt9/Wo48%2BauQY3333nQ4fPqzvv/9eo0eP1vHjx5WWlqYFCxaotLRUycnJPrdPTk7W1q1bjRwbAADYX8AVrOzsbDkcDr388ssKCwvTM888o2uvvVZLly7VrbfeauQYx44dk/TTWbG1a9fKsizNnDlT8%2BfPV01Njc%2B/gyhJsbGxPleWb0x5ebncbrfPmsMRqYSEhOYP/0/CwgLuHd4Lcjgufd4zWYMt86Ugqz2R1Z7IivMJuIJ14sQJ3Xnnnbrzzjtb7Bhn3nqcNm1afZl64IEHdM899yg9Pb3Z%2B3c6ncrPz/dZy83N1cyZM5u972AWF9e22fuIjm5jYJLgQFZ7Iqs9kRVnC7iCNXz4cH322Wf1v0HYEq666ipJP/124hmJiYmyLEunT5%2BWx%2BPxuX1FRYXi4%2BObvP/s7GxlZmb6rDkckaqoqGrG1A0F26uI5uQPCwtVdHQbVVZWq67Oa3CqwENWeyKrPZE18Jl4cX8pAq5gpaWlaevWrRo9enSLHaNjx46KiorSvn371KtXL0nSkSNHdMUVVygjI0MbN270uX1JSYn69OnT5P0nJCQ0eDvQ7T6p2trgeUK2BBP56%2Bq8reb7SFZ7Iqs9kRVnC7iC9bOf/Uz/8R//oYKCAv385z/XFVdc4bN92bJlzT6Gw%2BHQ%2BPHj9cwzz2jgwIGKiorSypUrNXbsWN1xxx3605/%2BpMLCQmVlZemjjz7Srl275HQ6m31cAADQOgRcwTpw4ED9pRMu5oPlF2v27Nn68ccfNWHCBJ0%2BfVqjRo3S/Pnz1bZtW61evVoLFy7U448/rsTERC1ZskQ9evRosVkAAIC9hFj/fLEpP8rLy9Py5ct91lauXKnc3Fw/TWSW233S%2BD4djlCNWLrb%2BH5bytZZN13yfR2OUMXFtVVFRZXtT02T1Z7Iak9kDXxXX93OL8cNmE9Jb9%2B%2BvcFaQUGBHyYBAABonoApWOc6kRYgJ9cAAAAuSsAUrHNdlqElL9UAAADQUgKmYAEAANgFBQsAAMCwgLlMw%2BnTpzV79uxG10xcBwsAAKAlBUzBuv7661VeXt7oGgAAQKALmIL10ksv%2BXsEAAAAI/gMFgAAgGEULAAAAMMoWAAAAIZRsAAAAAyjYAEAABhGwQIAADCMggUAAGAYBQsAAMAwChYAAIBhFCwAAADDKFgAAACGUbAAAAAMo2ABAAAYRsECAAAwjIIFAABgGAULAADAMAoWAACAYRQsAAAAwyhYAAAAhlGwAAAADKNgAQAAGEbBAgAAMIyCBQAAYBgFCwAAwDAKFgAAgGEULAAAAMMoWAAAAIa1%2BoL15JNPqnv37vVfFxcXa/z48erfv7/GjBmjTZs2%2BXE6AAAQjBz%2BHsCf9u3bp40bN9Z/XV5ervvvv1%2BPPvqoxo4dq08//VT33Xefrr32WqWmpvpxUgAAEExa7Rksr9erf/u3f9OUKVPq1zZv3qykpCSNHz9eERERSk9PV2ZmpgoLC/03KAAACDqt9gzWa6%2B9poiICI0dO1b/9V//JUkqLS1VcnKyz%2B2Sk5O1devWi9p3eXm53G63z5rDEamEhITmDX2WsLDg6scOx6XPeyZrsGW%2BFGS1J7LaE1lxPq2yYP3973/XihUr9NJLL/msezwedejQwWctNjZWFRUVF7V/p9Op/Px8n7Xc3FzNnDnz0ga2ibi4ts3eR3R0GwOTBAey2hNZ7YmsOFurLFiLFi3SuHHj1KVLFx0%2BfNj4/rOzs5WZmemz5nBEqqKiyuhxgu1VRHPyh4WFKjq6jSorq1VX5zU4VeAhqz2R1Z7IGvhMvLi/FK2uYBUXF%2Btvf/ubioqKGmyLi4uTx%2BPxWauoqFB8fPxFHSMhIaHB24Fu90nV1gbPE7IlmMhfV%2BdtNd9HstoTWe2JrDhbqytYmzZt0vHjxzVs2DBJkmVZkqS0tDT99re/bVC8SkpK1KdPn8s%2BJwAACF6trmA9/PDD%2Bv3vf1//9bFjx5Sdna2NGzfK6/Vq9erVKiwsVFZWlj766CPt2rVLTqfTjxMDAIBg0%2BoKVkxMjGJiYuq/rq2tlSR17NhRkrR69WotXLhQjz/%2BuBITE7VkyRL16NHDL7MCAIDg1OoK1tmuueYa7d%2B/v/7rgQMH%2Blx8FAAA4GIF16%2BhAQAABAEKFgAAgGEULAAAAMMoWAAAAIZRsAAAAAyjYAEAABhGwQIAADCMggUAAGAYBQsAAMAwChYAAIBhFCwAAADDKFgAAACGUbAAAAAMo2ABAAAYRsECAAAwjIIFAABgGAULAADAMAoWAACAYRQsAAAAwyhYAAAAhlGwAAAADKNgAQAAGEbBAgAAMIyCBQAAYBgFCwAAwDAKFgAAgGEULAAAAMMoWAAAAIZRsAAAAAyjYAEAABhGwQIAADCMggUAAGAYBQsAAMAwChYAAIBhrbZgHTlyRLm5uUpLS1N6eroefvhhVVZWSpL27dunSZMm6frrr9fIkSO1Zs0aP08LAACCSastWDNmzFB0dLS2b9%2BuDRs26KuvvtJTTz2lmpoaTZ8%2BXTfccIN2796t5cuXa/Xq1dq2bZu/RwYAAEGiVRasyspKpaSkaPbs2Wrbtq06duyoO%2B64Q5988ol27typ06dP67777lNkZKR69eqlCRMmyOl0%2BntsAAAQJFplwYqOjtaiRYt01VVX1a8dPXpUCQkJKi0tVffu3RUWFla/LTk5WSUlJf4YFQAABCGHvwcIBC6XSy%2B//LJWrVqlrVu3Kjo62md7bGysPB6PvF6vQkMb76Tl5eVyu90%2Baw5HpBISEozOHRYWXP3Y4bj0ec9kDbbMl4Ks9kRWeyIrzqfVF6xPP/1U9913n2bPnq309HRt3br1nLcLCQlp8j6dTqfy8/N91nJzczVz5sxmzRrs4uLaNnsf0dFtDEwSHMhqT2S1J7LibK26YG3fvl0PPfSQHnvsMd1%2B%2B%2B2SpPj4eH3zzTc%2Bt/N4PIqNjW3S2StJys7OVmZmps%2BawxGpiooqI3OfEWyvIpqTPywsVNHRbVRZWa26Oq/BqQIPWe2JrPZE1sBn4sX9pWi1Beuzzz7T3Llz9fTTT2vw4MH16ykpKXr11VdVW1srh%2BOnb4/L5VKfPn2avO%2BEhIQGbwe63SdVWxs8T8iWYCJ/XZ231XwfyWpPZLUnsuJswXUKxJDa2lrNnz9fc%2BbM8SlXkpSRkaGoqCitWrVK1dXV2rNnj9avX6%2BcnBw/TQsAAIJNqyxYn3/%2BucrKyrRw4UKlpqb6/HG73XrmmWf04YcfatCgQZo1a5by8vI0dOhQf48NAACCRKt8i3DAgAHav3//BW/z6quvXqZpAACA3bTKM1gAAAAtiYIFAABgGAULAADAMAoWAACAYRQsAAAAwyhYAAAAhrE4fDAAAA2ZSURBVFGwAAAADGuV18GCf/zyvz7w9wgXZeusm/w9AgAgSHEGCwAAwDAKFgAAgGEULAAAAMMoWAAAAIZRsAAAAAyjYAEAABhGwQIAADCMggUAAGAYFxoFbCKYLuQabBdxDabvrRR831/AjjiDBQAAYBgFCwAAwDDeIgTOI9jeFgIABA7OYAEAABhGwQIAADCMggUAAGAYBQsAAMAwChYAAIBh/BYhgMuO39AEYHecwQIAADCMggUAAGAYBQsAAMAwChYAAIBhfMgdAOA3wfYLD1tn3eTvERAkOIMFAABgGGewAMBmgu2sEGBHnMECAAAwjDNYAADYVDCdzbTb59s4g3UOR44c0b333qu0tDQNGzZMS5Yskdfr9fdYAAAgSHAG6xweeOAB9erVS%2B%2B8846OHz%2Bu6dOn66qrrtJvfvMbf48GAACCAAXrLC6XS19%2B%2BaXWrl2rdu3aqV27dpoyZYpefPFFChYAtHLB9JYb/IuCdZbS0lIlJiYqJiamfq1Xr146ePCgTp06paioqEb3UV5eLrfb7bPmcEQqISHB6KxhYbzDCwCwB4fDXv9Po2CdxePxKDo62mftTNmqqKhoUsFyOp3Kz8/3Wfvd736nBx54wNyg%2BqnI3d3xK2VnZxsvb4GmvLxcTqeTrDZDVnsiqz21pqwm2KsuGmJZVrPun52drQ0bNvj8yc7ONjTd/%2Bd2u5Wfn9/gbJkdkdWeyGpPZLWn1pTVBM5gnSU%2BPl4ej8dnzePxKCQkRPHx8U3aR0JCAu0eAIBWjDNYZ0lJSdHRo0d14sSJ%2BjWXy6UuXbqobdu2fpwMAAAECwrWWZKTk5Wamqply5bp1KlTKisr09q1a5WTk%2BPv0QAAQJAIW7BgwQJ/DxFobr75ZhUVFemJJ57QW2%2B9pfHjx2vq1KkKCQnx92gNtG3bVoMGDWoVZ9fIak9ktSey2lNrytpcIVZzP9ENAAAAH7xFCAAAYBgFCwAAwDAKFgAAgGEULAAAAMMoWAAAAIZRsAAAAAyjYAEAABhGwQIAADCMggUAAGAYBSsIHTlyRPfee6/S0tI0bNgwLVmyRF6v199jGdO9e3elpKQoNTW1/s8TTzwhSSouLtb48ePVv39/jRkzRps2bfLztBdn9%2B7dSk9PV15eXoNtW7Zs0dixY9WvXz%2BNGzdO77//fv02r9er5cuXa/jw4Ro4cKCmTp2qQ4cOXc7RL9r5sm7YsEE9evTweXxTU1P1xRdfSArOrEeOHFFubq7S0tKUnp6uhx9%2BWJWVlZKkffv2adKkSbr%2B%2Bus1cuRIrVmzxue%2BF3rcA9H5sh4%2BfFjdu3dv8Lg%2B//zz9fcNtqxffvml7r77bl1//fVKT0/XrFmz5Ha7JTX%2Bs2jdunUaNWqU%2Bvfvr5ycHJWUlPgjQpOdL%2BvHH398zsd169at9fcNtqyXjYWgc8cdd1jz58%2B3KisrrYMHD1ojR4601qxZ4%2B%2BxjOnWrZt16NChBuvfffed1bdvX6uwsNCqqamxPvjgA6t3797WF1984YcpL15BQYE1cuRIa%2BLEidasWbN8tu3du9dKSUmxdu7cadXU1FgbN260%2BvTpYx09etSyLMtat26dNWzYMOvAgQPWyZMnrX//93%2B3xo4da3m9Xn9EadSFsr7xxhvWpEmTznvfYMtqWZb1q1/9ynr44YetU6dOWUePHrXGjRtnzZs3z6qurrZuvvlma8WKFVZVVZVVUlJiDRo0yHr77bcty2r8cQ9E58t66NAhq1u3bue9X7Bl/eGHH6wbb7zRys/Pt3744Qfr%2BPHj1qRJk6z777%2B/0Z9F7777rjVgwADr888/t6qrq63Vq1dbN910k1VVVeXnVOd2oawfffSRNWzYsPPeN9iyXk6cwQoyLpdLX375pebMmaN27dopKSlJU6ZMkdPp9PdoLW7z5s1KSkrS%2BPHjFRERofT0dGVmZqqwsNDfozVJRESE1q9fr86dOzfYVlhYqIyMDGVkZCgiIkJZWVnq1q1b/atip9OpKVOm6LrrrlNUVJTy8vJUVlamPXv2XO4YTXKhrI0JtqyVlZVKSUnR7Nmz1bZtW3Xs2FF33HGHPvnkE%2B3cuVOnT5/Wfffdp8jISPXq1UsTJkyo//va2OMeaC6UtTHBlrW6ulp5eXmaPn26wsPDFR8frxEjRuirr75q9GeR0%2BnUuHHj1KdPH1155ZWaNm2aJGnHjh3%2BjHReF8ramGDLejlRsIJMaWmpEhMTFRMTU7/Wq1cvHTx4UKdOnfLjZGYtW7ZMQ4cO1YABA/TYY4%2BpqqpKpaWlSk5O9rldcnJy0JyOnjx5stq1a3fObefL5nK5VFNTowMHDvhsj4qKUufOneVyuVp05kt1oaySdPToUf3mN7/RwIEDNXz4cG3cuFGSgjJrdHS0Fi1apKuuuqp%2B7ejRo0pISFBpaam6d%2B%2BusLCw%2Bm3//Jy90OMeiC6U9Yw//OEPGjx4sG644QYtW7ZMp0%2BflhR8WWNiYjRhwgQ5HA5J0tdff60///nP%2BuUvf9noz6Kzt4eGhqpnz55BmVWSqqqq6t8Wvvnmm7V27VpZliUp%2BLJeThSsIOPxeBQdHe2zdqZsVVRU%2BGMk4/r27av09HRt27ZNTqdTn3/%2BuR5//PFzZo%2BNjbVFbo/H41OapZ8e14qKCn3//feyLOu824NNfHy8kpKS9NBDD%2BmDDz7Qgw8%2BqHnz5qm4uNgWWV0ul15%2B%2BWXdd999533Oejweeb3eCz7uweCfs4aHh6tfv34aMWKEduzYoYKCAm3atEl/%2BtOfJF34OR7Ijhw5opSUFI0ePVqpqamaOXNmoz%2BL7JQ1KipK3bp10913363du3dr0aJFys/P1xtvvCEpeLNeDhSsIHTmlYNdOZ1OTZgwQeHh4bruuus0Z84cFRUV1b8StqvGHle7PO5Dhw7Vc889p%2BTkZIWHh2vMmDEaMWKENmzYUH%2BbYM366aefaurUqZo9e7bS09PPe7uQkJD6/7ZL1oSEBL322msaMWKErrjiCvXu3VvTp08P%2Bsc1MTFRLpdLf/nLX/TNN9/oD3/4Q5PuZ5esvXr10ksvvaRBgwYpPDxcgwcP1sSJE4P%2Bcb0cKFhBJj4%2BXh6Px2fN4/EoJCRE8fHxfpqqZV1zzTWqq6tTaGhog%2BwVFRW2yB0XF3fOxzU%2BPl6xsbHnzO7xeNS%2BffvLOWaLSUxMVHl5eVBn3b59u%2B69917NmzdPkydPlvTT39ezX8l7PJ76nBd63APZubKeS2Jiov7%2B97/LsqygzSr9VIiTkpKUl5enoqIiORyOC/4sslPWEydONLjNmb%2BvUnBnbWkUrCCTkpKio0eP%2BjzpXS6XunTporZt2/pxMjP27t2rxYsX%2B6yVlZUpPDxcGRkZDT5vVVJSoj59%2BlzOEVtESkpKg2wul0t9%2BvRRRESEunbtqtLS0vptlZWV%2Bvbbb9W7d%2B/LPWqzvfrqq9qyZYvPWllZmTp16hS0WT/77DPNnTtXTz/9tG6//fb69ZSUFO3fv1%2B1tbX1a2ce1zPbz/e4B6rzZS0uLtaqVat8bvv1118rMTFRISEhQZe1uLhYo0aN8rkETmjoT//L7N279wV/FqWkpPg8h%2Bvq6rR3796gzLpr1y7993//t8/tv/76a3Xq1ElS8GW9nChYQSY5OVmpqalatmyZTp06pbKyMq1du1Y5OTn%2BHs2I9u3by%2Bl0qqCgQD/%2B%2BKMOHjyop59%2BWtnZ2brtttt05MgRFRYW6ocfftCuXbu0a9cu3XXXXf4eu9nuuusuffjhh9q5c6d%2B%2BOEHrV%2B/Xt98842ysrIkSTk5OVq3bp3Kysp06tQpLV26VD179lRqaqqfJ794P/74o5544gm5XC6dPn1aRUVFeu%2B99zRx4kRJwZe1trZW8%2BfP15w5czR48GCfbRkZGYqKitKqVatUXV2tPXv2aP369fV/Xxt73APNhbK2a9dOK1eu1MaNG3X69Gm5XC49//zzQZs1JSVFp06d0pIlS1RdXa0TJ05oxYoVGjBggHJyci74sygnJ0dvvvmmPv/8c1VXV2vVqlUKDw/X0KFD/RvqPC6UtV27dnrqqaf0/vvv6/Tp0/rggw/0xhtv1D%2BuwZb1svLP1SHQHEePHrWmTZtm9e7d20pPT7f%2B%2BMc/BvQ1gi7WX//6Vys7O9vq27evNWjQIGvRokVWTU1N/basrCyrV69e1siRI%2BuvJxQMUlJSrJSUFKtHjx5Wjx496r8%2B4%2B2337ZGjhxp9erVy7rtttusv/71r/XbvF6v9fTTT1s33nij1bt3b%2Buee%2B4J2OsHWdaFs3q9XmvlypXWsGHDrJSUFOvWW2%2B1tm/fXn/fYMv6P//zP1a3bt3qM/7zn8OHD1v79%2B%2B3Jk6caKWkpFhDhw61XnnlFZ/7X%2BhxDzSNZd22bZuVlZVl9e7d27rpppusZ555xqqrq6u/fzBltSzL%2BvLLL61JkyZZvXv3tm644QZr1qxZ1rFjxyzLavxn0SuvvGJlZGRYKSkpVk5OjrV//35/RGiyC2V97bXXrJEjR1qpqanWsGHDrNdff93nvsGW9XIJsSw%2BnQYAAGASbxECAAAYRsECAAAwjIIFAABgGAULAADAMAoWAACAYRQsAAAAwyhYAAAAhlGwAAAADKNgAQAAGEbBAgAAMIyCBQAAYBgFCwAAwDAKFgAAgGH/D2ZtN1cRMbEgAAAAAElFTkSuQmCC\"/>\n",
              "        </div>\n",
              "        <div role=\"tabpanel\" class=\"tab-pane col-md-12\" id=\"common-1465403353101684597\">\n",
              "            \n",
              "<table class=\"freq table table-hover\">\n",
              "    <thead>\n",
              "    <tr>\n",
              "        <td class=\"fillremaining\">Value</td>\n",
              "        <td class=\"number\">Count</td>\n",
              "        <td class=\"number\">Frequency (%)</td>\n",
              "        <td style=\"min-width:200px\">&nbsp;</td>\n",
              "    </tr>\n",
              "    </thead>\n",
              "    <tr class=\"\">\n",
              "        <td class=\"fillremaining\">0</td>\n",
              "        <td class=\"number\">31</td>\n",
              "        <td class=\"number\">16.1%</td>\n",
              "        <td>\n",
              "            <div class=\"bar\" style=\"width:36%\">&nbsp;</div>\n",
              "        </td>\n",
              "</tr><tr class=\"\">\n",
              "        <td class=\"fillremaining\">1</td>\n",
              "        <td class=\"number\">25</td>\n",
              "        <td class=\"number\">13.0%</td>\n",
              "        <td>\n",
              "            <div class=\"bar\" style=\"width:29%\">&nbsp;</div>\n",
              "        </td>\n",
              "</tr><tr class=\"\">\n",
              "        <td class=\"fillremaining\">2</td>\n",
              "        <td class=\"number\">9</td>\n",
              "        <td class=\"number\">4.7%</td>\n",
              "        <td>\n",
              "            <div class=\"bar\" style=\"width:11%\">&nbsp;</div>\n",
              "        </td>\n",
              "</tr><tr class=\"\">\n",
              "        <td class=\"fillremaining\">7</td>\n",
              "        <td class=\"number\">9</td>\n",
              "        <td class=\"number\">4.7%</td>\n",
              "        <td>\n",
              "            <div class=\"bar\" style=\"width:11%\">&nbsp;</div>\n",
              "        </td>\n",
              "</tr><tr class=\"\">\n",
              "        <td class=\"fillremaining\">8</td>\n",
              "        <td class=\"number\">7</td>\n",
              "        <td class=\"number\">3.6%</td>\n",
              "        <td>\n",
              "            <div class=\"bar\" style=\"width:9%\">&nbsp;</div>\n",
              "        </td>\n",
              "</tr><tr class=\"\">\n",
              "        <td class=\"fillremaining\">5</td>\n",
              "        <td class=\"number\">6</td>\n",
              "        <td class=\"number\">3.1%</td>\n",
              "        <td>\n",
              "            <div class=\"bar\" style=\"width:7%\">&nbsp;</div>\n",
              "        </td>\n",
              "</tr><tr class=\"\">\n",
              "        <td class=\"fillremaining\">9</td>\n",
              "        <td class=\"number\">6</td>\n",
              "        <td class=\"number\">3.1%</td>\n",
              "        <td>\n",
              "            <div class=\"bar\" style=\"width:7%\">&nbsp;</div>\n",
              "        </td>\n",
              "</tr><tr class=\"\">\n",
              "        <td class=\"fillremaining\">4</td>\n",
              "        <td class=\"number\">5</td>\n",
              "        <td class=\"number\">2.6%</td>\n",
              "        <td>\n",
              "            <div class=\"bar\" style=\"width:6%\">&nbsp;</div>\n",
              "        </td>\n",
              "</tr><tr class=\"\">\n",
              "        <td class=\"fillremaining\">11</td>\n",
              "        <td class=\"number\">5</td>\n",
              "        <td class=\"number\">2.6%</td>\n",
              "        <td>\n",
              "            <div class=\"bar\" style=\"width:6%\">&nbsp;</div>\n",
              "        </td>\n",
              "</tr><tr class=\"\">\n",
              "        <td class=\"fillremaining\">3</td>\n",
              "        <td class=\"number\">4</td>\n",
              "        <td class=\"number\">2.1%</td>\n",
              "        <td>\n",
              "            <div class=\"bar\" style=\"width:5%\">&nbsp;</div>\n",
              "        </td>\n",
              "</tr><tr class=\"other\">\n",
              "        <td class=\"fillremaining\">Other values (69)</td>\n",
              "        <td class=\"number\">86</td>\n",
              "        <td class=\"number\">44.6%</td>\n",
              "        <td>\n",
              "            <div class=\"bar\" style=\"width:100%\">&nbsp;</div>\n",
              "        </td>\n",
              "</tr>\n",
              "</table>\n",
              "        </div>\n",
              "        <div role=\"tabpanel\" class=\"tab-pane col-md-12\"  id=\"extreme-1465403353101684597\">\n",
              "            <p class=\"h4\">Minimum 5 values</p>\n",
              "            \n",
              "<table class=\"freq table table-hover\">\n",
              "    <thead>\n",
              "    <tr>\n",
              "        <td class=\"fillremaining\">Value</td>\n",
              "        <td class=\"number\">Count</td>\n",
              "        <td class=\"number\">Frequency (%)</td>\n",
              "        <td style=\"min-width:200px\">&nbsp;</td>\n",
              "    </tr>\n",
              "    </thead>\n",
              "    <tr class=\"\">\n",
              "        <td class=\"fillremaining\">0</td>\n",
              "        <td class=\"number\">31</td>\n",
              "        <td class=\"number\">16.1%</td>\n",
              "        <td>\n",
              "            <div class=\"bar\" style=\"width:100%\">&nbsp;</div>\n",
              "        </td>\n",
              "</tr><tr class=\"\">\n",
              "        <td class=\"fillremaining\">1</td>\n",
              "        <td class=\"number\">25</td>\n",
              "        <td class=\"number\">13.0%</td>\n",
              "        <td>\n",
              "            <div class=\"bar\" style=\"width:80%\">&nbsp;</div>\n",
              "        </td>\n",
              "</tr><tr class=\"\">\n",
              "        <td class=\"fillremaining\">2</td>\n",
              "        <td class=\"number\">9</td>\n",
              "        <td class=\"number\">4.7%</td>\n",
              "        <td>\n",
              "            <div class=\"bar\" style=\"width:29%\">&nbsp;</div>\n",
              "        </td>\n",
              "</tr><tr class=\"\">\n",
              "        <td class=\"fillremaining\">3</td>\n",
              "        <td class=\"number\">4</td>\n",
              "        <td class=\"number\">2.1%</td>\n",
              "        <td>\n",
              "            <div class=\"bar\" style=\"width:13%\">&nbsp;</div>\n",
              "        </td>\n",
              "</tr><tr class=\"\">\n",
              "        <td class=\"fillremaining\">4</td>\n",
              "        <td class=\"number\">5</td>\n",
              "        <td class=\"number\">2.6%</td>\n",
              "        <td>\n",
              "            <div class=\"bar\" style=\"width:16%\">&nbsp;</div>\n",
              "        </td>\n",
              "</tr>\n",
              "</table>\n",
              "            <p class=\"h4\">Maximum 5 values</p>\n",
              "            \n",
              "<table class=\"freq table table-hover\">\n",
              "    <thead>\n",
              "    <tr>\n",
              "        <td class=\"fillremaining\">Value</td>\n",
              "        <td class=\"number\">Count</td>\n",
              "        <td class=\"number\">Frequency (%)</td>\n",
              "        <td style=\"min-width:200px\">&nbsp;</td>\n",
              "    </tr>\n",
              "    </thead>\n",
              "    <tr class=\"\">\n",
              "        <td class=\"fillremaining\">278</td>\n",
              "        <td class=\"number\">1</td>\n",
              "        <td class=\"number\">0.5%</td>\n",
              "        <td>\n",
              "            <div class=\"bar\" style=\"width:100%\">&nbsp;</div>\n",
              "        </td>\n",
              "</tr><tr class=\"\">\n",
              "        <td class=\"fillremaining\">280</td>\n",
              "        <td class=\"number\">1</td>\n",
              "        <td class=\"number\">0.5%</td>\n",
              "        <td>\n",
              "            <div class=\"bar\" style=\"width:100%\">&nbsp;</div>\n",
              "        </td>\n",
              "</tr><tr class=\"\">\n",
              "        <td class=\"fillremaining\">312</td>\n",
              "        <td class=\"number\">1</td>\n",
              "        <td class=\"number\">0.5%</td>\n",
              "        <td>\n",
              "            <div class=\"bar\" style=\"width:100%\">&nbsp;</div>\n",
              "        </td>\n",
              "</tr><tr class=\"\">\n",
              "        <td class=\"fillremaining\">339</td>\n",
              "        <td class=\"number\">1</td>\n",
              "        <td class=\"number\">0.5%</td>\n",
              "        <td>\n",
              "            <div class=\"bar\" style=\"width:100%\">&nbsp;</div>\n",
              "        </td>\n",
              "</tr><tr class=\"\">\n",
              "        <td class=\"fillremaining\">370</td>\n",
              "        <td class=\"number\">1</td>\n",
              "        <td class=\"number\">0.5%</td>\n",
              "        <td>\n",
              "            <div class=\"bar\" style=\"width:100%\">&nbsp;</div>\n",
              "        </td>\n",
              "</tr>\n",
              "</table>\n",
              "        </div>\n",
              "    </div>\n",
              "</div>\n",
              "</div><div class=\"row variablerow\">\n",
              "    <div class=\"col-md-3 namecol\">\n",
              "        <p class=\"h4 pp-anchor\" id=\"pp_var_total_litres_of_pure_alcohol\">total_litres_of_pure_alcohol<br/>\n",
              "            <small>Numeric</small>\n",
              "        </p>\n",
              "    </div><div class=\"col-md-6\">\n",
              "    <div class=\"row\">\n",
              "        <div class=\"col-sm-6\">\n",
              "            <table class=\"stats \">\n",
              "                <tr>\n",
              "                    <th>Distinct count</th>\n",
              "                    <td>90</td>\n",
              "                </tr>\n",
              "                <tr>\n",
              "                    <th>Unique (%)</th>\n",
              "                    <td>46.6%</td>\n",
              "                </tr>\n",
              "                <tr class=\"ignore\">\n",
              "                    <th>Missing (%)</th>\n",
              "                    <td>0.0%</td>\n",
              "                </tr>\n",
              "                <tr class=\"ignore\">\n",
              "                    <th>Missing (n)</th>\n",
              "                    <td>0</td>\n",
              "                </tr>\n",
              "                <tr class=\"ignore\">\n",
              "                    <th>Infinite (%)</th>\n",
              "                    <td>0.0%</td>\n",
              "                </tr>\n",
              "                <tr class=\"ignore\">\n",
              "                    <th>Infinite (n)</th>\n",
              "                    <td>0</td>\n",
              "                </tr>\n",
              "            </table>\n",
              "\n",
              "        </div>\n",
              "        <div class=\"col-sm-6\">\n",
              "            <table class=\"stats \">\n",
              "\n",
              "                <tr>\n",
              "                    <th>Mean</th>\n",
              "                    <td>4.7171</td>\n",
              "                </tr>\n",
              "                <tr>\n",
              "                    <th>Minimum</th>\n",
              "                    <td>0</td>\n",
              "                </tr>\n",
              "                <tr>\n",
              "                    <th>Maximum</th>\n",
              "                    <td>14.4</td>\n",
              "                </tr>\n",
              "                <tr class=\"alert\">\n",
              "                    <th>Zeros (%)</th>\n",
              "                    <td>6.7%</td>\n",
              "                </tr>\n",
              "            </table>\n",
              "        </div>\n",
              "    </div>\n",
              "</div>\n",
              "<div class=\"col-md-3 collapse in\" id=\"minihistogram-2580214428534725597\">\n",
              "    <img src=\"data:image/png;base64,iVBORw0KGgoAAAANSUhEUgAAAMgAAABLCAYAAAA1fMjoAAAABHNCSVQICAgIfAhkiAAAAAlwSFlzAAAPYQAAD2EBqD%2BnaQAAADh0RVh0U29mdHdhcmUAbWF0cGxvdGxpYiB2ZXJzaW9uMy4xLjMsIGh0dHA6Ly9tYXRwbG90bGliLm9yZy%2BAADFEAAABKklEQVR4nO3bwanCQBRAURVLsojfk2t7sgh7GvcfuUQhZEjO2Qfe5vIyE3IeY4wT8NFl6wFgZtetB/jvdn9%2B/czr8bfCJGCDQBIIBIFAEAgEgUAQCASBQBAIBIFAEAgEgUAQCASBQBAIBIFAEAgEgUAQCASBQJjun/RfzPof%2B6xzsZwNAkEgEAQCQSAQBAJBIBAEAkEgEAQCYRdf0vmOL/zL2SAQBAJBIBAOewb55T2c4zlsILNygJ6LQHbANlyPMwgEgUAQCASBQBAIBLdYLHLU62cbBIJAIAgEgjMIq9nDueU8xhhbDwGz8ooFQSAQBAJBIBAEAkEgEAQCQSAQBAJBIBAEAkEgEAQCQSAQBAJBIBAEAkEgEAQCQSAQBAJBIBAEAkEgEAQC4Q3NGyBrqoQhgQAAAABJRU5ErkJggg%3D%3D\">\n",
              "\n",
              "</div>\n",
              "<div class=\"col-md-12 text-right\">\n",
              "    <a role=\"button\" data-toggle=\"collapse\" data-target=\"#descriptives-2580214428534725597,#minihistogram-2580214428534725597\"\n",
              "       aria-expanded=\"false\" aria-controls=\"collapseExample\">\n",
              "        Toggle details\n",
              "    </a>\n",
              "</div>\n",
              "<div class=\"row collapse col-md-12\" id=\"descriptives-2580214428534725597\">\n",
              "    <ul class=\"nav nav-tabs\" role=\"tablist\">\n",
              "        <li role=\"presentation\" class=\"active\"><a href=\"#quantiles-2580214428534725597\"\n",
              "                                                  aria-controls=\"quantiles-2580214428534725597\" role=\"tab\"\n",
              "                                                  data-toggle=\"tab\">Statistics</a></li>\n",
              "        <li role=\"presentation\"><a href=\"#histogram-2580214428534725597\" aria-controls=\"histogram-2580214428534725597\"\n",
              "                                   role=\"tab\" data-toggle=\"tab\">Histogram</a></li>\n",
              "        <li role=\"presentation\"><a href=\"#common-2580214428534725597\" aria-controls=\"common-2580214428534725597\"\n",
              "                                   role=\"tab\" data-toggle=\"tab\">Common Values</a></li>\n",
              "        <li role=\"presentation\"><a href=\"#extreme-2580214428534725597\" aria-controls=\"extreme-2580214428534725597\"\n",
              "                                   role=\"tab\" data-toggle=\"tab\">Extreme Values</a></li>\n",
              "\n",
              "    </ul>\n",
              "\n",
              "    <div class=\"tab-content\">\n",
              "        <div role=\"tabpanel\" class=\"tab-pane active row\" id=\"quantiles-2580214428534725597\">\n",
              "            <div class=\"col-md-4 col-md-offset-1\">\n",
              "                <p class=\"h4\">Quantile statistics</p>\n",
              "                <table class=\"stats indent\">\n",
              "                    <tr>\n",
              "                        <th>Minimum</th>\n",
              "                        <td>0</td>\n",
              "                    </tr>\n",
              "                    <tr>\n",
              "                        <th>5-th percentile</th>\n",
              "                        <td>0</td>\n",
              "                    </tr>\n",
              "                    <tr>\n",
              "                        <th>Q1</th>\n",
              "                        <td>1.3</td>\n",
              "                    </tr>\n",
              "                    <tr>\n",
              "                        <th>Median</th>\n",
              "                        <td>4.2</td>\n",
              "                    </tr>\n",
              "                    <tr>\n",
              "                        <th>Q3</th>\n",
              "                        <td>7.2</td>\n",
              "                    </tr>\n",
              "                    <tr>\n",
              "                        <th>95-th percentile</th>\n",
              "                        <td>11.34</td>\n",
              "                    </tr>\n",
              "                    <tr>\n",
              "                        <th>Maximum</th>\n",
              "                        <td>14.4</td>\n",
              "                    </tr>\n",
              "                    <tr>\n",
              "                        <th>Range</th>\n",
              "                        <td>14.4</td>\n",
              "                    </tr>\n",
              "                    <tr>\n",
              "                        <th>Interquartile range</th>\n",
              "                        <td>5.9</td>\n",
              "                    </tr>\n",
              "                </table>\n",
              "            </div>\n",
              "            <div class=\"col-md-4 col-md-offset-2\">\n",
              "                <p class=\"h4\">Descriptive statistics</p>\n",
              "                <table class=\"stats indent\">\n",
              "                    <tr>\n",
              "                        <th>Standard deviation</th>\n",
              "                        <td>3.7733</td>\n",
              "                    </tr>\n",
              "                    <tr>\n",
              "                        <th>Coef of variation</th>\n",
              "                        <td>0.79992</td>\n",
              "                    </tr>\n",
              "                    <tr>\n",
              "                        <th>Kurtosis</th>\n",
              "                        <td>-0.98022</td>\n",
              "                    </tr>\n",
              "                    <tr>\n",
              "                        <th>Mean</th>\n",
              "                        <td>4.7171</td>\n",
              "                    </tr>\n",
              "                    <tr>\n",
              "                        <th>MAD</th>\n",
              "                        <td>3.2638</td>\n",
              "                    </tr>\n",
              "                    <tr class=\"\">\n",
              "                        <th>Skewness</th>\n",
              "                        <td>0.4287</td>\n",
              "                    </tr>\n",
              "                    <tr>\n",
              "                        <th>Sum</th>\n",
              "                        <td>910.4</td>\n",
              "                    </tr>\n",
              "                    <tr>\n",
              "                        <th>Variance</th>\n",
              "                        <td>14.238</td>\n",
              "                    </tr>\n",
              "                    <tr>\n",
              "                        <th>Memory size</th>\n",
              "                        <td>1.6 KiB</td>\n",
              "                    </tr>\n",
              "                </table>\n",
              "            </div>\n",
              "        </div>\n",
              "        <div role=\"tabpanel\" class=\"tab-pane col-md-8 col-md-offset-2\" id=\"histogram-2580214428534725597\">\n",
              "            <img src=\"data:image/png;base64,iVBORw0KGgoAAAANSUhEUgAAAlgAAAGQCAYAAAByNR6YAAAABHNCSVQICAgIfAhkiAAAAAlwSFlzAAAPYQAAD2EBqD%2BnaQAAADh0RVh0U29mdHdhcmUAbWF0cGxvdGxpYiB2ZXJzaW9uMy4xLjMsIGh0dHA6Ly9tYXRwbG90bGliLm9yZy%2BAADFEAAAgAElEQVR4nO3de1TUdf7H8RcwSl4YBQsstbA1LdTMC1JkoWheF/KW6NYxVys1lHLF9Z622woeZFtXPKbu0S7uUdJjqXg9Zlpu1q7mFpi65mU3ORqkTKQ/bzD8/vBAjahpfuDLl%2B/zcY6n5jPjl9ebgfE13%2B/Md/xKSkpKBAAAAGP8rQ4AAABQ3VCwAAAADKNgAQAAGEbBAgAAMIyCBQAAYBgFCwAAwDAKFgAAgGEULAAAAMMoWAAAAIZRsAAAAAyjYAEAABhGwQIAADCMggUAAGAYBQsAAMAwChYAAIBhFCwAAADDKFgAAACGUbAAAAAMo2ABAAAYRsECAAAwjIIFAABgGAULAADAMAoWAACAYRQsAAAAwyhYAAAAhlGwAAAADKNgAQAAGEbBAgAAMIyCBQAAYBgFCwAAwDAKFgAAgGEULAAAAMMoWAAAAIZRsAAAAAyjYAEAABhGwQIAADCMggUAAGAYBQsAAMAwChYAAIBhLqsDOEV%2B/g/Gt%2Bnv76eQkDo6ffqsvN4S49uvapw2r8TMTpjZafNKzpvZafNKVWvmO%2B4IsuTrsgfLxvz9/eTn5yd/fz%2Bro1QKp80rMbMTOG1eyXkzO21eyZkzX4mCBQAAYBgFCwAAwDAKFgAAgGEULAAAAMMoWAAAAIZRsAAAAAyjYAEAABhGwQIAADCMggUAAGAYBQsAAMAwChYAAIBhFCwAAADDKFgAAACGuawOgFvTYeomqyPcsI0vP2p1BAAAKgV7sAAAAAyjYAEAABhGwQIAADCMggUAAGAYBQsAAMAwChYAAIBhFCwAAADDKFgAAACGUbAAAAAMo2ABAAAYRsECAAAwjIIFAABgmCM/7LlFixaqUaOG/Pz8ytYGDRqk6dOna9euXUpPT9eRI0d05513auTIkYqPj7cwLQAAsBtHFixJ2rRpkxo3buyzlpeXpxdffFFTp05VXFyc9uzZo9GjR6tp06Zq3bq1RUkBAIDdcIjwJ9atW6fw8HANHDhQgYGBio6OVmxsrFauXGl1NAAAYCOO3YOVnp6uvXv36syZM%2BrVq5cmTZqkffv2KSIiwud2ERER2rhx401tOy8vT/n5%2BT5rLldthYaG3nLunwoIsFc/drluLW/pvHab%2B1Ywc/XntHkl583stHklZ858JUcWrIceekjR0dGaPXu2vvnmG7388st69dVX5fF4FBYW5nPb%2BvXrq6Cg4Ka2n5mZqYyMDJ%2B1xMREJSUl3XJ2OwsOrmNkO253LSPbsRNmrv6cNq/kvJmdNq/kzJlLObJgZWZmlv3/r371KyUnJ2v06NFq3769ke0nJCQoNjbWZ83lqq2CgrNGtl/Kbs8MbnX%2BgAB/ud21VFh4TsXFXkOpqjZmrv4zO21eyXkzO21eqWrNbOrJ/c1yZMG6UuPGjVVcXCx/f395PB6f6woKChQSEnJT2wsNDS13ODA//wcVFTnjF%2BtaTM1fXOx13PeSmas/p80rOW9mp80rOXPmUvbaBWLAV199pdTUVJ%2B1w4cPq2bNmoqJiVFOTo7PdTk5OWrTpk1lRgQAADbnuILVoEEDZWZmatGiRbp48aKOHj2quXPnKiEhQU8%2B%2BaRyc3O1cuVKXbhwQTt27NCOHTs0aNAgq2MDAAAbcVzBCgsL06JFi7Rt2zZFRUVp8ODBeuyxxzRhwgQ1aNBACxcu1LJly9S%2BfXvNmjVLaWlpuv/%2B%2B62ODQAAbMSRr8GKjIzUihUrrnndmjVrKjkRAACoThy3BwsAAKCiUbAAAAAMo2ABAAAYRsECAAAwjIIFAABgGAULAADAMAoWAACAYRQsAAAAwyhYAAAAhlGwAAAADKNgAQAAGEbBAgAAMIyCBQAAYBgFCwAAwDAKFgAAgGEULAAAAMMoWAAAAIZRsAAAAAyjYAEAABhGwQIAADCMggUAAGAYBQsAAMAwChYAAIBhFCwAAADDKFgAAACGUbAAAAAMo2ABAAAYRsECAAAwjIIFAABgGAULAADAMAoWAACAYRQsAAAAwyhYAAAAhlGwAAAADKNgAQAAGEbBAgAAMIyCBQAAYBgFCwAAwDAKFgAAgGEULAAAAMMoWAAAAIZRsAAAAAyjYAEAABhGwQIAADCMggUAAGAYBQsAAMAwxxesWbNmqUWLFmWXd%2B3apYEDB6pdu3bq06eP1q5da2E6AABgRy6rA1hp//79WrNmTdnlvLw8vfjii5o6dari4uK0Z88ejR49Wk2bNlXr1q0tTAoAAOzEsXuwvF6vZsyYoWHDhpWtrVu3TuHh4Ro4cKACAwMVHR2t2NhYrVy50rqgAADAdhxbsFasWKHAwEDFxcWVre3bt08RERE%2Bt4uIiFBOTk5lxwMAADbmyEOE3333nebNm6d33nnHZ93j8SgsLMxnrX79%2BiooKLip7efl5Sk/P99nzeWqrdDQ0F8W%2BBoCAuzVj12uW8tbOq/d5r4VzFz9OW1eyXkzO21eyZkzX8mRBSslJUX9%2B/dXs2bNdPz4cePbz8zMVEZGhs9aYmKikpKSjH8tOwkOrmNkO253LSPbsRNmrv6cNq/kvJmdNq/kzJlLOa5g7dq1S3v37lVWVla564KDg%2BXxeHzWCgoKFBISclNfIyEhQbGxsT5rLldtFRScvfnA12G3Zwa3On9AgL/c7loqLDyn4mKvoVRVGzNX/5mdNq/kvJmdNq9UtWY29eT%2BZjmuYK1du1anTp1Sly5dJEklJSWSpKioKA0fPrxc8crJyVGbNm1u6muEhoaWOxyYn/%2BDioqc8Yt1LabmLy72Ou57yczVn9PmlZw3s9PmlZw5cynHFaxJkybppZdeKrt88uRJJSQkaM2aNfJ6vVq4cKFWrlyp%2BPh4ffrpp9qxY4cyMzMtTAwAAOzGcQWrXr16qlevXtnloqIiSVLDhg0lSQsXLtRrr72mV199VY0aNVJaWpruv/9%2BS7ICAAB7clzBulLjxo118ODBssuRkZE%2BJx8FAAC4WfZ6lTQAAIANULAAAAAMo2ABAAAYRsECAAAwjIIFAABgGAULAADAMAoWAACAYRQsAAAAwyhYAAAAhlGwAAAADKNgAQAAGEbBAgAAMIyCBQAAYBgFCwAAwDAKFgAAgGEULAAAAMMoWAAAAIZRsAAAAAyjYAEAABhGwQIAADCMggUAAGAYBQsAAMAwChYAAIBhFCwAAADDKFgAAACGUbAAAAAMo2ABAAAYRsECAAAwjIIFAABgGAULAADAMAoWAACAYbYqWLGxscrIyNCJEyesjgIAAHBNtipYAwYM0IYNG9StWzc999xz2rJli4qKiqyOBQAA4MNWBSsxMVEbNmzQu%2B%2B%2Bq/vuu0%2BzZs1STEyM0tLSdPToUavjAQAASLJZwSrVsmVLTZw4UR9%2B%2BKGmTJmid999V71799aIESP05ZdfWh0PAAA4nC0L1qVLl7RhwwY9//zzmjhxosLCwjR58mQ98MADGjZsmNatW2d1RAAA4GAuqwPcjMOHD2vVqlV6//33dfbsWfXo0UNvvfWW2rdvX3abyMhIzZw5U3FxcRYmBQAATmargtWnTx81bdpUI0eOVN%2B%2BfVW/fv1yt4mJidHp06ctSAcAAHCZrQrW22%2B/rY4dO/7s7b744otKSAMAAHB1tnoNVosWLTRq1Cht3bq1bO3NN9/U888/L4/HY2EyAACAH9mqYKWkpOiHH35Qs2bNytY6d%2B4sr9er1NRUC5MBAAD8yFaHCHfu3Kl169YpODi4bC08PFxz5szRr3/9awuTAQAA/MhWe7DOnz%2BvwMDAcuv%2B/v46d%2B6cBYkAAADKs1XBioyMVGpqqr7//vuytW%2B//Vavvvqqz6kaAAAArGSrQ4RTpkzR8OHD9cgjj6hu3bryer06e/asmjRponfeecfqeAAAAJJsVrCaNGmi9evX66OPPtL//vc/%2Bfv7q2nTpurUqZMCAgKsjgcAACDJZgVLkmrWrKlu3bpZHQMAAOCabFWwvvnmG6Wnp%2BvQoUM6f/58ues/%2BOCDG97WgQMHlJKSopycHAUGBqpjx46aOnWq7rjjDu3atUvp6ek6cuSI7rzzTo0cOVLx8fEmRwEAANWYrQrWlClTlJeXp06dOql27dq/eDsXL17U8OHD9fTTT2vx4sU6c%2BaMXnrpJc2cOVMzZszQiy%2B%2BqKlTpyouLk579uzR6NGj1bRpU7Vu3drgNAAAoLqyVcHKycnRBx98oJCQkFvazrlz5zRu3Dj169dPLpdLISEheuKJJ7Rs2TKtW7dO4eHhGjhwoCQpOjpasbGxWrlyJQULAADcEFsVrAYNGtzSnqtS9erV01NPPVV2%2BciRI3rvvffUq1cv7du3TxERET63j4iI0MaNG294%2B3l5ecrPz/dZc7lqKzQ09NaCXyEgwFZn2ZDLdWt5S%2Be129y3gpmrP6fNKzlvZqfNKzlz5ivZqmCNHDlSGRkZGj9%2BvPz8/G55e7m5uerRo4eKioo0aNAgJSUl6fnnn1dYWJjP7erXr6%2BCgoIb3m5mZqYyMjJ81hITE5WUlHTLme3siTkfWx3hpuz%2BU0%2BrI5Rxu2tZHcGoDlM3WR3hplTGz0J1u49vhNNmdtq8kjNnLmWrgvXRRx/p888/1%2BrVq9W4cWP5%2B/s24xUrVtzU9ho1aqTs7Gz997//1SuvvKLf//73RnImJCQoNjbWZ83lqq2CgrNGtl/Kyc8MKoPp%2B%2BuXCAjwl9tdS4WF51Rc7LU6jmNV5M%2BCE%2B9jp83stHmlqjVzcHAdS76urQpW3bp19fjjjxvdpp%2Bfn8LDwzVu3DgNHjxYMTEx8ng8PrcpKCi4qdd9hYaGljscmJ//g4qKnPGLVV1UpfuruNhbpfI4TWV87514HzttZqfNKzlz5lK2KlgpKSlGtrNr1y7NnDlTGzduLNsLVvrfBx98UJs3b/a5fU5Ojtq0aWPkawMAgOrPdseYjhw5onnz5mny5Mlla3v37r2pbbRq1UpnzpxRWlqazp07p9OnT2vevHnq0KGDhgwZotzcXK1cuVIXLlzQjh07tGPHDg0aNMj0KAAAoJqyVcHatWuX4uPjtWXLFmVlZUm6fPLRoUOH3tRJRoOCgrRkyRLl5OTo4YcfVp8%2BfRQUFKQ///nPatCggRYuXKhly5apffv2mjVrltLS0nT//fdX1FgAAKCasdUhwtdff10TJkzQs88%2BqwcffFDS5c8nTE1N1fz589W1a9cb3laLFi2u%2BQHRkZGRWrNmjZHMAADAeWy1B%2Bs///mPhgwZIkk%2Bp2no2bOnDh8%2BbFUsAAAAH7YqWEFBQVf9DMK8vDzVrFnTgkQAAADl2apgtWvXTrNmzdKZM2fK1o4ePaqJEyfqkUcesTAZAADAj2z1GqzJkyfr2WefVVRUlIqLi9WuXTudO3dO9913n1JTU62OBwAAIMlmBathw4bKysrSjh07dPToUd12221q2rSpHn30USMfnQMAAGCCrQqWJNWoUUPdunWzOgYAAMA12apgxcbGXndP1c2cCwsAAKCi2Kpg9e7d26dgFRcX6%2BjRo8rOztazzz5rYTIAAIAf2apgJScnX3V98%2BbN%2Buyzzyo5DQAAwNXZ6jQN19KtWzetX7/e6hgAAACSqknB%2Buqrr1RSUmJ1DAAAAEk2O0Q4ePDgcmvnzp3T4cOH1b17dwsSAQAAlGerghUeHl7uXYSBgYEaOHCgnnrqKYtSAQAA%2BLJVweJs7QAAwA5sVbDef//9G75t3759KzAJAADAtdmqYE2dOlVer7fcC9r9/Px81vz8/ChYAADAMrYqWH/729%2B0ZMkSjRo1Si1atFBJSYkOHjyoxYsX65lnnlFUVJTVEQEAAOxVsFJTU7Vo0SKFhYWVrXXo0EFNmjTRiBEjlJWVZWE6AACAy2x1Hqxjx46pXr165dbdbrdyc3MtSAQAAFCerQpWo0aNlJqaqoKCgrK1wsJCpaen6%2B6777YwGQAAwI9sdYhwypQpGj9%2BvDIzM1WnTh35%2B/vrzJkzuu222zR//nyr4wEAAEiyWcHq1KmTtm/frh07dujkyZMqKSlRWFiYHnvsMQUFBVkdDwAAQJLNCpYk1apVS127dtXJkyfVpEkTq%2BMAAACUY6vXYJ0/f14TJ05U27Zt1atXL0mXX4P13HPPqbCw0OJ0AAAAl9mqYKWlpWn//v2aM2eO/P1/jF5cXKw5c%2BZYmAwAAOBHtipYmzdv1l//%2Blf17Nmz7EOf3W63UlJStGXLFovTAQAAXGargnX27FmFh4eXWw8JCdH//d//VX4gAACAq7BVwbr77rv12WefSZLPZw9u2rRJd911l1WxAAAAfNjqXYS/%2Bc1vNHbsWA0YMEBer1dLly5VTk6ONm/erKlTp1odDwAAQJLNClZCQoJcLpeWLVumgIAAvfHGG2ratKnmzJmjnj17Wh0PAABAks0K1unTpzVgwAANGDDA6igAAADXZKvXYHXt2tXntVcAAABVka0KVlRUlDZu3Gh1DAAAgOuy1SHCO%2B%2B8U3/605%2B0aNEi3X333apRo4bP9enp6RYlAwAA%2BJGtCtbXX3%2Bte%2B%2B9V5JUUFBgcRoAAICrs0XBGjdunF5//XW98847ZWvz589XYmKihakAAACuzhavwdq2bVu5tUWLFlmQBAAA4OfZomBd7Z2DvJsQAABUVbYoWKUf7PxzawAAAFWBLQoWAACAnVCwAAAADLPFuwgvXbqk8ePH/%2Bwa58ECAABVgS0KVvv27ZWXl/ezawAAAFWBLQrWT89/BQAAUNXxGiwAAADDKFgAAACGObZg5ebmKjExUVFRUYqOjtakSZNUWFgoSdq/f7%2BeeeYZtW/fXt27d9eSJUssTgsAAOzEsQVr1KhRcrvd2rZtm1avXq1Dhw5p9uzZOn/%2BvEaOHKmHH35YH3/8sV5//XUtXLhQW7ZssToyAACwCUcWrMLCQrVq1Urjx49XnTp11LBhQ/Xr10%2B7d%2B/W9u3bdenSJY0ePVq1a9dWy5Yt9dRTTykzM9Pq2AAAwCYcWbDcbrdSUlJ0%2B%2B23l62dOHFCoaGh2rdvn1q0aKGAgICy6yIiIpSTk2NFVAAAYEO2OE1DRcvOztayZcu0YMECbdy4UW632%2Bf6%2BvXry%2BPxyOv1yt//5ztpXl6e8vPzfdZcrtoKDQ01mjsgwJH9uNK4XNZ/f0vvY%2B5ra1Xkz4IT72Onzey0eSVnznwlxxesPXv2aPTo0Ro/fryio6O1cePGq97uZj5cOjMzUxkZGT5riYmJSkpKuqWsqFzBwXWsjlDG7a5ldQRHq4yfBSfex06b2WnzSs6cuZSjC9a2bds0YcIETZ8%2BXX379pUkhYSE6NixYz6383g8ql%2B//g3tvZKkhIQExcbG%2Bqy5XLVVUHDWSO5STn5mUBlM31%2B/RECAv9zuWiosPKfiYq/VcRyrIn8WnHgfO21mp80rVa2ZrXqy7NiC9fnnn2vixImaO3euOnXqVLbeqlUrLV%2B%2BXEVFRXK5Ln97srOz1aZNmxvedmhoaLnDgfn5P6ioyBm/WNVFVbq/iou9VSqP01TG996J97HTZnbavJIzZy7lyF0gRUVFmjZtmpKTk33KlSTFxMSobt26WrBggc6dO6cvvvhCq1at0pAhQyxKCwAA7MaRBevf//63Dh8%2BrNdee02tW7f2%2BZOfn6833nhDn3zyiTp27KiXX35Z48aNU%2BfOna2ODQAAbMKRhwg7dOiggwcPXvc2y5cvr6Q0AACgunFkwQIAVA29/vIPqyPclI0vP2p1BNiEIw8RAgAAVCQKFgAAgGEULAAAAMMoWAAAAIZRsAAAAAyjYAEAABhGwQIAADCMggUAAGAYBQsAAMAwChYAAIBhFCwAAADDKFgAAACGUbAAAAAMo2ABAAAYRsECAAAwjIIFAABgGAULAADAMAoWAACAYRQsAAAAwyhYAAAAhlGwAAAADKNgAQAAGOayOgBQVfX6yz%2BsjgAAsCn2YAEAABhGwQIAADCMggUAAGAYBQsAAMAwChYAAIBhFCwAAADDKFgAAACGUbAAAAAMo2ABAAAYRsECAAAwjI/KAYCfYbePTdr48qNWRwAcjz1YAAAAhlGwAAAADKNgAQAAGEbBAgAAMIyCBQAAYBjvIgSAasZu73oEqiP2YAEAABhGwQIAADCMggUAAGAYBQsAAMAwChYAAIBhFCwAAADDHFuwPv74Y0VHR2vcuHHlrtuwYYPi4uLUtm1b9e/fXzt37rQgIQAAsCtHngdr8eLFWrVqle65555y1%2B3fv18TJ05URkaGHn74YW3evFljxozRpk2b1LBhQwvSAgAAu3HkHqzAwMBrFqyVK1cqJiZGMTExCgwMVHx8vJo3b661a9dakBQAANiRI/dgDR069JrX7du3TzExMT5rERERys7OvuHt5%2BXlKT8/32fN5aqt0NDQmwv6MwICHNmPAcAyLtfNP%2B6WPlY76THbiTNfyZEF63o8Ho/q1avns1avXj19/fXXN7yNzMxMZWRk%2BKwlJiYqKSnJSEYAgDWCg%2Bv84r/rdtcymMQenDhzKQrWVZSUlNzS309ISFBsbKzPmstVWwUFZ29pu1dy8jMDALDCL3kcDwjwl9tdS4WF51Rc7K2AVFVPVZr5VkrxraBgXSE4OFgej8dnzePxKCQk5Ia3ERoaWu5wYH7%2BDyoqcsYvFgBUV7fyOF5c7HXcvwNOnLkUu0Cu0KpVK%2BXk5PisZWdnq02bNhYlAgAAdkPBusKgQYP0ySefaPv27bpw4YJWrVqlY8eOKT4%2B3upoAADAJhx5iLB169aSpKKiIknS1q1bJV3eU9W8eXPNmTNHKSkpys3NVbNmzbRw4ULdcccdluUFAAD24siC9XOnXOjevbu6d%2B9eSWkAAEB1wyFCAAAAwyhYAAAAhlGwAAAADKNgAQAAGEbBAgAAMIyCBQAAYBgFCwAAwDAKFgAAgGEULAAAAMMoWAAAAIZRsAAAAAyjYAEAABhGwQIAADCMggUAAGAYBQsAAMAwChYAAIBhFCwAAADDKFgAAACGUbAAAAAMo2ABAAAYRsECAAAwjIIFAABgmMvqAAAA2EWvv/zD6gg3ZePLj1odwbHYgwUAAGAYBQsAAMAwChYAAIBhFCwAAADDKFgAAACGUbAAAAAMo2ABAAAYRsECAAAwjIIFAABgGAULAADAMAoWAACAYRQsAAAAwyhYAAAAhlGwAAAADKNgAQAAGEbBAgAAMIyCBQAAYBgFCwAAwDAKFgAAgGEULAAAAMMoWAAAAIZRsAAAAAxzWR0AAABUjF5/%2BYfVEW7YxpcftTqCUezBAgAAMIyCdRW5ubl64YUXFBUVpS5duigtLU1er9fqWAAAwCY4RHgVY8eOVcuWLbV161adOnVKI0eO1O23367f/va3VkcDAAA2wB6sK2RnZ%2BvAgQNKTk5WUFCQwsPDNWzYMGVmZlodDQAA2AR7sK6wb98%2BNWrUSPXq1Stba9mypY4ePaozZ86obt26P7uNvLw85efn%2B6y5XLUVGhpqNGtAAP0YAFA9uFzV6980CtYVPB6P3G63z1pp2SooKLihgpWZmamMjAyftTFjxmjs2LHmgupykXu24SElJCQYL29VUV5enjIzMx0zr8TMTpjZafNKzpvZafNKzpz5StWrLhpSUlJyS38/ISFBq1ev9vmTkJBgKN2P8vPzlZGRUW5vWXXltHklZnYCp80rOW9mp80rOXPmK7EH6wohISHyeDw%2Bax6PR35%2BfgoJCbmhbYSGhjq2sQMAAPZgldOqVSudOHFCp0%2BfLlvLzs5Ws2bNVKdOHQuTAQAAu6BgXSEiIkKtW7dWenq6zpw5o8OHD2vp0qUaMmSI1dEAAIBNBMycOXOm1SGqmscee0xZWVn64x//qPXr12vgwIEaMWKE/Pz8rI5WTp06ddSxY0fH7F1z2rwSMzuB0%2BaVnDez0%2BaVnDnzT/mV3OorugEAAOCDQ4QAAACGUbAAAAAMo2ABAAAYRsECAAAwjIIFAABgGAULAADAMAoWAACAYRQsAAAAwyhYAAAAhlGwbCg3N1cvvPCCoqKi1KVLF6Wlpcnr9Vodq0Ll5uYqMTFRUVFRio6O1qRJk1RYWGh1rEoza9YstWjRwuoYlWLBggXq1KmTHnroIQ0bNkzHjx%2B3OlKF%2BeqrrzR06FB16NBBjz76qJKTk30%2BaL46%2BPjjjxUdHa1x48aVu27Dhg2Ki4tT27Zt1b9/f%2B3cudOChOZdb%2BYtW7YoPj5ebdu2VY8ePfTuu%2B9akNCs681b6uzZs%2BrcubMmTZpUicmsRcGyobFjxyosLExbt27V0qVLtXXrVr311ltWx6pQo0aNktvt1rZt27R69WodOnRIs2fPtjpWpdi/f7/WrFljdYxK8fe//11r167V22%2B/rZ07d6pZs2Z68803rY5VIYqKivTCCy/ooYce0ieffKKsrCydPn1a1enjYRcvXqzXXntN99xzT7nr9u/fr4kTJyo5OVmffvqphg0bpjFjxujkyZMWJDXnejN/%2BeWXSk5OVlJSkv71r39pypQp%2BsMf/qDdu3dbkNSM6837U/PmzdOZM2cqKVXVQMGymezsbB04cEDJyckKCgpSeHi4hg0bpszMTKujVZjCwkK1atVK48ePV506ddSwYUP169fP1g9KN8rr9WrGjBkaNmyY1VEqxZIlSzRu3Djde%2B%2B9qlu3rqZNm6Zp06ZZHatC5OfnKz8/X08%2B%2BaRq1qyp4OBgPfHEE9q/f7/V0YwJDAzUqlWrrvqP78qVKxUTE6OYmBgFBgYqPj5ezZs319q1ay1Ias71ZvZ4PBo5cqS6desml8ulmJgYNW/e3NaPZdebt9SBAweUlZWlfv36VWIy61GwbGbfvn1q1KiR6tWrV7bWsmVLHT16tNo%2BO3C73UpJSdHtt99etnbixAmFhoZamKpyrFixQoGBgYqLi7M6SoX79ttvdfz4cX3//ffq3bu3oqKilJSUVO0OmZUKCwvTAw88oMzMTJ09e1anTp3Sli1b1LlzZ6ujGTN06FAFBQVd9bdAPIsAAAS0SURBVLp9%2B/YpIiLCZy0iIkLZ2dmVEa3CXG/mxx9/XImJiWWXi4qKlJ%2Bfr7CwsMqKZ9z15pWkkpISzZw5U%2BPGjZPb7a7EZNajYNmMx%2BMp90NaWrYKCgqsiFTpsrOztWzZMo0ePdrqKBXqu%2B%2B%2B07x58zRjxgyro1SK0kNDmzZt0tKlS7VmzRqdPHmy2u7B8vf317x58/TBBx%2BoXbt2io6OVlFRkcaPH291tErh8Xh8nihKlx/LnPI4Jklz5sxR7dq11bt3b6ujVJjMzEz5%2Bfmpf//%2BVkepdBQsGyopKbE6gmX27NmjESNGaPz48YqOjrY6ToVKSUlR//791axZM6ujVIrSn%2BvnnntOYWFhatiwocaOHatt27bpwoULFqcz7%2BLFixo1apR69uyp3bt366OPPlJQUJCSk5OtjlZpnPpYVlJSorS0NGVlZWnBggUKDAy0OlKFOHXqlObOnauZM2fKz8/P6jiVzmV1ANyckJAQeTwenzWPxyM/Pz%2BFhIRYlKpybNu2TRMmTND06dPVt29fq%2BNUqF27dmnv3r3KysqyOkqlKT0E/NM9tI0aNVJJSYlOnTqlu%2B66y6poFWLXrl06fvy4fve73ykgIEBBQUFKSkrSk08%2BKY/Ho/r161sdsUIFBwdf9bGsuj%2BOeb1eTZ48WV9%2B%2BaWWL1%2BuJk2aWB2pwqSmpqpv376OeQf0lShYNtOqVSudOHFCp0%2BfLnsgys7OVrNmzVSnTh2L01Wczz//XBMnTtTcuXPVqVMnq%2BNUuLVr1%2BrUqVPq0qWLpB%2Bf6UdFRemVV15Rnz59rIxXIRo2bKi6detq//79atmypaTLp%2BeoUaNGtXy9XXFxsbxer89enIsXL1qYqHK1atVKOTk5PmvZ2dnV8mf7p2bNmqVDhw5p%2BfLl1b5Er127Vm63W6tXr5YknT9/Xl6vVx9%2B%2BKE%2B%2B%2Bwzi9NVPAqWzURERKh169ZKT0/X5MmT9e2332rp0qUaPny41dEqTFFRkaZNm6bk5GRHlCtJmjRpkl566aWyyydPnlRCQoLWrFlT7nUr1YXL5dLAgQP1xhtvKDIyUnXr1tX8%2BfMVFxcnl6v6PVS1bdtWtWvX1rx58zRq1CidP39eCxYsUGRkZLX/h1eSBg0apIEDB2r79u165JFHtG7dOh07dkzx8fFWR6swe/bs0dq1a7VhwwZH3Mc7duzwubx06VKdPHlSkydPtihR5fIrcepBcBs7efKkpk%2Bfrn/%2B85%2BqW7euBg8erDFjxlTbY9y7d%2B/W008/rZo1a5a7btOmTWrUqJEFqSrX8ePH1bVrVx08eNDqKBXq4sWLSklJ0fr163Xp0iX16NFD06dPr7Z7Z3NycjR79mwdOHBANWvWVMeOHTVp0iRbv6vsp1q3bi3p8pMkSWVFufSdglu2bFF6erpyc3PVrFkzTZ06VZGRkdaENeR6M0%2BZMkXvvfdeuScMkZGRWrJkSeUGNeTn7uOfmjdvnnJzc5Wamlp5AS1EwQIAADCMdxECAAAYRsECAAAwjIIFAABgGAULAADAMAoWAACAYRQsAAAAwyhYAAAAhlGwAAAADKNgAQAAGEbBAgAAMIyCBQAAYBgFCwAAwDAKFgAAgGH/D/6dWKZpbJFqAAAAAElFTkSuQmCC\"/>\n",
              "        </div>\n",
              "        <div role=\"tabpanel\" class=\"tab-pane col-md-12\" id=\"common-2580214428534725597\">\n",
              "            \n",
              "<table class=\"freq table table-hover\">\n",
              "    <thead>\n",
              "    <tr>\n",
              "        <td class=\"fillremaining\">Value</td>\n",
              "        <td class=\"number\">Count</td>\n",
              "        <td class=\"number\">Frequency (%)</td>\n",
              "        <td style=\"min-width:200px\">&nbsp;</td>\n",
              "    </tr>\n",
              "    </thead>\n",
              "    <tr class=\"\">\n",
              "        <td class=\"fillremaining\">0.0</td>\n",
              "        <td class=\"number\">13</td>\n",
              "        <td class=\"number\">6.7%</td>\n",
              "        <td>\n",
              "            <div class=\"bar\" style=\"width:10%\">&nbsp;</div>\n",
              "        </td>\n",
              "</tr><tr class=\"\">\n",
              "        <td class=\"fillremaining\">0.1</td>\n",
              "        <td class=\"number\">7</td>\n",
              "        <td class=\"number\">3.6%</td>\n",
              "        <td>\n",
              "            <div class=\"bar\" style=\"width:6%\">&nbsp;</div>\n",
              "        </td>\n",
              "</tr><tr class=\"\">\n",
              "        <td class=\"fillremaining\">2.2</td>\n",
              "        <td class=\"number\">6</td>\n",
              "        <td class=\"number\">3.1%</td>\n",
              "        <td>\n",
              "            <div class=\"bar\" style=\"width:5%\">&nbsp;</div>\n",
              "        </td>\n",
              "</tr><tr class=\"\">\n",
              "        <td class=\"fillremaining\">6.3</td>\n",
              "        <td class=\"number\">5</td>\n",
              "        <td class=\"number\">2.6%</td>\n",
              "        <td>\n",
              "            <div class=\"bar\" style=\"width:4%\">&nbsp;</div>\n",
              "        </td>\n",
              "</tr><tr class=\"\">\n",
              "        <td class=\"fillremaining\">6.6</td>\n",
              "        <td class=\"number\">4</td>\n",
              "        <td class=\"number\">2.1%</td>\n",
              "        <td>\n",
              "            <div class=\"bar\" style=\"width:3%\">&nbsp;</div>\n",
              "        </td>\n",
              "</tr><tr class=\"\">\n",
              "        <td class=\"fillremaining\">0.2</td>\n",
              "        <td class=\"number\">4</td>\n",
              "        <td class=\"number\">2.1%</td>\n",
              "        <td>\n",
              "            <div class=\"bar\" style=\"width:3%\">&nbsp;</div>\n",
              "        </td>\n",
              "</tr><tr class=\"\">\n",
              "        <td class=\"fillremaining\">4.2</td>\n",
              "        <td class=\"number\">4</td>\n",
              "        <td class=\"number\">2.1%</td>\n",
              "        <td>\n",
              "            <div class=\"bar\" style=\"width:3%\">&nbsp;</div>\n",
              "        </td>\n",
              "</tr><tr class=\"\">\n",
              "        <td class=\"fillremaining\">10.4</td>\n",
              "        <td class=\"number\">4</td>\n",
              "        <td class=\"number\">2.1%</td>\n",
              "        <td>\n",
              "            <div class=\"bar\" style=\"width:3%\">&nbsp;</div>\n",
              "        </td>\n",
              "</tr><tr class=\"\">\n",
              "        <td class=\"fillremaining\">4.9</td>\n",
              "        <td class=\"number\">4</td>\n",
              "        <td class=\"number\">2.1%</td>\n",
              "        <td>\n",
              "            <div class=\"bar\" style=\"width:3%\">&nbsp;</div>\n",
              "        </td>\n",
              "</tr><tr class=\"\">\n",
              "        <td class=\"fillremaining\">1.0</td>\n",
              "        <td class=\"number\">4</td>\n",
              "        <td class=\"number\">2.1%</td>\n",
              "        <td>\n",
              "            <div class=\"bar\" style=\"width:3%\">&nbsp;</div>\n",
              "        </td>\n",
              "</tr><tr class=\"other\">\n",
              "        <td class=\"fillremaining\">Other values (80)</td>\n",
              "        <td class=\"number\">138</td>\n",
              "        <td class=\"number\">71.5%</td>\n",
              "        <td>\n",
              "            <div class=\"bar\" style=\"width:100%\">&nbsp;</div>\n",
              "        </td>\n",
              "</tr>\n",
              "</table>\n",
              "        </div>\n",
              "        <div role=\"tabpanel\" class=\"tab-pane col-md-12\"  id=\"extreme-2580214428534725597\">\n",
              "            <p class=\"h4\">Minimum 5 values</p>\n",
              "            \n",
              "<table class=\"freq table table-hover\">\n",
              "    <thead>\n",
              "    <tr>\n",
              "        <td class=\"fillremaining\">Value</td>\n",
              "        <td class=\"number\">Count</td>\n",
              "        <td class=\"number\">Frequency (%)</td>\n",
              "        <td style=\"min-width:200px\">&nbsp;</td>\n",
              "    </tr>\n",
              "    </thead>\n",
              "    <tr class=\"\">\n",
              "        <td class=\"fillremaining\">0.0</td>\n",
              "        <td class=\"number\">13</td>\n",
              "        <td class=\"number\">6.7%</td>\n",
              "        <td>\n",
              "            <div class=\"bar\" style=\"width:100%\">&nbsp;</div>\n",
              "        </td>\n",
              "</tr><tr class=\"\">\n",
              "        <td class=\"fillremaining\">0.1</td>\n",
              "        <td class=\"number\">7</td>\n",
              "        <td class=\"number\">3.6%</td>\n",
              "        <td>\n",
              "            <div class=\"bar\" style=\"width:54%\">&nbsp;</div>\n",
              "        </td>\n",
              "</tr><tr class=\"\">\n",
              "        <td class=\"fillremaining\">0.2</td>\n",
              "        <td class=\"number\">4</td>\n",
              "        <td class=\"number\">2.1%</td>\n",
              "        <td>\n",
              "            <div class=\"bar\" style=\"width:31%\">&nbsp;</div>\n",
              "        </td>\n",
              "</tr><tr class=\"\">\n",
              "        <td class=\"fillremaining\">0.3</td>\n",
              "        <td class=\"number\">3</td>\n",
              "        <td class=\"number\">1.6%</td>\n",
              "        <td>\n",
              "            <div class=\"bar\" style=\"width:23%\">&nbsp;</div>\n",
              "        </td>\n",
              "</tr><tr class=\"\">\n",
              "        <td class=\"fillremaining\">0.4</td>\n",
              "        <td class=\"number\">2</td>\n",
              "        <td class=\"number\">1.0%</td>\n",
              "        <td>\n",
              "            <div class=\"bar\" style=\"width:16%\">&nbsp;</div>\n",
              "        </td>\n",
              "</tr>\n",
              "</table>\n",
              "            <p class=\"h4\">Maximum 5 values</p>\n",
              "            \n",
              "<table class=\"freq table table-hover\">\n",
              "    <thead>\n",
              "    <tr>\n",
              "        <td class=\"fillremaining\">Value</td>\n",
              "        <td class=\"number\">Count</td>\n",
              "        <td class=\"number\">Frequency (%)</td>\n",
              "        <td style=\"min-width:200px\">&nbsp;</td>\n",
              "    </tr>\n",
              "    </thead>\n",
              "    <tr class=\"\">\n",
              "        <td class=\"fillremaining\">11.8</td>\n",
              "        <td class=\"number\">2</td>\n",
              "        <td class=\"number\">1.0%</td>\n",
              "        <td>\n",
              "            <div class=\"bar\" style=\"width:100%\">&nbsp;</div>\n",
              "        </td>\n",
              "</tr><tr class=\"\">\n",
              "        <td class=\"fillremaining\">11.9</td>\n",
              "        <td class=\"number\">1</td>\n",
              "        <td class=\"number\">0.5%</td>\n",
              "        <td>\n",
              "            <div class=\"bar\" style=\"width:50%\">&nbsp;</div>\n",
              "        </td>\n",
              "</tr><tr class=\"\">\n",
              "        <td class=\"fillremaining\">12.4</td>\n",
              "        <td class=\"number\">1</td>\n",
              "        <td class=\"number\">0.5%</td>\n",
              "        <td>\n",
              "            <div class=\"bar\" style=\"width:50%\">&nbsp;</div>\n",
              "        </td>\n",
              "</tr><tr class=\"\">\n",
              "        <td class=\"fillremaining\">12.9</td>\n",
              "        <td class=\"number\">1</td>\n",
              "        <td class=\"number\">0.5%</td>\n",
              "        <td>\n",
              "            <div class=\"bar\" style=\"width:50%\">&nbsp;</div>\n",
              "        </td>\n",
              "</tr><tr class=\"\">\n",
              "        <td class=\"fillremaining\">14.4</td>\n",
              "        <td class=\"number\">1</td>\n",
              "        <td class=\"number\">0.5%</td>\n",
              "        <td>\n",
              "            <div class=\"bar\" style=\"width:50%\">&nbsp;</div>\n",
              "        </td>\n",
              "</tr>\n",
              "</table>\n",
              "        </div>\n",
              "    </div>\n",
              "</div>\n",
              "</div><div class=\"row variablerow\">\n",
              "    <div class=\"col-md-3 namecol\">\n",
              "        <p class=\"h4 pp-anchor\" id=\"pp_var_continent\">continent<br/>\n",
              "            <small>Categorical</small>\n",
              "        </p>\n",
              "    </div><div class=\"col-md-3\">\n",
              "    <table class=\"stats \">\n",
              "        <tr class=\"\">\n",
              "            <th>Distinct count</th>\n",
              "            <td>6</td>\n",
              "        </tr>\n",
              "        <tr>\n",
              "            <th>Unique (%)</th>\n",
              "            <td>3.1%</td>\n",
              "        </tr>\n",
              "        <tr class=\"ignore\">\n",
              "            <th>Missing (%)</th>\n",
              "            <td>0.0%</td>\n",
              "        </tr>\n",
              "        <tr class=\"ignore\">\n",
              "            <th>Missing (n)</th>\n",
              "            <td>0</td>\n",
              "        </tr>\n",
              "    </table>\n",
              "</div>\n",
              "<div class=\"col-md-6 collapse in\" id=\"minifreqtable-1206281986128417955\">\n",
              "    <table class=\"mini freq\">\n",
              "        <tr class=\"\">\n",
              "    <th>Africa</th>\n",
              "    <td>\n",
              "        <div class=\"bar\" style=\"width:100%\" data-toggle=\"tooltip\" data-placement=\"right\" data-html=\"true\"\n",
              "             data-delay=500 title=\"Percentage: 27.5%\">\n",
              "            53\n",
              "        </div>\n",
              "        \n",
              "    </td>\n",
              "</tr><tr class=\"\">\n",
              "    <th>Europe</th>\n",
              "    <td>\n",
              "        <div class=\"bar\" style=\"width:85%\" data-toggle=\"tooltip\" data-placement=\"right\" data-html=\"true\"\n",
              "             data-delay=500 title=\"Percentage: 23.3%\">\n",
              "            45\n",
              "        </div>\n",
              "        \n",
              "    </td>\n",
              "</tr><tr class=\"\">\n",
              "    <th>Asia</th>\n",
              "    <td>\n",
              "        <div class=\"bar\" style=\"width:83%\" data-toggle=\"tooltip\" data-placement=\"right\" data-html=\"true\"\n",
              "             data-delay=500 title=\"Percentage: 22.8%\">\n",
              "            44\n",
              "        </div>\n",
              "        \n",
              "    </td>\n",
              "</tr><tr class=\"other\">\n",
              "    <th>Other values (3)</th>\n",
              "    <td>\n",
              "        <div class=\"bar\" style=\"width:96%\" data-toggle=\"tooltip\" data-placement=\"right\" data-html=\"true\"\n",
              "             data-delay=500 title=\"Percentage: 26.4%\">\n",
              "            51\n",
              "        </div>\n",
              "        \n",
              "    </td>\n",
              "</tr>\n",
              "    </table>\n",
              "</div>\n",
              "<div class=\"col-md-12 text-right\">\n",
              "    <a role=\"button\" data-toggle=\"collapse\" data-target=\"#freqtable-1206281986128417955, #minifreqtable-1206281986128417955\"\n",
              "       aria-expanded=\"true\" aria-controls=\"collapseExample\">\n",
              "        Toggle details\n",
              "    </a>\n",
              "</div>\n",
              "<div class=\"col-md-12 extrapadding collapse\" id=\"freqtable-1206281986128417955\">\n",
              "    \n",
              "<table class=\"freq table table-hover\">\n",
              "    <thead>\n",
              "    <tr>\n",
              "        <td class=\"fillremaining\">Value</td>\n",
              "        <td class=\"number\">Count</td>\n",
              "        <td class=\"number\">Frequency (%)</td>\n",
              "        <td style=\"min-width:200px\">&nbsp;</td>\n",
              "    </tr>\n",
              "    </thead>\n",
              "    <tr class=\"\">\n",
              "        <td class=\"fillremaining\">Africa</td>\n",
              "        <td class=\"number\">53</td>\n",
              "        <td class=\"number\">27.5%</td>\n",
              "        <td>\n",
              "            <div class=\"bar\" style=\"width:100%\">&nbsp;</div>\n",
              "        </td>\n",
              "</tr><tr class=\"\">\n",
              "        <td class=\"fillremaining\">Europe</td>\n",
              "        <td class=\"number\">45</td>\n",
              "        <td class=\"number\">23.3%</td>\n",
              "        <td>\n",
              "            <div class=\"bar\" style=\"width:85%\">&nbsp;</div>\n",
              "        </td>\n",
              "</tr><tr class=\"\">\n",
              "        <td class=\"fillremaining\">Asia</td>\n",
              "        <td class=\"number\">44</td>\n",
              "        <td class=\"number\">22.8%</td>\n",
              "        <td>\n",
              "            <div class=\"bar\" style=\"width:83%\">&nbsp;</div>\n",
              "        </td>\n",
              "</tr><tr class=\"\">\n",
              "        <td class=\"fillremaining\">North America</td>\n",
              "        <td class=\"number\">23</td>\n",
              "        <td class=\"number\">11.9%</td>\n",
              "        <td>\n",
              "            <div class=\"bar\" style=\"width:43%\">&nbsp;</div>\n",
              "        </td>\n",
              "</tr><tr class=\"\">\n",
              "        <td class=\"fillremaining\">Oceania</td>\n",
              "        <td class=\"number\">16</td>\n",
              "        <td class=\"number\">8.3%</td>\n",
              "        <td>\n",
              "            <div class=\"bar\" style=\"width:30%\">&nbsp;</div>\n",
              "        </td>\n",
              "</tr><tr class=\"\">\n",
              "        <td class=\"fillremaining\">South America</td>\n",
              "        <td class=\"number\">12</td>\n",
              "        <td class=\"number\">6.2%</td>\n",
              "        <td>\n",
              "            <div class=\"bar\" style=\"width:23%\">&nbsp;</div>\n",
              "        </td>\n",
              "</tr>\n",
              "</table>\n",
              "</div>\n",
              "</div>\n",
              "    <div class=\"row headerrow highlight\">\n",
              "        <h1>Correlations</h1>\n",
              "    </div>\n",
              "    <div class=\"row variablerow\">\n",
              "    <img src=\"data:image/png;base64,iVBORw0KGgoAAAANSUhEUgAAAtoAAAKQCAYAAAChLd05AAAABHNCSVQICAgIfAhkiAAAAAlwSFlzAAAPYQAAD2EBqD%2BnaQAAADh0RVh0U29mdHdhcmUAbWF0cGxvdGxpYiB2ZXJzaW9uMy4xLjMsIGh0dHA6Ly9tYXRwbG90bGliLm9yZy%2BAADFEAAAgAElEQVR4nOzdeXiM9/7/8VcSJEiEkIQqpYgtQSihUlu0llKOUqELLW01RJNytLS%2B1ranSqmtimM7XU60FMX5IUqdo9pSygihIrWTIIMgkWV%2Bf6SZY447hJkxpM/HdeWa5HMv855PU/OeVz5zj5vFYrEIAAAAgEO5u7oAAAAAoCii0QYAAACcgEYbAAAAcAIabQAAAMAJaLQBAAAAJ6DRBgAAAJyARhsAAABwAhptAAAAwAlotAEAAAAnoNEGAAAAnKCYqwsAANxa7dq1C9xWvHhxlS1bVsHBwerevbs6dOggNze3u1gdAMCIm8Visbi6CADAzeU32g0aNJC/v7/NtszMTB0%2BfFgnT56UJLVt21bTp09XiRIl7nqdAID/otEGgPtAfqM9a9YstW/f3nCf%2BPh4/fWvf9WVK1f00ksv6c0337ybJQIA/gdrtAGgiGjfvr2GDRsmSfryyy%2BVmZnp4ooA4M%2BNNdoAUIQ88cQTmjBhgq5evap9%2B/YpNDTUZvu2bdv0%2Beef69dff5XZbJa3t7fq1Kmjp59%2BWl27djU8p9ls1sKFC/X999/ryJEjunbtmnx9fdWgQQO9%2BOKLCgsLu%2BGYdu3a6cSJE5o3b54yMzM1depUHTt2TIsWLVKTJk0kSQcPHtSCBQu0Y8cOnTlzRsWKFVNAQICaNWum5557znBd%2BqVLl7R48WJt3LhRR44cUVZWlipUqKDGjRurf//%2BCgkJsdn/%2BPHjioiIkCTt2bNHSUlJ%2BuSTT7Rr1y6ZzWYFBAQoIiJCsbGxKlWq1B3NOQAUhEQbAIqQsmXLWr%2B/ePGizbapU6eqf//%2B2rBhg7y9vRUWFiY/Pz9t27ZNw4cPV0xMjHJycmyOSU1NVY8ePTRnzhwdPnxY9erVU/PmzVWiRAlt2rRJ/fr107Jlywqs5/Dhw4qNjVXx4sXVvHlzeXl5SZJ%2B/vlnPf300/rmm2%2BUmZmpJk2aKDQ0VOnp6Vq6dKmeeeYZbdu2zeZcJ06c0F/%2B8hfNmDFDhw4dUp06ddS8eXNZLBatXr1azzzzjL7%2B%2BusCa9m5c6f69u2rhIQE1alTR9WrV9eJEye0ZMkSRUdHF3qOAaDQLACAe15QUJAlKCjIsmHDhpvul5SUZN13z5491vH169dbgoKCLE2bNrX89NNPNsf8/PPPlkcffdQSFBRkWbhwoc22iRMnWoKCgiwdOnSwnD171jqenZ1teffddy1BQUGWJk2aWNLT022Oa9u2rSUoKMjSrl07yyeffHJDnb169bIEBQVZ/va3v1lycnJszjt16lRLUFCQpUuXLjbH9O3b1xIUFGTp0aOH5cyZM9bxnJwcy4wZMyxBQUGW4OBgy%2BHDh63bjh07Zp2PNm3aWObOnWvJzc21bv/mm2%2Bs2/fv33%2BzqQWA20aiDQBFyPr16yVJvr6%2Bqlu3rnX8k08%2BkSS9%2Beabatasmc0xTZs21YgRIyRJixcvttkWEBCgJ598UkOGDFH58uWt4x4eHoqNjZW7u7suXbqkX3/91bCe3NxcvfLKKzeM79%2B/X5LUo0cPubv/96nIw8NDQ4cO1dChQ/X888/r2rVrkqTdu3drx44dkqRJkyYpICDAeoy7u7uGDBmi%2BvXr69q1a/rnP/9pWEutWrX08ssv21z6sFu3bvLz87PeBwA4Emu0AaCI%2BP777/Xpp59KkgYOHKhixfL%2BiT9z5owSEhIkSY8//rjhse3bt5ebm5tOnjyp5ORkVa9eXZL08ssvF3h/JUuWVPny5ZWamqrU1FTDfZo3b27TSOcrU6aMzp49q7Vr1%2Br111%2B32ebu7q7BgwfbjP373/%2BWlHf1lRo1ahT4GBISEm5YcpLPaA26m5ubqlSpovPnzystLc3wOAC4UzTaAHAf%2BfTTT7V8%2BXKbsWvXrun333/XsWPHJOWlxAMHDrRuP3jwoPX7t956q8BzFytWTFlZWfr999%2BtjXb%2B%2Bb///nvt3btXKSkpunjxoix/XBn20qVLkvKSayOBgYGG4/369dOUKVM0e/Zs/fvf/1aXLl3UokWLAj%2BY59ChQ5LyUumCPPzww5Ly1oUbqVq1quG4p6enJCkrK6vAcwPAnaDRBoD7yJ49e24Y8/DwULly5RQREaHevXurdevWNtsvXLhg/X7jxo23vI/85lmSEhMTNXjwYB0/fvyO6vX19TUcz19O8umnn8pkMslkMkmS/P391bFjR/Xr109VqlS5oaYyZcoUeF8%2BPj6S8hrmjIwM6xsv8/EBPgDuNhptALiP3OwDawqSvya5ePHiMplMhf549oyMDL322ms6efKkqlWrpqioKLVo0ULlypVT8eLFJf33Mn63um8jr7zyiiIjIxUfH6/vv/9eP/zwg1JTU/WPf/xDcXFxmjRpkjp16lTox2m57vPXjJarAMDdRqMNAEVc/iX/srKylJaWZn3z361s2bJFJ0%2BelJubm%2BbOnauHHnrohn0yMjLsqq1MmTLq0aOHevTooZycHP3www%2BaNWuWdu3apbffflvNmzdXuXLlrMn4/16y8Hr527y8vEivAdwTeMkPAEVcUFCQ9fvffvut0Mf9/vvvkvLWNhs12UePHtW5c%2Bfsri%2Bfh4eHHnvsMS1ZskSBgYG6fPmydalM/trs69eb/6/8bTdbxw0AdxONNgAUcf7%2B/qpfv74kaenSpYb7JCcnq1u3btbLAEr/XfNc0Ee5z5o1y/r9/37Qzc3s3r1bo0aN0oIFCwy3lyhRQhUqVJD038Q8f935wYMHDZvt3Nxc66UNH3vssULXAgDORKMNAH8CgwYNkiStXr1aixYtslnPfOTIEQ0dOlSJiYk6deqUdbxOnTqSpNOnTys%2BPt46fvXqVU2cOFEmk8n6Ee8FXenDiIeHh5YtW6bp06dr8%2BbNN2zfsGGD9u/fr%2BLFi6tx48aSpHr16ik8PFySNGrUKJ0/f966f3Z2tj788EMlJSXJx8dHkZGRha4FAJyJNdoA8CfwxBNP6JVXXtHcuXP1/vvva8mSJXr44YeVlpam/fv3KycnR/Xq1dPw4cOtx4SGhio8PFz/%2Bc9/FB0drYYNG8rT01N79%2B5VsWLFtHDhQq1Zs0a7du3SkiVLdODAAb322mtq2rTpTWsJDg7WSy%2B9pAULFujVV19V5cqV9dBDD8nd3V3Hjx%2B3Lll5%2B%2B235e/vbz3uvffeU79%2B/WQymdSuXTsFBQXJ09NTv/32m9LS0uTl5aUpU6YUeElBALjbaLQB4E9i2LBhevTRR/XZZ5/p119/1bZt2%2BTp6ang4GB17txZffv2veFNhNOmTdPkyZO1ceNG7d27VwEBAerQoYMGDRqkqlWrqmLFitq3b5927typ3377rdBXNHnzzTfVtGlTrVixQnv37tWuXbuUnZ0tf39/denSRc8995w1Lc8XGBior7/%2BWosWLdKGDRv022%2B/KTs7W4GBgXriiSc0YMAAw7XkAOAqbpbr/34IAAAAwCFYow0AAAA4AY02AAAA4AQ02gAAAIAT0GgDAADgvvLvf/9bjz76qGJjY2%2B6X25urqZOnaqIiAg1bdpUAwYM0LFjx6zbzWazYmJi9Oijjyo8PFxvv/223Z94ez0abQAAANw35s2bp4kTJxbqKkOff/65vv32W82dO1ebNm1StWrVNHjwYOtnCYwePVpXr17V6tWrtWzZMiUlJWny5MkOq5VGGwAAAPcNT09Pff3114VqtOPi4tS/f3/VqFFD3t7eio2NVVJSknbv3q2zZ88qPj5esbGx8vPzU2BgoKKiorRs2TJlZWU5pFauow0AAIC7JiUlRampqTZj/v7%2BCggIKNTxL7zwQqH2y8jI0KFDh1SvXj3rmLe3tx566CGZTCZdunRJHh4eql27tnV7/fr1deXKFR0%2BfNhm/E7RaAP5CvlBG/eN6tWl336TatWSkpNdXY3jTJrk6gocy9dXGjhQmj9funDB1dU4znUfkV4klCsnDR8uTZ4spaW5uhrHWbnS1RU41oMPSv/6l9Spk3T8uKurcZx9%2B1x33054boybPl0zZ860GRsyZIiio6Mdej8XLlyQxWKRr6%2Bvzbivr6/S0tJUtmxZeXt723zQVv6%2BaQ76/5xGGyiqypaVPDzybnHv8vSU3N3zbnHvKlky779TyZJFq9Euanx88v7d8/FxdSW4id69e6tdu3Y2Y/7%2B/k67v5t9NqOzP7eRRhsAAADG3B3/dr6AgIBCLxOxR9myZeXu7i6z2WwzbjabVb58efn5%2BSk9PV05OTny8PCwbpOk8uXLO6QG3gwJAACAIsfT01O1atVSQkKCdezixYs6evSoGjRooLp168pisSgxMdG63WQyqUyZMqpevbpDaqDRBgAAgDF3d8d/OdGZM2fUsWNH67Wy%2B/TpoyVLligpKUnp6emaPHmy6tatq5CQEPn5%2BalDhw6aNm2azp8/r9OnT2vWrFnq2bOnihVzzKIPlo4AAADgvhESEiJJys7OliTFx8dLykujs7KylJycrGvXrkmSIiMjlZqaqueff16XL19WWFiYzRsxx48frzFjxigiIkLFixdXly5dbvkhOLeDRhsAAADGnJxA3wmTyVTgtgcffFAHDhyw/uzm5qahQ4dq6NChhvv7%2BPjoo48%2BcniN%2BWi0AQAAYOwebLTvJ8weAAAA4AQk2gAAADBGom0XZg8AAABwAhJtAAAAGCPRtguNNgAAAIzRaNuF2QMAAACcgEQbAAAAxki07cLsAQAAAE5Aog0AAABjJNp2odEGAACAMRptuzB7AAAAgBOQaAMAAMAYibZdmD0AAADACUi0AQAAYIxE2y402gAAADBGo20XZg8AAABwAhJtAAAAGCPRtguNNgAAAIzRaNuF2QMAAACcgEQbAAAAxki07cLsAQAAAE5Aog0AAABjJNp2odEGAACAMRptuzB7AAAAgBOQaAMAAMAYibZdmD0AAADACUi0AQAAYIxE2y402gAAADBGo20XZg8AAABwAhJtAAAAGCPRtguzBwAAADgBiTYAAACMkWjbhUYbAAAAxmi07cLsAQAAAE5Aog0AAABjJNp2YfYAAAAAJyDRBgAAgDESbbvQaAMAAMAYjbZdmD0AAADACUi0AQAAYIxE2y7MnoscP35ctWvXVlJSkqtLuatCQkK0detWV5cBAADgdCTauKtMJpOrSwAAAIV1DybaJ06c0Lhx47R7926VKlVKnTt31rBhw%2BT%2BP7W%2B9NJL2r59u81Ydna2Bg8erCFDhuj555/Xzp07bY6rXr26Vq1a5bBaabQBAABg7B5stKOjo1W/fn3Fx8fr3LlzevXVV1WhQgW9%2BOKLNvstWLDA5ueLFy%2Bqc%2BfOevzxx61jEyZMUI8ePZxW6703e38yJpNJXbp0UWhoqPr166czZ85IkrZt26bevXsrNDRUjz32mGbNmmVz3GeffaZOnTqpYcOGevLJJxUfH2/d9vzzz%2BvDDz9U165d9corr9yyhqtXr%2BrNN99UixYtFBoaqsjISO3du9e6fe3aterWrZsaNWqkiIgIxcXFWbe99dZbevvtt/X888%2BrS5cuiomJ0ciRI23Ov2jRInXq1EmSVLt2bW3ZssVa55w5c/TXv/5VjRs31mOPPaaVK1daj9uzZ486dOighg0batCgQfrss8/Url27QtUMAACKHpPJpMTERA0fPlw%2BPj6qVq2a%2Bvfvb9ObFGTatGl6/PHHVbt27btQaR4SbRdbunSp5s6dq9KlS2vw4MEaPXq0xo8fr6ioKI0ZM0Zdu3bVoUOHNHDgQFWtWlVdu3bV%2BvXrNXPmTM2fP1916tTRd999p5iYGK1fv14PPPCAJGnNmjWaPn26QkJCblnD4sWLdfbsWW3YsEElSpTQvHnzNHr0aH3zzTcymUx6%2B%2B23NWPGDLVo0UK7du3Syy%2B/rFq1aqlx48aSpI0bN%2Br9999XmzZttG7dOo0dO1Y5OTny8PCQJG3YsEGdO3c2vO/PP/9c7733nt577z3NmTNH48ePV%2BfOnWWxWDRo0CA99dRTiomJ0U8//aRRo0bJ09PzljUXRkpKilJTU23G/KtXV0DZsoU6/r5Qp47tbVEREODqChzLz8/2tqjw8nJ1BY7l7297W1TUrevqChyrenXbW9jPCYm24XOwv78CCvHve0JCgipXrixfX1/rWP369ZWcnKz09HR5e3sbHnfkyBGtWLHCJpiU8sLE%2BfPn69SpU2rYsKHGjx%2BvqlWr3sGjMkaj7WLPPvustTnu37%2B/YmJitHr1atWqVUvdu3eXlJcCR0ZGauXKleratau%2B/vpr9ezZU8HBwZKkJ554Qk2aNNHq1autCXaDBg3UoEGDQtVw8eJFFS9eXF5eXipWrJiioqIUFRUlSVq%2BfLnatGmj8PBwSdIjjzyiTp06aeXKldZGu3Llymrbtq0kqU2bNsrMzNQvv/yiZs2a6dy5c9q5c6fGjx9veN/5ib0kderUSTNnzlRKSopOnz6t8%2BfP67XXXpOXl5dat26t5s2ba9euXbesuTDi4uI0c%2BZMm7Ehr7%2Bu6NdfL/Q57htffOHqClAYXbu6ugIURmSkqytwrOhoV1fgHJMnu7oC3IThc/CQIYouxO%2Bj2WxWmTJlbMbym%2B60tLQCG%2B25c%2Bfq6aeflt91oUaNGjVUsmRJTZ48Wbm5uZo4caIGDhyo1atXq0SJErf7sAzRaLtYjRo1rN9XrVpVWVlZOnLkiEwmk00abbFYVP2PV%2BhHjx7V1q1btXjxYpvtNWvWtP5cuXLlQtfQt29fDRgwQK1bt9Zjjz2m9u3bKyIiwnpf27Ztu6GW/Mb7f%2B8rvymOj49Xs2bN9N1336lWrVo2j/N6Dz74oM2xkpSRkaHU1FR5e3vbvGINCQmxNto3q7kwevfubV2Gks%2B/a1fpujm979Wpk9dk9%2B0rJSa6uhrHKWovhvz88prsb7%2BVzp93dTWOc/GiqytwLH//vCb7n/%2BU/ieJu69t3uzqChyrevW8Jnv4cCk52dXVOM6yZa67byck2obPwbfx1yKLxXJb92c2m7Vy5Ur961//shkfO3aszc/jx49XWFiYfvnlF7Vo0eK27qMgNNoudv07XfN/cbKzs9W6dWvNmTPH8BgvLy8NGzZML730UoHnzV%2B2URgPPvig1q5dq59%2B%2Bknfffed/u///k%2BrVq3S9OnT5eXlpT59%2Bmj06NGFvq9OnTpp0qRJGjVqlNavX1/gshFJN7xDOF9ubq6KFbP99XRzcytUzYUREBBw45%2BoitI/ytdLTJT%2BeIFSJKSkuLoC5zh/vmg9tqL0ouF6qanSyZOursJx9u93dQXOkZxcdB/b3eaERtvwObiQ/Pz8ZDabbcbMZrPc3Nxs0urrbdy4UdWrV1eVKlVueu78gC///XKOwJshXSz5uubu2LFj8vLyUv369XXw4EGbV2ypqam6du2apLzk%2B8CBAzbnOXny5G2/wst3%2BfJl5eTk6NFHH9U777yjr776SuvWrVNaWprhfZ0%2BfVo5OTkFnq9169Y6f/68du7cqR9//PGmjXZBypcvrwsXLig9Pd06dv2lAW9WMwAAKJqCg4N16tQpnb/uxbzJZFLNmjVVunRpw2M2btyoli1b2oylp6dr7NixNk31%2BfPndf78%2BVs25LeDRtvFPv/8c6WmpurSpUtavHix2rdvryeffFJms1mzZ89WRkaGjh07ppdeesm6VKR3795au3atNm/erOzsbP3444/q0qWLdu/efUc1DB06VB988IHS09OVm5urXbt2qWzZsvL19VXPnj21c%2BdOLVu2TNeuXdP%2B/fvVq1cvrVu3rsDzeXl5qU2bNpoyZYqCgoLu6E0FwcHBKlmypObNm6dr165py5Yt%2BvnnnwtVMwAAcBB3d8d/2aFevXoKCQnRlClTlJ6erqSkJC1cuFB9%2BvSRJHXs2FE7duywOWb//v02S1WlvPR69%2B7dmjhxosxmsy5cuKBx48apdu3aCg0NtavG69Fou1hkZKT69eunVq1aqUSJEho1apTKlSun2bNna%2BPGjWratKmee%2B45tW3b1rpUpGXLlnrzzTc1fvx4NW7cWOPHj9fYsWPVqFGjO6phwoQJOnLkiFq1aqWmTZvqs88%2B06xZs%2BTu7q4aNWpoypQpmj9/vh555BFFR0drwIABt0yp83/Rn3zyyTuqqXTp0po2bZpWrFihsLAwrVy5Uv3797cuH7lZzQAAoOiaPn26UlJS1LJlS73wwgvq3r27%2BvbtKylvpcCVK1ds9k9NTVWFChVuOM%2BsWbNksVjUoUMHtWnTRllZWZo7d65Dewk3y52uNwCcLH95Sv4a8OnTp%2BvHH3/UF866isZ1a8CLhNBQaedOqXHjorVGe9IkV1fgWAEBUr9%2BeW/EZY32veuBB/Ku0DFjRtFao33dZxcUCXXr5r1x8Omni9Ya7X37XHffHTo4/pw3%2Bat4UUP8h3uSxWJRx44dNXXqVOuVWFasWKHWrVu7ujQAAP487rGlI/cbrjpSxO3Zs0fPPvtsgdsfeOCBm663dhU3NzdNnTpV7777rpo1ayYfHx916NDhho9XBQAAuFfRaBdxDRo0sLlax/0kODhYX375pavLAADgz%2BtPlkA7GrMHAAAAOAGJNgAAAIyRaNuFRhsAAADGaLTtwuwBAAAATkCiDQAAAGMk2nah0QYAAIAxGm27MHsAAACAE5BoAwAAwBiJtl2YPQAAAMAJSLQBAABgjETbLjTaAAAAMEajbRdmDwAAAHACEm0AAAAYI9G2C7MHAAAAOAGJNgAAAIyRaNuFRhsAAADGaLTtwuwBAAAATkCiDQAAAGMk2nZh9gAAAAAnINEGAACAMRJtu9BoAwAAwBiNtl2YPQAAAMAJSLQBAABgjETbLsweAAAA4AQk2gAAADBGom0XGm0AAAAYo9G2C7MHAAAAOAGJNgAAAIyRaNuF2QMAAACcgEQbAAAAxki07UKjDQAAAGM02nZh9gAAAAAnINEGAACAMRJtuzB7AAAAgBOQaAMAAMAYibZdaLQBAABgjEbbLsweAAAA4AQk2gAAADBGom0XZg8AAABwAhJtAAAAGLsHE%2B0TJ05o3Lhx2r17t0qVKqXOnTtr2LBhcv%2BfWmfMmKHZs2erWDHbdnfTpk2qUKGCMjMz9e6772rz5s3KzMxUWFiYxo0bp3Llyjms1ntv9gAAAHBvcHd3/JedoqOjFRgYqPj4eC1cuFDx8fFavHix4b7dunWTyWSy%2BapQoYIkaerUqUpISFBcXJzWrVsni8WikSNH2l3f9Wi0AQAAcF8wmUxKTEzU8OHD5ePjo2rVqql///6Ki4u7rfNkZ2fr66%2B/VlRUlCpVqqSyZcsqJiZGmzdv1pkzZxxWL0tHAAAAYMwJS0dSUlKUmppqM%2Bbv76%2BAgIBbHpuQkKDKlSvL19fXOla/fn0lJycrPT1d3t7eNvsfOHBAkZGROnjwoCpVqqSRI0cqPDxcR48e1aVLl1S/fn3rvjVq1JCXl5cSEhIUGBho56PMQ6MN5Js0ydUVOFb%2BP1ivvy6lpLi2FkcaMcLVFThWaKjUr5/08cfSrl2ursZxdu50dQWOVbJk3u3jj0tXr7q2Fkf6/XdXV%2BBY1arl3QYFSSVKuLQUFCwuLk4zZ860GRsyZIiio6NveazZbFaZMmVsxvKb7rS0NJtGu2LFiqpSpYqGDRumgIAAxcXFadCgQVq1apXMZrMk3XCuMmXKKC0t7Y4elxEabQAAABhzQqLdu3dvtWvXzmbM39%2B/0MdbLJZC7derVy/16tXL%2BnP//v21Zs0arVq1Sq1atbqtc90pGm0AAAAYc0KjHRAQUKhlIkb8/PysaXQ%2Bs9ksNzc3%2Bfn53fL4ypUrKyUlxbqv2WxW6dKlrdsvXLig8uXL31FtRngzJAAAAO4LwcHBOnXqlM6fP28dM5lMqlmzpk3DLEmzZ8/Wtm3bbMaSkpJUpUoVValSRb6%2BvkpISLBuO3jwoK5du6bg4GCH1UujDQAAAGP32OX96tWrp5CQEE2ZMkXp6elKSkrSwoUL1adPH0lSx44dtWPHDkl5afW4ceN0%2BPBhZWZmasGCBTp69Kj%2B8pe/yMPDQ88884zmzJmjU6dOKS0tTR999JEef/xx6%2BX/HIGlIwAAALhvTJ8%2BXaNHj1bLli3l7e2tyMhI9e3bV5KUnJysK1euSJKGDRsmKW9tttlsVs2aNbVo0SJVrFhRkjR06FBdvnxZ3bp1U3Z2ttq2bauxY8c6tFYabQAAABi7Bz8ZsmLFipo3b57htgMHDli/9/T01KhRozRq1CjDfUuUKKExY8ZozJgxTqlTotEGAABAQe7BRvt%2BwuwBAAAATkCiDQAAAGMk2nah0QYAAIAxGm27MHsAAACAE5BoAwAAwBiJtl2YPQAAAMAJSLQBAABgjETbLjTaAAAAMEajbRdmDwAAAHACEm0AAAAYI9G2C7MHAAAAOAGJNgAAAIyRaNuFRhsAAADGaLTtwuwBAAAATkCiDQAAAGMk2nZh9gAAAAAnINEGAACAMRJtu9BoAwAAwBiNtl2YPQAAAMAJSLQBAABgjETbLsweAAAA4AQk2gAAADBGom0XGm0AAAAYo9G2C7MHAAAAOAGJNgAAAIyRaNuF2QMAAACcgEQbAAAAxki07UKjDQAAAGM02nZh9gAAAAAnINEGAACAMRJtuzB7AAAAgBOQaAMAAMAYibZdaLQBAABgjEbbLsweAAAA4AQk2gAAADBGom0XZg8AAABwAhJtAAAAGCPRtguNNgAAAIzRaNuF2QMAAACcgEQbAAAAxki07cLs3Sdmz56t5557rsDt77zzjkaMGHEXK7p9t3oMAAAARQmJ9n0iKipKUVFRBW6fOHGi9fucnBwtWbJEL7744t0ordBu9RgAAMA95h5MtE%2BcOKFx48Zp9%2B7dKlWqlDp37qxhw4bJ3aDWL7/8UosWLVJKSoqqVq2q6OhotW/fXpL01ltvadWqVfLw8LDu7%2BnpqR07djis1ntv9mC3ffv2af78%2Ba4uA/1QnhcAACAASURBVAAA3O/c3R3/Zafo6GgFBgYqPj5eCxcuVHx8vBYvXnzDfuvWrdOUKVP03nvv6eeff9Zzzz2nmJgYHTt2zLrPa6%2B9JpPJZP1yZJMt0Wi7xNy5c9W2bVs1bNhQHTp00MqVK/XTTz%2Bpfv362rRpkyIiItSgQQMNGTJEly9fliTNmDFDzzzzjCTpp59%2BUmhoqBYtWqTGjRtr165deuuttxQbG6s9e/YoMjJSZ8%2BeVUhIiH788cdb1rN582Z17dpVoaGhCg8P14cffqjc3FxJktls1vDhwxUeHq7Q0FC99tprOnPmjCTp%2BPHjql27tr744gs1a9ZMn376qWrXrq0TJ05Yz52dna2wsDCtWbPmhsfQpEkTbdmyRR07dlSjRo00YMAAXbhwQVJeKj9%2B/HiFhoaqTZs2WrNmjZ544gktX778ljUDAICiyWQyKTExUcOHD5ePj4%2BqVaum/v37Ky4u7oZ9MzIy9MYbb6hJkyYqXry4evXqpdKlS%2BvXX3%2B9a/WydOQu27lzp5YsWaKlS5eqUqVK2rp1q6Kjo/Xuu%2B8qOztbK1as0PLly5WRkaEXX3xRH3/8sUaNGnXDebKysnTkyBH98MMP8vT0tP6CNWjQQBMmTNCUKVO0devWW9aTlZWl2NhYzZo1Sy1atNCRI0c0cOBAhYaGqn379nrrrbdUrFgxrVmzRh4eHhozZoxGjhypBQsWWM/x888/67vvvlPp0qX17bffKj4%2BXv369ZMkbd%2B%2BXZmZmWrbtq0OHz5sc99Xr17VmjVrFBcXp6tXr6pnz55aunSpXn75Zf3jH//Qv/71Ly1dulSBgYEaNWqUUlJSClVzYaSkpCg1NdVmzN/DQwHlyxfq%2BPuCn5/tbVERGurqChyrTh3b26KiZElXV%2BBYnp62t0VFtWqursCxHnjA9hb2c8LSEcPnYH9/BQQE3PLYhIQEVa5cWb6%2Bvtax%2BvXrKzk5Wenp6fL29raOd%2BvWzebYixcv6vLlywoMDLSO/fjjj9q4caOOHDmiGjVqaOzYsQoODr7Th3YDGu277NKlS3J3d5eXl5fc3NwUHh6uX375Rdu3b5ckDRgwQL6%2BvvL19VVkZKQ%2B%2B%2ByzAhvtvn37ysvLy656MjMzlZGRoVKlSsnNzU3VqlXT%2BvXr5e7urnPnzmnTpk1au3at9Rd6%2BPDhatOmjc3/IN27d7f%2BYnfs2NGm0Y6Pj1ebNm1UqlSpG%2B47JydHAwcOtD7eJk2aWJvx77//Xl26dFGtWrUkScOGDdOGDRtuWXNhxcXFaebMmTZjQwYPVvQfdRcpXbu6ugLHKor/jSTpiy9cXQEKo3p1V1fgWO%2B/7%2BoKnCM62tUVFB1OaLQNn4OHDFF0If67mc1mlSlTxmYsv0dJS0uzabSvZ7FY9M4776hhw4Zq1qyZJKlKlSpyd3fX66%2B/rtKlS2vmzJl66aWXtG7dOpUrV%2B5OHtoNaLTvshYtWqhevXpq166dWrRooVatWtm84nr44Yet3z/wwAPWFNfIAw54xe7t7a3BgwfrueeeU4MGDdSyZUv16NFDlSpVsq5h6t69u80xHh4eOnXqlPz%2BSEqvr6NTp06aPXu2zGazfH19FR8fr3feeafA%2B3/wwQet35csWVIZGRmSpNTUVLVu3dq6rXr16tb/eW5Wc2H17t1b7dq1sxnzX7dOMljjdd/y88trsr/9Vjp/3tXVOM7HH7u6AseqUyevye7bV0pMdHU1jlPUXjh4euY12cnJUmamq6txnKL0b56Ul2RHR0szZkgnT7q6GscpYi%2BIDJ%2BD/f0LfbzFYrmt%2B8vKytJbb72lQ4cOacmSJdbxwYMH2%2Bz317/%2BVatXr1Z8fLx69ep1W/dREBrtu6xEiRKaM2eOEhMTtXHjRn3%2B%2BedasGCB3nzzTUl5Ke/13NzcCjxXsWKO%2Bc83ZMgQ9erVS/Hx8YqPj9f8%2BfO1ePFia1q%2BZcsWw1d2x48flySbd%2BvWqFFDNWrU0KZNm1SjRg2lp6erVatWBd53QSl0bm6uihcvXuC%2BBdXcoEGDQj3mgICAG/9EtXatdJMXNvet8%2BeL1uPatcvVFThHYmLRemxXr7q6AufIzCxaj%2B33311dgXOcPFl0H9vd5oRE2/A5uJD8/PxkNpttxsxms9zc3KwB4PUyMjIUFRWlq1ev6vPPP79pUu3h4aFKlSrdNOS8XbwZ8i7LyspSenq66tSpo8GDB2vFihVyc3OzNthHjx617nvixAmbdUTOYjabFRgYqGeffVYLFy5Ux44dtXLlSlWuXFnu7u46cOCATf35b4YsSIcOHbRp0yatX79eERER8ryDNY3ly5e3eVPlkSNHdPHixVvWDAAAiq7g4GCdOnVK56/7S63JZFLNmjVVunRpm30tFotiY2NVrFgxLVq0yKbJtlgsev/995V43V8Sr127pqNHj6pKlSoOq5dG%2By5bsGCBXn75ZZ0%2BfVqSlJSUpAsXLujUqVOSpEWLFunSpUs6ffq04uLi1LZt29u%2BDy8vL126dElnzpyxLsUoyK5du9SpUyft2bNHFotF586dU3JysqpWrSofHx917txZkydP1unTp5WRkaGPPvpIL7300k3/bNOpUyf99NNP2rRpkzp37nzb9UtSWFiYvv32WyUnJ%2BvSpUuaOnWqdZ33zWoGAAAOdI9d3q9evXoKCQnRlClTlJ6erqSkJC1cuFB9%2BvSRlPdesfxL9H377bc6dOiQPv744xtCPzc3Nx0/flzjxo3TmTNndPnyZU2ePFnFixcv9IUVCoOlI3fZiy%2B%2BqJMnT6p79%2B7KyMhQpUqVNHz4cGuTGBERoe7duyslJUWtW7fW0KFDb/s%2BmjdvrgcffFDt27fXBx98cNNmN/%2BSfTExMTp79qzKli2rTp066dlnn5UkjR49WhMmTNCTTz4pd3d3NWrUSLNnz77pkpYaNWooICBAZ86cUcuWLW%2B7fkkaOHCgkpKS1K1bN1WqVEkjR47Uzz//LHd391vWDAAAHOQe/MCa6dOna/To0WrZsqW8vb0VGRmpvn37SpKSk5N15coVSdKyZct04sQJ65sf83Xr1k0TJ07Uu%2B%2B%2Bqw8%2B%2BEA9evRQenq6GjRooMWLFxtewOFOuVlud0U5nOKnn37SCy%2B8oD179tzRUoui6Nq1aypRooSkvCUrjRo10vz589WiRQvn3OGHHzrnvK4SEJB3hY7Fi4vWGu0RI1xdgWOFhko7d0qNGxetNdo7d7q6AscqWTLvjauJiUVrjfakSa6uwLGqVct74%2BDIkUVrjfaXX7ruvrdtc/w5nfU8fg%2B6916mAJJWrFihtm3bKjk5WVlZWfr000/l4%2BOjkJAQV5cGAMCfxz22dOR%2Bw9KRIm7QoEE3/eCaCRMm3HD5vnvBU089paSkJL3wwgtKT09XzZo1NWvWrAKvjwkAAHCvodG%2BR4SFhdlc3cNR5syZ4/Bz3g3u7u4aNmyYhg0b5upSAAD48/qTJdCORqMNAAAAYzTadmH2AAAAACcg0QYAAIAxEm27MHsAAACAE5BoAwAAwBiJtl1otAEAAGCMRtsuzB4AAADgBCTaAAAAMEaibRdmDwAAAHACEm0AAAAYI9G2C402AAAAjNFo24XZAwAAAJyARBsAAADGSLTtwuwBAAAATkCiDQAAAGMk2nah0QYAAIAxGm27MHsAAACAE5BoAwAAwBiJtl2YPQAAAMAJSLQBAABgjETbLjTaAAAAMEajbRdmDwAAAHACEm0AAAAYI9G2C7MHAAAAOAGJNgAAAIyRaNuFRhsAAADGaLTtwuwBAAAATkCiDQAAAGMk2nZh9gAAAAAnINEGAACAMRJtu9BoAwAAwBiNtl2YPQAAAMAJSLQBAABgjETbLjTaAAAAMEajbRdmDwAAAHACEm0AAAAYI9G2C7MHAAAAOAGJNgAAAIyRaNuFRhsAAADGaLTtwuwBAADgvnHixAm98sorCgsLU9u2bfXhhx8qNzfXcN8lS5aoQ4cOaty4sfr06aO9e/dat2VmZur//u//1KpVK4WFhWno0KFKS0tzaK002gAAADDm7u74LztFR0crMDBQ8fHxWrhwoeLj47V48eIb9vvuu%2B80Y8YMTZo0ST/88IPatm2rQYMG6cqVK5KkqVOnKiEhQXFxcVq3bp0sFotGjhxpd33Xo9EGAADAfcFkMikxMVHDhw%2BXj4%2BPqlWrpv79%2BysuLu6GfePi4tSjRw81bNhQXl5eGjhwoCRp06ZNys7O1tdff62oqChVqlRJZcuWVUxMjDZv3qwzZ844rF7WaAMAAMCYE9Zop6SkKDU11WbM399fAQEBtzw2ISFBlStXlq%2Bvr3Wsfv36Sk5OVnp6ury9vW327dy5s/Vnd3d31a1bVyaTSXXr1tWlS5dUv3596/YaNWrIy8tLCQkJCgwMtOchWtFoA/nOn3d1BY7l5ZV3e/Fi0XpsO3e6ugLHKlky7/aLL6SrV11biyM1buzqChwrNDTvd69vX2nXLldX4zg9e7q6AsfKyfnvbXa2a2spIixyc/g54%2BLiNHPmTJuxIUOGKDo6%2BpbHms1mlSlTxmYsv%2BlOS0uzabTNZrNNQ56/b1pamsxmsyTdcK4yZco4dJ02jTYAAADumt69e6tdu3Y2Y/7%2B/oU%2B3mKxOGzf2znXnaDRBgAAgKECLuZhl4CAgEItEzHi5%2BdnTaPzmc1mubm5yc/Pz2a8XLlyhvvWqlXLuq/ZbFbp0qWt2y9cuKDy5cvfUW1GeDMkAAAA7gvBwcE6deqUzl%2B3JNJkMqlmzZo2DXP%2BvgkJCdafc3JytG/fPjVs2FBVqlSRr6%2BvzfaDBw/q2rVrCg4Odli9NNoAAAAwlJvr%2BC971KtXTyEhIZoyZYrS09OVlJSkhQsXqk%2BfPpKkjh07aseOHZKkPn36aMWKFfr111919epVffLJJypRooTatGkjDw8PPfPMM5ozZ45OnTqltLQ0ffTRR3r88cdVoUIFe6fNiqUjAAAAMOSMpSP2mj59ukaPHq2WLVvK29tbkZGR6tu3ryQpOTnZep3sVq1a6Y033lBMTIzOnTunkJAQzZ07V15/XCxg6NChunz5srp166bs7Gy1bdtWY8eOdWitNNoAAAC4b1SsWFHz5s0z3HbgwAGbn/v27Wttwv9XiRIlNGbMGI0ZM8bhNeaj0QYAAIChezHRvp%2BwRhsAAABwAhJtAAAAGCLRtg%2BNNgAAAAzRaNuHpSMAAACAE5BoAwAAwBCJtn1ItAEAAAAnINEGAACAIRJt%2B9BoAwAAwBCNtn1YOgIAAAA4AYk2AAAADJFo24dEGwAAAHACEm0AAAAYItG2D402AAAADNFo24elIwAAAIATkGgDAADAEIm2fUi0AQAAACcg0QYAAIAhEm370GgDAADAEI22fVg6AgAAADgBiTYAAAAMkWjbh0QbAAAAcAISbQAAABgi0bYPjTYAAAAM0Wjbh6UjAAAAgBOQaAMAAMAQibZ9SLQBAAAAJyDRBgAAgCESbfvQaAMAAMAQjbZ9WDoCAAAAOAGJNgAAAAyRaNuHRhsAAACGaLTtw9IRAAAAwAlItAEAAGCIRNs%2BJNoAAACAE5BoAwAAwBCJtn1otAEAAGCIRts%2BLB0BAAAAnIBEGwAAAIZItO1Dog0AAAA4AYk2AAAADJFo24dE%2Bx514sQJhYSEKDk52dWlOMyKFSvUrl07V5cBAAAKKTfX8V9/JjTa96jKlSvLZDKpevXqri7FYbp3767vvvvO1WUAAIAiymw2KyYmRo8%2B%2BqjCw8P19ttvKyMjo8D9169fr6eeekqhoaHq0KGDli5dat02Y8YM1a1bVyEhITZfZ8%2BeLXQ9LB0BAACAofstgR49erSuXbum1atXKysrS6%2B//romT56sd95554Z99%2BzZo%2BHDh%2Bujjz5SmzZttHXrVg0ePFgPP/ywHnnkEUlSt27d9Le//e2O6yHRdoHWrVvbJLt9%2B/ZVr169rD9v27ZNYWFhql27tpKSkiRJ7dq101dffaVXXnlFoaGhat%2B%2Bvf7zn/9Yj0lMTFS/fv30yCOPqHnz5po4caKysrIKVc/u3bv1zDPPKDQ0VGFhYTav/jIyMjR%2B/Hi1adNGjRo10vPPP69Dhw5Zj61du7YWLVqk8PBwzZw5U8HBwfr5559tzv/UU09p7ty5Wr58uVq2bClJOn78uGrXrq2tW7eqe/fuatSokSIjI3X8%2BHHrcbNnz1bTpk3VokULLVq0SC%2B%2B%2BKJmzJhxy5oBAMCfz9mzZxUfH6/Y2Fj5%2BfkpMDBQUVFRWrZsmWFPZDab9eqrr6p9%2B/YqVqyYWrduraCgIO3YscNhNZFou0BYWJh27dqldu3aKTMzU0ePHpWHh4euXr2qkiVLaseOHWrevLn%2B3//7fzbH/f3vf9ekSZNUp04djR07Vu%2B9957Wrl2rq1evauDAgXr%2B%2Bec1b948nTlzRlFRUfr73/%2BuQYMG3bKeESNGaODAgXr66ad19uxZRUVFKS4uTv369dPkyZO1b98%2BxcXFydfXV9OnT9eQIUP0r3/9S25ubpKk%2BPh4rVixQuXLl5fJZFJ8fLyaNWsmSTp27JgOHDigWbNmafv27Tfc95IlS/Tpp5/K09NTL7zwgubPn6%2BxY8dqw4YNmjNnjhYsWKB69erp/fffV0JCgho3bnzLmgsjJSVFqampNmP%2Bnp4KKF%2B%2BUMffF/z9bW%2BLipIlXV2BY3l62t4WFaGhrq7AserUsb0tKorQ8kRJUuXKtrewmzMSbcPnYH9/BQQE2HXe/fv3y8PDQ7Vr17aO1a9fX1euXNHhw4dtxiWpVatWatWqlfXn7OxspaamKjAw0Dp24MABRUZG6uDBg6pUqZJGjhyp8PDwQtdEo%2B0CzZs31/LlyyXlJbO1atVSsWLFtHv3bjVv3lw7duxQp06dbmi027ZtqwYNGkiSOnTooBUrVig3N1ebN2%2BWxWLRq6%2B%2BKkmqUqWKBgwYoE8//bRQjfbFixdVqlQpubu7KyAgQEuXLpW7u7tyc3O1fPlyTZs2zfpLFxMTo88%2B%2B0x79uxRw4YNJUmdOnVShQoVrN/PmDFDo0aNkiRt2LBBDRo0UJUqVQwb7T59%2BljPHR4eLpPJJEn6/vvvFR4ebv3TzYgRI7Ry5cpb1lxYcXFxmjlzps3YkMGDFR0dXehz3DciI11dAQqjqDU8O3e6ugLn%2BOILV1eAwnj9dVdXUGQ4o9E2fA4eMsTu52Cz2Sxvb29rEChJvr6%2BkqS0tLRbHj958mSVKlVKnTt3liRVrFhRVapU0bBhwxQQEKC4uDgNGjRIq1at0sMPP1yommi0XSAsLEzjx49Xdna2tm/frsaNG8vNzU2//PKLmjRpot27d2vChAk3HPfggw9av/fy8lJOTo6ysrJ07NgxnTt3TiEhIdbtFotFJUqUKFQ9b7zxhkaNGqW///3vCg8PV7du3VSjRg2dO3dOly9fVlRUlM0vbW5urk6dOmVttB944AHrtoiICL3zzjtKTExUnTp1tGHDBj355JMF3vf1j6lkyZLKzMyUJKWmpqpq1arWbT4%2BPqpWrdotay6s3r1733AFFP%2BvvpL%2BWJpSJPj75zXZ//yn9D/JwX3t8cddXYFjeXrmNdnJydIfv/9FQt%2B%2Brq7AserUyWuy%2B/aVEhNdXY3jtG/v6gocq3LlvCb744%2BlEydcXY3jTJrk6gocyvA5uJB/fV25cqVGjBhhuC02NlYWi%2BW267FYLJo8ebJWr16tJUuWyPOPvzD26tXLZmlv//79tWbNGq1atUoxMTGFOjeNtgtUrlxZFSpU0L59%2B7Rjxw69/PLLkvKWhuzbt09%2Bfn6G6WxBia2np6dq1aqlb7/99o7q6dWrl9q3b6/vvvtOGzduVPfu3TV16lSFhYVJkv75z38qODi4wOM9PDys3/v4%2BCg8PFzx8fEqX7689uzZo2nTphV47PUN/PVyc3NVrJjtr%2Bf1j7%2BgmtsX8kkjICDgxj9RffaZdPJkoY6/r6SmFq3HdfWqqytwjszMovXYdu1ydQXOkZhYtB7bbQQU95UTJ/JevMJuzki0DZ%2BDC6lbt27q1q2b4batW7cqPT1dOTk51t7EbDZLksoXsDQ0NzdXI0eO1J49e/Tll1%2BqSpUqN73/ypUrKyUlpdD18mZIFwkLC9P27dtlMpnUqFEjNWjQQCaTSdu3b1eLFi1u61xVq1bVsWPHdPnyZetYWlqa0tPTC3V8WlqaypUrp6efflqzZ8/Wq6%2B%2Bqq%2B//lo%2BPj4qW7asDhw4YLP/9W9YNNKxY0dt2rRJ8fHxatSokc1ap8IqX768Tl7XHKanp9tcU7ygmgEAwJ9T3bp1ZbFYlHjdX51MJpPKlClT4OWS33vvPf3222%2BGTfbs2bO1bds2m7GkpKRbNuPXo9F2kebNm%2Burr75StWrVVKpUKXl7e6tSpUr65ptvbrvRDg8Pl5%2Bfnz744AOlp6crNTXVejmbWzl9%2BrTatWun//znP8rNzdWlS5d08OBB67KNyMhIffLJJ0pKSlJWVpYWLVqknj176upNkreIiAgdOnRIq1atsq5zul3NmzfXli1btGfPHmVkZGjSpEny8vIqVM0AAMAx7qcPrPHz81OHDh00bdo0nT9/XqdPn9asWbPUs2dP61/J%2B/Xrp7Vr10qSfvnlF61atUpz585V2bJlbzif2WzWuHHjdPjwYWVmZmrBggU6evSo/vKXvxS6JpaOuEhYWJiGDx%2Bu/v37W8caN26sL7/8Ui1atLhpI/u/ihcvrtmzZ2vixIlq2bKlvL29FRERoTfffPOWx1asWFHvvvuu3n33XZ08eVLe3t5q1aqVhg4dKkmKiorSxYsX1bdvX2VlZalu3bqaN2%2BeSt7kyg8%2BPj5q0aKFtmzZcsObHQrrqaee0t69e/XCCy/I19dXQ4cO1f79%2B%2BXm5nbLmgEAgGPcb9fRHj9%2BvMaMGaOIiAgVL15cXbp0UWxsrHX7sWPHdOHCBUnSsmXLdOnSJbVt29bmHE2bNtWCBQs0bNgwSXlrs81ms2rWrKlFixapYsWKha7HzXInq8aBu%2BDatWs2b%2Bhs27atoqKibN6Y4FAjRzrnvK7ywANSdHTeGzyL0hrtZ55xdQWOVbJk3hvtEhOL1hrtPy7FWWSEhuZdSaVx46K1RrtnT1dX4FjVq%2Be9cXDEiKK1Rvurr1x21%2BvWOf6cHTo4/pz3KpaO4J60fft2NW3aVHv27FFOTo6WL1%2Bu1NTU215WAwAA7tz9tHTkXsTSkSJuwoQJWrp0aYHbX3vtNUVFRd3FigqnadOmio2NVUxMjM6fP68qVapo2rRpNpcDBAAAuJfRaBdxo0eP1ujRo11dxh3p37%2B/zRp2AABwd/3ZEmhHo9EGAACAIRpt%2B7BGGwAAAHACEm0AAAAYItG2D4k2AAAA4AQk2gAAADBEom0fGm0AAAAYotG2D0tHAAAAACcg0QYAAIAhEm37kGgDAAAATkCiDQAAAEMk2vah0QYAAIAhGm37sHQEAAAAcAISbQAAABgi0bYPiTYAAADgBCTaAAAAMESibR8abQAAABii0bYPS0cAAAAAJyDRBgAAgCESbfvQaAMAAMAQjbZ9WDoCAAAAOAGJNgAAAAyRaNuHRBsAAABwAhJtAAAAGCLRtg%2BNNgAAAAzRaNuHpSMAAACAE5BoAwAAwBCJtn1ItAEAAAAnINEGAACAIRJt%2B9BoAwAAwBCNtn1YOgIAAAA4AYk2AAAADJFo24dEGwAAAHACEm0AAAAYItG2D402AAAADNFo24elIwAAAIATkGgDAADAEIm2fUi0AQAAACcg0QYAAIAhEm37kGgDAADAUG6u47%2BcyWw2KyYmRo8%2B%2BqjCw8P19ttvKyMjw3Df5cuXq06dOgoJCbH52rNnzx%2BPPVdTp05VRESEmjZtqgEDBujYsWO3VQ%2BNNgAAAIqE0aNH6%2BrVq1q9erWWLVumpKQkTZ48ucD9mzZtKpPJZPPVoEEDSdLnn3%2Bub7/9VnPnztWmTZtUrVo1DR48WBaLpdD10GgDAADA0P2UaJ89e1bx8fGKjY2Vn5%2BfAgMDFRUVpWXLlikrK%2Bu2zxcXF6f%2B/furRo0a8vb2VmxsrJKSkrR79%2B5Cn4NGGwAAAPe9/fv3y8PDQ7Vr17aO1a9fX1euXNHhw4cNjzl16pRefPFFNW3aVBEREVq5cqUkKSMjQ4cOHVK9evWs%2B3p7e%2Buhhx6SyWQqdE28GRIAAACGnJFAp6SkKDU11WbM399fAQEBdp3XbDbL29tbbm5u1jFfX19JUlpa2g37%2B/n5qVq1anrjjTdUs2ZNbdiwQSNGjFBAQIAefvhhWSwW6/HXn8/oXAWh0Qby/fEqtsioW1eKjpY2b5b273d1NY7z%2B%2B%2BursCxqlWT3n9fWry4aD22nj1dXYFjVa%2Bed9u%2BvVSjhmtrcaSvv3Z1BY4VGpp3Gx8v7drl2lqKCGc02nFxcZo5c6bN2JAhQxQdHX3LY1euXKkRI0YYbouNjb2t9dNt2rRRmzZtrD8/%2BeST2rBhg5YvX67hw4dL0m2dzwiNNgAAAO6a3r17q127djZj/v7%2BhTq2W7du6tatm%2BG2rVu3Kj09XTk5OfLw8JCUl3JLUvny5Qt1/sqVK2vv3r0qW7as3N3drcfnM5vNhT6XRKMNAACAAjgj0Q4ICLB7mYiRunXrymKxKDExUfXr15ckmUwmlSlTRtXz/yp1nS%2B//FK%2Bvr7q3LmzdSwpKUlVqlSRp6enatWqpYSEBDVr1kySdPHiRR09etR6VZLC4M2QAAAAuO/5%2BfmpQ4cOmjZtms6fP6/Tp09r1qxZ6tmzp4oVy8uW%2B/Xrp7Vr10qSrl27pgkTJshkMikrK0urV6/Wli1bFBkZKUnq8//bu/f4nuv//%2BP394xNFjXlsBPVxyEyW8mcZSNDzDGndEDJMKkP6ic55FChVETloyIKEcrZWFJoc5pT5BBjzBw2Nuy9vbffH8v7a%2B09NjOvvd%2B7XS%2BXXdjr9dre9/deM4893o/X89W9u%2BbMpcBtpgAAIABJREFUmaMjR44oKSlJkydP1qOPPqpatWrlOhMdbQAAANhkb3eGHDt2rEaNGqWgoCAVL15czzzzjIYMGWLdHxMTo8TEREnS888/r%2BTkZA0ePFjx8fHy8vLS9OnT9dhjj0mSunXrpvj4ePXq1UvJyckKCAjINlt%2BKxTaAAAAsMneCu17771XH374YY77N2zYYP27yWRSaGioQkNDbR5rMpkUFhamsLCw287D6AgAAABQAOhoAwAAwCZ762gXNnS0AQAAgAJARxsAAAA20dHOHwptAAAA2EShnT%2BMjgAAAAAFgI42AAAAbKKjnT90tAEAAIACQEcbAAAANtHRzh8KbQAAANhEoZ0/jI4AAAAABYCONgAAAGyio50/FNoAAACwiUI7fxgdAQAAAAoAHW0AAADYREc7f%2BhoAwAAAAWAjjYAAABsoqOdPxTaAAAAsIlCO38YHQEAAAAKAB1tAAAA2ERHO3/oaAMAAAAFgI42AAAAbKKjnT8U2gAAALCJQjt/GB0BAAAACgAdbQAAANhERzt/6GgDAAAABYCONgAAAGyio50/FNoAAACwiUI7fxgdAQAAAAoAHW0AAADYREc7f%2BhoAwAAAAWAjjYAAABsoqOdPxTaAAAAsIlCO38YHQEAAAAKAB1tAAAA2ERHO3/oaAMAAAAFgI42AAAAbKKjnT8U2gAAALCJQjt/GB0BAAAACgAdbQAAANhERzt/6GgDAAAABaBQFNqBgYH67rvvcnVstWrVtGnTJklSy5YttWjRooKMdkccOnRILVu2lJ%2Bfn9FR7ri8nLuC%2Bjyffvqpnn322XxnAAAAWaWn3/m3oiRPoyNr165VtWrVVKlSpZseZ7FYNGfOHL300kv5Cncra9assf49JiZG%2B/btU3BwcIE%2B5u1YuHChSpcurRUrVhgdBQAAINfsrTBOSEjQ6NGj9ccff8jJyUlNmzbVyJEj5erqmu3Yt99%2BW8uWLcuyzWKxKCQkRBMnTtSbb76p5cuXq1ixYtb9Li4uioqKynWePHW0P/nkEx0/fvyWx%2B3fv1%2BzZs3Ky6fOt7Vr12YpvAuT5ORkeXl5ydmZkXgAAICCMnLkSF29elU///yzFi9erCNHjmjy5Mk2jx03bpz27Nljfdu5c6cefvjhLE3b/v37ZzkmL0W2lIdCu127dvrrr78UGhqqt956S3/99Zeef/551alTRwEBARo1apRSUlIUHR2tbt266dy5c6pVq5a2bt2qjIwMTZ48WU2bNpW/v786dOigyMjIPAW15fq4wf/%2B9z9NnjxZq1evVq1atWSxWNSrVy9NmjRJbdu21SuvvCJJOnXqlF599VUFBAToySef1LBhw5SUlCRJunr1qoYPH6769evL399f3bp10969e3OVIz09XdOnT1eLFi3k6%2BurDh06aMuWLZKkYcOGaenSpdZst7JkyRK1aNFCixYtUuPGjeXn56d33nlHaWlpkqQ333xTQ4YMsR6fkpKiatWqadu2bZKU5%2Bd9K3k5dxaLRZMnT1bDhg315JNPavDgwUpISLjl1%2Bi65ORkhYWFyc/PT82aNbM%2BJ0k5fr8BAICCY0%2BjI%2BfOndP69es1ZMgQubu7q3z58goNDdXixYuVmpp6y4//5ptv5OHhoaZNm96xTLkutJcvXy5J%2BuyzzzRmzBj17t1btWvX1ubNm7Vo0SJFRkbq448/lq%2Bvr95991098MAD2rNnj%2BrVq6dly5Zp6dKlWrBggaKiohQUFKSwsDBZLJY78iT69OmjkJAQBQcHa8%2BePdYW/4oVKzR%2B/Hh9/vnnysjIUGhoqCpWrKiIiAitXr1acXFxev/99yVlfnHPnTundevWadu2bWrcuLFGjhyZq8efN2%2BeFi1apGnTpikqKkpt27ZVaGiozp8/rw8%2B%2BCBLttyIi4vTnj17tHbtWi1evFgbNmzQvHnzcv31yMvzvpW8nLu5c%2Bdq3bp1WrBggSIiInT16lW9%2B%2B67t/waXffDDz%2Bob9%2B%2B2rZtm%2BrUqaNx48ZJksxmc47fbwAAAJJ04MABFStWTNWqVbNuq1mzpq5cuaKjR4/e9GMvXbqkmTNnaujQoVm2b926Ve3bt5e/v786d%2B6c6ybsdbc1y7Bp0yZdvXpVgwYNUokSJeTj46OePXtq1qxZGjZsWLbj27Ztq6CgIN17772SpDZt2ujTTz9VbGysvL29bydCrvj6%2BsrX11eSFB0drb/%2B%2BkvfffedSpYsqZIlS2rQoEHq06ePxo4dq0uXLql48eJydXWVs7OzQkNDFRoamqvH%2BeGHH9SjRw/rie3du7dmzZqliIgIderUKc%2B5U1JS9Nprr6lkyZJ65JFH1KZNG0VEROiFF16448/bZDLd9HPl5dwtWbJE3bt3l5eXl6TMl2%2BOHDkiKXdfo8DAQGvup59%2BWqtWrZKU9%2B%2B33Dh79qzi4%2BOzbHuwQgWVu//%2B2/p8hdJDD2X901FUrmx0gjvLwyPrn47iDjVSCg1Pz6x/Ogp/f6MT3FnVq2f9E/lWEB1om/8HP/igypUrl6/Pm5CQIDc3tyy1TZkyZSRJFy9evOnHfvvtt3ryySdVpUoV6zZvb285OTlp8ODBKlWqlKZNm6bevXtrzZo1uj%2BX9cJtFdonT56Ut7e3SpQoYd1WqVIlxcbGKt3GGbl69aomTJigTZs2KTEx0brdbDbfzsPnmucNPxBjYmJksVgUEBCQ5RiLxaKLFy%2BqR48e6tOnj5o2barGjRurefPmCgoKytXjnDx5Uo888kiWbT4%2BPjp16tRt5S5Tpozc3d2t73t4eGjz5s25/vi8PO8bH8eWvJy7mJgYa5EtZX6DXi/Gc/M1uvFjXVxcrC/z5PX7LTcWLFigadOmZdk2MDRUgwYPvq3PV6jlMJuGQmbQIKMTIDcc8WeEI5o/3%2BgEDqMgCm2b/wcPHKhBufg5uGzZshybbEOGDFFGRkae81gsFs2bN09TpkzJsn3AgAFZ3h86dKh%2B/vlnrV%2B/Xl26dMnV576tQjunAjmn7uiYMWN08OBBzZs3T5UqVVJMTIxatGhxOw%2BdJ/%2B%2BSvSee%2B7Rzp07bR7r7u6ulStXatu2bdqwYYPeeecdLV%2B%2BXJ988sktHyevX49b%2BfdYRkZGRo6fy9YIR16e963k5dyZTKYcC9/cfI1yeo53%2BusrSV27dlVgYGCWbQ8OGiT9s3SkQ3joocwi%2B7//lY4dMzrNnVO1qtEJ7iwPj8wi%2B9NPpdhYo9PcOY7Y0R48WPr4Y%2Bk2myiF0vr1Rie4s6pXzyyye/SQ/vzT6DR3zo4dRie4o2z%2BH/zgg7n62JCQEIWEhNjc99tvvykpKUkWi8VaC12/Vqxs2bI5fs7IyEiZzWbVqVPnpo9drFgxVaxYUWfPns1VVuk2C21vb2/FxMTIbDZbu4xHjx6Vl5eXnJyyj31HR0erS5cuqvzPS7779u27nYfNFx8fH125ckUxMTHWLmtSUpJSU1N1//33Kzk5WcWLF1eDBg3UoEEDvfTSSwoMDNTFixdv%2BfKAj4%2BPjh49au2Ap6Wl6fjx4%2BrWrdttZU1KStKFCxes3ebY2FiVL19eklSiRAnrN40knThxIl/P%2B1bycu68vb117IaC7vjx49q8ebN69uyZr69RXr/fcqNcuXLZX6I6cybzzdEcOyYdOGB0ijvnhlc2HEpsrPT330anuHP%2BuYDb4Zw65Vi/uN5mE6bQ%2B/NPx31ud1lBdLRt/h98Bzz66KPKyMjQn3/%2BqZo1a0qS9uzZo9KlS%2Buhm4xRhoeHq169ellWh8vIyNB7772nDh06qPo/o0hms1knTpzI09hznqoUFxcXHT9%2BXI0bN5azs7OmT58us9mso0ePas6cOWrfvr0kydXVVZcvX1ZcXJyuXbsmLy8v7dmzR2azWbt27bKuJ52X3whyk%2B306dO6dOmSdYWOG1WtWlX%2B/v4aP368Lly4oEuXLmnUqFHWlx/CwsL0/vvvKykpSenp6dq5c6fuu%2B8%2B62zPzYSEhGj%2B/Pk6cuSIzGazZs6cKYvFku23tdwqUaKEpk%2BfrmvXrunw4cNasWKF9XNVrlxZu3fv1pkzZ3T58mXNnj07Swc7r8/7VvJy7jp16qTvvvtOR48eVXJysiZNmmRdBic/X6MmTZrc9PsNAADA3d1dLVu21NSpU3XhwgWdOXNG06dPV%2BfOna1F9AsvvKCVK1dm%2BbgDBw5kGV%2BVMl81P3nypMaMGaO4uDglJydr8uTJKl68uJo3b57rTHkqtLt166YPPvhAQ4cO1RdffKHIyEjVr19fL7/8skJCQvTqq69KkurVqycvLy81b95cGzZs0BtvvKEjR46obt26%2BuijjzRy5Ei1aNFCoaGhd6y73bZtWx07dkzNmjXLsYCfMmWKMjIyFBQUpBYtWshisei9996TJL377rs6fvy4mjRpoieffFLffvutpk%2BfnquOae/evRUcHKyXX35ZDRo00LZt2zRnzhyVLl36tp5L6dKlVbVqVbVo0UKdO3dWUFCQtfPbuXNn1axZU8HBwerUqZOeeeYZm4uw5/Z530pezl2vXr3Uvn17de/eXc2aNVOxYsWsK7fk52tUqlSpm36/AQCAgmFPy/tJ0tixY3XvvfcqKChI7dq1k6%2Bvb5ZlkWNiYrJccyZJ8fHxeuCBB7J9rvHjx6ty5crq2LGjGjRooAMHDuibb77RPffck%2Bs8pozbmRpHgVmyZImmTJmi3377zegoRU%2BNGkYnuLMefVRavFjq1MmxRkdq1zY6wZ1VubI0caL01luMjhRmDz0kffCBNGyYY42O/PCD0QnuLH//zHnmxx93rNERA0u1%2BvXv/Of81200HNrtDbgCAAAAuKlCdU/wdu3aZbmY7t9mz56tJ5988i4myhwpWbhwYY77%2B/fvn%2Bv1tqOjo9WzZ88c93t4eKhfv355zni7/ve//2nq1Kk57g8JCbHeNAYAABQ9BT3q4egKVaF9/e6ThcnIkSNzfYfIW/H19c3V3SE7dux4Rx7vVvr06aM%2BffrclccCAAD2h0I7fxgdAQAAAApAoepoAwAAoPCgo50/dLQBAACAAkBHGwAAADbR0c4fCm0AAADYRKGdP4yOAAAAAAWAjjYAAABsoqOdP3S0AQAAgAJARxsAAAA20dHOHwptAAAA2EShnT%2BMjgAAAAAFgI42AAAAbKKjnT90tAEAAIACQEcbAAAANtHRzh8KbQAAANhEoZ0/jI4AAAAABYCONgAAAGyio50/dLQBAACAAkBHGwAAADbR0c4fCm0AAADYRKGdP4yOAAAAAAWAjjYAAABsoqOdP3S0AQAAgAJARxsAAAA20dHOHwptAAAA2EShnT%2BMjgAAAAAFgI42AAAAbKKjnT90tAEAAIACQEcbAAAANtHRzh8KbQAAANhEoZ0/jI4AAAAABYCONgAAAGyio50/dLQBAACAAkBHGwAAADbR0c4fCm0AAADYRKGdP4yOAAAAAAWAjjYAAABsoqOdP3S0AQAAgAJARxsAAAA20dHOHzraAAAAsCk9/c6/FbQ9e/aoRYsWevbZZ2957Jw5c9SyZUs9/vjj6t69u/bu3Wvdl5KSonfeeUdNmjRRQECAwsLCdPHixTxlodAGAACAQ1i%2BfLkGDRqkSpUq3fLYDRs26NNPP9UHH3yg33//Xc2aNdOrr76qK1euSJI%2B%2Bugj7du3TwsWLNCaNWuUkZGht956K095KLQBAABgk711tFNSUrRgwQLVrl37lscuWLBAHTt2VO3ateXq6qq%2BfftKkjZu3Ki0tDT98MMPCg0NVcWKFXXffffptddeU0REhOLi4nKdh0IbAAAADqFLly4qX758ro7dt2%2BfatSoYX3fyclJjz76qPbs2aMTJ07o8uXLqlmzpnX/I488IldXV%2B3bty/XebgYEgAAADYVRAf67Nmzio%2BPz7LtwQcfVLly5e78g91EQkKCypQpk2VbmTJldPHiRSUkJEiSSpcunWV/6dKl8zSnTaENXLd/v9EJ7qizZ89qwaefquuMGXf9hxdyz3qehgzhPBVi1vP03/9yngox63lavZrzdIdkZNz5z/nppws0bdq0LNsGDhyoQYMG3fJjly1bpmHDhtncN3HiRHXs2DFPWTJu8QRvtf9WKLQBBxUfH69p06YpMDCQ/3AKMc6TfeA82QfOk33o2rWrAgMDs2x78MEHc/WxISEhCgkJuSM57r//fmvn%2BrqEhARVqVJF7u7u1vdLlSpl3Z%2BYmKiyZcvm%2BjEotAEAAHDXlCtXrlD8IvTYY49p37596tChgyTJYrFo//796ty5s7y9vVWmTBnt27dPnp6ekqRDhw7JbDbrsccey/VjcDEkAAAAioTg4GBFRUVJkrp3766lS5dq165dunr1qmbMmKESJUroqaeeUrFixfTss89q5syZOn36tC5evKgPP/xQLVq00AMPPJDrx6OjDQAAAIfQsmVLxcbGymKxKD09XbVq1ZIkrV69Wp6enjp27Jh1newmTZro9ddf12uvvabz58%2BrVq1a%2BuKLL%2BTq6ipJCgsLU3JyskJCQpSWlqZmzZpp9OjRecpjysjvlDeAQuns2bNasGCBunbtWiheooNtnCf7wHmyD5wnFDYU2gAAAEABYEYbAAAAKAAU2gAAAEABoNAGAAAACgCFNgAAAFAAKLQBAACAAkChDQAAABQACm0AAACgAFBoAwAAAAWAQhsAAAAoABTagINLTEw0OgJgd1JSUjR37lzr%2B%2BHh4erfv7/ee%2B89JScnG5gMgD3hFuyAA9m3b59GjhypJUuWSJIGDx6sNWvW6P7779dnn30mf39/gxNCyizagoKCJEl79uzRsmXLVKlSJfXs2VNOTvQ/CoO3335bhw4d0sKFC3X06FF16NBBL7/8sg4dOiQ3NzdNmDDB6IhFVteuXWUymXJ17Pfff1/AaYCbczY6AIA7Z9y4cWrevLkkaf369dq%2Bfbs2bNigHTt2aNKkSZo/f77BCTF58mStXbtWQUFBOnPmjF544QW1bNlSK1euVGxsrIYPH250RCjzl6GffvpJkrRs2TI1atRIAwcO1OXLl9WqVSuD0xVtjRs3NjoCkGsU2oADOXTokPXl7vDwcLVu3VoeHh6qWLGixowZY3A6SJlF27x58yRJS5YskZ%2BfnyZOnKjz58%2BrU6dOFNqFREpKih544AFJ0m%2B//aaePXtKktzc3BgdMdjAgQONjgDkGoU24EBcXFyUmpoqk8mkX3/9VZMmTZIkXblyRenp6QangyQlJSXJx8dHUmYB16ZNG0lS2bJllZCQYGQ03KBKlSpasmSJXF1ddfjwYQUGBkqSfv/9d1WsWNHgdLjObDbrk08%2B0cqVK3X69GmZTCZ5eXmpQ4cO6tevH6NYMByFNuBAmjRporCwMDk7O8vNzU316tVTamqqPvroIz3%2B%2BONGx4Mkb29vbd26Vffcc4%2Bio6P10UcfScqc1S5btqzB6XDd//t//0/Dhg3T5cuXNWLECJUpU0YJCQkaOHAg89mFyIQJExQZGam%2BffuqUqVKkqQjR45o7ty5Sk9P14ABAwxOiKKOiyEBB3Lt2jV9/fXXunz5snr06CFPT09duXJFgwYN0vjx41WhQgWjIxZ5ERERGjJkiMxms/r376%2BBAwcqMTFRrVq1UmhoqJ577jmjI%2BIm4uLiVL58eaNj4B/169fXwoUL5e3tnWX70aNH1a9fP61bt86gZEAmCm0AuMvS0tKUkpKiUqVKWbft2rVLfn5%2BBqbCjaZNm5bjPicnJ5UvX17169eXh4fHXUyFf3vyySf122%2B/qUSJElm2m81mNWzYUJGRkQYlAzIxOgI4kMDAwByXvbpeHDRt2lQvvviiihcvfpfTQZKWLl2a477jx4%2BrfPnyqlWrVpYiHHffjh07tG/fPl27dk2VK1eWk5OTjh07ppIlS8rb21vnzp3TmDFj9PHHH6tZs2ZGxy2yatSooenTp2vgwIHWn2lpaWmaMWOGqlatanA6gI424FDmzZunGTNmKCAgQLVq1ZKTk5Oio6MVGRmpF198UUlJSVq6dKlatGihN9980%2Bi4RVLLli119uxZXb16VW5ubnJyctKlS5d0zz33qGTJkkpMTFTp0qX12Wef0eE20DfffKMjR45o2LBhcnNzk5R5IeukSZPk5%2BenDh06aMmSJfr666%2B1fPlyg9MWXYcPH1bv3r117do1eXl5SZJOnjwpZ2dnff7556pVq5bBCVHUUWgDDiQ0NFRdu3ZV06ZNs2zftGmTfvrpJ02aNEnHjx/XCy%2B8oIiICGNCFnErV67UqlWr9MYbb6hy5cqSMjvZU6dOVfv27dWwYUPNnDlTv/76qxYsWGBs2CKsYcOGCg8Pl6ura5btKSkpCg4O1saNG5Wenq4nnnhCO3fuNCglpMwxkU2bNunkyZMym83y8fFRkyZNdM899xgdDWB0BHAkW7Zs0dSpU7Ntr1evnoYMGSJJ8vT01OXLl%2B92NPxj8uTJWr58ubVLKkmVKlXS2LFj1aVLF61evVr9%2BvXTV199ZWBKpKamav/%2B/dlW6zl48KB1Gca9e/fK3d3diHi4QYkSJaw36gIKGwptwIGUL19eU6dOVf/%2B/XXvvfdKylxD%2B4svvlDp0qWVkZGhjz/%2BWNWqVTM4adF18eJFxcXFZSm0Jen8%2BfM6ffq0JOnUqVPMaBvsxRdf1EsvvaTGjRvL09NTzs7Oio2N1S%2B//KLOnTvLbDbr%2Beeft/4CC2NERkZq3LhxOnbsmFJTU7PtP3DggAGpgP/D6AjgQKKjo9W/f39dvHhRbm5ucnZ2VmJiokqWLKmpU6eqQYMGCg4O1tSpU1WjRg2j4xZJY8eO1Zo1a/TMM89kKeB%2B%2Bukn1alTRxMnTlRgYKA6depEEWewdevWadOmTYqPj1d6errKli2rgIAAhYSEyGQyKSoqSnXq1DE6ZpEWGBioOnXq6Omnn5aLi0u2/dyuHUaj0AYcjNls1t69e7MUB4899hjzioVEenq65syZk6WAc3d3V7169dS3b1%2B5uLho2bJlateuXY4ryADI5O/vr23btmVb3g8oLCi0AQdjsVh09uxZXbt2Ldu%2Bhx56yIBEgP2JjY3VrFmzdOTIEaWkpGTb//333xuQCv8WFhamfv36qWbNmkZHAWxiRhtwIMuXL9e7776rpKSkLNszMjJkMpmYVywELl%2B%2BrIULF%2BZYwE2ZMsWAVPi3119/XVevXlWjRo1UsmRJo%2BPgBjeuxlO7dm0NHTpUgYGB8vLyyvYqUNeuXe92PCALOtqAA2natKm6dOmiVq1aZVuWTMpccQTG6tu3rw4ePKgnnnjCZgE3ceJEA1Lh3/z9/fXLL7%2BodOnSRkfBvwQGBubqOJPJpPDw8AJOA9wcHW3AgSQlJal///4qVqyY0VGQg%2B3bt2v16tUqX7680VFwE5UrV5bZbDY6BmzYsGGD0RGAXKPQBhxIUFCQtm3bpgYNGhgdBTmoUKECS/fZgaFDh%2Brtt99Wjx495OnpKScnpyz7ud6h8Lhw4YJ%2B%2BeUXnTp1SlLmuvTNmjXLtoQmYARGRwAH8vnnn2v%2B/Pny9/eXl5dXtuLg9ddfNygZrvv111%2B1cuVK9e3b1%2BZMKasnFA7Vq1fPts1kMnG9QyGzZcsWDRgwQCVLlpS3t7ck6cSJE7JYLJo7d66qVq1qcEIUdRTagAPp1atXjvtMJpPmzJlzF9PAljp16ujq1atKT0%2B3uZ8CrnC43h3NCdc7FA4dO3ZU27Zt9dJLL1m3WSwWzZgxQ5GRkfrmm28MTAdQaAPAXfXHH3/cdH/dunXvUhLA/vn5%2BSkqKkrOzlknYc1msxo1anTLf29AQWNGG7BzW7ZsUf369SVJmzdvzvE4k8mkhg0b3q1YyAGFdOEVFBRkXaWiUaNGNz32Zv/WcPeUK1dOf//9t/7zn/9k2R4TE8OMNgoFCm3AzvXr10/R0dGSMpeOywlzpcbp1auX5s6dKylzXd%2Bb3fGRG6EYJywszPr3N954w8AkyK2QkBC98sor6tmzpx5%2B%2BGFJ0tGjRzVv3jwFBwcbnA6g0Abs3vUiW5L%2B/PNPA5MgJzeuAtO4cWMDk%2BBmQkJCrH8/d%2B6cWrduzSx2IRcaGqrSpUtr8eLFOnnypMxms3x8fNStWzf16dPH6HgAM9qAI2nTpo1at26t1q1bs/xYIbVy5UoFBgbavKEQCo%2BQkBAdOnRIvr6%2BatOmjYKDg1WuXDmjYwGwM8VGjx492ugQAO6M1NRUbdq0SVOmTNG6det06dIllStXTmXKlDE6Gv7Rq1cvff755zp06JCcnZ3l5eXFDYYKoe7duyskJEROTk5au3atPvjgA23ZskXXrl2Tp6cnt2UvJBITEzVy5Ei5uLiocuXKkqT58%2Bfr66%2B/VkBAAL/QwnB0tAEHdOHCBYWHh2vdunXaunWrqlWrpjZt2ujFF180OlqRZ7FY9Mcffyg8PFzr169XcnKygoKC1KpVKzVq1Iiiu5A6d%2B6c1q9fr%2BXLlys6Olp79%2B41OhIkDRkyRFeuXNHIkSPl5eUlKXMd7UmTJql48eL68MMPDU6Ioo5CG3BwO3fu1JQpU7R9%2B3YuhiyEoqOjtW7dOkVERCg%2BPl5bt241OhL%2B5eDBg1q/fr02btyow4cPq169epo5c6bRsSApICBAERER2V5hSE5OVmBgoLZt22ZQMiATF0MCDiYjI0Pbt2/X%2BvXrFR4ervPnz%2Bupp57Sxx9/bHQ0/MulS5d09OhRnThxQvHx8XrwwQeNjoR/REVFWf8NxcXFqUGDBnruuefUvHlzlo0rRIoXL66EhIRshfbZs2dvuroPcLfQ0QYcyFtvvaVffvlF165dU9OmTdWqVSs1bdpULi4uRkfDP06fPq3169dr/fr12r59ux5%2B%2BGG1bNlSrVq1si5PBuPVqlVLDRs2VHBwMMV1ITZ58mSFh4erW7du8vLyUkZGho4eParvv/9e7du3z7JkI2AECm3AgQwZMkTBwcF66qmnKK4LqerVq6tKlSo1Qb/fAAAbRklEQVQKDg5WcHCwHnnkEaMjwYZp06Zp4MCBRsfALaSnp2vOnDn68ccfdeLECTk5Ocnb21udOnVSr169jI4HUGgDjqRt27b66aefjI6Bm/jiiy/0yiuvGB0Dt9CoUSMtX75c7u7uRkcBYMcotAEH0qtXL/Xt21dNmzY1OgpyEBAQoI0bN%2Bqee%2B4xOgpu4uuvv1Z4eLhat24tDw%2BPbKvB3OoW7Sg4CxYsyPWxXbt2LcAkwK1RaAMO5O2339aGDRvk6ekpDw8POTtnvd55ypQpBiXDdd99950iIyPVvn17mwUcNxoqHKpXr57jPpPJxAo%2BBgoMDMzVcSaTSeHh4QWcBrg5Cm3Agbz11ls33T9x4sS7lAQ5sVXAmUwmZWRkUMABd9D%2B/ftVo0YNo2OgiKPQBoC76NSpUzfd7%2BnpeZeSIDeio6N15swZPf3005KklJQULjQuZDIyMhQbGyuz2WzdFhcXp9DQUO3YscPAZADraAMOZ9euXVq2bJni4uL02WefKT09XWvXrlVwcLDR0aD/K6TPnz%2Bv06dP67HHHjM4EWw5cuSIBg4cqNjYWFksFu3du1enTp1Sly5dNGvWLDqlhURUVJTCwsJ08eJFSbK%2BMiRJzZs3NzIaIElyMjoAgDtn4cKF6t27t8xms3799VdJUnx8vCZMmKA5c%2BYYnA5SZqetT58%2Batiwobp16yYp8%2BYabdu2VUxMjMHpcN3YsWMVFBSkyMhIOTll/lfp6empV155hRGsQmTChAnq2bOnVq5cKWdnZ61bt04ffvihmjdvrpEjRxodD6DQBhzJl19%2BqS%2B//FLjx4%2B3dnXKly%2Bvzz//XN9%2B%2B63B6SBlFnDu7u7auHGjtYBzd3dXo0aNNG7cOIPT4bro6GiFhYWpRIkSWe4w%2BNxzzzFHX4gcO3ZMoaGheuihh2QymeTt7a1WrVqpT58%2BGj58uNHxAAptwJGcO3dOjz/%2BuCRlKQ7%2B85//6OzZs0bFwg22bt2q0aNHq2LFitZz5OzsrMGDB2vXrl0Gp8N19913ny5dupRt%2B4kTJ7Kt5gPjlClTRvHx8ZKk0qVLW18VqlmzJv%2BeUChQaAMOpFKlStq6dWu27T///LM8PDwMSIR/K1mypGxdg56YmCiLxWJAItjSrFkzhYWFafPmzcrIyNCBAwf0448/6tVXX1WbNm2Mjod/PPPMM%2BrUqZOSkpLUuHFjDRo0SLNnz9awYcPk5eVldDyAVUcAR7Jy5UqNGDFCgYGBWr16tbp3766DBw9q586dmjJlilq2bGl0xCLvv//9r8xms4YMGaL27dvr119/1Z9//qnJkyfLx8dHkydPNjoilLm6yKRJk/Tjjz8qOTlZUmaXu2vXrhowYIBKlChhcEJct3TpUoWEhCg5OVljxozRnj175Onpqf/%2B97969NFHjY6HIo5CG3Awe/bs0Y8//qgTJ07I1dVV3t7e6tKlix5%2B%2BGGjo0GZnevhw4crIiJCUuaIj8lkUuvWrTVy5EiVKVPG2IDIIiMjQ%2BfPn5erq6vc3NyMjoPb9M4772js2LFGx0ARRKENOLjExESKt0LowoULiomJkYuLi7y8vCjiCpmUlBQtXLhQvXr1kiSFh4frhx9%2BUOXKlTVw4ECVKlXK4ITIi9q1a2v37t1Gx0ARxIw24ED27dunjh07Wt8fPHiwAgICVL9%2Bfe3cudPAZLhReHi43N3dVbt2baWmpmrq1Kn69ttvlZ6ebnQ0/OPdd9/VTz/9JEk6evSoXn/9ddWsWVOnTp3S%2BPHjDU6HvKKnCKNw6TTgQMaNG2e9ScP69eu1fft2bdiwQTt27NCkSZM0f/58gxNi8uTJWrt2rYKCgnTmzBm98MILatmypVasWKFTp06xJFkhER4ebi20ly1bpkaNGmngwIG6fPmyWrVqZXA65NWNqzABdxMdbcCBHDp0SK%2B88oqkzEKhdevW8vDwUJs2bfTXX38ZnA5SZtE2a9YsSdKSJUvk5%2BeniRMnatq0aVq1apXB6XBdSkqKHnjgAUnSb7/9Zv0F1s3NzXpxJADcCh1twIG4uLgoNTVVJpNJv/76qyZNmiRJunLlCmMJhURSUpJ8fHwkZRZw15eKK1u2rBISEoyMhhtUqVJFS5Yskaurqw4fPqzAwEBJ0u%2B//66KFSsanA6AvaDQBhxIkyZNFBYWJmdnZ7m5ualevXpKTU3VRx99ZL2RDYzl7e2trVu36p577lF0dLQ%2B%2BugjSZmrxZQtW9bgdLhuxIgRGjp0qJKSkjRixAiVKVNGCQkJGjhwoCZMmGB0PAB2glVHAAdy7do1ffPNN7p06ZJ69OghT09PXblyRYMGDdL48eNVoUIFoyMWeRERERoyZIjMZrP69%2B%2BvgQMHKjExUa1atVJoaKiee%2B45oyPiJuLi4lS%2BfHnr%2BzNnztSrr75qYCLkhq%2Bvr6Kjo42OgSKIQhsoglq1asU8sIHS0tKUkpKSZYm4Xbt2yc/Pz/r%2B8uXL1a5dOyPiIQ9YNq7wuHjxou6//36b%2B2bPnq3evXvf5UQAF0MCRdKpU6eMjlCkOTs7Z1uH%2BcYiW5JGjhx5NyPhNtGrMlZycrLeeecd%2Bfn5qXHjxpKkhIQE9evXTxcuXLAeR5ENo1BoA0UQS10VfhRw9oF/S8YaO3asYmJiNGvWLDk5ZZY0xYsXl5ubm8aNG2dwOoCLIQGgUKKAA24tIiJCq1atkru7u/XfTKlSpTRq1Ci1bNnS4HQAHW0AAGCnTCaT3Nzcsm23WCxKSUkxIBGQFYU2AACwS/7%2B/vrggw907do167ZTp05pxIgRqlu3roHJgEwU2gAA3CZm6Y01cuRIRUVFqU6dOkpJSdETTzyh5s2bKyEhQaNGjTI6HsCMNlAUURwUfpwj%2B/Dss88aHaFI8/Dw0NKlS7Vnzx7FxMTIxcVFPj4%2BqlKlitHRAEl0tAGHktsbZ3z77bcFnAQ5%2BeOPP2xuT0lJybK2ecOGDe9WJNhgsVj0xRdfqHXr1nryySclZS4lN3bs2Cyzv2%2B//bZREaH/%2B5lXq1YttW7dWkFBQRTZKFQotAEHEhsbq717997yOF9f37uQBra8/PLLNrcnJibqzTfftL4/Y8aMuxUJNrz33ntasWKF%2BvXrZy2sU1NTdeTIEU2cONHgdLgutz/zAKNwZ0jAgUyePFkrV66Ur6%2BvPDw85OycdTrs9ddfNygZvv76a82aNUvnz59X2bJls%2B1PSkqSp6enVqxYYUA6/FuDBg20aNEieXp6Zrn7Y3x8vDp06KDNmzcbnBASP/NQ%2BDGjDTiQ3bt3y9PTU%2BfPn9f58%2Bez7GNdZmM9//zzeuKJJ9S9e3e98cYb2fa7uLiofv36BiSDLampqapQoUK27SVLllRycrIBiWALP/NQ2NHRBoC7KDo6mtEdO/Diiy%2BqYcOGevnll60d7atXr%2Br999/XkSNHNHfuXKMjArADFNqAgzlz5ox%2B/vlnxcXFacSIEZIo7oz25ptv6r333pMkm93sG02ZMuVuRMIt/Pnnn%2Brbt68k6fz586pSpYpiYmLk7u6uzz77TNWqVTM4ISQpMjLypvuvX8gKGIXREcCBhIeHa8iQIXr88ce1fft2jRgxQqdPn9ZLL72ksWPHqk2bNkZHLJKKFy9u/XuJEiUMTILcql69utavX6%2BNGzcqJiZGrq6u8vHxUaNGjbLNAcM4vXr1srnd2dlZrq6uioqKusuJgKzoaAMOpG3btho8eLCaN28uX19fRUdHS5K2bt2qcePG6eeffzY4IXbv3q3atWsbHQN5YDabs23jF6bC4d/nxmKx6Pjx4/rqq6/Utm1bNWrUyKBkQCYKbcCB%2BPn5aceOHXJycsqyUoLFYtETTzyhXbt2GZwQderU0e%2B//06hVsj9/vvvmjBhgv7%2B%2B29ZLBbr9oyMDJlMJh04cMDAdLiVy5cvq3PnzlqzZo3RUVDE8foX4EA8PDx08OBBPfroo1m2b9682eaScrj7Bg0apPfff189evSQh4eHihUrlmU/BXjhMGrUKNWtW1dDhw5VyZIljY6DPLpy5YrOnj1rdAyAQhtwJD169FCfPn3UuXNnWSwWff311zp48KBWrlypYcOGGR0PkqZOnaq0tDTNnz/f5n46pYXDuXPnNGbMGOaxCzlbFxdfvXpVu3fv5kJIFAr8BAEcyHPPPady5cpp8eLF8vb21rJly%2BTt7a0ZM2aoQYMGRseDpM8//9zoCMiFunXr6s8//9Rjjz1mdBTchK1XgNzc3NS3b1917tzZgERAVsxoAwDwL4sWLdJXX32lZs2aycvLS05OTln2d%2B3a1aBkAOwJhTbgYFasWKFly5bp7NmzWrp0qcxms%2BbOnavevXtzpzSD9OrVy3qDk65du970PHz//fd3KxZuIjAwMMd9JpNJ4eHhdzENcpKenq558%2BYpIiLCOpNdoUIFBQYGqlu3bvzMg%2BEYHQEcyGeffaYFCxaoa9eumjlzpiTp0qVLWrp0qS5fvqzXXnvN4IRF041jO40bNzYwCXJrw4YNRkdALowePVobNmzQM888o6ZNmyojI0OxsbGaPn26Dh06pFGjRhkdEUUcHW3AgTRt2lSzZs1SlSpVsizvFxMTo%2Beff14bN240OCFQeB0/flyVKlWSJB07duymxz700EN3IxJuwd/fX4sXL9bDDz%2BcZfvhw4fVpUsX7dy506BkQCY62oADuXz5sqpUqZJte7ly5XThwgUDEuHfrl69qo8//lgbN27U2bNnZTKZrC91Dxo0SC4uLkZHLLLatm1rvclTq1atrGMH/%2B5HsY524XHvvffKy8sr23Zvb2/de%2B%2B9BiQCsqLQBhxI1apVtXz5crVr1y7L9tmzZ%2BuRRx4xKBVuNGzYMB09elTPPfecPDw8lJGRoVOnTmnhwoU6ceKEPvnkE6MjFlmrV6%2B2/v2%2B%2B%2B5T/fr1rW//vhgShUNYWJjGjx%2BvIUOG6L777pMkJSQkaNq0aRo0aJDB6QBGRwCHsmXLFg0YMEBVq1ZVdHS0mjZtqoMHDyoxMVEzZsxQ3bp1jY5Y5Pn5%2BWnt2rUqV65clu1nzpxRy5YtreM%2BMNaWLVu0fft2RUVFaffu3XJ3d1eDBg1Uv3591atXT%2B7u7kZHhKSnn35acXFxMpvNKl26tNLT05WUlKTixYurdOnSWY7dvHmzQSlRlFFoAw4mLi5OP//8s44fP660tDTVrFlTbdq0sXZ7YKzmzZtr6dKlcnNzy7I9KSlJ7du31/r16w1KhpykpaVp//79ioyM1I8//qijR49q//79RseCpB9//DFXx5lMJrVv376A0wDZUWgDDiQ%2BPl4jR47U5s2blZaWJkkqWbKkmjdvrrfeeosuXCEQERGhZcuWqW/fvqpcubLS09N14sQJffXVV2revHmWZeW4HbuxUlJStHv3bmtne%2B/evapYsaIef/xxvfPOO0bHQx60atVKq1atMjoGiiAKbcCBvPjii7JYLHrxxRfl4%2BOjjIwMnThxQnPmzJGLi4u%2B/PJLoyMWeY899pjS0tKyrO97/cfwv9f85YI743Tt2lVnz55V1apVVbt2bfn7%2B8vX11elSpUyOhpuw42rMAF3ExdDAg5k9%2B7d2rRpU5ar7atWraqAgAA99dRTxgWD1ezZs3XhwgXrqwuXL1%2BWxWLRmTNnVL16dYPT4bpixYopNTVVqampSk9Pt24DgLyg0AYciJeXl65cuZJtWauUlBRVqFDBoFS40ZkzZzR69Gjt2LFDV69etc6NJiYmaujQoerUqZPBCSFJ8%2BfPl9ls1u7duxUZGakvv/xSe/fuVeXKlfXEE09o%2BPDhRkcEYAcYHQHs3I031oiOjtaiRYvUs2dPPfLII3JyctKxY8c0b948devWTcHBwQYmhZQ5K/r222%2BrYcOG%2Bv777zVv3jwtXbpUhw8f1uuvv64VK1YYHRH/kp6ern379ikyMlKLFi3S33//zViPnWF0BEahow3Yues31rjxd%2BaoqKhsx23bto1CuxA4ffq0GjZsKEnatGmTWrdurWLFiqlatWqKjY01OB2ui4iI0M6dO7Vjxw7t3btXDz74oAICAjRgwAAFBAQYHQ%2BAnaDQBuxceHi40RGQB%2B7u7oqLi1OJEiW0ZcsWDR48WFLmsoyurq4Gp8N1o0ePVkBAgDp27Kj3339fHh4eRkcCYIcotAE75%2BnpaXQE5EG3bt3UuXNnFStWTAEBAapWrZqSkpI0ZMgQXnEoRCIiIoyOgDuIKVkYhRltALjLdu7cqUuXLql%2B/foqUaKE0tLSNHv2bL300ksqXry40fGAQs3f3187duyQyWTK9ex1dHS0fH1970I6ICsKbQAAYDdatmyp%2B%2B67T15eXlq1apVatWqV47FTpky5i8mA7JyMDgAAAJBb06ZNk6%2Bvr/XOqSVKlMjxDTAaHW0AAGCXhg8frvfff9/oGECOKLQBAIDdunDhgn755RedOnVKklSpUiU1a9ZMbm5uBicDKLQBAICd2rJliwYMGKCSJUvK29tbknTixAlZLBbNnTtXVatWNTghijoKbQAAYJc6duyotm3b6qWXXrJus1gsmjFjhiIjI/XNN98YmA6g0AYAAHbKz89PUVFRcnbOelsQs9msRo0a6Y8//jAoGZCJVUcAAIBdKleunP7%2B%2B%2B9s22NiYpjRRqHAnSEBAIBdCgkJ0SuvvKKePXvq4YcfliQdPXpU8%2BbN406rKBQYHQEAAHYpIyND3377rRYvXqyTJ0/KbDbLx8dH7dq1U58%2BfVSsWDGjI6KIo9AGAAAObebMmXr11VeNjoEiiEIbAAA4tNq1a2v37t1Gx0ARxMWQAADAodFThFEotAEAgEMzmUxGR0ARRaENAAAAFAAKbQAAAKAAUGgDAAAABYBCGwAAODQuhoRRKLQBAIDDSExMzLbt2WefNSAJQKENAADs1L59%2B9SxY0fr%2B4MHD1ZAQIDq16%2BvnTt3Wre//fbbRsQDKLQBAIB9GjdunJo3by5JWr9%2BvbZv364NGzZoxIgRmjRpksHpAAptAABgpw4dOqRXXnlFkhQeHq7WrVvLw8NDbdq00V9//WVwOoBCGwAA2CkXFxelpqbKYrHo119/VbNmzSRJV65cUXp6usHpAMnZ6AAAAAC3o0mTJgoLC5Ozs7Pc3NxUr149paam6qOPPtLjjz9udDyAjjYAALBPo0eP1hNPPKGHH35Y//vf/2QymZSamqpjx47p3XffNToeIFMGi0sCAAA7d/HiRd1///1GxwCyoKMNAADsUnJyst555x35%2BfmpcePGkqSEhAT169dPFy5cMDgdQKENAADs1NixYxUTE6NZs2bJySmzpClevLjc3Nw0btw4g9MBXAwJAADsVEREhFatWiV3d3eZTCZJUqlSpTRq1Ci1bNnS4HQAHW0AAGCnTCaT3Nzcsm23WCxKSUkxIBGQFYU2AACwS/7%2B/vrggw907do167ZTp05pxIgRqlu3roHJgEysOgIAAOxSbGysQkNDdfjwYaWlpalUqVK6cuWK/P39NWXKFFWsWNHoiCjiKLQBAIBd27Nnj2JiYuTi4iIfHx9VqVLF6EiAJAptAABgp1599VXNnDnT6BhAjpjRBgAAdik2NlZ79%2B41OgaQI5b3AwAAdqlJkyYKCwuTr6%2BvPDw85Oyctax5/fXXDUoGZKLQBgAAdmn37t3y9PTU%2BfPndf78%2BSz7rq%2BrDRiJGW0AAGCXMjIybBbUFotF8fHxqlChggGpgP/DjDYAALBLfn5%2BNrdfuXJFbdu2vctpgOwYHQEAAHZlzZo1WrNmjVJTU/XGG29k2x8bG6tixYoZkAzIio42AACwKzVq1FDNmjUlSSVKlMj2Vq1aNU2bNs3glAAz2gAAwE7Nnj1bvXv3NjoGkCMKbQAAYDd%2B%2BOEHde7cWZK0YMGCmx7btWvXuxEJyBGFNgAAsBvBwcFavXq1JCkwMDDH40wmk8LDw%2B9WLMAmCm0AAACgALDqCAAAsBubN2/O1XEmk0kNGzYs4DTAzdHRBgAAdqN69eq5Os5kMunAgQMFnAa4OQptAADg0KKiolSnTh2jY6AIotAGAAAOrXbt2tq9e7fRMVAEccMaAADg0OgpwigU2gAAwKGZTCajI6CIotAGAAAACgCFNgAAAFAAKLQBAACAAkChDQAAABQACm0AAODQKleubHQEFFGsow0AAOzGggULcn1s165dCzAJcGsU2gAAwG4EBgbm6jiTyaTw8PACTgPcHIU2AABwOPv371eNGjWMjoEiztnoAAAAALcrIyNDsbGxMpvN1m1xcXEKDQ3Vjh07DEwGUGgDAAA7FRUVpbCwMF28eFFSZtF9/S6QzZs3NzIaIInREQAAYKc6duyooKAgtW7dWu3atdPKlSu1d%2B9erVy5UiNHjlS5cuWMjogijo42AACwS8eOHVNoaKhMJpNMJpO8vb3l7e2tihUravjw4frqq6%2BMjogijnW0AQCAXSpTpozi4%2BMlSaVLl1ZMTIwkqWbNmtq1a5eR0QBJdLQBAICdeuaZZ9SpUyetWrVKjRs31qBBg9SuXTvt2bNHXl5eRscDmNEGAAD2a%2BnSpQoJCVFycrLGjBmjPXv2yNPTU0OHDlX16tWNjocijkIbAADYpT/%2B%2BEN169bNtj0lJUUbNmxQq1atDEgF/B8KbQAAYJdq166t3bt3Z9t%2B9uxZtWjRwuY%2B4G5iRhsAANiVr7/%2BWrNmzZLZbFajRo2y7U9KSmJGG4UCHW0AAGBX0tPTtW/fPnXv3l3vvvtutv0uLi6qX7%2B%2B7r//fgPSAf%2BHQhsAANil6Oho%2Bfr6Gh0DyBGFNgAAsEtms1mffPKJVq5cqdOnT8tkMsnLy0sdOnRQv3795OTE7UJgLGa0AQCAXZowYYIiIyPVt29fVapUSZJ05MgRzZ07V%2Bnp6RowYIDBCVHU0dEGAAB2qX79%2Blq4cKG8vb2zbD969Kj69eundevWGZQMyMRrKgAAwC6lpaWpfPny2bZ7eXkpISHBgERAVhTaAADALtWoUUPTp09XamqqdVtaWppmzJihqlWrGpgMyMToCAAAsEuHDx9W7969de3aNeu62SdPnpSzs7M%2B//xz1apVy%2BCEKOq4GBIAANilr776SuvXr9emTZt08uRJmc1m%2Bfj4qFGjRho%2BfLimT59udEQUcRTaAADArsTExOjvv//W8uXL1bp1a7m6uuo///mPdf%2ByZcu0efNmAxMCmSi0AQCAXfnzzz/1ySefKDU1VX369Mm238XFRd26dTMgGZAVM9oAAMAuhYSEaNmyZUbHAHJEoQ0AAAAUAJb3AwAAAAoAhTYAAABQACi0AQAAgAJAoQ0AAAAUAAptAAAAoABQaAMAAAAFgEIbAAAAKAAU2gAAAEAB%2BP8j3ZHFdi4TGQAAAABJRU5ErkJggg%3D%3D\" class=\"center-img\">\n",
              "    <img src=\"data:image/png;base64,iVBORw0KGgoAAAANSUhEUgAAAtoAAAKQCAYAAAChLd05AAAABHNCSVQICAgIfAhkiAAAAAlwSFlzAAAPYQAAD2EBqD%2BnaQAAADh0RVh0U29mdHdhcmUAbWF0cGxvdGxpYiB2ZXJzaW9uMy4xLjMsIGh0dHA6Ly9tYXRwbG90bGliLm9yZy%2BAADFEAAAgAElEQVR4nOzdeXyM5/7/8XcSS0oihAQNSpFYEoQSSw5J6ImlltNDLS3S0lZDNA5tUWrXjXJsVdRWbb/R1rH2fBG0flVVSklDaCPHToIMokKW%2Bf2Rk/maukOYGUP6ej4eeUxy3ct85moqn7xz3fe4mM1mswAAAADYlauzCwAAAACKIhptAAAAwAFotAEAAAAHoNEGAAAAHIBGGwAAAHAAGm0AAADAAWi0AQAAAAeg0QYAAAAcgEYbAAAAcAAabQAAAMABijm7AAD4sztw4IBWrVqlffv26eTJk7p27ZpKliwpX19fBQYGqmPHjoqIiJCLi4uzSwUA3AUXs9lsdnYRAPBnZDabNWXKFH3yySeSJC8vL/n7%2B8vDw0MZGRk6dOiQMjIyJEnh4eGaNWuWSpQo4cySAQB3gUYbAJzk008/1cSJE%2BXu7q4JEyaoc%2BfOcnNzs2zPzMzU//zP/%2Bjdd99Vbm6uXnrpJQ0fPtyJFQMA7gZrtAHAST7//HNJUr9%2B/dStWzerJluS3N3dFRUVpRdffFGStGLFCmVmZt73OgEA94ZGGwCc5Pjx45KkgICA2%2B4XFRWlRYsWafPmzXJ3d5ckjRw5UgEBAXr33Xd19epVvf3224qIiFBQUJCaN2%2BuIUOG6MiRIwWec%2BfOnRoyZIhCQ0MVGBio5s2bKyoqSuvWrSvwGJPJpBkzZqhbt24KDg5W/fr11bJlSw0aNEi7du0yPCYiIkIBAQHavn27Nm/erI4dOyooKEg//fSTJGn27NkKCAjQyJEjdePGDc2ePVuRkZFq0KCB2rRpo0mTJun333%2BXJP36668aOnSoWrVqpaCgIHXu3Flr1641fN5r165p4cKFeuaZZ/TEE0%2BoXr16CgkJ0fPPP6/NmzcbHtO3b18FBATo888/19WrVzVjxgxLLU2bNtWLL76oX375pcD5AYA/otEGACfx9vaWJP3888933O8vf/mLKlSocMu2q1evKioqSp9//rnKlSunpk2bKicnR5s3b1aPHj0MG8MZM2YoKipKmzdvloeHh0JCQuTt7a2dO3dqxIgRio2NVU5OjtUxaWlpevrppzV//nwdPXpU9erVU/PmzVWiRAlt27ZN/fv311dffVXgazh69KiGDRum4sWLq3nz5pZfGG722muvafHixfLz81Pt2rWVmpqqFStW6I033tCRI0fUu3dvJSUlqU6dOvLx8dGRI0f02muv6ZtvvrE6z7Vr19SnTx9NmzZNiYmJqlmzplq0aCEvLy99//33GjJkiGbPnl1grTdu3FBUVJSWLVumypUrq379%2BsrJydH27dvVt29fyy9IAHBHZgCAU7zxxhtmf39/c0BAgPndd981nzt37q6Pbdy4sfmpp56yOvby5cvm7t27m/39/c3du3e3Om7Tpk1mf39/c9OmTc27du2y2vbjjz%2BaW7Zsafb39zcvWbLEatvkyZPN/v7%2B5sjISPP58%2Bct49nZ2eYpU6aY/f39zU2aNDFnZGRYHRceHm729/c3R0REmD/88MNbXsesWbPM/v7%2B5tDQUHOXLl3MaWlplm2bN2%2B2zE/79u3Ns2fPNufm5prNZrM5JyfHPHjwYLO/v795wIABVudcsmSJ2d/f39y8eXNzSkqK4ba6deuajx8/brXtueeeM/v7%2B5vDwsLMffr0MV%2B4cMGyLTU11dyqVSuzv7%2B/eerUqbe8DgAwQqINAE4SGxurypUry2w26%2BOPP1ZYWJiee%2B45zZw5U99//72uXbt2x3NkZGRo/Pjx8vX1tYx5enpq5MiRkvJuHfif//zHsu3DDz%2BUJL3xxhtq1qyZ1bmaNm2q119/XZK0bNkyq22%2Bvr7q1KmThgwZovLly1vG3dzcNGzYMLm6uurKlSsFpvP5F3MWJDU1VRMmTLBK7du1aycfHx%2BZzWYVK1ZMgwcPttzi0NXVVT179pQkHTx40OpcpUuXVufOnTVo0CBVr17dalv//v3l4%2BOjnJwc7dy507CWtLQ0ffDBB5a/OEiSj4%2BPOnfuLEnav39/ga8DAG7GfbQBwEkqVaqkL774Qu%2B//77Wr1%2BvnJwc7d69W7t379aHH36o4sWLKyQkRF26dFGnTp1UrNit/2T7%2BvqqSZMmt4wHBwerdOnSunr1qn7%2B%2BWdVr15d586dU2JioiTpySefNKypXbt2cnFx0enTp5WSkqIaNWpIkuWCTCOPPPKIypcvr7S0NKWlpRnu07x5c7m6Fpzt%2BPj4qFGjRreM%2B/n5KS0tTeHh4bfcR9zPz0%2BSdOnSJavxHj16qEePHobP4%2BLioipVqty21mbNmqlixYq3jFerVk2SlJ6eXuDrAICb0WgDgBP5%2BPjovffe0%2Buvv67Nmzdr586d2rNnjy5cuKCsrCx99913%2Bu6777Rw4ULNmzfP0uzl8/f3Nzyvq6ur/Pz8dOTIEZ08eVKSrC6OzE%2B8jRQrVkxZWVn6z3/%2BY2m0pby1y99%2B%2B61%2B%2BeUXpaam6vLlyzL/9w6xV65ckZSXXBsxalxvVqVKFcPx/PuG5zfVRtuys7Nv2Zabm6sdO3Zo3759Sk1NlclkstSWkpJy21qrVq1qOF6yZElJUlZW1u1eCgBY0GgDwAOgQoUK6t27t3r37i0p7%2BLBXbt2ac2aNdq3b59%2B/fVXvfTSS1q3bp2KFy9uOc7Ly6vAc3p6ekrKu2BSsk5%2Bt2zZcsea8ptnSUpKStLgwYMtTfvdul2dkqxe071sv9np06c1ePDgW5aUFBZvCgTAXmi0AeAB9Pjjj%2Bvxxx9X7969tWzZMk2dOlUpKSn6%2Buuv1bVrV8t%2Bt1uOkZ/Y5u%2BTv/SiePHiSkhIKPRbumdmZuqVV17R6dOnVb16dUVHR6tFixYqV66cpQGOiIjQqVOnCjzH/Xz7%2BKFDh%2BrgwYOqUKGCYmJi1Lp1a1WoUMHSQPft21c//vjjfasHwJ8XjTYAPOD69%2B%2BvFStW6Pjx4/r111%2BttuW/RbuR/G35yXbZsmUl5S19SE9Pt7rY73a2b9%2Bu06dPy8XFRQsWLNBjjz12yz4PyhvpJCYmKiEhQZI0bdo0tWjR4pZ9HpRaARR93HUEAJxg8%2BbNeuutt7RgwYJC7Z%2B/9CJ/nXC%2B3377zXD/nJwcS8Kcv%2Bb45vXcf2zYbyf/riXVqlUzbLKPHz%2BuCxcuFPp8jnTs2DFJstyv%2B4%2BuXr162zfyAQB7otEGACdISEhQXFycFixYoNOnT99233PnzikpKUmSbrkzx4kTJ3To0KFbjvnpp58s76gYHBwsKe/Cy/r160uSVq5cafhcKSkp6tq1q%2BU2gNL/JeLXr183PGbu3LmWz//4Rjf3m4eHh6S8ZTNGFy1%2B/PHHlkTb6CJKALAnGm0AcILnn39ePj4%2BunLlivr372/4FuZms1k//PCDBg4cqKysLDVq1EitWrWy2sfT01NjxoyxSpRNJpPeeecdSXm31Xv00Uct2wYNGiRJWr9%2BvZYuXWq5a4iUlwYPHTpUSUlJOnPmjGW8Tp06kqSzZ88qPj7eMn7t2jVNnjxZCQkJlmb%2B6NGj9zwn9uDv7y83Nzfl5OTos88%2Bs4xnZ2fro48%2BUlxcnMLDwyX9391HAMBRWKMNAE5Qrlw5LV68WDExMfrPf/6jfv36ycfHR48//rhKlSolk8mkkydPWu713KRJE82ZM%2BeWix8jIiJ04sQJtW3bVkFBQSpevLj279%2BvjIwMeXh46K233rLa/69//ateeuklLViwQG%2B//baWL1%2Buxx9/XOnp6Tp06JBycnJUr149jRgxwnJMcHCwQkND9d133ykmJkYNGzZUyZIl9csvv6hYsWJasmSJNmzYoH379mn58uU6fPiwXnnlFTVt2tTxE/kHlSpVUvfu3RUXF6e3335ba9euVdmyZXXo0CFdvXpVc%2BbM0cmTJ7Vt2zZt3LhRffv2VZ8%2BfdShQ4f7XiuAoo9GGwCcxN/fX%2BvWrdOGDRu0detWJSUl6cCBA7px44bc3d1VsWJFtWjRQh07dlRYWJjhnTtcXV21ePFizZs3T5s2bdLp06dVunRpRUZGatiwYVb3wc43fPhwtWzZUitWrNDPP/%2BsnTt3qmTJkgoMDFTHjh3Vp0%2BfW25xN3PmTE2bNk1btmzRL7/8Il9fX0VGRmrQoEGqVq2aKlWqpIMHD2rv3r369ddf7%2BtdRv5ozJgx8vLy0vr163XkyBGVL19eISEhevnll1W3bl1lZmZq165d2r59u3799VerVB8A7MnFzL8wAPDQGTlypP71r3/pb3/7m2WZCADgwcIabQAAAMABaLQBAAAAB6DRBgAAAByARhsAAAAPlf/3//6fWrZsqWHDht12v9zcXM2YMUNt27ZV06ZNNWDAAJ04ccKy3WQyKTY2Vi1btlRoaKjefPNNu757LBdDAgAA4KGxcOFCffnll/L29lalSpU0Y8aMAvf95JNPtGTJEi1cuFAVK1bUjBkztHv3bq1Zs0YuLi6KiYnRjRs39PbbbysrK0uvvvqqAgMDNWbMGLvUSqINAACAh0bJkiX15Zdf6rHHHrvjvnFxcYqKilLNmjXl4eGhYcOGKTk5Wfv379f58%2BcVHx%2BvYcOGydvbWxUrVlR0dLS%2B%2Buorw3eWvRfcRxsAAAD3TWpqquXNuPL5%2BPjI19e3UMf369evUPtlZmbqt99%2BU7169SxjHh4eeuyxx5SQkKArV67Izc1NAQEBlu3169fX77//rqNHj1qN3ysabSCfE99gwyFq1JB%2B/VWqXVsqSm81HRXl7Arsy8dHeucdaeRI6Q8/eB5qZ886uwL7qlRJWrRIGjiwaL22gwedXYF9Va0qffut1KaNdNM63IfesWPOe24H/GyMmzVLc%2BbMsRobMmSIYmJi7Po8ly5dktlslpeXl9W4l5eX0tPTVbZsWXl4eFi9wVb%2Bvunp6XapgUYbKKrKlpXc3PIe8eAqVUpydc17xIOrdOm8/59Kl3Z2JbgdL6%2B8/05eXkWr0S5ievbsqYiICKsxHx8fhz3f7S5HdPSlijTaAAAAMOZq/8v5fH19C71MxBZly5aVq6urTCaT1bjJZFL58uXl7e2tjIwM5eTkyM3NzbJNksqXL2%2BXGrgYEgAAAEVOyZIlVbt2bSUmJlrGLl%2B%2BrOPHj6tBgwaqW7euzGazkpKSLNsTEhJUpkwZ1ahRwy410GgDAADAmKur/T8c6Ny5c2rfvr3lXtm9e/fW8uXLlZycrIyMDE2bNk1169ZVUFCQvL29FRkZqZkzZ%2BrixYs6e/as5s6dq%2B7du6tYMfss%2BmDpCAAAAB4aQUFBkqTs7GxJUnx8vKS8NDorK0spKSm6ceOGJKlXr15KS0tT3759dfXqVYWEhFhdiDlx4kSNGzdObdu2VfHixfXUU0/d8U1w7gaNNgAAAIw5OIG%2BFwkJCQVuq1Klig4fPmz52sXFRUOHDtXQoUMN9/f09NQHH3xg9xrz0WgDAADA2APYaD9MmD0AAADAAUi0AQAAYIxE2ybMHgAAAOAAJNoAAAAwRqJtExptAAAAGKPRtgmzBwAAADgAiTYAAACMkWjbhNkDAAAAHIBEGwAAAMZItG1Cow0AAABjNNo2YfYAAAAAByDRBgAAgDESbZswewAAAIADkGgDAADAGIm2TWi0AQAAYIxG2ybMHgAAAOAAJNoAAAAwRqJtExptAAAAGKPRtgmzBwAAADgAiTYAAACMkWjbhNkDAAAAHIBEGwAAAMZItG1Cow0AAABjNNo2YfYAAAAAByDRBgAAgDESbZswewAAAIADkGgDAADAGIm2TWi0AQAAYIxG2ybMHgAAAOAAJNoAAAAwRqJtE2YPAAAAcAASbQAAABgj0bYJjTYAAACM0WjbhNkDAAAAHIBEGwAAAMZItG3C7AEAAAAOQKINAAAAYyTaNqHRBgAAgDEabZswewAAAIADkGgDAADAGIm2TZg9Jzl58qQCAgKUnJzs7FLuq6CgIO3YscPZZQAAADgciTbuq4SEBGeXAAAACusBTLRPnTqlCRMmaP/%2B/SpVqpQ6duyo4cOHy/UPtb7wwgvavXu31Vh2drYGDx6sIUOGqG/fvtq7d6/VcTVq1NDatWvtViuNNgAAAIw9gI12TEyM6tevr/j4eF24cEEvv/yyKlSooOeff95qv8WLF1t9ffnyZXXs2FFPPvmkZWzSpEl6%2BumnHVbrgzd7fzIJCQl66qmnFBwcrP79%2B%2BvcuXOSpJ07d6pnz54KDg7WX/7yF82dO9fquBUrVqhDhw5q2LChOnXqpPj4eMu2vn376v3331fnzp310ksv3bGGa9eu6Y033lCLFi0UHBysXr166ZdffrFs//rrr9W1a1c1atRIbdu2VVxcnGXbyJEj9eabb6pv37566qmnFBsbq1GjRlmdf%2BnSperQoYMkKSAgQNu3b7fUOX/%2BfL322mtq3Lix/vKXv2jNmjWW4w4cOKDIyEg1bNhQgwYN0ooVKxQREVGomgEAQNGTkJCgpKQkjRgxQp6enqpevbqioqKsepOCzJw5U08%2B%2BaQCAgLuQ6V5SLSdbOXKlVqwYIFKly6twYMHa%2BzYsZo4caKio6M1btw4de7cWb/99psGDhyoatWqqXPnztq0aZPmzJmjRYsWqU6dOtq6datiY2O1adMmPfroo5KkDRs2aNasWQoKCrpjDcuWLdP58%2Be1efNmlShRQgsXLtTYsWP1r3/9SwkJCXrzzTc1e/ZstWjRQvv27dOLL76o2rVrq3HjxpKkLVu26O2331ZYWJg2btyo8ePHKycnR25ubpKkzZs3q2PHjobP/emnn2rq1KmaOnWq5s%2Bfr4kTJ6pjx44ym80aNGiQunTpotjYWO3atUujR49WyZIl71hzYaSmpiotLc1qzKdGDfmWLVuo4x8KdepYPxYVjz3m7Arsq3Jl68eionRpZ1dgX1WqWD8WFQ9gWmmTmjWtH2E7B3yPGP4M9vGRr6/vHY9NTEyUn5%2BfvLy8LGP169dXSkqKMjIy5OHhYXjcsWPHtHr1aqtgUsoLExctWqQzZ86oYcOGmjhxoqpVq3YPr8oYjbaTPfvss5bmOCoqSrGxsVq/fr1q166tbt26ScpLgXv16qU1a9aoc%2BfO%2BvLLL9W9e3cFBgZKkv7617%2BqSZMmWr9%2BvSXBbtCggRo0aFCoGi5fvqzixYvL3d1dxYoVU3R0tKKjoyVJq1atUlhYmEJDQyVJTzzxhDp06KA1a9ZYGm0/Pz%2BFh4dLksLCwnT9%2BnX99NNPatasmS5cuKC9e/dq4sSJhs%2Bdn9hLUocOHTRnzhylpqbq7Nmzunjxol555RW5u7urTZs2at68ufbt23fHmgsjLi5Oc%2BbMsRob8uqrinn11UKf46Hx2WfOrgCF8fLLzq4AhTFypLMrQGHMmuXsCnAbhj%2BDhwxRTEzMHY81mUwqU6aM1Vh%2B052enl5go71gwQL9/e9/l7e3t2WsZs2aeuSRRzRt2jTl5uZq8uTJGjhwoNavX68SJUrc7csyRKPtZDVv%2Bq27WrVqysrK0rFjx5SQkGCVRpvNZtWoUUOSdPz4ce3YsUPLli2z2l6rVi3L135%2BfoWuoU%2BfPhowYIDatGmjv/zlL2rXrp3atm1rea6dO3feUkt%2B4/3H58pviuPj49WsWTNt3bpVtWvXtnqdN6tyUzrk7u4uScrMzFRaWpo8PDysfmMNCgqyNNq3q7kwevbsaVmGks%2Bnc2fppjl96NWpk9dk9%2BkjJSU5uxr76dLF2RXYV%2BXKeU32Rx9JZ844uxr7OX/e2RXYV5UqeU32O%2B9IJ086uxr7SUlxdgX2VbNmXpM9dKhUlO7qtWGD857bAYm24c9gH59CH282m%2B/q%2BUwmk9asWaN///vfVuPjx4%2B3%2BnrixIkKCQnRTz/9pBYtWtzVcxSERtvJbr7SNf8bJzs7W23atNH8%2BfMNj3F3d9fw4cP1wgsvFHje/GUbhVGlShV9/fXX2rVrl7Zu3aq33npLa9eu1axZs%2BTu7q7evXtr7NixhX6uDh066L333tPo0aO1adOmApeNSLrlCuF8ubm5KlbM%2BtvTxcWlUDUXhq%2Bv761/oipqP3DyJSVJ//0FpUho2NDZFTjGmTPSsWPOrsJ%2Bzp51dgWOcfJk0WrgDh50dgWOkZwscd2OfTig0Tb8GVxI3t7eMplMVmMmk0kuLi5WafXNtmzZoho1aqhq1aq3PXd%2BwJd/vZw9FLHFWQ%2BflJuauxMnTsjd3V3169fXkSNHrH5jS0tL040bNyTlJd%2BHDx%2B2Os/p06fv%2Bje8fFevXlVOTo5atmypMWPG6IsvvtDGjRuVnp5u%2BFxnz55VTk5Ogedr06aNLl68qL179%2BqHH364baNdkPLly%2BvSpUvKyMiwjN18a8Db1QwAAIqmwMBAnTlzRhcvXrSMJSQkqFatWipdwLUhW7ZsUatWrazGMjIyNH78eKum%2BuLFi7p48eIdG/K7QaPtZJ9%2B%2BqnS0tJ05coVLVu2TO3atVOnTp1kMpk0b948ZWZm6sSJE3rhhRcsS0V69uypr7/%2BWt98842ys7P1ww8/6KmnntL%2B/fvvqYahQ4fq3XffVUZGhnJzc7Vv3z6VLVtWXl5e6t69u/bu3auvvvpKN27c0KFDh9SjRw9t3LixwPO5u7srLCxM06dPl7%2B//z1dVBAYGKhHHnlECxcu1I0bN7R9%2B3b9%2BOOPhaoZAADYiaur/T9sUK9ePQUFBWn69OnKyMhQcnKylixZot69e0uS2rdvrz179lgdc%2BjQIaulqlJeer1//35NnjxZJpNJly5d0oQJExQQEKDg4GCbarwZjbaT9erVS/3791fr1q1VokQJjR49WuXKldO8efO0ZcsWNW3aVM8995zCw8MtS0VatWqlN954QxMnTlTjxo01ceJEjR8/Xo0aNbqnGiZNmqRjx46pdevWatq0qVasWKG5c%2BfK1dVVNWvW1PTp07Vo0SI98cQTiomJ0YABA%2B6YUud/o3fq1OmeaipdurRmzpyp1atXKyQkRGvWrFFUVJRl%2BcjtagYAAEXXrFmzlJqaqlatWqlfv37q1q2b%2BvTpIylvpcDvv/9utX9aWpoqVKhwy3nmzp0rs9msyMhIhYWFKSsrSwsWLLBrL%2BFivtf1BoCD5S9PyV8DPmvWLP3www/6zFF30bhpDXiREBws7d0rNW5ctNZoR0U5uwL7euwxafz4vA/WaD%2B4ataU5syRhgxhjfaDLDAw78LBTp2K1hptZ/7bEBlp/3Pe5q/iRQ3xHx5IZrNZ7du314wZMyx3Ylm9erXatGnj7NIAAPjzeMCWjjxsuOtIEXfgwAE9%2B%2ByzBW5/9NFHb7ve2llcXFw0Y8YMTZkyRc2aNZOnp6ciIyNveXtVAACABxWNdhHXoEEDq7t1PEwCAwP1%2BeefO7sMAAD%2BvP5kCbS9MXsAAACAA5BoAwAAwBiJtk1otAEAAGCMRtsmzB4AAADgACTaAAAAMEaibRMabQAAABij0bYJswcAAAA4AIk2AAAAjJFo24TZAwAAAByARBsAAADGSLRtQqMNAAAAYzTaNmH2AAAAAAcg0QYAAIAxEm2bMHsAAACAA5BoAwAAwBiJtk1otAEAAGCMRtsmzB4AAADgACTaAAAAMEaibRNmDwAAAHAAEm0AAAAYI9G2CY02AAAAjNFo24TZAwAAAByARBsAAADGSLRtwuwBAAAADkCiDQAAAGMk2jah0QYAAIAxGm2bMHsAAACAA5BoAwAAwBiJtk2YPQAAAMABSLQBAABgjETbJjTaAAAAMEajbRNmDwAAAHAAEm0AAAAYI9G2CbMHAAAAOACJNgAAAIyRaNuERhsAAADGaLRtwuwBAAAADkCiDQAAAGMk2jZh9gAAAAAHINEGAACAsQcw0T516pQmTJig/fv3q1SpUurYsaOGDx8u1z/UOnv2bM2bN0/Film3u9u2bVOFChV0/fp1TZkyRd98842uX7%2BukJAQTZgwQeXKlbNbrQ/e7AEAAODB4Opq/w8bxcTEqGLFioqPj9eSJUsUHx%2BvZcuWGe7btWtXJSQkWH1UqFBBkjRjxgwlJiYqLi5OGzdulNls1qhRo2yu72Y02gAAAHgoJCQkKCkpSSNGjJCnp6eqV6%2BuqKgoxcXF3dV5srOz9eWXXyo6OlqVK1dW2bJlFRsbq2%2B%2B%2BUbnzp2zW70sHQEAAIAxBywdSU1NVVpamtWYj4%2BPfH1973hsYmKi/Pz85OXlZRmrX7%2B%2BUlJSlJGRIQ8PD6v9Dx8%2BrF69eunIkSOqXLmyRo0apdDQUB0/flxXrlxR/fr1LfvWrFlT7u7uSkxMVMWKFW18lXlotIF8UVHOrsC%2BHnss77FLF6lhQ%2BfWYk9Llzq7AvsKDpbGj5fWrpX27XN2NfYzbJizK7AvP7%2B8xxo1pBIlnFuLPeXmOrsC%2B6pe/f8es7OdWQluIy4uTnPmzLEaGzJkiGJiYu54rMlkUpkyZazG8pvu9PR0q0a7UqVKqlq1qoYPHy5fX1/FxcVp0KBBWrt2rUwmkyTdcq4yZcooPT39nl6XERptAAAAGHNAot2zZ09FRERYjfn4%2BBT6eLPZXKj9evTooR49eli%2BjoqK0oYNG7R27Vq1bt36rs51r2i0AQAAYMwBjbavr2%2BhlokY8fb2tqTR%2BUwmk1xcXOTt7X3H4/38/JSammrZ12QyqXTp0pbtly5dUvny5e%2BpNiNcDAkAAICHQmBgoM6cOaOLFy9axhISElSrVi2rhlmS5s2bp507d1qNJScnq2rVqqpataq8vLyUmJho2XbkyBHduHFDgYGBdquXRhsAAADGHrDb%2B9WrV09BQUGaPn26MjIylJycrCVLlqh3796SpPbt22vPnj2S8tLqCRMm6OjRo7p%2B/boWL16s48eP629/%2B5vc3Nz0zDPPaP78%2BTpz5ozS09P1wQcf6Mknn7Tc/s8eWDoCAACAh8asWbM0duxYtWrVSh4eHurVq5f69OkjSUpJSdHvv/8uSRo%2BfLikvLXZJpNJtWrV0tKlS1WpUiVJ0tChQ3rZOPIAACAASURBVHX16lV17dpV2dnZCg8P1/jx4%2B1aK402AAAAjD2A7wxZqVIlLVy40HDb4cOHLZ%2BXLFlSo0eP1ujRow33LVGihMaNG6dx48Y5pE6JRhsAAAAFeQAb7YcJswcAAAA4AIk2AAAAjJFo24RGGwAAAMZotG3C7AEAAAAOQKINAAAAYyTaNmH2AAAAAAcg0QYAAIAxEm2b0GgDAADAGI22TZg9AAAAwAFItAEAAGCMRNsmzB4AAADgACTaAAAAMEaibRMabQAAABij0bYJswcAAAA4AIk2AAAAjJFo24TZAwAAAByARBsAAADGSLRtQqMNAAAAYzTaNmH2AAAAAAcg0QYAAIAxEm2bMHsAAACAA5BoAwAAwBiJtk1otAEAAGCMRtsmzB4AAADgACTaAAAAMEaibRNmDwAAAHAAEm0AAAAYI9G2CY02AAAAjNFo24TZAwAAAByARBsAAADGSLRtwuwBAAAADkCiDQAAAGMk2jah0QYAAIAxGm2bMHsAAACAA5BoAwAAwBiJtk2YPQAAAMABSLQBAABgjETbJjTaAAAAMEajbRNmDwAAAHAAEm0AAAAYI9G2CbP3kJg3b56ee%2B65ArePGTNGr7/%2B%2Bn2s6O7d6TUAAAAUJSTaD4no6GhFR0cXuH3y5MmWz3NycrR8%2BXI9//zz96O0QrvTawAAAA%2BYBzDRPnXqlCZMmKD9%2B/erVKlS6tixo4YPHy5Xg1o///xzLV26VKmpqapWrZpiYmLUrl07SdLIkSO1du1aubm5WfYvWbKk9uzZY7daH7zZg80OHjyoRYsWObsMAADwsHN1tf%2BHjWJiYlSxYkXFx8dryZIlio%2BP17Jly27Zb%2BPGjZo%2BfbqmTp2qH3/8Uc8995xiY2N14sQJyz6vvPKKEhISLB/2bLIlGm2nWLBggcLDw9WwYUNFRkZqzZo12rVrl%2BrXr69t27apbdu2atCggYYMGaKrV69KkmbPnq1nnnlGkrRr1y4FBwdr6dKlaty4sfbt26eRI0dq2LBhOnDggHr16qXz588rKChIP/zwwx3r%2Beabb9S5c2cFBwcrNDRU77//vnJzcyVJJpNJI0aMUGhoqIKDg/XKK6/o3LlzkqSTJ08qICBAn332mZo1a6aPPvpIAQEBOnXqlOXc2dnZCgkJ0YYNG255DU2aNNH27dvVvn17NWrUSAMGDNClS5ck5aXyEydOVHBwsMLCwrRhwwb99a9/1apVq%2B5YMwAAKJoSEhKUlJSkESNGyNPTU9WrV1dUVJTi4uJu2TczM1P/%2BMc/1KRJExUvXlw9evRQ6dKl9fPPP9%2B3elk6cp/t3btXy5cv18qVK1W5cmXt2LFDMTExmjJlirKzs7V69WqtWrVKmZmZev755/XPf/5To0ePvuU8WVlZOnbsmL7//nuVLFnS8g3WoEEDTZo0SdOnT9eOHTvuWE9WVpaGDRumuXPnqkWLFjp27JgGDhyo4OBgtWvXTiNHjlSxYsW0YcMGubm5ady4cRo1apQWL15sOcePP/6orVu3qnTp0lq3bp3i4%2BPVv39/SdLu3bt1/fp1hYeH6%2BjRo1bPfe3aNW3YsEFxcXG6du2aunfvrpUrV%2BrFF1/UJ598on//%2B99auXKlKlasqNGjRys1NbVQNRdGamqq0tLSrMZ8PD3l6%2B1dqOMfCpUrWz8WFcHBzq7AvurUsX4sKvz8nF2Bffn6Wj8WFdevO7sC%2B6pa1foRtnPA0hHDn8E%2BPvItxP9fiYmJ8vPzk5eXl2Wsfv36SklJUUZGhjw8PCzjXbt2tTr28uXLunr1qipWrGgZ%2B%2BGHH7RlyxYdO3ZMNWvW1Pjx4xUYGHivL%2B0WNNr32ZUrV%2BTq6ip3d3e5uLgoNDRUP/30k3bv3i1JGjBggLy8vOTl5aVevXppxYoVBTbaffr0kbu7u031XL9%2BXZmZmSpVqpRcXFxUvXp1bdq0Sa6urrpw4YK2bdumr7/%2B2vINPWLECIWFhVn9D9KtWzfLN3b79u2tGu34%2BHiFhYWpVKlStzx3Tk6OBg4caHm9TZo0sTTj3377rZ566inVrl1bkjR8%2BHBt3rz5jjUXVlxcnObMmWM1NmTwYMUMHVroczw0Xn7Z2RXY1/jxzq7AMT77zNkVoDD69nV2BSiMkSOdXUHR4YBG2/Bn8JAhiomJueOxJpNJZcqUsRrL71HS09OtGu2bmc1mjRkzRg0bNlSzZs0kSVWrVpWrq6teffVVlS5dWnPmzNELL7ygjRs3qly5cvfy0m5Bo32ftWjRQvXq1VNERIRatGih1q1bW/3G9fjjj1s%2Bf/TRRy0prpFHH33U5no8PDw0ePBgPffcc2rQoIFatWqlp59%2BWpUrV7asYerWrZvVMW5ubjpz5oy8/5v%2B3lxHhw4dNG/ePJlMJnl5eSk%2BPl5jxowp8PmrVKli%2BfyRRx5RZmamJCktLU1t2rSxbKtRo4blf57b1VxYPXv2VEREhNWYz0cfFa0mrnLlvCb7o4%2BkM2ecXY39rF3r7Arsq06dvCa7Tx8pKcnZ1djPs886uwL78vXNa7I/%2BUS6zb/LD50//KXxoVe1al6T/c470k3rcB96c%2Bc6uwK7MvwZ7ONT6OPNZvNdPV9WVpZGjhyp3377TcuXL7eMDx482Gq/1157TevXr1d8fLx69OhxV89REBrt%2B6xEiRKaP3%2B%2BkpKStGXLFn366adavHix3njjDUl5Ke/NXFxcCjxXsWL2%2Bc83ZMgQ9ejRQ/Hx8YqPj9eiRYu0bNkyS1q%2Bfft2w9/sTp48KUlWV%2BvWrFlTNWvW1LZt21SzZk1lZGSodevWBT53QSl0bm6uihcvXuC%2BBdXcoEGDQr1mX1/fW/9EdeVK3kdRc%2BaMdOyYs6uwn337nF2BYyQlFa3XFhbm7AocIzVVuuk6lIfeb785uwLHOHGi6L62%2B80Bibbhz%2BBC8vb2lslkshozmUxycXGxBIA3y8zMVHR0tK5du6ZPP/30tkm1m5ubKleufNuQ825xMeR9lpWVpYyMDNWpU0eDBw/W6tWr5eLiYmmwjx8/btn31KlTVuuIHMVkMqlixYp69tlntWTJErVv315r1qyRn5%2BfXF1ddfjwYav68y%2BGLEhkZKS2bdumTZs2qW3btipZsuRd11S%2BfHmriyqPHTumy5cv37FmAABQdAUGBurMmTO6ePGiZSwhIUG1atVS6dKlrfY1m80aNmyYihUrpqVLl1o12WazWW%2B//baSbvpL4o0bN3T8%2BHFVteMafxrt%2B2zx4sV68cUXdfbsWUlScnKyLl26pDP//dP%2B0qVLdeXKFZ09e1ZxcXEKDw%2B/6%2Bdwd3fXlStXdO7cOctSjILs27dPHTp00IEDB2Q2m3XhwgWlpKSoWrVq8vT0VMeOHTVt2jSdPXtWmZmZ%2BuCDD/TCCy/c9s82HTp00K5du7Rt2zZ17NjxruuXpJCQEK1bt04pKSm6cuWKZsyYYVnnfbuaAQCAHT1gt/erV6%2BegoKCNH36dGVkZCg5OVlLlixR7969JeVdK5Z/i75169bpt99%2B0z//%2Bc9bQj8XFxedPHlSEyZM0Llz53T16lVNmzZNxYsXL/SNFQqDpSP32fPPP6/Tp0%2BrW7duyszMVOXKlTVixAhLk9i2bVt169ZNqampatOmjYbew8V5zZs3V5UqVdSuXTu9%2B%2B67t21282/ZFxsbq/Pnz6ts2bLq0KGDnv3v%2BsqxY8dq0qRJ6tSpk1xdXdWoUSPNmzfvtktaatasKV9fX507d06tWrW66/olaeDAgUpOTlbXrl1VuXJljRo1Sj/%2B%2BKNcXV3vWDMAALCTB/ANa2bNmqWxY8eqVatW8vDwUK9evdSnTx9JUkpKin7//XdJ0ldffaVTp05ZLn7M17VrV02ePFlTpkzRu%2B%2B%2Bq6effloZGRlq0KCBli1bZngDh3vlYr7bFeVwiF27dqlfv346cODAPS21KIpu3LihEiVKSMpbstKoUSMtWrRILVq0cMwTPmDvpGmzxx7Lu7hz/PiitUZ76VJnV2BfwcHS3r1S48ZFa432sGHOrsC%2B/Pyk4cOl6dOL1hrtxERnV2BftWrlXTg4eHDRWqO9caPznnvnTvuf01E/xx9AD96vKYCk1atXKzw8XCkpKcrKytJHH30kT09PBQUFObs0AAD%2BPB6wpSMPG5aOFHGDBg267RvXTJo06Zbb9z0IunTpouTkZPXr108ZGRmqVauW5s6dW%2BD9MQEAAB40NNoPiJCQEKu7e9jL/Pnz7X7O%2B8HV1VXDhw/X8OHDnV0KAAB/Xn%2ByBNreaLQBAABgjEbbJsweAAAA4AAk2gAAADBGom0TZg8AAABwABJtAAAAGCPRtgmNNgAAAIzRaNuE2QMAAAAcgEQbAAAAxki0bcLsAQAAAA5Aog0AAABjJNo2odEGAACAMRptmzB7AAAAgAOQaAMAAMAYibZNmD0AAADAAUi0AQAAYIxE2yY02gAAADBGo20TZg8AAABwABJtAAAAGCPRtgmzBwAAADgAiTYAAACMkWjbhEYbAAAAxmi0bcLsAQAAAA5Aog0AAABjJNo2YfYAAAAAByDRBgAAgDESbZvQaAMAAMAYjbZNmD0AAADAAUi0AQAAYIxE2ybMHgAAAOAAJNoAAAAwRqJtExptAAAAGKPRtgmzBwAAADgAiTYAAACMkWjbhEYbAAAAxmi0bcLsAQAAAA5Aog0AAABjJNo2YfYAAAAAByDRBgAAgDESbZvQaAMAAMAYjbZNmD0AAAA8NE6dOqWXXnpJISEhCg8P1/vvv6/c3FzDfZcvX67IyEg1btxYvXv31i%2B//GLZdv36db311ltq3bq1QkJCNHToUKWnp9u1VhptAAAAGHN1tf%2BHjWJiYlSxYkXFx8dryZIlio%2BP17Jly27Zb%2BvWrZo9e7bee%2B89ff/99woPD9egQYP0%2B%2B%2B/S5JmzJihxMRExcXFaePGjTKbzRo1apTN9d2MRhsAAAAPhYSEBCUlJWnEiBHy9PRU9erVFRUVpbi4uFv2jYuL09NPP62GDRvK3d1dAwcOlCRt27ZN2dnZ%2BvLLLxUdHa3KlSurbNmyio2N1TfffKNz587ZrV7WaAMAAMCYA9Zop6amKi0tzWrMx8dHvr6%2Bdzw2MTFRfn5%2B8vLysozVr19fKSkpysjIkIeHh9W%2BHTt2tHzt6uqqunXrKiEhQXXr1tWVK1dUv359y/aaNWvK3d1diYmJqlixoi0v0YJGG8h39qyzK7Cv0qXzHs%2BfL1qvbdgwZ1dgX35%2BeY/PPiuFhTm1FLuaMcPZFdhXcLA0fLj06afSvn3OrsZ%2BWrd2dgX2df36/z1mZjq3liLCLBe7nzMuLk5z5syxGhsyZIhiYmLueKzJZFKZMmWsxvKb7vT0dKtG22QyWTXk%2Bfump6fLZDJJ0i3nKlOmjF3XadNoAwAA4L7p2bOnIiIirMZ8fHwKfbzZbLbbvndzrntBow0AAABDBdzMwya%2Bvr6FWiZixNvb25JG5zOZTHJxcZG3t7fVeLly5Qz3rV27tmVfk8mk0vl/AZZ06dIllS9f/p5qM8LFkAAAAHgoBAYG6syZM7p48aJlLCEhQbVq1bJqmPP3TUxMtHydk5OjgwcPqmHDhqpataq8vLysth85ckQ3btxQYGCg3eql0QYAAICh3Fz7f9iiXr16CgoK0vTp05WRkaHk5GQtWbJEvXv3liS1b99ee/bskST17t1bq1ev1s8//6xr167pww8/VIkSJRQWFiY3Nzc988wzmj9/vs6cOaP09HR98MEHevLJJ1WhQgVbp82CpSMAAAAw5IilI7aaNWuWxo4dq1atWsnDw0O9evVSnz59JEkpKSmW%2B2S3bt1a//jHPxQbG6sLFy4oKChICxYskLu7uyRp6NChunr1qrp27ars7GyFh4dr/Pjxdq2VRhsAAAAPjUqVKmnhwoWG2w4fPmz1dZ8%2BfSxN%2BB%2BVKFFC48aN07hx4%2BxeYz4abQAAABh6EBPthwlrtAEAAAAHINEGAACAIRJt29BoAwAAwBCNtm1YOgIAAAA4AIk2AAAADJFo24ZEGwAAAHAAEm0AAAAYItG2DY02AAAADNFo24alIwAAAIADkGgDAADAEIm2bUi0AQAAAAcg0QYAAIAhEm3b0GgDAADAEI22bVg6AgAAADgAiTYAAAAMkWjbhkQbAAAAcAASbQAAABgi0bYNjTYAAAAM0WjbhqUjAAAAgAOQaAMAAMAQibZtSLQBAAAAByDRBgAAgCESbdvQaAMAAMAQjbZtWDoCAAAAOACJNgAAAAyRaNuGRBsAAABwABJtAAAAGCLRtg2NNgAAAAzRaNuGpSMAAACAA5BoAwAAwBCJtm1otAEAAGCIRts2LB0BAAAAHIBEGwAAAIZItG1Dog0AAAA4AIk2AAAADJFo24ZGGwAAAIZotG3D0hEAAADAAUi0AQAAYIhE2zYk2gAAAIADkGgDAADAEIm2bUi0H1CnTp1SUFCQUlJSnF2K3axevVoRERHOLgMAABRSbq79P/5MaLQfUH5%2BfkpISFCNGjWcXYrddOvWTVu3bnV2GQAAoIgymUyKjY1Vy5YtFRoaqjfffFOZmZkF7r9p0yZ16dJFwcHBioyM1MqVKy3bZs%2Berbp16yooKMjq4/z584Wuh6UjAAAAMPSwJdBjx47VjRs3tH79emVlZenVV1/VtGnTNGbMmFv2PXDggEaMGKEPPvhAYWFh2rFjhwYPHqzHH39cTzzxhCSpa9eueuedd%2B65HhJtJ2jTpo1VstunTx/16NHD8vXOnTsVEhKigIAAJScnS5IiIiL0xRdf6KWXXlJwcLDatWun7777znJMUlKS%2BvfvryeeeELNmzfX5MmTlZWVVah69u/fr2eeeUbBwcEKCQmx%2Bu0vMzNTEydOVFhYmBo1aqS%2Bffvqt99%2BsxwbEBCgpUuXKjQ0VHPmzFFgYKB%2B/PFHq/N36dJFCxYs0KpVq9SqVStJ0smTJxUQEKAdO3aoW7duatSokXr16qWTJ09ajps3b56aNm2qFi1aaOnSpXr%2B%2Bec1e/bsO9YMAAD%2BfM6fP6/4%2BHgNGzZM3t7eqlixoqKjo/XVV18Z9kQmk0kvv/yy2rVrp2LFiqlNmzby9/fXnj177FYTibYThISEaN%2B%2BfYqIiND169d1/Phxubm56dq1a3rkkUe0Z88eNW/eXP/7v/9rddzHH3%2Bs9957T3Xq1NH48eM1depUff3117p27ZoGDhyovn37auHChTp37pyio6P18ccfa9CgQXes5/XXX9fAgQP197//XefPn1d0dLTi4uLUv39/TZs2TQcPHlRcXJy8vLw0a9YsDRkyRP/%2B97/l4uIiSYqPj9fq1atVvnx5JSQkKD4%2BXs2aNZMknThxQocPH9bcuXO1e/fuW557%2BfLl%2Buijj1SyZEn169dPixYt0vjx47V582bNnz9fixcvVr169fT2228rMTFRjRs3vmPNhZGamqq0tDSrMR9vb/mWK1eo4x8KVapYPxYVfn7OrsC%2BfH2tH4uK4GBnV2BfdepYPxYVtWs7uwL7qlbN%2BhE2c0Sibfgz2MdHvjb%2BO3jo0CG5ubkpICDAMla/fn39/vvvOnr0qNW4JLVu3VqtW7e2fJ2dna20tDRVrFjRMnb48GH16tVLR44cUeXKlTVq1CiFhoYWuiYabSdo3ry5Vq1aJSkvma1du7aKFSum/fv3q3nz5tqzZ486dOhwS6MdHh6uBg0aSJIiIyO1evVq5ebm6ptvvpHZbNbLL78sSapataoGDBigjz76qFCN9uXLl1WqVCm5urrK19dXK1eulKurq3Jzc7Vq1SrNnDnT8k0XGxurFStW6MCBA2rYsKEkqUOHDqpQoYLl89mzZ2v06NGSpM2bN6tBgwaqWrWqYaPdu3dvy7lDQ0OVkJAgSfr2228VGhpq%2BdPN66%2B/rjVr1tyx5sKKi4vTnDlzrMaGREcr5tVXC32Oh8bIkc6uAIXRt6%2BzK7Cv4cOdXYFjfPaZsytAYbz1lrMrKDIc0Wgb/gweMkQxMTE2nddkMsnDw8MSBEqSl5eXJCk9Pf2Ox0%2BbNk2lSpVSx44dJUmVKlVS1apVNXz4cPn6%2BiouLk6DBg3S2rVr9fjjjxeqJhptJwgJCdHEiROVnZ2t3bt3q3HjxnJxcdFPP/2kJk2aaP/%2B/Zo0adItx1W5KZl0d3dXTk6OsrKydOLECV24cEFBQUGW7WazWSVKlChUPf/4xz80evRoffzxxwoNDVXXrl1Vs2ZNXbhwQVevXlV0dLTVN21ubq7OnDljabQfffRRy7a2bdtqzJgxSkpKUp06dbR582Z16tSpwOe%2B%2BTU98sgjun79uiQpLS1N1W5KJDw9PVW9evU71lxYPXv2vOUOKD5Tp0pDhhT6HA%2B8KlXymux33pFuWpLz0CtCFwhLykuy%2B/aVPvlESk11djX28%2Bmnzq7AvurUyWuy%2B/SRkpKcXY39/PevhEVGtWp5TfbEidLx486uxn4WLXJ2BXZl%2BDPYx6dQx65Zs0avv/664bZhw4bJbDbfdT1ms1nTpk3T%2BvXrtXz5cpUsWVKS1KNHD6ulvVFRUdqwYYPWrl2r2NjYQp2bRtsJ/Pz8VKFCBR08eFB79uzRiy%2B%2BKClvacjBgwfl7e1tmM4WlNiWLFlStWvX1rp16%2B6pnh49eqhdu3baunWrtmzZom7dumnGjBkKCQmRJP3P//yPAgMDCzzezc3N8rmnp6dCQ0MVHx%2Bv8uXL68CBA5o5c2aBx97cwN8sNzdXxYpZf3ve/PoLqrldu3aFes2%2Bvr63/onq4sW8j6Lm5Enpv2v9i4RC/gL50ElNlU6dcnYV9rNvn7MrcIykpKL12jw9nV2BYxw/Lv36q7OrKBIckWgb/gwupK5du6pr166G23bs2KGMjAzl5ORYehOTySRJKl%2B%2BvOExubm5GjVqlA4cOKDPP/9cVatWve3z%2B/n5KfUuQhEuhnSSkJAQ7d69WwkJCWrUqJEaNGighIQE7d69Wy1atLirc1WrVk0nTpzQ1atXLWPp6enKyMgo1PHp6ekqV66c/v73v2vevHl6%2BeWX9eWXX8rT01Nly5bV4cOHrfY/eYd0tH379tq2bZvi4%2BPVqFEjq7VOhVW%2BfHmdPn3a8nVGRobVPcULqhkAAPw51a1bV2azWUk3/dUpISFBZcqUKfB2yVOnTtWvv/5q2GTPmzdPO3futBpLTk6%2BYzN%2BMxptJ2nevLm%2B%2BOILVa9eXaVKlZKHh4cqV66sf/3rX3fdaIeGhsrb21vvvvuuMjIylJaWZrmdzZ2cPXtWERER%2Bu6775Sbm6srV67oyJEjlmUbvXr10ocffqjk5GRlZWVp6dKl6t69u65du1bgOdu2bavffvtNa9eutaxzulvNmzfX9u3bdeDAAWVmZuq9996Tu7t7oWoGAAD28TC9YY23t7ciIyM1c%2BZMXbx4UWfPntXcuXPVvXt3y1/J%2B/fvr6%2B//lqS9NNPP2nt2rVasGCBypYte8v5TCaTJkyYoKNHj%2Br69etavHixjh8/rr/97W%2BFromlI04SEhKiESNGKCoqyjLWuHFjff7552rRosVtG9k/Kl68uObNm6fJkyerVatW8vDwUNu2bfXGG2/c8dhKlSppypQpmjJlik6fPi0PDw%2B1bt1aQ4cOlSRFR0fr8uXL6tOnj7KyslS3bl0tXLhQjzzySIHn9PT0VIsWLbR9%2B/ZbLnYorC5duuiXX35Rv3795OXlpaFDh%2BrQoUNycXG5Y80AAMA%2BHrb7aE%2BcOFHjxo1T27ZtVbx4cT311FMaNmyYZfuJEyd06dIlSdJXX32lK1euKDw83OocTZs21eLFizX8vxd1R0VFyWQyqVatWlq6dKkqVapU6HpczPeyahy4D27cuGF1QWd4eLiio6OtLkywqw4dHHNeZ6lZU5ozJ%2B8Cz6K0RrtuXWdXYF9%2Bfnl36Jg%2BvWit0Z4xw9kV2FdwsLR3b97Fg0VpjfZNtzYrEmrXzrtwcODAorVG%2B9tvnfbUGzfa/5yRkfY/54OKpSN4IO3evVtNmzbVgQMHlJOTo1WrViktLe2ul9UAAIB79zAtHXkQsXSkiJs0aZJWrlxZ4PZXXnlF0dHR97GiwmnatKmGDRum2NhYXbx4UVWrVtXMmTOtbgcIAADwIKPRLuLGjh2rsWPHOruMexIVFWW1hh0AANxff7YE2t5otAEAAGCIRts2rNEGAAAAHIBEGwAAAIZItG1Dog0AAAA4AIk2AAAADJFo24ZGGwAAAIZotG3D0hEAAADAAUi0AQAAYIhE2zYk2gAAAIADkGgDAADAEIm2bWi0AQAAYIhG2zYsHQEAAAAcgEQbAAAAhki0bUOiDQAAADgAiTYAAAAMkWjbhkYbAAAAhmi0bcPSEQAAAMABSLQBAABgiETbNjTaAAAAMESjbRuWjgAAAAAOQKINAAAAQyTatiHRBgAAAByARBsAAACGSLRtQ6MNAAAAQzTatmHpCAAAAOAAJNoAAAAwRKJtGxJtAAAAwAFItAEAAGCIRNs2NNoAAAAwRKNtG5aOAAAAAA5Aog0AAABDJNq2IdEGAAAAHIBEGwAAAIZItG1Dow0AAABDNNq2YekIAAAA4AAk2gAAADBEom0bEm0AAADAAUi0AQAAYIhE2zYk2gAAADCUm2v/D0cymUyKjY1Vy5YtFRoaqjfffFOZmZmG%2B65atUp16tRRUFCQ1ceBAwf%2B%2B9pzNWPGDLVt21ZNmzbVgAEDdOLEibuqh0YbAAAARcLYsWN17do1rV%2B/Xl999ZWSk5M1bdq0Avdv2rSpEhISrD4aNGggSfr000%2B1bt06LViwQNu2bVP16tU1ePDg/9/e/cfXXP//H7%2BfGSOLmpD9IuVHZCjMb9nIEPMzJOVXyTDv6Y36yu9fFUpFVN4qUiEy5bexpND83MiPmBhj5sewYWc72/eP5XxaO9jMvHbObtfLZZdtz9frnHM/e%2B3HY4/zfD1fSk9Pz3YeCm0AAADYZE8d7fPnz2vjxo0Kpyl%2BIgAAIABJREFUCQmRm5ubypYtq6CgIC1btkwpKSk5vr/Fixerd%2B/eevzxx%2BXq6qqQkBAdO3ZM%2B/bty/Z9UGgDAADA7h08eFCFChVSlSpVrGPVq1fXtWvXFB0dbfM2Z86cUZ8%2BfVS3bl35%2B/srNDRUknTjxg0dPXpU1apVs%2B7r6uqq8uXLKyoqKtuZOBkSAAAANuVFB/rcuXOKj4/PNFa6dGmVKVMmV/ebkJAgV1dXmUwm61jJkiUlSZcuXcqyv5ubmypUqKBhw4bpiSee0IYNGzRixAiVKVNGFStWVHp6uvX2/7w/W/d1KxTawE1//GF0gnvL6e8XrI4fd6zn5minwCcnZ7yPjpaOHjU2y73UtKnRCe6tSpUy3j/9tPTgg8ZmuZe2bDE6wb119WrG%2B927pT17jM3iIPLiV%2B7ixYs1a9asTGODBw/WkCFD7njb0NBQjRgxwua2kJCQHM2ffvbZZ/Xss89aP2/btq02bNig5cuX67///a8k5ej%2BbKHQBgAAwH3TrVs3%2Bfn5ZRorXbp0tm4bGBiowMBAm9t%2B/fVXJSYmymKxqFChQpIyutySVKpUqWzdv4eHh/bv36%2BHHnpITk5O1tvflJCQkO37kii0AQAAcAt50dEuU6ZMrqeJ2PLkk08qPT1dhw4dUvXq1SVJUVFRKlGihB577LEs%2B3/77bcqWbKk2rRpYx07duyYvLy85OLiokqVKunAgQOqV6%2BeJOnKlSs6efKkdVWS7OBkSAAAANg9Nzc3tWrVSjNnztTFixd19uxZzZ49W126dJGzc0Zv%2BZVXXtHq1aslSWazWRMnTlRUVJRSUlL0008/acuWLerevbskqUePHlqwYIGOHTumxMRETZ8%2BXU8%2B%2BaRq1KiR7Ux0tAEAAGCTvZ0WM2HCBI0dO1b%2B/v4qXLiwnn/%2BeYWEhFi3x8TE6PLly5Kkl19%2BWUlJSRo6dKji4%2BPl6emp2bNn66mnnpIkde/eXfHx8erVq5eSkpLk6%2BubZW75nVBoAwAAwCZ7K7QffPBBvf/%2B%2B7fcvmnTJuvHJpNJQUFBCgoKsrmvyWRScHCwgoOD7zoPU0cAAACAPEBHGwAAADbZW0c7v6GjDQAAAOQBOtoAAACwiY527lBoAwAAwCYK7dxh6ggAAACQB%2BhoAwAAwCY62rlDRxsAAADIA3S0AQAAYBMd7dyh0AYAAIBNFNq5w9QRAAAAIA/Q0QYAAIBNdLRzh0IbAAAANlFo5w5TRwAAAIA8QEcbAAAANtHRzh062gAAAEAeoKMNAAAAm%2Bho5w6FNgAAAGyi0M4dpo4AAAAAeYCONgAAAGyio507dLQBAACAPEBHGwAAADbR0c4dCm0AAADYRKGdO0wdAQAAAPIAHW0AAADYREc7d%2BhoAwAAAHmAjjYAAABsoqOdOxTaAAAAsIlCO3eYOgIAAADkATraAAAAsImOdu7Q0QYAAADyAB1tAAAA2ERHO3cotAEAAGAThXbuMHUEAAAAyAN0tAEAAGATHe3coaMNAAAA5AE62gAAALCJjnbuUGgDAADAJgrt3GHqCAAAAJAH6GgDAADAJjrauUNHGwAAAMgD%2BaLQ9vPz07fffputfatUqaItW7ZIklq1aqWlS5fmZbR74siRI2rVqpVq1apldJR7LifHLq/u5%2BOPP9YLL7yQ6wwAACCztLR7/1aQ5GjqyPr161WlShWVL1/%2BtvtZLBYtWLBAffr0yVW4O1m3bp3145iYGB04cEABAQF5%2Bph3Y8mSJSpRooRWrVpldBQAAIBss7fCOCEhQePGjdPvv/8uJycnNWvWTKNHj1bRokWz7Pv2228rNDQ005jFYlFgYKCmTp2qN998UytXrlShQoWs211cXLRz585s58lRR/ujjz7SiRMn7rjfH3/8oXnz5uXkrnNt/fr1mQrv/CQpKUmenp5ydmZKPAAAQF4ZPXq0rl%2B/rp9%2B%2BknLli3TsWPHNH36dJv7Tpo0SVFRUda3PXv2qGLFipmatgMHDsy0T06KbCkHhXb79u31559/KigoSG%2B99Zb%2B/PNPvfzyy6pTp458fX01duxYJScnKzIyUt27d9f58%2BdVo0YNbd%2B%2BXenp6Zo%2BfbqaNWum2rVrq2PHjoqIiMhRUFtuTjf43//%2Bp%2BnTp2vt2rWqUaOGLBaLevXqpWnTpqldu3Z67bXXJEmnT5/W66%2B/Ll9fX9WtW1cjRoxQYmKiJOn69esaOXKkGjRooNq1a6t79%2B7av39/tnKkpaVp9uzZatmypXx8fNSxY0dt27ZNkjRixAitWLHCmu1Oli9frpYtW2rp0qVq0qSJatWqpTFjxig1NVWS9OabbyokJMS6f3JysqpUqaIdO3ZIUo6f953k5NhZLBZNnz5djRo1Ut26dTV06FAlJCTc8Wt0U1JSkoKDg1WrVi01b97c%2Bpwk3fL7DQAA5B17mjpy/vx5bdy4USEhIXJzc1PZsmUVFBSkZcuWKSUl5Y63/%2Bqrr%2BTu7q5mzZrds0zZLrRXrlwpSfrkk080fvx49e3bVzVr1tTWrVu1dOlSRURE6MMPP5SPj48mTpyoRx55RFFRUapfv75CQ0O1YsUKLV68WDt37pS/v7%2BCg4NlsVjuyZPo16%2BfAgMDFRAQoKioKGuLf9WqVZo8ebI%2B/fRTpaenKygoSOXKlVN4eLjWrl2ruLg4vfvuu5Iyvrjnz5/Xhg0btGPHDjVp0kSjR4/O1uMvWrRIS5cu1axZs7Rz5061a9dOQUFBunDhgt57771M2bIjLi5OUVFRWr9%2BvZYtW6ZNmzZp0aJF2f565OR530lOjt3ChQu1YcMGLV68WOHh4bp%2B/bomTpx4x6/RTd9//7369%2B%2BvHTt2qE6dOpo0aZIkyWw23/L7DQAAQJIOHjyoQoUKqUqVKtax6tWr69q1a4qOjr7tba9cuaK5c%2Bdq%2BPDhmca3b9%2BuDh06qHbt2urSpUu2m7A33dVchi1btuj69esaMmSIihQpIm9vb/Xs2VPz5s3TiBEjsuzfrl07%2Bfv768EHH5QktW3bVh9//LFiY2Pl5eV1NxGyxcfHRz4%2BPpKkyMhI/fnnn/r2229VrFgxFStWTEOGDFG/fv00YcIEXblyRYULF1bRokXl7OysoKAgBQUFZetxvv/%2Be7344ovWA9u3b1/NmzdP4eHh6ty5c45zJycn6z//%2BY%2BKFSumxx9/XG3btlV4eLheeeWVe/68TSbTbe8rJ8du%2BfLl6tGjhzw9PSVlvHxz7NgxSdn7Gvn5%2BVlzP/fcc1qzZo2knH%2B/Zce5c%2BcUHx%2Bfaay0u7vKuLnd1f3lS48/nvm9o6hQwegE99bNn6M8/F1oCEd7xcnbO/N7R3H1qtEJ7q2qVTO/R67lRQfa5t/g0qVVpkyZXN1vQkKCXF1dM9U2JUuWlCRdunTptrf9%2BuuvVbduXVWqVMk65uXlJScnJw0dOlTFixfXrFmz1LdvX61bt04PP/xwtjLdVaF96tQpeXl5qUiRItax8uXLKzY2Vmk2jsj169c1ZcoUbdmyRZcvX7aOm83mu3n4bPPw8LB%2BHBMTI4vFIl9f30z7WCwWXbp0SS%2B%2B%2BKL69eunZs2aqUmTJmrRooX8/f2z9TinTp3S4/8qZry9vXX69Om7yl2yZEm5/aPgc3d319atW7N9%2B5w8b7c7FJY5OXYxMTHWIlvK%2BAa9WYxn52v0z9u6uLhYX%2BbJ6fdbdixevFizZs3KNDY4KEhDhg69q/vL1z76yOgEyI433zQ6AbJjzBijEyA7vvnG6AQOIy8KbZt/gwcP1pAhQ%2B5429DQ0Fs22UJCQpSenp7jPBaLRYsWLdKMGTMyjQ8aNCjT58OHD9dPP/2kjRs3qmvXrtm677sqtG9VIN%2BqOzp%2B/HgdPnxYixYtUvny5RUTE6OWLVvezUPnyL/PEn3ggQe0Z88em/u6ublp9erV2rFjhzZt2qQxY8Zo5cqV%2BigbRUpOvx538u9pGenp6be8L1tTOHLyvO8kJ8fOZDLdsvDNztfoVs/xXn99Jalbt27y8/PLNFa6f39p/fq7vs985/HHM4rs4GDp71cWHIIjdrTffFN65x0pJsboNPeOI3a0x4yRJkyQTp40Os29s3u30QnurapVM4rsF1%2BUDh0yOs2942DHyebf4NKls3XbwMBABQYG2tz266%2B/KjExURaLxVoL3TxXrFSpUre8z4iICJnNZtWpU%2Be2j12oUCGVK1dO586dy1ZW6S4LbS8vL8XExMhsNlu7jNHR0fL09JSTU9Zp35GRkeratasq/P0H8sCBA3fzsLni7e2ta9euKSYmxtplTUxMVEpKih5%2B%2BGElJSWpcOHCatiwoRo2bKg%2BffrIz89Ply5duuPLA97e3oqOjrZ2wFNTU3XixAl17979rrImJibq4sWL1m5zbGysypYtK0kqUqSI9ZtGkk7e4Rf%2BnZ73neTk2Hl5een48ePWz0%2BcOKGtW7eqZ8%2Beufoa5fT7LTvKlCmT9SWq2NiMN0dz7JiUwzll%2BdrfJwY7nJgY6ehRo1PcOzduGJ0gb5w8Kf35p9Ep7p27bMLke4cOOe5zu8/yoqNt82/wPfDkk08qPT1dhw4dUvXq1SVJUVFRKlGihB577LFb3i4sLEz169fPtDpcenq63nnnHXXs2FFV/56KZDabdfLkyRxNe85RleLi4qITJ06oSZMmcnZ21uzZs2U2mxUdHa0FCxaoQ4cOkqSiRYvq6tWriouL040bN%2BTp6amoqCiZzWbt3bvXup50Tv4jyE62M2fO6MqVK9YVOv6pcuXKql27tiZPnqyLFy/qypUrGjt2rPXlh%2BDgYL377rtKTExUWlqa9uzZo4ceesg6t%2Bd2AgMD9c033%2BjYsWMym82aO3euLBZLlv/WsqtIkSKaPXu2bty4oaNHj2rVqlXW%2B6pQoYL27duns2fP6urVq5o/f36mDnZOn/ed5OTYde7cWd9%2B%2B62io6OVlJSkadOmWZfByc3XqGnTprf9fgMAAHBzc1OrVq00c%2BZMXbx4UWfPntXs2bPVpUsXaxH9yiuvaPXq1Zlud/DgwUzTV6WMV81PnTql8ePHKy4uTklJSZo%2BfboKFy6sFi1aZDtTjgrt7t2767333tPw4cP12WefKSIiQg0aNNCrr76qwMBAvf7665Kk%2BvXry9PTUy1atNCmTZv0xhtv6NixY6pXr54%2B%2BOADjR49Wi1btlRQUNA96263a9dOx48fV/PmzW9ZwM%2BYMUPp6eny9/dXy5YtZbFY9M4770iSJk6cqBMnTqhp06aqW7euvv76a82ePTtbHdO%2BffsqICBAr776qho2bKgdO3ZowYIFKlGixF09lxIlSqhy5cpq2bKlunTpIn9/f2vnt0uXLqpevboCAgLUuXNnPf/88zYXYc/u876TnBy7Xr16qUOHDurRo4eaN2%2BuQoUKWVduyc3XqHjx4rf9fgMAAHnDnpb3k6QJEybowQcflL%2B/v9q3by8fH59MyyLHxMRkOudMkuLj4/XII49kua/JkyerQoUK6tSpkxo2bKiDBw/qq6%2B%2B0gMPPJDtPKb0u5k1jjyzfPlyzZgxQ7/%2B%2BqvRUQqeO1zx1O489ZS0apXUtq1jTR1xtNUEnnhCmj1bGjSIqSP5WaVK0rx5Uv/%2BjjV1ZMsWoxPcW7VrZ8xnfvppx5o6YmCp1qDBvb/Pf11Gw6Hd3QRXAAAAALeVr64J3r59%2B0wn0/3b/PnzVbdu3fuYKGNKyZIlS265feDAgdlebzsyMlI9e/a85XZ3d3cNGDAgxxnv1v/%2B9z/NnDnzltsDAwOtF40BAAAFT15P9XB0%2BarQvnn1yfxk9OjR2b5C5J34%2BPhk6%2BqQnTp1uiePdyf9%2BvVTv3797stjAQAA%2B0OhnTtMHQEAAADyQL7qaAMAACD/oKOdO3S0AQAAgDxARxsAAAA20dHOHQptAAAA2EShnTtMHQEAAADyAB1tAAAA2ERHO3foaAMAAAB5gI42AAAAbKKjnTsU2gAAALCJQjt3mDoCAAAA5AE62gAAALCJjnbu0NEGAAAA8gAdbQAAANhERzt3KLQBAABgE4V27jB1BAAAAMgDdLQBAABgEx3t3KGjDQAAAOQBOtoAAACwiY527lBoAwAAwCYK7dxh6ggAAACQB%2BhoAwAAwCY62rlDRxsAAADIA3S0AQAAYBMd7dyh0AYAAIBNFNq5w9QRAAAAIA/Q0QYAAIBNdLRzh442AAAAkAfoaAMAAMAmOtq5Q6ENAAAAmyi0c4epIwAAAEAeoKMNAAAAm%2Bho5w4dbQAAACAP0NEGAACATXS0c4dCGwAAADZRaOcOU0cAAACAPEBHGwAAADbR0c4dOtoAAABAHqCjDQAAAJvoaOcOHW0AAADYlJZ279/yWlRUlFq2bKkXXnjhjvsuWLBArVq10tNPP60ePXpo//791m3JyckaM2aMmjZtKl9fXwUHB%2BvSpUs5ykKhDQAAAIewcuVKDRkyROXLl7/jvps2bdLHH3%2Bs9957T7/99puaN2%2Bu119/XdeuXZMkffDBBzpw4IAWL16sdevWKT09XW%2B99VaO8lBoAwAAwCZ762gnJydr8eLFqlmz5h33Xbx4sTp16qSaNWuqaNGi6t%2B/vyRp8%2BbNSk1N1ffff6%2BgoCCVK1dODz30kP7zn/8oPDxccXFx2c5DoQ0AAACH0LVrV5UtWzZb%2Bx44cEDVqlWzfu7k5KQnn3xSUVFROnnypK5evarq1atbtz/%2B%2BOMqWrSoDhw4kO08nAwJAAAAm/KiA33u3DnFx8dnGitdurTKlClz7x/sNhISElSyZMlMYyVLltSlS5eUkJAgSSpRokSm7SVKlMjRPG0KbeCmEyeMTnBPnTt3Tos//ljdvvjivv/yQvZZj9PYsRynfMx6nKZM4TjlY9bjtHYtx%2BkeSU%2B/9/f58ceLNWvWrExjgwcP1pAhQ%2B5429DQUI0YMcLmtqlTp6pTp045ypJ%2Bhyd4p%2B13QqENOKj4%2BHjNmjVLfn5%2B/MHJxzhO9oHjZB84TvahW7du8vPzyzRWunTpbN02MDBQgYGB9yTHww8/bO1c35SQkKBKlSrJzc3N%2Bnnx4sWt2y9fvqxSpUpl%2BzEotAEAAHDflClTJl/8I/TUU0/pwIED6tixoyTJYrHojz/%2BUJcuXeTl5aWSJUvqwIED8vDwkCQdOXJEZrNZTz31VLYfg5MhAQAAUCAEBARo586dkqQePXpoxYoV2rt3r65fv645c%2BaoSJEievbZZ1WoUCG98MILmjt3rs6cOaNLly7p/fffV8uWLfXII49k%2B/HoaAMAAMAhtGrVSrGxsbJYLEpLS1ONGjUkSWvXrpWHh4eOHz9uXSe7adOmGjZsmP7zn//owoULqlGjhj777DMVLVpUkhQcHKykpCQFBgYqNTVVzZs317hx43KUx5Se21neAPKlc%2BfOafHixerWrVu%2BeIkOtnGc7APHyT5wnJDfUGgDAAAAeYA52gAAAEAeoNAGAAAA8gCFNgAAAJAHKLQBAACAPEChDQAAAOQBCm0AAAAgD1BoAwAAAHmAQhsAAADIAxTaAAAAQB6g0AYc3OXLl42OANid5ORkLVy40Pp5WFiYBg4cqHfeeUdJSUkGJgNgT7gEO%2BBADhw4oNGjR2v58uWSpKFDh2rdunV6%2BOGH9cknn6h27doGJ4SUUbT5%2B/tLkqKiohQaGqry5curZ8%2BecnKi/5EfvP322zpy5IiWLFmi6OhodezYUa%2B%2B%2BqqOHDkiV1dXTZkyxeiIBVa3bt1kMpmyte93332Xx2mA23M2OgCAe2fSpElq0aKFJGnjxo3atWuXNm3apN27d2vatGn65ptvDE6I6dOna/369fL399fZs2f1yiuvqFWrVlq9erViY2M1cuRIoyNCGf8M/fjjj5Kk0NBQNW7cWIMHD9bVq1fVunVrg9MVbE2aNDE6ApBtFNqAAzly5Ij15e6wsDC1adNG7u7uKleunMaPH29wOkgZRduiRYskScuXL1etWrU0depUXbhwQZ07d6bQzieSk5P1yCOPSJJ%2B/fVX9ezZU5Lk6urK1BGDDR482OgIQLZRaAMOxMXFRSkpKTKZTPrll180bdo0SdK1a9eUlpZmcDpIUmJiory9vSVlFHBt27aVJJUqVUoJCQlGRsM/VKpUScuXL1fRokV19OhR%2Bfn5SZJ%2B%2B%2B03lStXzuB0uMlsNuujjz7S6tWrdebMGZlMJnl6eqpjx44aMGAAU7FgOAptwIE0bdpUwcHBcnZ2lqurq%2BrXr6%2BUlBR98MEHevrpp42OB0leXl7avn27HnjgAUVGRuqDDz6QlDFXu1SpUganw03/7//9P40YMUJXr17VqFGjVLJkSSUkJGjw4MHMz85HpkyZooiICPXv31/ly5eXJB07dkwLFy5UWlqaBg0aZHBCFHScDAk4kBs3bujLL7/U1atX9eKLL8rDw0PXrl3TkCFDNHnyZD366KNGRyzwwsPDFRISIrPZrIEDB2rw4MG6fPmyWrduraCgIL300ktGR8RtxMXFqWzZskbHwN8aNGigJUuWyMvLK9N4dHS0BgwYoA0bNhiUDMhAoQ0A91lqaqqSk5NVvHhx69jevXtVq1YtA1Phn2bNmnXLbU5OTipbtqwaNGggd3f3%2B5gK/1a3bl39%2BuuvKlKkSKZxs9msRo0aKSIiwqBkQAamjgAOxM/P75bLXt0sDpo1a6bevXurcOHC9zkdJGnFihW33HbixAmVLVtWNWrUyFSE4/7bvXu3Dhw4oBs3bqhChQpycnLS8ePHVaxYMXl5een8%2BfMaP368PvzwQzVv3tzouAVWtWrVNHv2bA0ePNj6Oy01NVVz5sxR5cqVDU4H0NEGHMqiRYs0Z84c%2Bfr6qkaNGnJyclJkZKQiIiLUu3dvJSYmasWKFWrZsqXefPNNo%2BMWSK1atdK5c%2Bd0/fp1ubq6ysnJSVeuXNEDDzygYsWK6fLlyypRooQ%2B%2BeQTOtwG%2Buqrr3Ts2DGNGDFCrq6ukjJOZJ02bZpq1aqljh07avny5fryyy%2B1cuVKg9MWXEePHlXfvn1148YNeXp6SpJOnTolZ2dnffrpp6pRo4bBCVHQUWgDDiQoKEjdunVTs2bNMo1v2bJFP/74o6ZNm6YTJ07olVdeUXh4uDEhC7jVq1drzZo1euONN1ShQgVJGZ3smTNnqkOHDmrUqJHmzp2rX375RYsXLzY2bAHWqFEjhYWFqWjRopnGk5OTFRAQoM2bNystLU3PPPOM9uzZY1BKSBnTRLZs2aJTp07JbDbL29tbTZs21QMPPGB0NICpI4Aj2bZtm2bOnJllvH79%2BgoJCZEkeXh46OrVq/c7Gv42ffp0rVy50tollaTy5ctrwoQJ6tq1q9auXasBAwboiy%2B%2BMDAlUlJS9Mcff2RZrefw4cPWZRj3798vNzc3I%2BLhH4oUKWK9UBeQ31BoAw6kbNmymjlzpgYOHKgHH3xQUsYa2p999plKlCih9PR0ffjhh6pSpYrBSQuuS5cuKS4uLlOhLUkXLlzQmTNnJEmnT59mjrbBevfurT59%2BqhJkyby8PCQs7OzYmNj9fPPP6tLly4ym816%2BeWXrf/AwhgRERGaNGmSjh8/rpSUlCzbDx48aEAq4P8wdQRwIJGRkRo4cKAuXbokV1dXOTs76/LlyypWrJhmzpyphg0bKiAgQDNnzlS1atWMjlsgTZgwQevWrdPzzz%2BfqYD78ccfVadOHU2dOlV%2Bfn7q3LkzRZzBNmzYoC1btig%2BPl5paWkqVaqUfH19FRgYKJPJpJ07d6pOnTpGxyzQ/Pz8VKdOHT333HNycXHJsp3LtcNoFNqAgzGbzdq/f3%2Bm4uCpp55ivmI%2BkZaWpgULFmQq4Nzc3FS/fn31799fLi4uCg0NVfv27W%2B5ggyADLVr19aOHTuyLO8H5BcU2oCDsVgsOnfunG7cuJFl22OPPWZAIsD%2BxMbGat68eTp27JiSk5OzbP/uu%2B8MSIV/Cw4O1oABA1S9enWjowA2MUcbcCArV67UxIkTlZiYmGk8PT1dJpOJ%2BYr5wNWrV7VkyZJbFnAzZswwIBX%2BbdiwYbp%2B/boaN26sYsWKGR0H//DP1Xhq1qyp4cOHy8/PT56enlleBerWrdv9jgdkQkcbcCDNmjVT165d1bp16yzLkkkZK47AWP3799fhw4f1zDPP2Czgpk6dakAq/Fvt2rX1888/q0SJEkZHwb/4%2Bfllaz%2BTyaSwsLA8TgPcHh1twIEkJiZq4MCBKlSokNFRcAu7du3S2rVrVbZsWaOj4DYqVKggs9lsdAzYsGnTJqMjANlGoQ04EH9/f%2B3YsUMNGzY0Ogpu4dFHH2XpPjswfPhwvf3223rxxRfl4eEhJyenTNs53yH/uHjxon7%2B%2BWedPn1aUsa69M2bN8%2ByhCZgBKaOAA7k008/1TfffKPatWvL09MzS3EwbNgwg5Lhpl9%2B%2BUWrV69W//79bc4pZfWE/KFq1apZxkwmE%2Bc75DPbtm3ToEGDVKxYMXl5eUmSTp48KYvFooULF6py5coGJ0RBR6ENOJBevXrdcpvJZNKCBQvuYxrYUqdOHV2/fl1paWk2t1PA5Q83u6O3wvkO%2BUOnTp3Url079enTxzpmsVg0Z84cRURE6KuvvjIwHUChDQD31e%2B//37b7fXq1btPSQD7V6tWLe3cuVPOzplnwprNZjVu3PiOP29AXmOONmDntm3bpgYNGkiStm7desv9TCaTGjVqdL9i4RYopPMvf39/6yoVjRs3vu2%2Bt/tZw/1TpkwZ/fXXX3riiScyjcfExDBHG/kChTZg5wYMGKDIyEhJGUvH3QrzSo3Tq1cvLVy4UFLGur63u%2BIjF0IxTnBwsPXjN954w8AkyK7AwEC99tpr6tmzpypWrChJio6O1qJFixQQEGBwOoBCG7B7N4tsSTp06JCBSXAr/1wFpkmTJgYmwe0EBgZaPz5//rzatGnDXOx8LigoSCVKlNCyZct06tQpmc1meXt7q3v37urXr5/R8QDmaAOOpG3btmrTpo3atGnoBW4zAAAdu0lEQVTD8mP51OrVq%2BXn52fzgkLIPwIDA3XkyBH5%2BPiobdu2CggIUJkyZYyOBcDOFBo3btw4o0MAuDdSUlK0ZcsWzZgxQxs2bNCVK1dUpkwZlSxZ0uho%2BFuvXr306aef6siRI3J2dpanpycXGMqHevToocDAQDk5OWn9%2BvV67733tG3bNt24cUMeHh5clj2fuHz5skaPHi0XFxdVqFBBkvTNN9/oyy%2B/lK%2BvL//QwnB0tAEHdPHiRYWFhWnDhg3avn27qlSporZt26p3795GRyvwLBaLfv/9d4WFhWnjxo1KSkqSv7%2B/WrdurcaNG1N051Pnz5/Xxo0btXLlSkVGRmr//v1GR4KkkJAQXbt2TaNHj5anp6ekjHW0p02bpsKFC%2Bv99983OCEKOgptwMHt2bNHM2bM0K5duzgZMh%2BKjIzUhg0bFB4ervj4eG3fvt3oSPiXw4cPa%2BPGjdq8ebOOHj2q%2BvXra%2B7cuUbHgiRfX1%2BFh4dneYUhKSlJfn5%2B2rFjh0HJgAycDAk4mPT0dO3atUsbN25UWFiYLly4oGeffVYffvih0dHwL1euXFF0dLROnjyp%2BPh4lS5d2uhI%2BNvOnTutP0NxcXFq2LChXnrpJbVo0YJl4/KRwoULKyEhIUuhfe7cuduu7gPcL3S0AQfy1ltv6eeff9aNGzfUrFkztW7dWs2aNZOLi4vR0fC3M2fOaOPGjdq4caN27dqlihUrqlWrVmrdurV1eTIYr0aNGmrUqJECAgIorvOx6dOnKywsTN27d5enp6fS09MVHR2t7777Th06dMi0ZCNgBAptwIGEhIQoICBAzz77LMV1PlW1alVVqlRJAQEBCggI0OOPP250JNgwa9YsDR482OgYuIO0tDQtWLBAP/zwg06ePCknJyd5eXmpc%2BfO6tWrl9HxAAptwJG0a9dOP/74o9ExcBufffaZXnvtNaNj4A4aN26slStXys3NzegoAOwYhTbgQHr16qX%2B/furWbNmRkfBLfj6%2Bmrz5s164IEHjI6C2/jyyy8VFhamNm3ayN3dPctqMHe6RDvyzuLFi7O9b7du3fIwCXBnFNqAA3n77be1adMmeXh4yN3dXc7Omc93njFjhkHJcNO3336riIgIdejQwWYBx4WG8oeqVavecpvJZGIFHwP5%2Bfllaz%2BTyaSwsLA8TgPcHoU24EDeeuut226fOnXqfUqCW7FVwJlMJqWnp1PAAffQH3/8oWrVqhkdAwUchTYA3EenT5%2B%2B7XYPD4/7lATZERkZqbNnz%2Bq5556TJCUnJ3OicT6Tnp6u2NhYmc1m61hcXJyCgoK0e/duA5MBrKMNOJy9e/cqNDRUcXFx%2BuSTT5SWlqb169crICDA6GjQ/xXSFy5c0JkzZ/TUU08ZnAi2HDt2TIMHD1ZsbKwsFov279%2Bv06dPq2vXrpo3bx6d0nxi586dCg4O1qVLlyTJ%2BsqQJLVo0cLIaIAkycnoAADunSVLlqhv374ym8365ZdfJEnx8fGaMmWKFixYYHA6SBmdtn79%2BqlRo0bq3r27pIyLa7Rr104xMTEGp8NNEyZMkL%2B/vyIiIuTklPGn0sPDQ6%2B99hpTsPKRKVOmqGfPnlq9erWcnZ21YcMGvf/%2B%2B2rRooVGjx5tdDyAQhtwJJ9//rk%2B//xzTZ482drVKVu2rD799FN9/fXXBqeDlFHAubm5afPmzdYCzs3NTY0bN9akSZMMToebIiMjFRwcrCJFimS6wuBLL73EPPp85Pjx4woKCtJjjz0mk8kkLy8vtW7dWv369dPIkSONjgdQaAOO5Pz583r66aclKVNx8MQTT%2BjcuXNGxcI/bN%2B%2BXePGjVO5cuWsx8jZ2VlDhw7V3r17DU6Hmx566CFduXIly/jJkyezrOYD45QsWVLx8fGSpBIlSlhfFapevTo/T8gXKLQBB1K%2BfHlt3749y/hPP/0kd3d3AxLh34oVKyZb56BfvnxZFovFgESwpXnz5goODtbWrVuVnp6ugwcP6ocfftDrr7%2Butm3bGh0Pf3v%2B%2BefVuXNnJSYmqkmTJhoyZIjmz5%2BvESNGyNPT0%2Bh4AKuOAI5k9erVGjVqlPz8/LR27Vr16NFDhw8f1p49ezRjxgy1atXK6IgF3n//%2B1%2BZzWaFhISoQ4cO%2BuWXX3To0CFNnz5d3t7emj59utERoYzVRaZNm6YffvhBSUlJkjK63N26ddOgQYNUpEgRgxPiphUrVigwMFBJSUkaP368oqKi5OHhof/%2B97968sknjY6HAo5CG3AwUVFR%2BuGHH3Ty5EkVLVpUXl5e6tq1qypWrGh0NCijcz1y5EiFh4dLypjiYzKZ1KZNG40ePVolS5Y0NiAySU9P14ULF1S0aFG5uroaHQd3acyYMZowYYLRMVAAUWgDDu7y5csUb/nQxYsXFRMTIxcXF3l6elLE5TPJyclasmSJevXqJUkKCwvT999/rwoVKmjw4MEqXry4wQmREzVr1tS%2BffuMjoECiDnagAM5cOCAOnXqZP186NCh8vX1VYMGDbRnzx4Dk%2BGfwsLC5Obmppo1ayolJUUzZ87U119/rbS0NKOj4W8TJ07Ujz/%2BKEmKjo7WsGHDVL16dZ0%2BfVqTJ082OB1yip4ijMKp04ADmTRpkvUiDRs3btSuXbu0adMm7d69W9OmTdM333xjcEJMnz5d69evl7%2B/v86ePatXXnlFrVq10qpVq3T69GmWJMsnwsLCrIV2aGioGjdurMGDB%2Bvq1atq3bq1wemQU/9chQm4n%2BhoAw7kyJEjeu211yRlFApt2rSRu7u72rZtqz///NPgdJAyirZ58%2BZJkpYvX65atWpp6tSpmjVrltasWWNwOtyUnJysRx55RJL066%2B/Wv%2BBdXV1tZ4cCQB3QkcbcCAuLi5KSUmRyWTSL7/8omnTpkmSrl27xrSEfCIxMVHe3t6SMgq4m0vFlSpVSgkJCUZGwz9UqlRJy5cvV9GiRXX06FH5%2BflJkn777TeVK1fO4HQA7AWFNuBAmjZtquDgYDk7O8vV1VX169dXSkqKPvjgA%2BuFbGAsLy8vbd%2B%2BXQ888IAiIyP1wQcfSMpYLaZUqVIGp8NNo0aN0vDhw5WYmKhRo0apZMmSSkhI0ODBgzVlyhSj4wGwE6w6AjiQGzdu6KuvvtKVK1f04osvysPDQ9euXdOQIUM0efJkPfroo0ZHLPDCw8MVEhIis9msgQMHavDgwbp8%2BbJat26toKAgvfTSS0ZHxG3ExcWpbNmy1s/nzp2r119/3cBEyA4fHx9FRkYaHQMFEIU2UAC1bt2a%2BcAGSk1NVXJycqYl4vbu3atatWpZP1%2B5cqXat29vRDzkAMvG5R%2BXLl3Sww8/bHPb/Pnz1bdv3/ucCOBkSKBAOn36tNERCjRnZ%2Bcs6zD/s8iWpNGjR9/PSLhL9KqMlZSUpDFjxqhWrVpq0qSJJCkhIUEDBgzQxYsXrftRZMMoFNpAAcRSV/kfBZx94GfJWBMmTFBMTIzmzZsnJ6eMkqZw4cJydXXVpEmTDE4HcDIkAORLFHDAnYWHh2vNmjVyc3Oz/swUL15cY8eOVatWrQxOB9DRBgAAdspkMsnV1TXLuMViUXJysgGJgMwotAEAgF2qXbu23nvvPd24ccM6dvr0aY0aNUr16tUzMBmQgUIbAIC7xFx6Y40ePVo7d%2B5UnTp1lJycrGeeeUYtWrRQQkKCxo4da3Q8gDnaQEFEcZD/cYzswwsvvGB0hALN3d1dK1asUFRUlGJiYuTi4iJvb29VqlTJ6GiAJDragEPJ7oUzvv766zxOglv5/fffbY4nJydnWtu8UaNG9ysSbLBYLPrss8/Upk0b1a1bV1LGUnITJkzINPf37bffNioi9H%2B/82rUqKE2bdrI39%2BfIhv5CoU24EBiY2O1f//%2BO%2B7n4%2BNzH9LAlldffdXm%2BOXLl/Xmm29aP58zZ879igQb3nnnHa1atUoDBgywFtYpKSk6duyYpk6danA63JTd33mAUbgyJOBApk%2BfrtWrV8vHx0fu7u5yds48O2zYsGEGJcOXX36pefPm6cKFCypVqlSW7YmJifLw8NCqVasMSId/a9iwoZYuXSoPD49MV3%2BMj49Xx44dtXXrVoMTQuJ3HvI/5mgDDmTfvn3y8PDQhQsXdOHChUzbWJfZWC%2B//LKeeeYZ9ejRQ2%2B88UaW7S4uLmrQoIEByWBLSkqKHn300SzjxYoVU1JSkgGJYAu/85Df0dEGgPsoMjKSqTt2oHfv3mrUqJFeffVVa0f7%2BvXrevfdd3Xs2DEtXLjQ6IgA7ACFNuBgzp49q59%2B%2BklxcXEaNWqUJIo7o7355pt65513JMlmN/ufZsyYcT8i4Q4OHTqk/v37S5IuXLigSpUqKSYmRm5ubvrkk09UpUoVgxNCkiIiIm67/eaJrIBRmDoCOJCwsDCFhITo6aef1q5duzRq1CidOXNGffr00YQJE9S2bVujIxZIhQsXtn5cpEgRA5Mgu6pWraqNGzdq8%2BbNiomJUdGiReXt7a3GjRtnmQcM4/Tq1cvmuLOzs4oWLaqdO3fe50RAZnS0AQfSrl07DR06VC1atJCPj48iIyMlSdu3b9ekSZP0008/GZwQ%2B/btU82aNY2OgRwwm81ZxviHKX/497GxWCw6ceKEvvjiC7Vr106NGzc2KBmQgUIbcCC1atXS7t275eTklGmlBIvFomeeeUZ79%2B41OCHq1Kmj3377jUItn/vtt980ZcoU/fXXX7JYLNbx9PR0mUwmHTx40MB0uJOrV6%2BqS5cuWrdundFRUMDx%2BhfgQNzd3XX48GE9%2BeSTmca3bt1qc0k53H9DhgzRu%2B%2B%2BqxdffFHu7u4qVKhQpu0U4PnD2LFjVa9ePQ0fPlzFihUzOg5y6Nq1azp37pzRMQAKbcCRvPjii%2BrXr5%2B6dOkii8WiL7/8UocPH9bq1as1YsQIo%2BNB0syZM5WamqpvvvnG5nY6pfnD%2BfPnNX78eOZj53O2Ti6%2Bfv269u3bx4mQyBf4DQI4kJdeekllypTRsmXL5OXlpdDQUHl5eWnOnDlq2LCh0fEg6dNPPzU6ArKhXr16OnTokJ566imjo%2BA2bL0C5Orqqv79%2B6tLly4GJAIyY442AAD/snTpUn3xxRdq3ry5PD095eTklGl7t27dDEoGwJ5QaAMOZtWqVQoNDdW5c%2Be0YsUKmc1mLVy4UH379uVKaQbp1auX9QIn3bp1u%2B1x%2BO677%2B5XLNyGn5/fLbeZTCaFhYXdxzS4lbS0NC1atEjh4eHWOdmPPvqo/Pz81L17d37nwXBMHQEcyCeffKLFixerW7dumjt3riTpypUrWrFiha5evar//Oc/BicsmP45badJkyYGJkF2bdq0yegIyIZx48Zp06ZNev7559WsWTOlp6crNjZWs2fP1pEjRzR27FijI6KAo6MNOJBmzZpp3rx5qlSpUqbl/WJiYvTyyy9r8%2BbNBicE8q8TJ06ofPnykqTjx4/fdt/HHnvsfkTCHdSuXVvLli1TxYoVM40fPXpUXbt21Z49ewxKBmSgow04kKtXr6pSpUpZxsuUKaOLFy8akAj/dv36dX344YfavHmzzp07J5PJZH2pe8iQIXJxcTE6YoHVrl0760WeWrdubZ128O9%2BFOto5x8PPvigPD09s4x7eXnpwQcfNCARkBmFNuBAKleurJUrV6p9%2B/aZxufPn6/HH3/coFT4pxEjRig6OlovvfSS3N3dlZ6ertOnT2vJkiU6efKkPvroI6MjFlhr1661fvzQQw%2BpQYMG1rd/nwyJ/CE4OFiTJ09WSEiIHnroIUlSQkKCZs2apSFDhhicDmDqCOBQtm3bpkGDBqly5cqKjIxUs2bNdPjwYV2%2BfFlz5sxRvXr1jI5Y4NWqVUvr169XmTJlMo2fPXtWrVq1sk73gbG2bdumXbt2aefOndq3b5/c3NzUsGFDNWjQQPXr15ebm5vRESHpueeeU1xcnMxms0qUKKG0tDQlJiaqcOHCKlGiRKZ9t27dalBKFGQU2oCDiYuL008//aQTJ04oNTVV1atXV9u2ba3dHhirRYsWWrFihVxdXTONJyYmqkOHDtq4caNByXArqamp%2BuOPPxQREaEffvhB0dHR%2BuOPP4yOBUk//PBDtvYzmUzq0KFDHqcBsqLQBhxIfHy8Ro8era1btyo1NVWSVKxYMbVo0UJvvfUWXbh8IDw8XKGhoerfv78qVKigtLQ0nTx5Ul988YVatGiRaVk5LsdurOTkZO3bt8/a2d6/f7/KlSunp59%2BWmPGjDE6HnKgdevWWrNmjdExUABRaAMOpHfv3rJYLOrdu7e8vb2Vnp6ukydPasGCBXJxcdHnn39udMQC76mnnlJqamqm9X1v/hr%2B95q/nHBnnG7duuncuXOqXLmyatasqdq1a8vHx0fFixc3Ohruwj9XYQLuJ06GBBzIvn37tGXLlkxn21euXFm%2Bvr569tlnjQsGq/nz5%2BvixYvWVxeuXr0qi8Wis2fPqmrVqganw02FChVSSkqKUlJSlJaWZh0DgJyg0AYciKenp65du5ZlWavk5GQ9%2BuijBqXCP509e1bjxo3T7t27df36deu80cuXL2v48OHq3LmzwQkhSd98843MZrP27duniIgIff7559q/f78qVKigZ555RiNHjjQ6IgA7wNQRwM7988IakZGRWrp0qXr27KnHH39cTk5OOn78uBYtWqTu3bsrICDAwKSQMuaKvv3222rUqJG%2B%2B%2B47LVq0SCtWrNDRo0c1bNgwrVq1yuiI%2BJe0tDQdOHBAERERWrp0qf766y%2Bm9dgZpo7AKHS0ATt388Ia//yfeefOnVn227FjB4V2PnDmzBk1atRIkrRlyxa1adNGhQoVUpUqVRQbG2twOtwUHh6uPXv2aPfu3dq/f79Kly4tX19fDRo0SL6%2BvkbHA2AnKLQBOxcWFmZ0BOSAm5ub4uLiVKRIEW3btk1Dhw6VlLEsY9GiRQ1Oh5vGjRsnX19fderUSe%2B%2B%2B67c3d2NjgTADlFoA3bOw8PD6AjIge7du6tLly4qVKiQfH19VaVKFSUmJiokJIRXHPKR8PBwoyPgHmKWLIzCHG0AuM/27NmjK1euqEGDBipSpIhSU1M1f/589enTR4ULFzY6HpCv1a5dW7t375bJZMr23OvIyEj5%2BPjch3RAZhTaAADAbrRq1UoPPfSQPD09tWbNGrVu3fqW%2B86YMeM%2BJgOycjI6AAAAQHbNmjVLPj4%2B1iunFilS5JZvgNHoaAMAALs0cuRIvfvuu0bHAG6JQhsAANitixcv6ueff9bp06clSeXLl1fz5s3l6upqcDKAQhsAANipbdu2adCgQSpWrJi8vLwkSSdPnpTFYtHChQtVuXJlgxOioKPQBgAAdqlTp05q166d%2BvTpYx2zWCyaM2eOIiIi9NVXXxmYDqDQBgAAdqpWrVrauXOnnJ0zXxbEbDarcePG%2Bv333w1KBmRg1REAAGCXypQpo7/%2B%2BivLeExMDHO0kS9wZUgAAGCXAgMD9dprr6lnz56qWLGiJCk6OlqLFi3iSqvIF5g6AgAA7FJ6erq%2B/vprLVu2TKdOnZLZbJa3t7fat2%2Bvfv36qVChQkZHRAFHoQ0AABza3Llz9frrrxsdAwUQhTYAAHBoNWvW1L59%2B4yOgQKIkyEBAIBDo6cIo1BoAwAAh2YymYyOgAKKQhsAAADIAxTaAAAAQB6g0AYAAADyAIU2AABwaJwMCaNQaAMAAIdx%2BfLlLGMvvPCCAUkACm0AAGCnDhw4oE6dOlk/Hzp0qHx9fdWgQQPt2bPHOv72228bEQ%2Bg0AYAAPZp0qRJatGihSRp48aN2rVrlzZt2qRRo0Zp2rRpBqcDKLQBAICdOnLkiF577TVJUlhYmNq0aSN3d3e1bdtWf/75p8HpAAptAABgp1xcXJSSkiKLxaJffvlFzZs3lyRdu3ZNaWlpBqcDJGejAwAAANyNpk2bKjg4WM7OznJ1dVX9%2BvWVkpKiDz74QE8//bTR8QA62gAAwD6NGzdOzzzzjCpWrKj//e9/MplMSklJ0fHjxzVx4kSj4wEypbO4JAAAsHOXLl3Sww8/bHQMIBM62gAAwC4lJSVpzJgxqlWrlpo0aSJJSkhI0IABA3Tx4kWD0wEU2gAAwE5NmDBBMTExmjdvnpycMkqawoULy9XVVZMmTTI4HcDJkAAAwE6Fh4drzZo1cnNzk8lkkiQVL15cY8eOVatWrQxOB9DRBgAAdspkMsnV1TXLuMViUXJysgGJgMwotAEAgF2qXbu23nvvPd24ccM6dvr0aY0aNUr16tUzMBmQgVVHAACAXYqNjVVQUJCOHj2q1NRUFS9eXNeuXVPt2rU1Y8YMlStXzuiIKOAotAEAgF2LiopSTEyMXFxc5O3trUqVKhkdCZBEoQ0AAOzU66%2B/rrlz5xodA7gl5mgDAAC7FBsbq/379xsdA7gllvcDAAB2qWnTpgoODpaPj4/c3d3l7Jy5rBk2bJhByYAMFNoAAMAu7du3Tx4eHrpw4YIuXLiQadvNdbUBIzFHGwAA2KX09HSbBbXFYlF8fLweffRRA1IB/4c52gAAwC7VqlXL5vi1a9fUrl27%2B5wGyIqpIwAAwK6sW7dO69atU0pKit54440s22NjY1WoUCEDkgGZ0dEGAAB2pVq1aqpevbokqUiRIlneqlSpolmzZhmcEmCONgAAsFPz589X3759jY4B3BKFNgAAsBvff/%2B9unTpIklavHjxbfft1q3b/YgE3BKFNgAAsBsBAQFau3atJMnPz%2B%2BW%2B5lMJoWFhd2vWIBNFNoAAABAHmDVEQAAYDe2bt2arf1MJpMaNWqUx2mA26OjDQAA7EbVqlWztZ/JZNLBgwfzOA1wexTaAADAoe3cuVN16tQxOgYKIAptAADg0GrWrKl9%2B/YZHQMFEBesAQAADo2eIoxCoQ0AAByayWQyOgIKKAptAAAAIA9QaAMAAAB5gEIbAAAAyAMU2gAAAEAeoNAGAAAOrUKFCkZHQAHFOtoAAMBuLF68ONv7duvWLQ%2BTAHdGoQ0AAOyGn59ftvYzmUwKCwvL4zTA7VFoAwAAh/PHH3%2BoWrVqRsdAAedsdAAAAIC7lZ6ertjYWJnNZutYXFycgoKCtHv3bgOTARTaAADATu3cuVPBwcG6dOmSpIyi%2B%2BZVIFu0aGFkNEASU0cAAICd6tSpk/z9/dWmTRu1b99eq1ev1v79%2B7V69WqNHj1aZcqUMToiCjg62gAAwC4dP35cQUFBMplMMplM8vLykpeXl8qVK6eRI0fqiy%2B%2BMDoiCjjW0QYAAHapZMmSio%2BPlySVKFFCMTExkqTq1atr7969RkYDJNHRBgAAdur5559X586dtWbNGjVp0kRDhgxR%2B/btFRUVJU9PT6PjAczRBgAA9mvFihUKDAxUUlKSxo8fr6ioKHl4eGj48OGqWrWq0fFQwFFoAwAAu/T777%2BrXr16WcaTk5O1adMmtW7d2oBUwP%2Bh0AYAAHapZs2a2rdvX5bxc%2BfOqWXLlja3AfcTc7QBAIBd%2BfLLLzVv3jyZzWY1btw4y/bExETmaCNfoKMNAADsSlpamg4cOKAePXpo4sSJWba7uLioQYMGevjhhw1IB/wfCm0AAGCXIiMj5ePjY3QM4JYotAEAgF0ym8366KOPtHr1ap05c0Ymk0menp7q2LGjBgwYICcnLhcCYzFHGwAA2KUpU6YoIiJC/fv3V/ny5SVJx44d08KFC5WWlqZBgwYZnBAFHR1tAABglxo0aKAlS5bIy8sr03h0dLQGDBigDRs2GJQMyMBrKgAAwC6lpqaqbNmyWcY9PT2VkJBgQCIgMwptAABgl6pVq6bZs2crJSXFOpaamqo5c%2BaocuXKBiYDMjB1BAAA2KWjR4%2Bqb9%2B%2BunHjhnXd7FOnTsnZ2VmffvqpatSoYXBCFHScDAkAAOzSF198oY0bN2rLli06deqUzGazvL291bhxY40cOVKzZ882OiIKOAptAABgV2JiYvTXX39p5cqVatOmjYoWLaonnnjCuj00NFRbt241MCGQgUIbAADYlUOHDumjjz5SSkqK%2BvXrl2W7i4uLunfvbkAyIDPmaAMAALsUGBio0NBQo2MAt0ShDQAAAOQBlvcDAAAA8gCFNgAAAJAHKLQBAACAPEChDQAAAOQBCm0AAAAgD1BoAwAAAHmAQhsAAADIAxTaAAAAQB74/%2BnuZeoR2jaKAAAAAElFTkSuQmCC\" class=\"center-img\">\n",
              "</div>\n",
              "    <div class=\"row headerrow highlight\">\n",
              "        <h1>Sample</h1>\n",
              "    </div>\n",
              "    <div class=\"row variablerow\">\n",
              "    <div class=\"col-md-12\" style=\"overflow:scroll; width: 100%%; overflow-y: hidden;\">\n",
              "        <table border=\"1\" class=\"dataframe sample\">\n",
              "  <thead>\n",
              "    <tr style=\"text-align: right;\">\n",
              "      <th></th>\n",
              "      <th>country</th>\n",
              "      <th>beer_servings</th>\n",
              "      <th>spirit_servings</th>\n",
              "      <th>wine_servings</th>\n",
              "      <th>total_litres_of_pure_alcohol</th>\n",
              "      <th>continent</th>\n",
              "    </tr>\n",
              "  </thead>\n",
              "  <tbody>\n",
              "    <tr>\n",
              "      <th>0</th>\n",
              "      <td>Afghanistan</td>\n",
              "      <td>0</td>\n",
              "      <td>0</td>\n",
              "      <td>0</td>\n",
              "      <td>0.0</td>\n",
              "      <td>Asia</td>\n",
              "    </tr>\n",
              "    <tr>\n",
              "      <th>1</th>\n",
              "      <td>Albania</td>\n",
              "      <td>89</td>\n",
              "      <td>132</td>\n",
              "      <td>54</td>\n",
              "      <td>4.9</td>\n",
              "      <td>Europe</td>\n",
              "    </tr>\n",
              "    <tr>\n",
              "      <th>2</th>\n",
              "      <td>Algeria</td>\n",
              "      <td>25</td>\n",
              "      <td>0</td>\n",
              "      <td>14</td>\n",
              "      <td>0.7</td>\n",
              "      <td>Africa</td>\n",
              "    </tr>\n",
              "    <tr>\n",
              "      <th>3</th>\n",
              "      <td>Andorra</td>\n",
              "      <td>245</td>\n",
              "      <td>138</td>\n",
              "      <td>312</td>\n",
              "      <td>12.4</td>\n",
              "      <td>Europe</td>\n",
              "    </tr>\n",
              "    <tr>\n",
              "      <th>4</th>\n",
              "      <td>Angola</td>\n",
              "      <td>217</td>\n",
              "      <td>57</td>\n",
              "      <td>45</td>\n",
              "      <td>5.9</td>\n",
              "      <td>Africa</td>\n",
              "    </tr>\n",
              "  </tbody>\n",
              "</table>\n",
              "    </div>\n",
              "</div>\n",
              "</div>"
            ],
            "text/plain": [
              "<pandas_profiling.ProfileReport at 0x7fb7d27f1dd8>"
            ]
          },
          "metadata": {
            "tags": []
          },
          "execution_count": 4
        }
      ]
    },
    {
      "cell_type": "markdown",
      "metadata": {
        "id": "3h8Uv1AgHI6o",
        "colab_type": "text"
      },
      "source": [
        "Pandas Excercise\n"
      ]
    },
    {
      "cell_type": "code",
      "metadata": {
        "id": "L-OXFRx651wC",
        "colab_type": "code",
        "colab": {}
      },
      "source": [
        "import pandas as pd\n",
        "import numpy as np"
      ],
      "execution_count": 0,
      "outputs": []
    },
    {
      "cell_type": "code",
      "metadata": {
        "id": "4IkwdZl0HPaN",
        "colab_type": "code",
        "colab": {}
      },
      "source": [
        "df = pd.read_csv('https://raw.githubusercontent.com/justmarkham/pycon-2019-tutorial/master/ted.csv')"
      ],
      "execution_count": 0,
      "outputs": []
    },
    {
      "cell_type": "code",
      "metadata": {
        "id": "GkF5hECwHZ6d",
        "colab_type": "code",
        "outputId": "0da9f221-4986-4a5e-b43f-e51695c51631",
        "colab": {
          "base_uri": "https://localhost:8080/",
          "height": 598
        }
      },
      "source": [
        "df.head()"
      ],
      "execution_count": 0,
      "outputs": [
        {
          "output_type": "execute_result",
          "data": {
            "text/html": [
              "<div>\n",
              "<style scoped>\n",
              "    .dataframe tbody tr th:only-of-type {\n",
              "        vertical-align: middle;\n",
              "    }\n",
              "\n",
              "    .dataframe tbody tr th {\n",
              "        vertical-align: top;\n",
              "    }\n",
              "\n",
              "    .dataframe thead th {\n",
              "        text-align: right;\n",
              "    }\n",
              "</style>\n",
              "<table border=\"1\" class=\"dataframe\">\n",
              "  <thead>\n",
              "    <tr style=\"text-align: right;\">\n",
              "      <th></th>\n",
              "      <th>comments</th>\n",
              "      <th>description</th>\n",
              "      <th>duration</th>\n",
              "      <th>event</th>\n",
              "      <th>film_date</th>\n",
              "      <th>languages</th>\n",
              "      <th>main_speaker</th>\n",
              "      <th>name</th>\n",
              "      <th>num_speaker</th>\n",
              "      <th>published_date</th>\n",
              "      <th>ratings</th>\n",
              "      <th>related_talks</th>\n",
              "      <th>speaker_occupation</th>\n",
              "      <th>tags</th>\n",
              "      <th>title</th>\n",
              "      <th>url</th>\n",
              "      <th>views</th>\n",
              "    </tr>\n",
              "  </thead>\n",
              "  <tbody>\n",
              "    <tr>\n",
              "      <th>0</th>\n",
              "      <td>4553</td>\n",
              "      <td>Sir Ken Robinson makes an entertaining and pro...</td>\n",
              "      <td>1164</td>\n",
              "      <td>TED2006</td>\n",
              "      <td>1140825600</td>\n",
              "      <td>60</td>\n",
              "      <td>Ken Robinson</td>\n",
              "      <td>Ken Robinson: Do schools kill creativity?</td>\n",
              "      <td>1</td>\n",
              "      <td>1151367060</td>\n",
              "      <td>[{'id': 7, 'name': 'Funny', 'count': 19645}, {...</td>\n",
              "      <td>[{'id': 865, 'hero': 'https://pe.tedcdn.com/im...</td>\n",
              "      <td>Author/educator</td>\n",
              "      <td>['children', 'creativity', 'culture', 'dance',...</td>\n",
              "      <td>Do schools kill creativity?</td>\n",
              "      <td>https://www.ted.com/talks/ken_robinson_says_sc...</td>\n",
              "      <td>47227110</td>\n",
              "    </tr>\n",
              "    <tr>\n",
              "      <th>1</th>\n",
              "      <td>265</td>\n",
              "      <td>With the same humor and humanity he exuded in ...</td>\n",
              "      <td>977</td>\n",
              "      <td>TED2006</td>\n",
              "      <td>1140825600</td>\n",
              "      <td>43</td>\n",
              "      <td>Al Gore</td>\n",
              "      <td>Al Gore: Averting the climate crisis</td>\n",
              "      <td>1</td>\n",
              "      <td>1151367060</td>\n",
              "      <td>[{'id': 7, 'name': 'Funny', 'count': 544}, {'i...</td>\n",
              "      <td>[{'id': 243, 'hero': 'https://pe.tedcdn.com/im...</td>\n",
              "      <td>Climate advocate</td>\n",
              "      <td>['alternative energy', 'cars', 'climate change...</td>\n",
              "      <td>Averting the climate crisis</td>\n",
              "      <td>https://www.ted.com/talks/al_gore_on_averting_...</td>\n",
              "      <td>3200520</td>\n",
              "    </tr>\n",
              "    <tr>\n",
              "      <th>2</th>\n",
              "      <td>124</td>\n",
              "      <td>New York Times columnist David Pogue takes aim...</td>\n",
              "      <td>1286</td>\n",
              "      <td>TED2006</td>\n",
              "      <td>1140739200</td>\n",
              "      <td>26</td>\n",
              "      <td>David Pogue</td>\n",
              "      <td>David Pogue: Simplicity sells</td>\n",
              "      <td>1</td>\n",
              "      <td>1151367060</td>\n",
              "      <td>[{'id': 7, 'name': 'Funny', 'count': 964}, {'i...</td>\n",
              "      <td>[{'id': 1725, 'hero': 'https://pe.tedcdn.com/i...</td>\n",
              "      <td>Technology columnist</td>\n",
              "      <td>['computers', 'entertainment', 'interface desi...</td>\n",
              "      <td>Simplicity sells</td>\n",
              "      <td>https://www.ted.com/talks/david_pogue_says_sim...</td>\n",
              "      <td>1636292</td>\n",
              "    </tr>\n",
              "    <tr>\n",
              "      <th>3</th>\n",
              "      <td>200</td>\n",
              "      <td>In an emotionally charged talk, MacArthur-winn...</td>\n",
              "      <td>1116</td>\n",
              "      <td>TED2006</td>\n",
              "      <td>1140912000</td>\n",
              "      <td>35</td>\n",
              "      <td>Majora Carter</td>\n",
              "      <td>Majora Carter: Greening the ghetto</td>\n",
              "      <td>1</td>\n",
              "      <td>1151367060</td>\n",
              "      <td>[{'id': 3, 'name': 'Courageous', 'count': 760}...</td>\n",
              "      <td>[{'id': 1041, 'hero': 'https://pe.tedcdn.com/i...</td>\n",
              "      <td>Activist for environmental justice</td>\n",
              "      <td>['MacArthur grant', 'activism', 'business', 'c...</td>\n",
              "      <td>Greening the ghetto</td>\n",
              "      <td>https://www.ted.com/talks/majora_carter_s_tale...</td>\n",
              "      <td>1697550</td>\n",
              "    </tr>\n",
              "    <tr>\n",
              "      <th>4</th>\n",
              "      <td>593</td>\n",
              "      <td>You've never seen data presented like this. Wi...</td>\n",
              "      <td>1190</td>\n",
              "      <td>TED2006</td>\n",
              "      <td>1140566400</td>\n",
              "      <td>48</td>\n",
              "      <td>Hans Rosling</td>\n",
              "      <td>Hans Rosling: The best stats you've ever seen</td>\n",
              "      <td>1</td>\n",
              "      <td>1151440680</td>\n",
              "      <td>[{'id': 9, 'name': 'Ingenious', 'count': 3202}...</td>\n",
              "      <td>[{'id': 2056, 'hero': 'https://pe.tedcdn.com/i...</td>\n",
              "      <td>Global health expert; data visionary</td>\n",
              "      <td>['Africa', 'Asia', 'Google', 'demo', 'economic...</td>\n",
              "      <td>The best stats you've ever seen</td>\n",
              "      <td>https://www.ted.com/talks/hans_rosling_shows_t...</td>\n",
              "      <td>12005869</td>\n",
              "    </tr>\n",
              "  </tbody>\n",
              "</table>\n",
              "</div>"
            ],
            "text/plain": [
              "   comments  ...     views\n",
              "0      4553  ...  47227110\n",
              "1       265  ...   3200520\n",
              "2       124  ...   1636292\n",
              "3       200  ...   1697550\n",
              "4       593  ...  12005869\n",
              "\n",
              "[5 rows x 17 columns]"
            ]
          },
          "metadata": {
            "tags": []
          },
          "execution_count": 3
        }
      ]
    },
    {
      "cell_type": "code",
      "metadata": {
        "id": "jhI6J1KVHc_9",
        "colab_type": "code",
        "outputId": "861f3456-2ea5-4a73-922b-f5c6608d110a",
        "colab": {
          "base_uri": "https://localhost:8080/",
          "height": 391
        }
      },
      "source": [
        "df.info()"
      ],
      "execution_count": 0,
      "outputs": [
        {
          "output_type": "stream",
          "text": [
            "<class 'pandas.core.frame.DataFrame'>\n",
            "RangeIndex: 2550 entries, 0 to 2549\n",
            "Data columns (total 17 columns):\n",
            "comments              2550 non-null int64\n",
            "description           2550 non-null object\n",
            "duration              2550 non-null int64\n",
            "event                 2550 non-null object\n",
            "film_date             2550 non-null int64\n",
            "languages             2550 non-null int64\n",
            "main_speaker          2550 non-null object\n",
            "name                  2550 non-null object\n",
            "num_speaker           2550 non-null int64\n",
            "published_date        2550 non-null int64\n",
            "ratings               2550 non-null object\n",
            "related_talks         2550 non-null object\n",
            "speaker_occupation    2544 non-null object\n",
            "tags                  2550 non-null object\n",
            "title                 2550 non-null object\n",
            "url                   2550 non-null object\n",
            "views                 2550 non-null int64\n",
            "dtypes: int64(7), object(10)\n",
            "memory usage: 338.8+ KB\n"
          ],
          "name": "stdout"
        }
      ]
    },
    {
      "cell_type": "code",
      "metadata": {
        "id": "1aPaMFM3HpzT",
        "colab_type": "code",
        "outputId": "56b948cf-ea68-4d21-ee1f-61783fffa0fb",
        "colab": {
          "base_uri": "https://localhost:8080/",
          "height": 297
        }
      },
      "source": [
        "df.describe()"
      ],
      "execution_count": 0,
      "outputs": [
        {
          "output_type": "execute_result",
          "data": {
            "text/html": [
              "<div>\n",
              "<style scoped>\n",
              "    .dataframe tbody tr th:only-of-type {\n",
              "        vertical-align: middle;\n",
              "    }\n",
              "\n",
              "    .dataframe tbody tr th {\n",
              "        vertical-align: top;\n",
              "    }\n",
              "\n",
              "    .dataframe thead th {\n",
              "        text-align: right;\n",
              "    }\n",
              "</style>\n",
              "<table border=\"1\" class=\"dataframe\">\n",
              "  <thead>\n",
              "    <tr style=\"text-align: right;\">\n",
              "      <th></th>\n",
              "      <th>comments</th>\n",
              "      <th>duration</th>\n",
              "      <th>film_date</th>\n",
              "      <th>languages</th>\n",
              "      <th>num_speaker</th>\n",
              "      <th>published_date</th>\n",
              "      <th>views</th>\n",
              "    </tr>\n",
              "  </thead>\n",
              "  <tbody>\n",
              "    <tr>\n",
              "      <th>count</th>\n",
              "      <td>2550.000000</td>\n",
              "      <td>2550.000000</td>\n",
              "      <td>2.550000e+03</td>\n",
              "      <td>2550.000000</td>\n",
              "      <td>2550.000000</td>\n",
              "      <td>2.550000e+03</td>\n",
              "      <td>2.550000e+03</td>\n",
              "    </tr>\n",
              "    <tr>\n",
              "      <th>mean</th>\n",
              "      <td>191.562353</td>\n",
              "      <td>826.510196</td>\n",
              "      <td>1.321928e+09</td>\n",
              "      <td>27.326275</td>\n",
              "      <td>1.028235</td>\n",
              "      <td>1.343525e+09</td>\n",
              "      <td>1.698297e+06</td>\n",
              "    </tr>\n",
              "    <tr>\n",
              "      <th>std</th>\n",
              "      <td>282.315223</td>\n",
              "      <td>374.009138</td>\n",
              "      <td>1.197391e+08</td>\n",
              "      <td>9.563452</td>\n",
              "      <td>0.207705</td>\n",
              "      <td>9.464009e+07</td>\n",
              "      <td>2.498479e+06</td>\n",
              "    </tr>\n",
              "    <tr>\n",
              "      <th>min</th>\n",
              "      <td>2.000000</td>\n",
              "      <td>135.000000</td>\n",
              "      <td>7.464960e+07</td>\n",
              "      <td>0.000000</td>\n",
              "      <td>1.000000</td>\n",
              "      <td>1.151367e+09</td>\n",
              "      <td>5.044300e+04</td>\n",
              "    </tr>\n",
              "    <tr>\n",
              "      <th>25%</th>\n",
              "      <td>63.000000</td>\n",
              "      <td>577.000000</td>\n",
              "      <td>1.257466e+09</td>\n",
              "      <td>23.000000</td>\n",
              "      <td>1.000000</td>\n",
              "      <td>1.268463e+09</td>\n",
              "      <td>7.557928e+05</td>\n",
              "    </tr>\n",
              "    <tr>\n",
              "      <th>50%</th>\n",
              "      <td>118.000000</td>\n",
              "      <td>848.000000</td>\n",
              "      <td>1.333238e+09</td>\n",
              "      <td>28.000000</td>\n",
              "      <td>1.000000</td>\n",
              "      <td>1.340935e+09</td>\n",
              "      <td>1.124524e+06</td>\n",
              "    </tr>\n",
              "    <tr>\n",
              "      <th>75%</th>\n",
              "      <td>221.750000</td>\n",
              "      <td>1046.750000</td>\n",
              "      <td>1.412964e+09</td>\n",
              "      <td>33.000000</td>\n",
              "      <td>1.000000</td>\n",
              "      <td>1.423432e+09</td>\n",
              "      <td>1.700760e+06</td>\n",
              "    </tr>\n",
              "    <tr>\n",
              "      <th>max</th>\n",
              "      <td>6404.000000</td>\n",
              "      <td>5256.000000</td>\n",
              "      <td>1.503792e+09</td>\n",
              "      <td>72.000000</td>\n",
              "      <td>5.000000</td>\n",
              "      <td>1.506092e+09</td>\n",
              "      <td>4.722711e+07</td>\n",
              "    </tr>\n",
              "  </tbody>\n",
              "</table>\n",
              "</div>"
            ],
            "text/plain": [
              "          comments     duration  ...  published_date         views\n",
              "count  2550.000000  2550.000000  ...    2.550000e+03  2.550000e+03\n",
              "mean    191.562353   826.510196  ...    1.343525e+09  1.698297e+06\n",
              "std     282.315223   374.009138  ...    9.464009e+07  2.498479e+06\n",
              "min       2.000000   135.000000  ...    1.151367e+09  5.044300e+04\n",
              "25%      63.000000   577.000000  ...    1.268463e+09  7.557928e+05\n",
              "50%     118.000000   848.000000  ...    1.340935e+09  1.124524e+06\n",
              "75%     221.750000  1046.750000  ...    1.423432e+09  1.700760e+06\n",
              "max    6404.000000  5256.000000  ...    1.506092e+09  4.722711e+07\n",
              "\n",
              "[8 rows x 7 columns]"
            ]
          },
          "metadata": {
            "tags": []
          },
          "execution_count": 9
        }
      ]
    },
    {
      "cell_type": "code",
      "metadata": {
        "id": "p3UdnHgfH1DO",
        "colab_type": "code",
        "outputId": "9836f1fd-3c64-475c-c8ad-cb52b9f496cd",
        "colab": {
          "base_uri": "https://localhost:8080/",
          "height": 102
        }
      },
      "source": [
        "df.columns"
      ],
      "execution_count": 0,
      "outputs": [
        {
          "output_type": "execute_result",
          "data": {
            "text/plain": [
              "Index(['comments', 'description', 'duration', 'event', 'film_date',\n",
              "       'languages', 'main_speaker', 'name', 'num_speaker', 'published_date',\n",
              "       'ratings', 'related_talks', 'speaker_occupation', 'tags', 'title',\n",
              "       'url', 'views'],\n",
              "      dtype='object')"
            ]
          },
          "metadata": {
            "tags": []
          },
          "execution_count": 6
        }
      ]
    },
    {
      "cell_type": "code",
      "metadata": {
        "id": "sBQKx6VCH6U3",
        "colab_type": "code",
        "outputId": "18bd8e50-5ec2-47af-8c20-3972f3320741",
        "colab": {
          "base_uri": "https://localhost:8080/",
          "height": 34
        }
      },
      "source": [
        "df.shape"
      ],
      "execution_count": 0,
      "outputs": [
        {
          "output_type": "execute_result",
          "data": {
            "text/plain": [
              "(2550, 17)"
            ]
          },
          "metadata": {
            "tags": []
          },
          "execution_count": 11
        }
      ]
    },
    {
      "cell_type": "code",
      "metadata": {
        "id": "Zfd44mnAIwzd",
        "colab_type": "code",
        "outputId": "59c6df3e-c937-47bb-e3d4-bbdd535e0281",
        "colab": {
          "base_uri": "https://localhost:8080/",
          "height": 323
        }
      },
      "source": [
        "df.isna().sum()"
      ],
      "execution_count": 0,
      "outputs": [
        {
          "output_type": "execute_result",
          "data": {
            "text/plain": [
              "comments              0\n",
              "description           0\n",
              "duration              0\n",
              "event                 0\n",
              "film_date             0\n",
              "languages             0\n",
              "main_speaker          0\n",
              "name                  0\n",
              "num_speaker           0\n",
              "published_date        0\n",
              "ratings               0\n",
              "related_talks         0\n",
              "speaker_occupation    6\n",
              "tags                  0\n",
              "title                 0\n",
              "url                   0\n",
              "views                 0\n",
              "dtype: int64"
            ]
          },
          "metadata": {
            "tags": []
          },
          "execution_count": 12
        }
      ]
    },
    {
      "cell_type": "code",
      "metadata": {
        "id": "k95CdFkbJCw5",
        "colab_type": "code",
        "outputId": "2ee816c0-8c6b-4118-e3b8-d641b258c27c",
        "colab": {
          "base_uri": "https://localhost:8080/",
          "height": 102
        }
      },
      "source": [
        "df.columns"
      ],
      "execution_count": 0,
      "outputs": [
        {
          "output_type": "execute_result",
          "data": {
            "text/plain": [
              "Index(['comments', 'description', 'duration', 'event', 'film_date',\n",
              "       'languages', 'main_speaker', 'name', 'num_speaker', 'published_date',\n",
              "       'ratings', 'related_talks', 'speaker_occupation', 'tags', 'title',\n",
              "       'url', 'views'],\n",
              "      dtype='object')"
            ]
          },
          "metadata": {
            "tags": []
          },
          "execution_count": 13
        }
      ]
    },
    {
      "cell_type": "code",
      "metadata": {
        "id": "l5jNKsTvJlpZ",
        "colab_type": "code",
        "outputId": "80e71b04-0a2a-46f7-c031-a7815c74a5ef",
        "colab": {
          "base_uri": "https://localhost:8080/",
          "height": 136
        }
      },
      "source": [
        "df.groupby(by= 'title').comments.sum().sort_values().tail()"
      ],
      "execution_count": 0,
      "outputs": [
        {
          "output_type": "execute_result",
          "data": {
            "text/plain": [
              "title\n",
              "How do you explain consciousness?     2673\n",
              "My stroke of insight                  2877\n",
              "Science can answer moral questions    3356\n",
              "Do schools kill creativity?           4553\n",
              "Militant atheism                      6404\n",
              "Name: comments, dtype: int64"
            ]
          },
          "metadata": {
            "tags": []
          },
          "execution_count": 26
        }
      ]
    },
    {
      "cell_type": "code",
      "metadata": {
        "id": "eWlHAi_fJwN7",
        "colab_type": "code",
        "outputId": "7f99b5aa-af4a-4195-f37b-d0231a9f453f",
        "colab": {
          "base_uri": "https://localhost:8080/",
          "height": 136
        }
      },
      "source": [
        "df.groupby(['title','views']).comments.sum().sort_values().tail()"
      ],
      "execution_count": 0,
      "outputs": [
        {
          "output_type": "execute_result",
          "data": {
            "text/plain": [
              "title                               views   \n",
              "How do you explain consciousness?   2162764     2673\n",
              "My stroke of insight                21190883    2877\n",
              "Science can answer moral questions  3433437     3356\n",
              "Do schools kill creativity?         47227110    4553\n",
              "Militant atheism                    4374792     6404\n",
              "Name: comments, dtype: int64"
            ]
          },
          "metadata": {
            "tags": []
          },
          "execution_count": 30
        }
      ]
    },
    {
      "cell_type": "code",
      "metadata": {
        "id": "9XmqM0R5KTRc",
        "colab_type": "code",
        "outputId": "c40d336e-7de6-441d-86d3-8f7f06418fa8",
        "colab": {
          "base_uri": "https://localhost:8080/",
          "height": 221
        }
      },
      "source": [
        "df.event. value_counts()"
      ],
      "execution_count": 0,
      "outputs": [
        {
          "output_type": "execute_result",
          "data": {
            "text/plain": [
              "TED2014                   84\n",
              "TED2009                   83\n",
              "TED2013                   77\n",
              "TED2016                   77\n",
              "TED2015                   75\n",
              "                          ..\n",
              "TEDxImperialCollege        1\n",
              "TEDxHampshireCollege       1\n",
              "TEDxUniversityofNevada     1\n",
              "TEDxUIUC                   1\n",
              "TEDxABQ                    1\n",
              "Name: event, Length: 355, dtype: int64"
            ]
          },
          "metadata": {
            "tags": []
          },
          "execution_count": 32
        }
      ]
    },
    {
      "cell_type": "code",
      "metadata": {
        "id": "h9Lof48zOT7D",
        "colab_type": "code",
        "colab": {}
      },
      "source": [
        ""
      ],
      "execution_count": 0,
      "outputs": []
    },
    {
      "cell_type": "code",
      "metadata": {
        "id": "Xu9He3OpO-qI",
        "colab_type": "code",
        "colab": {}
      },
      "source": [
        ""
      ],
      "execution_count": 0,
      "outputs": []
    }
  ]
}