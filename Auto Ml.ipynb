{
  "nbformat": 4,
  "nbformat_minor": 0,
  "metadata": {
    "colab": {
      "name": "NLP Spacy.ipynb",
      "provenance": [],
      "collapsed_sections": [],
      "authorship_tag": "ABX9TyPabuRMEVo/HIiPgLXNPdcj",
      "include_colab_link": true
    },
    "kernelspec": {
      "name": "python3",
      "display_name": "Python 3"
    },
    "accelerator": "GPU"
  },
  "cells": [
    {
      "cell_type": "markdown",
      "metadata": {
        "id": "view-in-github",
        "colab_type": "text"
      },
      "source": [
        "<a href=\"https://colab.research.google.com/github/Arunvinod/Arunvinod/blob/master/Auto%20Ml.ipynb\" target=\"_parent\"><img src=\"https://colab.research.google.com/assets/colab-badge.svg\" alt=\"Open In Colab\"/></a>"
      ]
    },
    {
      "cell_type": "code",
      "metadata": {
        "id": "EDdPK5KUZ80P",
        "colab_type": "code",
        "colab": {
          "base_uri": "https://localhost:8080/",
          "height": 170
        },
        "outputId": "04619999-2178-4abc-d4ea-0365bc22a9b2"
      },
      "source": [
        "! apt-get install default-jre\n",
        "!java -version"
      ],
      "execution_count": 1,
      "outputs": [
        {
          "output_type": "stream",
          "text": [
            "Reading package lists... Done\n",
            "Building dependency tree       \n",
            "Reading state information... Done\n",
            "default-jre is already the newest version (2:1.11-68ubuntu1~18.04.1).\n",
            "default-jre set to manually installed.\n",
            "0 upgraded, 0 newly installed, 0 to remove and 29 not upgraded.\n",
            "openjdk version \"11.0.7\" 2020-04-14\n",
            "OpenJDK Runtime Environment (build 11.0.7+10-post-Ubuntu-2ubuntu218.04)\n",
            "OpenJDK 64-Bit Server VM (build 11.0.7+10-post-Ubuntu-2ubuntu218.04, mixed mode, sharing)\n"
          ],
          "name": "stdout"
        }
      ]
    },
    {
      "cell_type": "code",
      "metadata": {
        "id": "SxwBQlS0q_V4",
        "colab_type": "code",
        "colab": {
          "base_uri": "https://localhost:8080/",
          "height": 360
        },
        "outputId": "d02a8aba-38c2-4b33-d5b9-1646a6edf56a"
      },
      "source": [
        "! pip install h2o"
      ],
      "execution_count": 2,
      "outputs": [
        {
          "output_type": "stream",
          "text": [
            "Collecting h2o\n",
            "\u001b[?25l  Downloading https://files.pythonhosted.org/packages/7d/f3/0da4c917ae0d32295c69280dba7ea6f01127866b5cab95f235d3da80b2d2/h2o-3.30.0.2.tar.gz (129.6MB)\n",
            "\u001b[K     |████████████████████████████████| 129.6MB 82kB/s \n",
            "\u001b[?25hRequirement already satisfied: requests in /usr/local/lib/python3.6/dist-packages (from h2o) (2.23.0)\n",
            "Requirement already satisfied: tabulate in /usr/local/lib/python3.6/dist-packages (from h2o) (0.8.7)\n",
            "Requirement already satisfied: future in /usr/local/lib/python3.6/dist-packages (from h2o) (0.16.0)\n",
            "Collecting colorama>=0.3.8\n",
            "  Downloading https://files.pythonhosted.org/packages/c9/dc/45cdef1b4d119eb96316b3117e6d5708a08029992b2fee2c143c7a0a5cc5/colorama-0.4.3-py2.py3-none-any.whl\n",
            "Requirement already satisfied: urllib3!=1.25.0,!=1.25.1,<1.26,>=1.21.1 in /usr/local/lib/python3.6/dist-packages (from requests->h2o) (1.24.3)\n",
            "Requirement already satisfied: chardet<4,>=3.0.2 in /usr/local/lib/python3.6/dist-packages (from requests->h2o) (3.0.4)\n",
            "Requirement already satisfied: idna<3,>=2.5 in /usr/local/lib/python3.6/dist-packages (from requests->h2o) (2.9)\n",
            "Requirement already satisfied: certifi>=2017.4.17 in /usr/local/lib/python3.6/dist-packages (from requests->h2o) (2020.4.5.1)\n",
            "Building wheels for collected packages: h2o\n",
            "  Building wheel for h2o (setup.py) ... \u001b[?25l\u001b[?25hdone\n",
            "  Created wheel for h2o: filename=h2o-3.30.0.2-py2.py3-none-any.whl size=129672980 sha256=d6c143d30ecfbc7b287a1d0717f3f32d1614debdf2e21554d32f96aebfdb5294\n",
            "  Stored in directory: /root/.cache/pip/wheels/35/f0/d4/2090fb81ef10fd3dedffd1386a8a4d79b882e8e978fbee4e14\n",
            "Successfully built h2o\n",
            "Installing collected packages: colorama, h2o\n",
            "Successfully installed colorama-0.4.3 h2o-3.30.0.2\n"
          ],
          "name": "stdout"
        }
      ]
    },
    {
      "cell_type": "code",
      "metadata": {
        "id": "sept7zc4rHFc",
        "colab_type": "code",
        "colab": {}
      },
      "source": [
        "import h2o"
      ],
      "execution_count": 0,
      "outputs": []
    },
    {
      "cell_type": "code",
      "metadata": {
        "id": "uAqovT_8rSPx",
        "colab_type": "code",
        "colab": {
          "base_uri": "https://localhost:8080/",
          "height": 545
        },
        "outputId": "3d5dfd1f-c527-4121-d6f8-55054375663b"
      },
      "source": [
        "h2o.init()"
      ],
      "execution_count": 4,
      "outputs": [
        {
          "output_type": "stream",
          "text": [
            "Checking whether there is an H2O instance running at http://localhost:54321 ..... not found.\n",
            "Attempting to start a local H2O server...\n",
            "  Java Version: openjdk version \"11.0.7\" 2020-04-14; OpenJDK Runtime Environment (build 11.0.7+10-post-Ubuntu-2ubuntu218.04); OpenJDK 64-Bit Server VM (build 11.0.7+10-post-Ubuntu-2ubuntu218.04, mixed mode, sharing)\n",
            "  Starting server from /usr/local/lib/python3.6/dist-packages/h2o/backend/bin/h2o.jar\n",
            "  Ice root: /tmp/tmppv_400tk\n",
            "  JVM stdout: /tmp/tmppv_400tk/h2o_unknownUser_started_from_python.out\n",
            "  JVM stderr: /tmp/tmppv_400tk/h2o_unknownUser_started_from_python.err\n",
            "  Server is running at http://127.0.0.1:54321\n",
            "Connecting to H2O server at http://127.0.0.1:54321 ... successful.\n"
          ],
          "name": "stdout"
        },
        {
          "output_type": "display_data",
          "data": {
            "text/html": [
              "<div style=\"overflow:auto\"><table style=\"width:50%\"><tr><td>H2O_cluster_uptime:</td>\n",
              "<td>02 secs</td></tr>\n",
              "<tr><td>H2O_cluster_timezone:</td>\n",
              "<td>Etc/UTC</td></tr>\n",
              "<tr><td>H2O_data_parsing_timezone:</td>\n",
              "<td>UTC</td></tr>\n",
              "<tr><td>H2O_cluster_version:</td>\n",
              "<td>3.30.0.2</td></tr>\n",
              "<tr><td>H2O_cluster_version_age:</td>\n",
              "<td>12 days </td></tr>\n",
              "<tr><td>H2O_cluster_name:</td>\n",
              "<td>H2O_from_python_unknownUser_wltncq</td></tr>\n",
              "<tr><td>H2O_cluster_total_nodes:</td>\n",
              "<td>1</td></tr>\n",
              "<tr><td>H2O_cluster_free_memory:</td>\n",
              "<td>3.180 Gb</td></tr>\n",
              "<tr><td>H2O_cluster_total_cores:</td>\n",
              "<td>2</td></tr>\n",
              "<tr><td>H2O_cluster_allowed_cores:</td>\n",
              "<td>2</td></tr>\n",
              "<tr><td>H2O_cluster_status:</td>\n",
              "<td>accepting new members, healthy</td></tr>\n",
              "<tr><td>H2O_connection_url:</td>\n",
              "<td>http://127.0.0.1:54321</td></tr>\n",
              "<tr><td>H2O_connection_proxy:</td>\n",
              "<td>{\"http\": null, \"https\": null}</td></tr>\n",
              "<tr><td>H2O_internal_security:</td>\n",
              "<td>False</td></tr>\n",
              "<tr><td>H2O_API_Extensions:</td>\n",
              "<td>Amazon S3, XGBoost, Algos, AutoML, Core V3, TargetEncoder, Core V4</td></tr>\n",
              "<tr><td>Python_version:</td>\n",
              "<td>3.6.9 final</td></tr></table></div>"
            ],
            "text/plain": [
              "--------------------------  ------------------------------------------------------------------\n",
              "H2O_cluster_uptime:         02 secs\n",
              "H2O_cluster_timezone:       Etc/UTC\n",
              "H2O_data_parsing_timezone:  UTC\n",
              "H2O_cluster_version:        3.30.0.2\n",
              "H2O_cluster_version_age:    12 days\n",
              "H2O_cluster_name:           H2O_from_python_unknownUser_wltncq\n",
              "H2O_cluster_total_nodes:    1\n",
              "H2O_cluster_free_memory:    3.180 Gb\n",
              "H2O_cluster_total_cores:    2\n",
              "H2O_cluster_allowed_cores:  2\n",
              "H2O_cluster_status:         accepting new members, healthy\n",
              "H2O_connection_url:         http://127.0.0.1:54321\n",
              "H2O_connection_proxy:       {\"http\": null, \"https\": null}\n",
              "H2O_internal_security:      False\n",
              "H2O_API_Extensions:         Amazon S3, XGBoost, Algos, AutoML, Core V3, TargetEncoder, Core V4\n",
              "Python_version:             3.6.9 final\n",
              "--------------------------  ------------------------------------------------------------------"
            ]
          },
          "metadata": {
            "tags": []
          }
        }
      ]
    },
    {
      "cell_type": "code",
      "metadata": {
        "id": "V71EqDBXrVR_",
        "colab_type": "code",
        "colab": {
          "base_uri": "https://localhost:8080/",
          "height": 34
        },
        "outputId": "c35cf0bd-56df-42f1-ef8c-b795337c0091"
      },
      "source": [
        "data_path = \"https://github.com/h2oai/h2o-tutorials/raw/master/h2o-world-2017/automl/data/product_backorders.csv\"\n",
        "# Load data into H2O\n",
        "df = h2o.import_file(data_path)"
      ],
      "execution_count": 5,
      "outputs": [
        {
          "output_type": "stream",
          "text": [
            "Parse progress: |█████████████████████████████████████████████████████████| 100%\n"
          ],
          "name": "stdout"
        }
      ]
    },
    {
      "cell_type": "code",
      "metadata": {
        "id": "vUPhSaAkrg1N",
        "colab_type": "code",
        "colab": {
          "base_uri": "https://localhost:8080/",
          "height": 270
        },
        "outputId": "81fe218e-57c5-46e6-a919-a75138ee572a"
      },
      "source": [
        "df.head()"
      ],
      "execution_count": 6,
      "outputs": [
        {
          "output_type": "display_data",
          "data": {
            "text/html": [
              "<table>\n",
              "<thead>\n",
              "<tr><th style=\"text-align: right;\">        sku</th><th style=\"text-align: right;\">  national_inv</th><th style=\"text-align: right;\">  lead_time</th><th style=\"text-align: right;\">  in_transit_qty</th><th style=\"text-align: right;\">  forecast_3_month</th><th style=\"text-align: right;\">  forecast_6_month</th><th style=\"text-align: right;\">  forecast_9_month</th><th style=\"text-align: right;\">  sales_1_month</th><th style=\"text-align: right;\">  sales_3_month</th><th style=\"text-align: right;\">  sales_6_month</th><th style=\"text-align: right;\">  sales_9_month</th><th style=\"text-align: right;\">  min_bank</th><th>potential_issue  </th><th style=\"text-align: right;\">  pieces_past_due</th><th style=\"text-align: right;\">  perf_6_month_avg</th><th style=\"text-align: right;\">  perf_12_month_avg</th><th style=\"text-align: right;\">  local_bo_qty</th><th>deck_risk  </th><th>oe_constraint  </th><th>ppap_risk  </th><th>stop_auto_buy  </th><th>rev_stop  </th><th>went_on_backorder  </th></tr>\n",
              "</thead>\n",
              "<tbody>\n",
              "<tr><td style=\"text-align: right;\">1.11312e+06</td><td style=\"text-align: right;\">             0</td><td style=\"text-align: right;\">          8</td><td style=\"text-align: right;\">               1</td><td style=\"text-align: right;\">                 6</td><td style=\"text-align: right;\">                 6</td><td style=\"text-align: right;\">                 6</td><td style=\"text-align: right;\">              0</td><td style=\"text-align: right;\">              4</td><td style=\"text-align: right;\">              9</td><td style=\"text-align: right;\">             12</td><td style=\"text-align: right;\">         0</td><td>No               </td><td style=\"text-align: right;\">                1</td><td style=\"text-align: right;\">              0.9 </td><td style=\"text-align: right;\">               0.89</td><td style=\"text-align: right;\">             0</td><td>No         </td><td>No             </td><td>No         </td><td>Yes            </td><td>No        </td><td>Yes                </td></tr>\n",
              "<tr><td style=\"text-align: right;\">1.11327e+06</td><td style=\"text-align: right;\">             0</td><td style=\"text-align: right;\">          8</td><td style=\"text-align: right;\">               0</td><td style=\"text-align: right;\">                 2</td><td style=\"text-align: right;\">                 3</td><td style=\"text-align: right;\">                 4</td><td style=\"text-align: right;\">              1</td><td style=\"text-align: right;\">              2</td><td style=\"text-align: right;\">              3</td><td style=\"text-align: right;\">              3</td><td style=\"text-align: right;\">         0</td><td>No               </td><td style=\"text-align: right;\">                0</td><td style=\"text-align: right;\">              0.96</td><td style=\"text-align: right;\">               0.97</td><td style=\"text-align: right;\">             0</td><td>No         </td><td>No             </td><td>No         </td><td>Yes            </td><td>No        </td><td>Yes                </td></tr>\n",
              "<tr><td style=\"text-align: right;\">1.11387e+06</td><td style=\"text-align: right;\">            20</td><td style=\"text-align: right;\">          2</td><td style=\"text-align: right;\">               0</td><td style=\"text-align: right;\">                45</td><td style=\"text-align: right;\">                99</td><td style=\"text-align: right;\">               153</td><td style=\"text-align: right;\">             16</td><td style=\"text-align: right;\">             42</td><td style=\"text-align: right;\">             80</td><td style=\"text-align: right;\">            111</td><td style=\"text-align: right;\">        10</td><td>No               </td><td style=\"text-align: right;\">                0</td><td style=\"text-align: right;\">              0.81</td><td style=\"text-align: right;\">               0.88</td><td style=\"text-align: right;\">             0</td><td>No         </td><td>No             </td><td>No         </td><td>Yes            </td><td>No        </td><td>Yes                </td></tr>\n",
              "<tr><td style=\"text-align: right;\">1.11422e+06</td><td style=\"text-align: right;\">             0</td><td style=\"text-align: right;\">          8</td><td style=\"text-align: right;\">               0</td><td style=\"text-align: right;\">                 9</td><td style=\"text-align: right;\">                14</td><td style=\"text-align: right;\">                21</td><td style=\"text-align: right;\">              5</td><td style=\"text-align: right;\">             17</td><td style=\"text-align: right;\">             36</td><td style=\"text-align: right;\">             43</td><td style=\"text-align: right;\">         0</td><td>No               </td><td style=\"text-align: right;\">                0</td><td style=\"text-align: right;\">              0.96</td><td style=\"text-align: right;\">               0.98</td><td style=\"text-align: right;\">             0</td><td>No         </td><td>No             </td><td>No         </td><td>Yes            </td><td>No        </td><td>Yes                </td></tr>\n",
              "<tr><td style=\"text-align: right;\">1.11482e+06</td><td style=\"text-align: right;\">             0</td><td style=\"text-align: right;\">         12</td><td style=\"text-align: right;\">               0</td><td style=\"text-align: right;\">                31</td><td style=\"text-align: right;\">                31</td><td style=\"text-align: right;\">                31</td><td style=\"text-align: right;\">              7</td><td style=\"text-align: right;\">             15</td><td style=\"text-align: right;\">             33</td><td style=\"text-align: right;\">             47</td><td style=\"text-align: right;\">         2</td><td>No               </td><td style=\"text-align: right;\">                3</td><td style=\"text-align: right;\">              0.98</td><td style=\"text-align: right;\">               0.98</td><td style=\"text-align: right;\">             0</td><td>No         </td><td>No             </td><td>No         </td><td>Yes            </td><td>No        </td><td>Yes                </td></tr>\n",
              "<tr><td style=\"text-align: right;\">1.11545e+06</td><td style=\"text-align: right;\">            55</td><td style=\"text-align: right;\">          8</td><td style=\"text-align: right;\">               0</td><td style=\"text-align: right;\">               216</td><td style=\"text-align: right;\">               360</td><td style=\"text-align: right;\">               492</td><td style=\"text-align: right;\">             30</td><td style=\"text-align: right;\">            108</td><td style=\"text-align: right;\">            275</td><td style=\"text-align: right;\">            340</td><td style=\"text-align: right;\">        51</td><td>No               </td><td style=\"text-align: right;\">                0</td><td style=\"text-align: right;\">              0   </td><td style=\"text-align: right;\">               0   </td><td style=\"text-align: right;\">             0</td><td>No         </td><td>No             </td><td>Yes        </td><td>Yes            </td><td>No        </td><td>Yes                </td></tr>\n",
              "<tr><td style=\"text-align: right;\">1.11562e+06</td><td style=\"text-align: right;\">           -34</td><td style=\"text-align: right;\">          8</td><td style=\"text-align: right;\">               0</td><td style=\"text-align: right;\">               120</td><td style=\"text-align: right;\">               240</td><td style=\"text-align: right;\">               240</td><td style=\"text-align: right;\">             83</td><td style=\"text-align: right;\">            122</td><td style=\"text-align: right;\">            144</td><td style=\"text-align: right;\">            165</td><td style=\"text-align: right;\">        33</td><td>No               </td><td style=\"text-align: right;\">                0</td><td style=\"text-align: right;\">              1   </td><td style=\"text-align: right;\">               0.97</td><td style=\"text-align: right;\">            34</td><td>No         </td><td>No             </td><td>No         </td><td>Yes            </td><td>No        </td><td>Yes                </td></tr>\n",
              "<tr><td style=\"text-align: right;\">1.11645e+06</td><td style=\"text-align: right;\">             4</td><td style=\"text-align: right;\">          9</td><td style=\"text-align: right;\">               0</td><td style=\"text-align: right;\">                43</td><td style=\"text-align: right;\">                67</td><td style=\"text-align: right;\">               115</td><td style=\"text-align: right;\">              5</td><td style=\"text-align: right;\">             22</td><td style=\"text-align: right;\">             40</td><td style=\"text-align: right;\">             58</td><td style=\"text-align: right;\">         4</td><td>No               </td><td style=\"text-align: right;\">                0</td><td style=\"text-align: right;\">              0.69</td><td style=\"text-align: right;\">               0.68</td><td style=\"text-align: right;\">             0</td><td>No         </td><td>No             </td><td>No         </td><td>Yes            </td><td>No        </td><td>Yes                </td></tr>\n",
              "<tr><td style=\"text-align: right;\">1.11683e+06</td><td style=\"text-align: right;\">             2</td><td style=\"text-align: right;\">          8</td><td style=\"text-align: right;\">               0</td><td style=\"text-align: right;\">                 4</td><td style=\"text-align: right;\">                 6</td><td style=\"text-align: right;\">                 9</td><td style=\"text-align: right;\">              1</td><td style=\"text-align: right;\">              5</td><td style=\"text-align: right;\">              6</td><td style=\"text-align: right;\">              9</td><td style=\"text-align: right;\">         2</td><td>No               </td><td style=\"text-align: right;\">                0</td><td style=\"text-align: right;\">              1   </td><td style=\"text-align: right;\">               0.95</td><td style=\"text-align: right;\">             0</td><td>No         </td><td>No             </td><td>No         </td><td>Yes            </td><td>No        </td><td>Yes                </td></tr>\n",
              "<tr><td style=\"text-align: right;\">1.11687e+06</td><td style=\"text-align: right;\">            -7</td><td style=\"text-align: right;\">          8</td><td style=\"text-align: right;\">               0</td><td style=\"text-align: right;\">                56</td><td style=\"text-align: right;\">                96</td><td style=\"text-align: right;\">               112</td><td style=\"text-align: right;\">             13</td><td style=\"text-align: right;\">             30</td><td style=\"text-align: right;\">             56</td><td style=\"text-align: right;\">             76</td><td style=\"text-align: right;\">         0</td><td>No               </td><td style=\"text-align: right;\">                0</td><td style=\"text-align: right;\">              0.97</td><td style=\"text-align: right;\">               0.92</td><td style=\"text-align: right;\">             7</td><td>No         </td><td>No             </td><td>No         </td><td>Yes            </td><td>No        </td><td>Yes                </td></tr>\n",
              "</tbody>\n",
              "</table>"
            ]
          },
          "metadata": {
            "tags": []
          }
        },
        {
          "output_type": "execute_result",
          "data": {
            "text/plain": [
              ""
            ]
          },
          "metadata": {
            "tags": []
          },
          "execution_count": 6
        }
      ]
    },
    {
      "cell_type": "code",
      "metadata": {
        "id": "YDGXnqaEroxw",
        "colab_type": "code",
        "colab": {
          "base_uri": "https://localhost:8080/",
          "height": 34
        },
        "outputId": "02a96f80-1998-4ab2-db83-36abb4494f7c"
      },
      "source": [
        "print(f'Size of training set: {df.shape[0]} rows and {df.shape[1]} columns')"
      ],
      "execution_count": 8,
      "outputs": [
        {
          "output_type": "stream",
          "text": [
            "Size of training set: 19053 rows and 23 columns\n"
          ],
          "name": "stdout"
        }
      ]
    },
    {
      "cell_type": "code",
      "metadata": {
        "id": "HvYXjW8frzLk",
        "colab_type": "code",
        "colab": {}
      },
      "source": [
        "splits = df.split_frame(ratios=[0.8],seed=1)\n",
        "train = splits[0]\n",
        "test = splits[1]"
      ],
      "execution_count": 0,
      "outputs": []
    },
    {
      "cell_type": "code",
      "metadata": {
        "id": "kosdGaGMr_ro",
        "colab_type": "code",
        "colab": {}
      },
      "source": [
        "y = \"went_on_backorder\" \n",
        "x = df.columns \n",
        "x.remove(y) \n",
        "x.remove(\"sku\")"
      ],
      "execution_count": 0,
      "outputs": []
    },
    {
      "cell_type": "code",
      "metadata": {
        "id": "majwx-V5sLbb",
        "colab_type": "code",
        "colab": {}
      },
      "source": [
        "from h2o.automl import H2OAutoML"
      ],
      "execution_count": 0,
      "outputs": []
    },
    {
      "cell_type": "code",
      "metadata": {
        "id": "GA8I7V5dsDQI",
        "colab_type": "code",
        "colab": {
          "base_uri": "https://localhost:8080/",
          "height": 34
        },
        "outputId": "3f12f7b9-6c2d-44ae-e189-de807b41b1bc"
      },
      "source": [
        "aml = H2OAutoML(max_runtime_secs=120, seed=1)\n",
        "aml.train(x=x,y=y, training_frame=train)"
      ],
      "execution_count": 13,
      "outputs": [
        {
          "output_type": "stream",
          "text": [
            "AutoML progress: |████████████████████████████████████████████████████████| 100%\n"
          ],
          "name": "stdout"
        }
      ]
    },
    {
      "cell_type": "code",
      "metadata": {
        "id": "RjW1VbQqsGkG",
        "colab_type": "code",
        "colab": {
          "base_uri": "https://localhost:8080/",
          "height": 250
        },
        "outputId": "c5de6c67-b12d-40e0-e54d-1b1c4690c786"
      },
      "source": [
        "lb = aml.leaderboard\n",
        "lb.head()"
      ],
      "execution_count": 14,
      "outputs": [
        {
          "output_type": "display_data",
          "data": {
            "text/html": [
              "<table>\n",
              "<thead>\n",
              "<tr><th>model_id                                           </th><th style=\"text-align: right;\">     auc</th><th style=\"text-align: right;\">  logloss</th><th style=\"text-align: right;\">   aucpr</th><th style=\"text-align: right;\">  mean_per_class_error</th><th style=\"text-align: right;\">    rmse</th><th style=\"text-align: right;\">      mse</th></tr>\n",
              "</thead>\n",
              "<tbody>\n",
              "<tr><td>XGBoost_grid__1_AutoML_20200511_074401_model_1     </td><td style=\"text-align: right;\">0.945716</td><td style=\"text-align: right;\"> 0.180341</td><td style=\"text-align: right;\">0.720153</td><td style=\"text-align: right;\">              0.177404</td><td style=\"text-align: right;\">0.231002</td><td style=\"text-align: right;\">0.0533617</td></tr>\n",
              "<tr><td>XGBoost_grid__1_AutoML_20200511_074401_model_2     </td><td style=\"text-align: right;\">0.94555 </td><td style=\"text-align: right;\"> 0.177429</td><td style=\"text-align: right;\">0.721682</td><td style=\"text-align: right;\">              0.155512</td><td style=\"text-align: right;\">0.229483</td><td style=\"text-align: right;\">0.0526624</td></tr>\n",
              "<tr><td>StackedEnsemble_AllModels_AutoML_20200511_074401   </td><td style=\"text-align: right;\">0.945327</td><td style=\"text-align: right;\"> 0.18561 </td><td style=\"text-align: right;\">0.731707</td><td style=\"text-align: right;\">              0.164821</td><td style=\"text-align: right;\">0.229867</td><td style=\"text-align: right;\">0.0528388</td></tr>\n",
              "<tr><td>StackedEnsemble_BestOfFamily_AutoML_20200511_074401</td><td style=\"text-align: right;\">0.942751</td><td style=\"text-align: right;\"> 0.190282</td><td style=\"text-align: right;\">0.717664</td><td style=\"text-align: right;\">              0.157874</td><td style=\"text-align: right;\">0.231847</td><td style=\"text-align: right;\">0.0537529</td></tr>\n",
              "<tr><td>XGBoost_3_AutoML_20200511_074401                   </td><td style=\"text-align: right;\">0.939977</td><td style=\"text-align: right;\"> 0.189264</td><td style=\"text-align: right;\">0.714398</td><td style=\"text-align: right;\">              0.176434</td><td style=\"text-align: right;\">0.233163</td><td style=\"text-align: right;\">0.0543649</td></tr>\n",
              "<tr><td>XGBoost_2_AutoML_20200511_074401                   </td><td style=\"text-align: right;\">0.933409</td><td style=\"text-align: right;\"> 0.217551</td><td style=\"text-align: right;\">0.699523</td><td style=\"text-align: right;\">              0.185161</td><td style=\"text-align: right;\">0.241657</td><td style=\"text-align: right;\">0.0583981</td></tr>\n",
              "<tr><td>XGBoost_grid__1_AutoML_20200511_074401_model_3     </td><td style=\"text-align: right;\">0.922165</td><td style=\"text-align: right;\"> 0.494965</td><td style=\"text-align: right;\">0.652152</td><td style=\"text-align: right;\">              0.211481</td><td style=\"text-align: right;\">0.391597</td><td style=\"text-align: right;\">0.153348 </td></tr>\n",
              "<tr><td>GBM_3_AutoML_20200511_074401                       </td><td style=\"text-align: right;\">0.90278 </td><td style=\"text-align: right;\"> 0.291314</td><td style=\"text-align: right;\">0.58676 </td><td style=\"text-align: right;\">              0.176844</td><td style=\"text-align: right;\">0.290941</td><td style=\"text-align: right;\">0.0846466</td></tr>\n",
              "<tr><td>GBM_5_AutoML_20200511_074401                       </td><td style=\"text-align: right;\">0.896571</td><td style=\"text-align: right;\"> 0.307286</td><td style=\"text-align: right;\">0.511787</td><td style=\"text-align: right;\">              0.177448</td><td style=\"text-align: right;\">0.300616</td><td style=\"text-align: right;\">0.09037  </td></tr>\n",
              "<tr><td>XGBoost_1_AutoML_20200511_074401                   </td><td style=\"text-align: right;\">0.892771</td><td style=\"text-align: right;\"> 0.279337</td><td style=\"text-align: right;\">0.641577</td><td style=\"text-align: right;\">              0.197702</td><td style=\"text-align: right;\">0.2812  </td><td style=\"text-align: right;\">0.0790733</td></tr>\n",
              "</tbody>\n",
              "</table>"
            ]
          },
          "metadata": {
            "tags": []
          }
        },
        {
          "output_type": "execute_result",
          "data": {
            "text/plain": [
              ""
            ]
          },
          "metadata": {
            "tags": []
          },
          "execution_count": 14
        }
      ]
    },
    {
      "cell_type": "code",
      "metadata": {
        "id": "FtGPJmYfs0A4",
        "colab_type": "code",
        "colab": {}
      },
      "source": [
        "# Get model ids for all models in the AutoML Leaderboard\n",
        "model_ids = list(aml.leaderboard['model_id'].as_data_frame().iloc[:,0])\n",
        "# Get the \"All Models\" Stacked Ensemble model\n",
        "se = h2o.get_model([mid for mid in model_ids if \"StackedEnsemble_AllModels\" in mid][0])\n",
        "# Get the Stacked Ensemble metalearner model\n",
        "metalearner = h2o.get_model(se.metalearner()['name'])"
      ],
      "execution_count": 0,
      "outputs": []
    },
    {
      "cell_type": "code",
      "metadata": {
        "id": "8Ji3EAaCtITZ",
        "colab_type": "code",
        "colab": {
          "base_uri": "https://localhost:8080/",
          "height": 612
        },
        "outputId": "9f9658af-491b-46b6-a626-f20f7dbde143"
      },
      "source": [
        "%matplotlib inline\n",
        "metalearner.std_coef_plot()"
      ],
      "execution_count": 16,
      "outputs": [
        {
          "output_type": "display_data",
          "data": {
            "image/png": "[encoded data removed]",
            "text/plain": [
              "<Figure size 1008x720 with 1 Axes>"
            ]
          },
          "metadata": {
            "tags": [],
            "needs_background": "light"
          }
        }
      ]
    },
    {
      "cell_type": "code",
      "metadata": {
        "id": "ECXi98-btMbD",
        "colab_type": "code",
        "colab": {}
      },
      "source": [
        ""
      ],
      "execution_count": 0,
      "outputs": []
    }
  ]
}